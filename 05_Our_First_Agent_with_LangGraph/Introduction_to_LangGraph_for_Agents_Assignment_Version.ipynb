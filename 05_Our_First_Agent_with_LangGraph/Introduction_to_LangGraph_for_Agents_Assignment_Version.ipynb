{
<<<<<<< HEAD
  "nbformat": 4,
  "nbformat_minor": 0,
=======
  "cells": [
    {
      "cell_type": "markdown",
      "metadata": {
        "id": "gJXW_DgiSebM"
      },
      "source": [
        "# LangGraph and LangSmith - Agentic RAG Powered by LangChain\n",
        "\n",
        "In the following notebook we'll complete the following tasks:\n",
        "\n",
        "- 🤝 Breakout Room #1:\n",
        "  1. Install required libraries\n",
        "  2. Set Environment Variables\n",
        "  3. Creating our Tool Belt\n",
        "  4. Creating Our State\n",
        "  5. Creating and Compiling A Graph!\n",
        "\n",
        "  - 🤝 Breakout Room #2:\n",
        "  1. Evaluating the LangGraph Application with LangSmith\n",
        "  2. Adding Helpfulness Check and \"Loop\" Limits\n",
        "  3. LangGraph for the \"Patterns\" of GenAI"
      ]
    },
    {
      "cell_type": "markdown",
      "metadata": {
        "id": "djQ3nRAgoF67"
      },
      "source": [
        "# 🤝 Breakout Room #1"
      ]
    },
    {
      "cell_type": "markdown",
      "metadata": {
        "id": "e7pQDUhUnIo8"
      },
      "source": [
        "## Part 1: LangGraph - Building Cyclic Applications with LangChain\n",
        "\n",
        "LangGraph is a tool that leverages LangChain Expression Language to build coordinated multi-actor and stateful applications that includes cyclic behaviour.\n",
        "\n",
        "### Why Cycles?\n",
        "\n",
        "In essence, we can think of a cycle in our graph as a more robust and customizable loop. It allows us to keep our application agent-forward while still giving the powerful functionality of traditional loops.\n",
        "\n",
        "Due to the inclusion of cycles over loops, we can also compose rather complex flows through our graph in a much more readable and natural fashion. Effectively allowing us to recreate application flowcharts in code in an almost 1-to-1 fashion.\n",
        "\n",
        "### Why LangGraph?\n",
        "\n",
        "Beyond the agent-forward approach - we can easily compose and combine traditional \"DAG\" (directed acyclic graph) chains with powerful cyclic behaviour due to the tight integration with LCEL. This means it's a natural extension to LangChain's core offerings!"
      ]
    },
    {
      "cell_type": "markdown",
      "metadata": {
        "id": "3_fLDElOVoop"
      },
      "source": [
        "## Task 1:  Dependencies\n",
        "\n",
        "We'll first install all our required libraries.\n",
        "\n",
        "> NOTE: If you're running this locally - please skip this step."
      ]
    },
    {
      "cell_type": "code",
      "execution_count": 1,
      "metadata": {
        "colab": {
          "base_uri": "https://localhost:8080/"
        },
        "id": "KaVwN269EttM",
        "outputId": "ba50f775-3957-4d88-9a88-43acc6966dda"
      },
      "outputs": [
        {
          "name": "stdout",
          "output_type": "stream",
          "text": [
            "\u001b[31mERROR: pip's dependency resolver does not currently take into account all the packages that are installed. This behaviour is the source of the following dependency conflicts.\n",
            "conda-repo-cli 1.0.41 requires requests_mock, which is not installed.\n",
            "conda-repo-cli 1.0.41 requires clyent==1.2.1, but you have clyent 1.2.2 which is incompatible.\n",
            "conda-repo-cli 1.0.41 requires nbformat==5.4.0, but you have nbformat 5.7.0 which is incompatible.\n",
            "conda-repo-cli 1.0.41 requires python-dateutil==2.8.2, but you have python-dateutil 2.9.0.post0 which is incompatible.\n",
            "conda-repo-cli 1.0.41 requires requests==2.28.1, but you have requests 2.32.3 which is incompatible.\n",
            "transformers 4.29.2 requires tokenizers!=0.11.3,<0.14,>=0.11.1, but you have tokenizers 0.21.0 which is incompatible.\u001b[0m\u001b[31m\n",
            "\u001b[0m"
          ]
        }
      ],
      "source": [
        "!pip install -qU langchain langchain_openai langchain-community langgraph arxiv"
      ]
    },
    {
      "cell_type": "markdown",
      "metadata": {
        "id": "wujPjGJuoPwg"
      },
      "source": [
        "## Task 2: Environment Variables\n",
        "\n",
        "We'll want to set both our OpenAI API key and our LangSmith environment variables."
      ]
    },
    {
      "cell_type": "code",
      "execution_count": 2,
      "metadata": {
        "colab": {
          "base_uri": "https://localhost:8080/"
        },
        "id": "Jdh8CoVWHRvs",
        "outputId": "3fa78560-393c-4ee5-b871-9886bf0d70f4"
      },
      "outputs": [],
      "source": [
        "import os\n",
        "import getpass\n",
        "\n",
        "os.environ[\"OPENAI_API_KEY\"] = getpass.getpass(\"OpenAI API Key:\")"
      ]
    },
    {
      "cell_type": "markdown",
      "metadata": {
        "id": "BLmneW40276B"
      },
      "source": []
    },
    {
      "cell_type": "code",
      "execution_count": 3,
      "metadata": {
        "colab": {
          "base_uri": "https://localhost:8080/"
        },
        "id": "Jkla2fpx28QK",
        "outputId": "52d7ad22-fcb1-4abe-853b-216c55a12650"
      },
      "outputs": [],
      "source": [
        "os.environ[\"TAVILY_API_KEY\"] = getpass.getpass(\"TAVILY_API_KEY\")"
      ]
    },
    {
      "cell_type": "code",
      "execution_count": 4,
      "metadata": {
        "colab": {
          "base_uri": "https://localhost:8080/"
        },
        "id": "Nv0glIDyHmRt",
        "outputId": "b69df90a-b4e1-4ddb-9de0-882d98b68ab2"
      },
      "outputs": [],
      "source": [
        "from uuid import uuid4\n",
        "\n",
        "os.environ[\"LANGCHAIN_TRACING_V2\"] = \"true\"\n",
        "os.environ[\"LANGCHAIN_PROJECT\"] = f\"AIE5 - LangGraph - {uuid4().hex[0:8]}\"\n",
        "os.environ[\"LANGCHAIN_API_KEY\"] = getpass.getpass(\"LangSmith API Key: \")"
      ]
    },
    {
      "cell_type": "markdown",
      "metadata": {
        "id": "sBRyQmEAVzua"
      },
      "source": [
        "## Task 3: Creating our Tool Belt\n",
        "\n",
        "As is usually the case, we'll want to equip our agent with a toolbelt to help answer questions and add external knowledge.\n",
        "\n",
        "There's a tonne of tools in the [LangChain Community Repo](https://github.com/langchain-ai/langchain/tree/master/libs/community/langchain_community/tools) but we'll stick to a couple just so we can observe the cyclic nature of LangGraph in action!\n",
        "\n",
        "We'll leverage:\n",
        "\n",
        "- [Tavily Search Results](https://github.com/langchain-ai/langchain/blob/master/libs/community/langchain_community/tools/tavily_search/tool.py)\n",
        "- [Arxiv](https://github.com/langchain-ai/langchain/tree/master/libs/community/langchain_community/tools/arxiv)"
      ]
    },
    {
      "cell_type": "markdown",
      "metadata": {
        "id": "2k6n_Dob2F46"
      },
      "source": [
        "####🏗️ Activity #1:\n",
        "\n",
        "Please add the tools to use into our toolbelt.\n",
        "\n",
        "> NOTE: Each tool in our toolbelt should be a method."
      ]
    },
    {
      "cell_type": "code",
      "execution_count": 5,
      "metadata": {
        "id": "lAxaSvlfIeOg"
      },
      "outputs": [],
      "source": [
        "from langchain_community.tools.tavily_search import TavilySearchResults\n",
        "from langchain_community.tools.arxiv.tool import ArxivQueryRun\n",
        "\n",
        "tavily_tool = TavilySearchResults(max_results=5)\n",
        "\n",
        "tool_belt = [\n",
        "    tavily_tool,\n",
        "    ArxivQueryRun(),\n",
        "]"
      ]
    },
    {
      "cell_type": "markdown",
      "metadata": {
        "id": "VI-C669ZYVI5"
      },
      "source": [
        "### Model\n",
        "\n",
        "Now we can set-up our model! We'll leverage the familiar OpenAI model suite for this example - but it's not *necessary* to use with LangGraph. LangGraph supports all models - though you might not find success with smaller models - as such, they recommend you stick with:\n",
        "\n",
        "- OpenAI's GPT-3.5 and GPT-4\n",
        "- Anthropic's Claude\n",
        "- Google's Gemini\n",
        "\n",
        "> NOTE: Because we're leveraging the OpenAI function calling API - we'll need to use OpenAI *for this specific example* (or any other service that exposes an OpenAI-style function calling API."
      ]
    },
    {
      "cell_type": "code",
      "execution_count": 6,
      "metadata": {
        "id": "QkNS8rNZJs4z"
      },
      "outputs": [],
      "source": [
        "from langchain_openai import ChatOpenAI\n",
        "\n",
        "model = ChatOpenAI(model=\"gpt-4o\", temperature=0)"
      ]
    },
    {
      "cell_type": "markdown",
      "metadata": {
        "id": "Ugkj3GzuZpQv"
      },
      "source": [
        "Now that we have our model set-up, let's \"put on the tool belt\", which is to say: We'll bind our LangChain formatted tools to the model in an OpenAI function calling format."
      ]
    },
    {
      "cell_type": "code",
      "execution_count": 7,
      "metadata": {
        "id": "4OdMqFafZ_0V"
      },
      "outputs": [],
      "source": [
        "model = model.bind_tools(tool_belt)"
      ]
    },
    {
      "cell_type": "markdown",
      "metadata": {
        "id": "ERzuGo6W18Lr"
      },
      "source": [
        "#### ❓ Question #1:\n",
        "\n",
        "How does the model determine which tool to use?"
      ]
    },
    {
      "cell_type": "markdown",
      "metadata": {},
      "source": [
        "LangChain uses OpenAI's function calling (a.k.a. tool calling) to make this decision, leveraging the model's reasoning capabilities. gpt-4o already has some level of fine-tuning for tool usage, specifically for function calling."
      ]
    },
    {
      "cell_type": "markdown",
      "metadata": {
        "id": "_296Ub96Z_H8"
      },
      "source": [
        "## Task 4: Putting the State in Stateful\n",
        "\n",
        "Earlier we used this phrasing:\n",
        "\n",
        "`coordinated multi-actor and stateful applications`\n",
        "\n",
        "So what does that \"stateful\" mean?\n",
        "\n",
        "To put it simply - we want to have some kind of object which we can pass around our application that holds information about what the current situation (state) is. Since our system will be constructed of many parts moving in a coordinated fashion - we want to be able to ensure we have some commonly understood idea of that state.\n",
        "\n",
        "LangGraph leverages a `StatefulGraph` which uses an `AgentState` object to pass information between the various nodes of the graph.\n",
        "\n",
        "There are more options than what we'll see below - but this `AgentState` object is one that is stored in a `TypedDict` with the key `messages` and the value is a `Sequence` of `BaseMessages` that will be appended to whenever the state changes.\n",
        "\n",
        "Let's think about a simple example to help understand exactly what this means (we'll simplify a great deal to try and clearly communicate what state is doing):\n",
        "\n",
        "1. We initialize our state object:\n",
        "  - `{\"messages\" : []}`\n",
        "2. Our user submits a query to our application.\n",
        "  - New State: `HumanMessage(#1)`\n",
        "  - `{\"messages\" : [HumanMessage(#1)}`\n",
        "3. We pass our state object to an Agent node which is able to read the current state. It will use the last `HumanMessage` as input. It gets some kind of output which it will add to the state.\n",
        "  - New State: `AgentMessage(#1, additional_kwargs {\"function_call\" : \"WebSearchTool\"})`\n",
        "  - `{\"messages\" : [HumanMessage(#1), AgentMessage(#1, ...)]}`\n",
        "4. We pass our state object to a \"conditional node\" (more on this later) which reads the last state to determine if we need to use a tool - which it can determine properly because of our provided object!"
      ]
    },
    {
      "cell_type": "code",
      "execution_count": 9,
      "metadata": {
        "id": "mxL9b_NZKUdL"
      },
      "outputs": [],
      "source": [
        "from typing import TypedDict, Annotated\n",
        "from langgraph.graph.message import add_messages\n",
        "import operator\n",
        "from langchain_core.messages import BaseMessage\n",
        "\n",
        "class AgentState(TypedDict):\n",
        "  messages: Annotated[list, add_messages]"
      ]
    },
    {
      "cell_type": "markdown",
      "metadata": {
        "id": "vWsMhfO9grLu"
      },
      "source": [
        "## Task 5: It's Graphing Time!\n",
        "\n",
        "Now that we have state, and we have tools, and we have an LLM - we can finally start making our graph!\n",
        "\n",
        "Let's take a second to refresh ourselves about what a graph is in this context.\n",
        "\n",
        "Graphs, also called networks in some circles, are a collection of connected objects.\n",
        "\n",
        "The objects in question are typically called nodes, or vertices, and the connections are called edges.\n",
        "\n",
        "Let's look at a simple graph.\n",
        "\n",
        "![image](https://i.imgur.com/2NFLnIc.png)\n",
        "\n",
        "Here, we're using the coloured circles to represent the nodes and the yellow lines to represent the edges. In this case, we're looking at a fully connected graph - where each node is connected by an edge to each other node.\n",
        "\n",
        "If we were to think about nodes in the context of LangGraph - we would think of a function, or an LCEL runnable.\n",
        "\n",
        "If we were to think about edges in the context of LangGraph - we might think of them as \"paths to take\" or \"where to pass our state object next\".\n",
        "\n",
        "Let's create some nodes and expand on our diagram.\n",
        "\n",
        "> NOTE: Due to the tight integration with LCEL - we can comfortably create our nodes in an async fashion!"
      ]
    },
    {
      "cell_type": "code",
      "execution_count": 10,
      "metadata": {
        "id": "91flJWtZLUrl"
      },
      "outputs": [],
      "source": [
        "from langgraph.prebuilt import ToolNode\n",
        "\n",
        "def call_model(state):\n",
        "  messages = state[\"messages\"]\n",
        "  response = model.invoke(messages)\n",
        "  return {\"messages\" : [response]}\n",
        "\n",
        "tool_node = ToolNode(tool_belt)"
      ]
    },
    {
      "cell_type": "markdown",
      "metadata": {
        "id": "2bwR7MgWj3Wg"
      },
      "source": [
        "Now we have two total nodes. We have:\n",
        "\n",
        "- `call_model` is a node that will...well...call the model\n",
        "- `tool_node` is a node which can call a tool\n",
        "\n",
        "Let's start adding nodes! We'll update our diagram along the way to keep track of what this looks like!\n"
      ]
    },
    {
      "cell_type": "code",
      "execution_count": 11,
      "metadata": {
        "colab": {
          "base_uri": "https://localhost:8080/"
        },
        "id": "_vF4_lgtmQNo",
        "outputId": "a4384377-8f7a-415f-be1b-fee6169cb101"
      },
      "outputs": [
        {
          "data": {
            "text/plain": [
              "<langgraph.graph.state.StateGraph at 0x7fbdca009d30>"
            ]
          },
          "execution_count": 11,
          "metadata": {},
          "output_type": "execute_result"
        }
      ],
      "source": [
        "from langgraph.graph import StateGraph, END\n",
        "\n",
        "uncompiled_graph = StateGraph(AgentState)\n",
        "\n",
        "uncompiled_graph.add_node(\"agent\", call_model)\n",
        "uncompiled_graph.add_node(\"action\", tool_node)"
      ]
    },
    {
      "cell_type": "markdown",
      "metadata": {
        "id": "b8CjRlbVmRpW"
      },
      "source": [
        "Let's look at what we have so far:\n",
        "\n",
        "![image](https://i.imgur.com/md7inqG.png)"
      ]
    },
    {
      "cell_type": "markdown",
      "metadata": {
        "id": "uaXHpPeSnOWC"
      },
      "source": [
        "Next, we'll add our entrypoint. All our entrypoint does is indicate which node is called first."
      ]
    },
    {
      "cell_type": "code",
      "execution_count": 15,
      "metadata": {
        "colab": {
          "base_uri": "https://localhost:8080/"
        },
        "id": "YGCbaYqRnmiw",
        "outputId": "5351807c-2ac7-4316-a3a3-878abeacd114"
      },
      "outputs": [
        {
          "data": {
            "text/plain": [
              "<langgraph.graph.state.StateGraph at 0x7fbdca009d30>"
            ]
          },
          "execution_count": 15,
          "metadata": {},
          "output_type": "execute_result"
        }
      ],
      "source": [
        "uncompiled_graph.set_entry_point(\"agent\")"
      ]
    },
    {
      "cell_type": "markdown",
      "metadata": {
        "id": "BUsfGoSpoF9U"
      },
      "source": [
        "![image](https://i.imgur.com/wNixpJe.png)"
      ]
    },
    {
      "cell_type": "markdown",
      "metadata": {
        "id": "0Q_pQgHmoW0M"
      },
      "source": [
        "Now we want to build a \"conditional edge\" which will use the output state of a node to determine which path to follow.\n",
        "\n",
        "We can help conceptualize this by thinking of our conditional edge as a conditional in a flowchart!\n",
        "\n",
        "Notice how our function simply checks if there is a \"function_call\" kwarg present.\n",
        "\n",
        "Then we create an edge where the origin node is our agent node and our destination node is *either* the action node or the END (finish the graph).\n",
        "\n",
        "It's important to highlight that the dictionary passed in as the third parameter (the mapping) should be created with the possible outputs of our conditional function in mind. In this case `should_continue` outputs either `\"end\"` or `\"continue\"` which are subsequently mapped to the action node or the END node."
      ]
    },
    {
      "cell_type": "code",
      "execution_count": 12,
      "metadata": {
        "colab": {
          "base_uri": "https://localhost:8080/"
        },
        "id": "1BZgb81VQf9o",
        "outputId": "73a07c15-5f0b-40f2-b033-38b57d056dd8"
      },
      "outputs": [
        {
          "data": {
            "text/plain": [
              "<langgraph.graph.state.StateGraph at 0x7fbdca009d30>"
            ]
          },
          "execution_count": 12,
          "metadata": {},
          "output_type": "execute_result"
        }
      ],
      "source": [
        "def should_continue(state):\n",
        "  last_message = state[\"messages\"][-1]\n",
        "\n",
        "  if last_message.tool_calls:\n",
        "    return \"action\"\n",
        "\n",
        "  return END\n",
        "\n",
        "uncompiled_graph.add_conditional_edges(\n",
        "    \"agent\",\n",
        "    should_continue\n",
        ")"
      ]
    },
    {
      "cell_type": "markdown",
      "metadata": {
        "id": "-Cvhcf4jp0Ce"
      },
      "source": [
        "Let's visualize what this looks like.\n",
        "\n",
        "![image](https://i.imgur.com/8ZNwKI5.png)"
      ]
    },
    {
      "cell_type": "markdown",
      "metadata": {
        "id": "yKCjWJCkrJb9"
      },
      "source": [
        "Finally, we can add our last edge which will connect our action node to our agent node. This is because we *always* want our action node (which is used to call our tools) to return its output to our agent!"
      ]
    },
    {
      "cell_type": "code",
      "execution_count": 13,
      "metadata": {
        "colab": {
          "base_uri": "https://localhost:8080/"
        },
        "id": "UvcgbHf1rIXZ",
        "outputId": "45d4bdd6-d6bb-4a1d-bb79-cad43c130bf2"
      },
      "outputs": [
        {
          "data": {
            "text/plain": [
              "<langgraph.graph.state.StateGraph at 0x7fbdca009d30>"
            ]
          },
          "execution_count": 13,
          "metadata": {},
          "output_type": "execute_result"
        }
      ],
      "source": [
        "uncompiled_graph.add_edge(\"action\", \"agent\")"
      ]
    },
    {
      "cell_type": "markdown",
      "metadata": {
        "id": "EiWDwBQtrw7Z"
      },
      "source": [
        "Let's look at the final visualization.\n",
        "\n",
        "![image](https://i.imgur.com/NWO7usO.png)"
      ]
    },
    {
      "cell_type": "markdown",
      "metadata": {
        "id": "KYqDpErlsCsu"
      },
      "source": [
        "All that's left to do now is to compile our workflow - and we're off!"
      ]
    },
    {
      "cell_type": "code",
      "execution_count": 16,
      "metadata": {
        "id": "zt9-KS8DpzNx"
      },
      "outputs": [],
      "source": [
        "compiled_graph = uncompiled_graph.compile()"
      ]
    },
    {
      "cell_type": "markdown",
      "metadata": {
        "id": "xhNWIwBL1W4Q"
      },
      "source": [
        "#### ❓ Question #2:\n",
        "\n",
        "Is there any specific limit to how many times we can cycle?\n",
        "\n",
        "If not, how could we impose a limit to the number of cycles?"
      ]
    },
    {
      "cell_type": "markdown",
      "metadata": {},
      "source": [
        "There isn't a harcoded limit although langraph will execute the GraphRecursionError for inifinit loops, the way that we control the cycles is by countig the number of messages, which means the number of times that the tools have been executed, in this particular case."
      ]
    },
    {
      "cell_type": "markdown",
      "metadata": {
        "id": "VEYcTShCsPaa"
      },
      "source": [
        "## Using Our Graph\n",
        "\n",
        "Now that we've created and compiled our graph - we can call it *just as we'd call any other* `Runnable`!\n",
        "\n",
        "Let's try out a few examples to see how it fairs:"
      ]
    },
    {
      "cell_type": "code",
      "execution_count": 17,
      "metadata": {
        "colab": {
          "base_uri": "https://localhost:8080/"
        },
        "id": "Qn4n37PQRPII",
        "outputId": "5eeedfae-089d-496e-e71f-071939fa5832"
      },
      "outputs": [
        {
          "name": "stdout",
          "output_type": "stream",
          "text": [
            "Receiving update from node: 'agent'\n",
            "[AIMessage(content='', additional_kwargs={'tool_calls': [{'id': 'call_CTpGhJIV54QQESvUeV1K7Ul2', 'function': {'arguments': '{\"query\":\"current captain of the Winnipeg Jets 2023\"}', 'name': 'tavily_search_results_json'}, 'type': 'function'}], 'refusal': None}, response_metadata={'token_usage': {'completion_tokens': 27, 'prompt_tokens': 162, 'total_tokens': 189, 'completion_tokens_details': {'accepted_prediction_tokens': 0, 'audio_tokens': 0, 'reasoning_tokens': 0, 'rejected_prediction_tokens': 0}, 'prompt_tokens_details': {'audio_tokens': 0, 'cached_tokens': 0}}, 'model_name': 'gpt-4o-2024-08-06', 'system_fingerprint': 'fp_50cad350e4', 'finish_reason': 'tool_calls', 'logprobs': None}, id='run-484871e6-d81d-4acd-83a7-c61f323bd01f-0', tool_calls=[{'name': 'tavily_search_results_json', 'args': {'query': 'current captain of the Winnipeg Jets 2023'}, 'id': 'call_CTpGhJIV54QQESvUeV1K7Ul2', 'type': 'tool_call'}], usage_metadata={'input_tokens': 162, 'output_tokens': 27, 'total_tokens': 189, 'input_token_details': {'audio': 0, 'cache_read': 0}, 'output_token_details': {'audio': 0, 'reasoning': 0}})]\n",
            "\n",
            "\n",
            "\n",
            "Receiving update from node: 'action'\n",
            "[ToolMessage(content='[{\"url\": \"https://thehockeynews.com/nhl/winnipeg-jets/news/jets-name-adam-lowry-as-team-captain\", \"content\": \"Jets Name Adam Lowry as Team Captain - The Hockey News Winnipeg Jets News, Analysis and More My Account Subscriptions Jets Name Adam Lowry as Team Captain The Winnipeg Jets will have a captain for the 2023-24 season. After going captain-less in 2022-23, the Winnipeg Jets unveiled Adam Lowry as the club\\'s new captain on Tuesday morning. Having stripped Wheeler of the \\'C\\' upon joining the Jets last season, head coach Rick Bowness rolled with three alternates in 2022-23, as Lowry, Josh Morrissey and Mark Scheifele each served in leadership roles with the club. Although it will be his first time serving as a team captain since his final year with the Swift Current Broncos in 2012-13, Lowry won\\'t need to look far for leadership examples.\"}, {\"url\": \"https://www.nytimes.com/athletic/4855976/2023/09/12/adam-lowry-jets-captain/\", \"content\": \"Jets name Adam Lowry as captain ahead of 2023-24 season: Why Winnipeg chose him - The Athletic Jets name Adam Lowry as captain ahead of 2023-24 season: Why Winnipeg chose him The team gave forward Adam Lowry the honor Tuesday, making him the third captain in franchise history since the Jets moved from Atlanta. Lowry did exactly that, stitched an “A” on his sweater for the first time in 2022-23, and is now captain of the Winnipeg Jets. Morrissey would have been a worthy choice as captain and is more of an impact player at his position than Lowry is. Lowry served as an assistant captain for the first time last season with Morrissey and Scheifele.\"}, {\"url\": \"https://thehockeynews.com/news/winnipeg-jets-name-adam-lowry-captain\", \"content\": \"Winnipeg Jets Name Adam Lowry Captain - The Hockey News Winnipeg Jets Name Adam Lowry Captain The Winnipeg Jets have named Adam Lowry the third captain in franchise history. Lowry becomes the third captain in Jets franchise history and takes over the role after Blake Wheeler served in it for six years before being stripped of the captaincy prior to the 2022-23 season. The 30-year-old Lowry has spent his entire nine-year NHL career with the Jets, logging 621 regular-season games with the franchise and racking up 93 goals and 111 assists for 204 points in the process. That is the question facing the Canadiens, Red Wings, Bruins, Canucks and six other squads as NHL trade deadline season kicks into gear.\"}, {\"url\": \"https://globalnews.ca/news/9954570/winnipeg-jets-adam-lowry-captain/\", \"content\": \"Lowry, 30, becomes the third captain in Jets 2.0 history, following in the footsteps of Andrew Ladd, who announced his retirement from hockey on Sunday, and Blake Wheeler.\"}, {\"url\": \"https://www.cbc.ca/news/canada/manitoba/adam-lowry-captain-winnipeg-jets-1.6963881\", \"content\": \"Adam Lowry named new captain of Winnipeg Jets | CBC News About CBC News Adam Lowry named new captain of Winnipeg Jets | CBC News Loaded Adam Lowry named new captain of Winnipeg Jets The Winnipeg Jets have a new leader, one year after stripping the C from Blake Wheeler and deciding to play without a captain. Adam Lowry, seen celebrating a goal against the Los Angeles Kings last season, has been named the new captain for the Winnipeg Jets. Adam Lowry,\\xa0who has been a Jet\\xa0since 2011\\xa0when he was drafted 67th\\xa0overall, is the new captain of the NHL team\\xa0— its third since relocating to Winnipeg from Atlanta in 2011. About CBC\"}]', name='tavily_search_results_json', id='61e8cb10-5089-43bf-b0d2-ce58451d181e', tool_call_id='call_CTpGhJIV54QQESvUeV1K7Ul2', artifact={'query': 'current captain of the Winnipeg Jets 2023', 'follow_up_questions': None, 'answer': None, 'images': [], 'results': [{'title': 'Jets Name Adam Lowry as Team Captain - The Hockey News', 'url': 'https://thehockeynews.com/nhl/winnipeg-jets/news/jets-name-adam-lowry-as-team-captain', 'content': \"Jets Name Adam Lowry as Team Captain - The Hockey News Winnipeg Jets News, Analysis and More My Account Subscriptions Jets Name Adam Lowry as Team Captain The Winnipeg Jets will have a captain for the 2023-24 season. After going captain-less in 2022-23, the Winnipeg Jets unveiled Adam Lowry as the club's new captain on Tuesday morning. Having stripped Wheeler of the 'C' upon joining the Jets last season, head coach Rick Bowness rolled with three alternates in 2022-23, as Lowry, Josh Morrissey and Mark Scheifele each served in leadership roles with the club. Although it will be his first time serving as a team captain since his final year with the Swift Current Broncos in 2012-13, Lowry won't need to look far for leadership examples.\", 'score': 0.9227683, 'raw_content': None}, {'title': 'Jets name Adam Lowry as captain ahead of 2023-24 season: Why Winnipeg ...', 'url': 'https://www.nytimes.com/athletic/4855976/2023/09/12/adam-lowry-jets-captain/', 'content': 'Jets name Adam Lowry as captain ahead of 2023-24 season: Why Winnipeg chose him - The Athletic Jets name Adam Lowry as captain ahead of 2023-24 season: Why Winnipeg chose him The team gave forward Adam Lowry the honor Tuesday, making him the third captain in franchise history since the Jets moved from Atlanta. Lowry did exactly that, stitched an “A” on his sweater for the first time in 2022-23, and is now captain of the Winnipeg Jets. Morrissey would have been a worthy choice as captain and is more of an impact player at his position than Lowry is. Lowry served as an assistant captain for the first time last season with Morrissey and Scheifele.', 'score': 0.8991304, 'raw_content': None}, {'title': 'Winnipeg Jets Name Adam Lowry Captain - The Hockey News', 'url': 'https://thehockeynews.com/news/winnipeg-jets-name-adam-lowry-captain', 'content': 'Winnipeg Jets Name Adam Lowry Captain - The Hockey News Winnipeg Jets Name Adam Lowry Captain The Winnipeg Jets have named Adam Lowry the third captain in franchise history. Lowry becomes the third captain in Jets franchise history and takes over the role after Blake Wheeler served in it for six years before being stripped of the captaincy prior to the 2022-23 season. The 30-year-old Lowry has spent his entire nine-year NHL career with the Jets, logging 621 regular-season games with the franchise and racking up 93 goals and 111 assists for 204 points in the process. That is the question facing the Canadiens, Red Wings, Bruins, Canucks and six other squads as NHL trade deadline season kicks into gear.', 'score': 0.8708723, 'raw_content': None}, {'title': 'Winnipeg Jets announce Adam Lowry as new captain', 'url': 'https://globalnews.ca/news/9954570/winnipeg-jets-adam-lowry-captain/', 'content': 'Lowry, 30, becomes the third captain in Jets 2.0 history, following in the footsteps of Andrew Ladd, who announced his retirement from hockey on Sunday, and Blake Wheeler.', 'score': 0.7769112, 'raw_content': None}, {'title': 'Adam Lowry named new captain of Winnipeg Jets | CBC News', 'url': 'https://www.cbc.ca/news/canada/manitoba/adam-lowry-captain-winnipeg-jets-1.6963881', 'content': 'Adam Lowry named new captain of Winnipeg Jets | CBC News About CBC News Adam Lowry named new captain of Winnipeg Jets | CBC News Loaded Adam Lowry named new captain of Winnipeg Jets The Winnipeg Jets have a new leader, one year after stripping the C from Blake Wheeler and deciding to play without a captain. Adam Lowry, seen celebrating a goal against the Los Angeles Kings last season, has been named the new captain for the Winnipeg Jets. Adam Lowry,\\xa0who has been a Jet\\xa0since 2011\\xa0when he was drafted 67th\\xa0overall, is the new captain of the NHL team\\xa0— its third since relocating to Winnipeg from Atlanta in 2011. About CBC', 'score': 0.74363416, 'raw_content': None}], 'response_time': 2.14})]\n",
            "\n",
            "\n",
            "\n",
            "Receiving update from node: 'agent'\n",
            "[AIMessage(content='The current captain of the Winnipeg Jets is Adam Lowry.', additional_kwargs={'refusal': None}, response_metadata={'token_usage': {'completion_tokens': 14, 'prompt_tokens': 1034, 'total_tokens': 1048, 'completion_tokens_details': {'accepted_prediction_tokens': 0, 'audio_tokens': 0, 'reasoning_tokens': 0, 'rejected_prediction_tokens': 0}, 'prompt_tokens_details': {'audio_tokens': 0, 'cached_tokens': 0}}, 'model_name': 'gpt-4o-2024-08-06', 'system_fingerprint': 'fp_50cad350e4', 'finish_reason': 'stop', 'logprobs': None}, id='run-ff795524-2b6c-47bb-84f6-d8f0f0319629-0', usage_metadata={'input_tokens': 1034, 'output_tokens': 14, 'total_tokens': 1048, 'input_token_details': {'audio': 0, 'cache_read': 0}, 'output_token_details': {'audio': 0, 'reasoning': 0}})]\n",
            "\n",
            "\n",
            "\n"
          ]
        }
      ],
      "source": [
        "from langchain_core.messages import HumanMessage\n",
        "\n",
        "inputs = {\"messages\" : [HumanMessage(content=\"Who is the current captain of the Winnipeg Jets?\")]}\n",
        "\n",
        "async for chunk in compiled_graph.astream(inputs, stream_mode=\"updates\"):\n",
        "    for node, values in chunk.items():\n",
        "        print(f\"Receiving update from node: '{node}'\")\n",
        "        print(values[\"messages\"])\n",
        "        print(\"\\n\\n\")"
      ]
    },
    {
      "cell_type": "markdown",
      "metadata": {
        "id": "DBHnUtLSscRr"
      },
      "source": [
        "Let's look at what happened:\n",
        "\n",
        "1. Our state object was populated with our request\n",
        "2. The state object was passed into our entry point (agent node) and the agent node added an `AIMessage` to the state object and passed it along the conditional edge\n",
        "3. The conditional edge received the state object, found the \"tool_calls\" `additional_kwarg`, and sent the state object to the action node\n",
        "4. The action node added the response from the OpenAI function calling endpoint to the state object and passed it along the edge to the agent node\n",
        "5. The agent node added a response to the state object and passed it along the conditional edge\n",
        "6. The conditional edge received the state object, could not find the \"tool_calls\" `additional_kwarg` and passed the state object to END where we see it output in the cell above!\n",
        "\n",
        "Now let's look at an example that shows a multiple tool usage - all with the same flow!"
      ]
    },
    {
      "cell_type": "code",
      "execution_count": 18,
      "metadata": {
        "colab": {
          "base_uri": "https://localhost:8080/"
        },
        "id": "afv2BuEsV5JG",
        "outputId": "ff009536-d281-4a56-c126-9cd245352bfe"
      },
      "outputs": [
        {
          "name": "stdout",
          "output_type": "stream",
          "text": [
            "Receiving update from node: 'agent'\n",
            "[AIMessage(content='', additional_kwargs={'tool_calls': [{'id': 'call_OXTj4peaFp8ImMCEHDRuJGbm', 'function': {'arguments': '{\"query\":\"QLoRA\"}', 'name': 'arxiv'}, 'type': 'function'}], 'refusal': None}, response_metadata={'token_usage': {'completion_tokens': 17, 'prompt_tokens': 178, 'total_tokens': 195, 'completion_tokens_details': {'accepted_prediction_tokens': 0, 'audio_tokens': 0, 'reasoning_tokens': 0, 'rejected_prediction_tokens': 0}, 'prompt_tokens_details': {'audio_tokens': 0, 'cached_tokens': 0}}, 'model_name': 'gpt-4o-2024-08-06', 'system_fingerprint': 'fp_50cad350e4', 'finish_reason': 'tool_calls', 'logprobs': None}, id='run-b9dc3532-0f45-4e75-8137-776f7fddd333-0', tool_calls=[{'name': 'arxiv', 'args': {'query': 'QLoRA'}, 'id': 'call_OXTj4peaFp8ImMCEHDRuJGbm', 'type': 'tool_call'}], usage_metadata={'input_tokens': 178, 'output_tokens': 17, 'total_tokens': 195, 'input_token_details': {'audio': 0, 'cache_read': 0}, 'output_token_details': {'audio': 0, 'reasoning': 0}})]\n",
            "\n",
            "\n",
            "\n",
            "Receiving update from node: 'action'\n",
            "Tool Used: arxiv\n",
            "[ToolMessage(content='Published: 2023-05-23\\nTitle: QLoRA: Efficient Finetuning of Quantized LLMs\\nAuthors: Tim Dettmers, Artidoro Pagnoni, Ari Holtzman, Luke Zettlemoyer\\nSummary: We present QLoRA, an efficient finetuning approach that reduces memory usage\\nenough to finetune a 65B parameter model on a single 48GB GPU while preserving\\nfull 16-bit finetuning task performance. QLoRA backpropagates gradients through\\na frozen, 4-bit quantized pretrained language model into Low Rank\\nAdapters~(LoRA). Our best model family, which we name Guanaco, outperforms all\\nprevious openly released models on the Vicuna benchmark, reaching 99.3% of the\\nperformance level of ChatGPT while only requiring 24 hours of finetuning on a\\nsingle GPU. QLoRA introduces a number of innovations to save memory without\\nsacrificing performance: (a) 4-bit NormalFloat (NF4), a new data type that is\\ninformation theoretically optimal for normally distributed weights (b) double\\nquantization to reduce the average memory footprint by quantizing the\\nquantization constants, and (c) paged optimziers to manage memory spikes. We\\nuse QLoRA to finetune more than 1,000 models, providing a detailed analysis of\\ninstruction following and chatbot performance across 8 instruction datasets,\\nmultiple model types (LLaMA, T5), and model scales that would be infeasible to\\nrun with regular finetuning (e.g. 33B and 65B parameter models). Our results\\nshow that QLoRA finetuning on a small high-quality dataset leads to\\nstate-of-the-art results, even when using smaller models than the previous\\nSoTA. We provide a detailed analysis of chatbot performance based on both human\\nand GPT-4 evaluations showing that GPT-4 evaluations are a cheap and reasonable\\nalternative to human evaluation. Furthermore, we find that current chatbot\\nbenchmarks are not trustworthy to accurately evaluate the performance levels of\\nchatbots. A lemon-picked analysis demonstrates where Guanaco fails compared to\\nChatGPT. We release all of our models and code, including CUDA kernels for\\n4-bit training.\\n\\nPublished: 2024-05-27\\nTitle: Accurate LoRA-Finetuning Quantization of LLMs via Information Retention\\nAuthors: Haotong Qin, Xudong Ma, Xingyu Zheng, Xiaoyang Li, Yang Zhang, Shouda Liu, Jie Luo, Xianglong Liu, Michele Magno\\nSummary: The LoRA-finetuning quantization of LLMs has been extensively studied to\\nobtain accurate yet compact LLMs for deployment on resource-constrained\\nhardware. However, existing methods cause the quantized LLM to severely degrade\\nand even fail to benefit from the finetuning of LoRA. This paper proposes a\\nnovel IR-QLoRA for pushing quantized LLMs with LoRA to be highly accurate\\nthrough information retention. The proposed IR-QLoRA mainly relies on two\\ntechnologies derived from the perspective of unified information: (1)\\nstatistics-based Information Calibration Quantization allows the quantized\\nparameters of LLM to retain original information accurately; (2)\\nfinetuning-based Information Elastic Connection makes LoRA utilizes elastic\\nrepresentation transformation with diverse information. Comprehensive\\nexperiments show that IR-QLoRA can significantly improve accuracy across LLaMA\\nand LLaMA2 families under 2-4 bit-widths, e.g., 4- bit LLaMA-7B achieves 1.4%\\nimprovement on MMLU compared with the state-of-the-art methods. The significant\\nperformance gain requires only a tiny 0.31% additional time consumption,\\nrevealing the satisfactory efficiency of our IR-QLoRA. We highlight that\\nIR-QLoRA enjoys excellent versatility, compatible with various frameworks\\n(e.g., NormalFloat and Integer quantization) and brings general accuracy gains.\\nThe code is available at https://github.com/htqin/ir-qlora.\\n\\nPublished: 2024-06-12\\nTitle: Exploring Fact Memorization and Style Imitation in LLMs Using QLoRA: An Experimental Study and Quality Assessment Methods\\nAuthors: Eugene Vyborov, Oleksiy Osypenko, Serge Sotnyk\\nSummary: There are various methods for adapting LLMs to different domains. The most\\ncommon methods are prompting, finetuning, and RAG. In this w', name='arxiv', id='8c886bbd-9403-4ca5-881c-7d102f278969', tool_call_id='call_OXTj4peaFp8ImMCEHDRuJGbm')]\n",
            "\n",
            "\n",
            "\n",
            "Receiving update from node: 'agent'\n",
            "[AIMessage(content='', additional_kwargs={'tool_calls': [{'id': 'call_jAUalpYuTyIkOVtpAn25bdhO', 'function': {'arguments': '{\"query\": \"Tim Dettmers latest Tweet\"}', 'name': 'tavily_search_results_json'}, 'type': 'function'}, {'id': 'call_5PLDkzvAY6kapF6sjsmJNOSa', 'function': {'arguments': '{\"query\": \"Artidoro Pagnoni latest Tweet\"}', 'name': 'tavily_search_results_json'}, 'type': 'function'}, {'id': 'call_2v5MmyJ3XPHtRhha4yy7mYmh', 'function': {'arguments': '{\"query\": \"Ari Holtzman latest Tweet\"}', 'name': 'tavily_search_results_json'}, 'type': 'function'}, {'id': 'call_pFAnGAFxGfOyeZiDhXvwQdej', 'function': {'arguments': '{\"query\": \"Luke Zettlemoyer latest Tweet\"}', 'name': 'tavily_search_results_json'}, 'type': 'function'}], 'refusal': None}, response_metadata={'token_usage': {'completion_tokens': 113, 'prompt_tokens': 1157, 'total_tokens': 1270, 'completion_tokens_details': {'accepted_prediction_tokens': 0, 'audio_tokens': 0, 'reasoning_tokens': 0, 'rejected_prediction_tokens': 0}, 'prompt_tokens_details': {'audio_tokens': 0, 'cached_tokens': 0}}, 'model_name': 'gpt-4o-2024-08-06', 'system_fingerprint': 'fp_50cad350e4', 'finish_reason': 'tool_calls', 'logprobs': None}, id='run-29d48f61-7fcd-403c-bda7-2d12e2064ff5-0', tool_calls=[{'name': 'tavily_search_results_json', 'args': {'query': 'Tim Dettmers latest Tweet'}, 'id': 'call_jAUalpYuTyIkOVtpAn25bdhO', 'type': 'tool_call'}, {'name': 'tavily_search_results_json', 'args': {'query': 'Artidoro Pagnoni latest Tweet'}, 'id': 'call_5PLDkzvAY6kapF6sjsmJNOSa', 'type': 'tool_call'}, {'name': 'tavily_search_results_json', 'args': {'query': 'Ari Holtzman latest Tweet'}, 'id': 'call_2v5MmyJ3XPHtRhha4yy7mYmh', 'type': 'tool_call'}, {'name': 'tavily_search_results_json', 'args': {'query': 'Luke Zettlemoyer latest Tweet'}, 'id': 'call_pFAnGAFxGfOyeZiDhXvwQdej', 'type': 'tool_call'}], usage_metadata={'input_tokens': 1157, 'output_tokens': 113, 'total_tokens': 1270, 'input_token_details': {'audio': 0, 'cache_read': 0}, 'output_token_details': {'audio': 0, 'reasoning': 0}})]\n",
            "\n",
            "\n",
            "\n",
            "Receiving update from node: 'action'\n",
            "Tool Used: tavily_search_results_json\n",
            "[ToolMessage(content='[{\"url\": \"https://threadreaderapp.com/user/Tim_Dettmers\", \"content\": \"Unroll Thread You can paste full URL like: https://x.com/threadreaderapp/status/1644127596119195649 https://twitter.com/Tim_Dettmers/status/1661379354507476994 Colab: colab.research.google.com/drive/17XEqL1J…  Want to see how good Guanaco 65B is? Our work on loss spikes and stable 8-bit CLIP training is the largest Int8 training to date (1B). We release LLM.int8(), the first 8-bit inference method that saves 2x memory and does not degrade performance for 175B models by exploiting emergent properties. Emergence: timdettmers.com/2022/08/17/llm…  LLM.int8() works by using: (1) the high-precision vectors-wise quantization technique and (2) mixed precision decomposition. We release the public beta for bnb-int8🟪 for all @huggingface 🤗models, which allows for Int8 inference without performance degradation up to scales of 176B params 📈. Video:  8-bit optimizers are mostly useful to finetune large models that did not fit into memory before.\"}, {\"url\": \"https://twitter.com/Tim_Dettmers/highlights\", \"content\": \"After 7 months on the job market, I am happy to announce: - I joined @allen_ai - Professor at @CarnegieMellon from Fall 2025 - New bitsandbytes maintainer\"}, {\"url\": \"https://x.com/tim_dettmers?lang=en\", \"content\": \"New post re: Devin (the AI SWE). We couldn\\'t find many reviews of people using it for real tasks, so we went MKBHD mode and put Devin through its paces. We\"}, {\"url\": \"https://developer.nvidia.com/blog/author/tdettmers/\", \"content\": \"He runs a blog about deep learning and takes part in Kaggle data science competitions where he has reached a world rank of 63. Follow @Tim_Dettmers on Twitter\"}, {\"url\": \"https://x.com/Tim_Dettmers/status/1876639222305878092\", \"content\": \"Tim Dettmers · @Tim_Dettmers. I open Twitter, and I see this I believe we will get open-source AGI soon, but also that applying AGI will\"}]', name='tavily_search_results_json', id='7508f6e4-29c8-4953-a1ff-0c02bb5dde15', tool_call_id='call_jAUalpYuTyIkOVtpAn25bdhO', artifact={'query': 'Tim Dettmers latest Tweet', 'follow_up_questions': None, 'answer': None, 'images': [], 'results': [{'url': 'https://threadreaderapp.com/user/Tim_Dettmers', 'title': \"Tim Dettmers's Threads\", 'content': 'Unroll Thread You can paste full URL like: https://x.com/threadreaderapp/status/1644127596119195649 https://twitter.com/Tim_Dettmers/status/1661379354507476994 Colab: colab.research.google.com/drive/17XEqL1J…  Want to see how good Guanaco 65B is? Our work on loss spikes and stable 8-bit CLIP training is the largest Int8 training to date (1B). We release LLM.int8(), the first 8-bit inference method that saves 2x memory and does not degrade performance for 175B models by exploiting emergent properties. Emergence: timdettmers.com/2022/08/17/llm…  LLM.int8() works by using: (1) the high-precision vectors-wise quantization technique and (2) mixed precision decomposition. We release the public beta for bnb-int8🟪 for all @huggingface 🤗models, which allows for Int8 inference without performance degradation up to scales of 176B params 📈. Video:  8-bit optimizers are mostly useful to finetune large models that did not fit into memory before.', 'score': 0.7300017, 'raw_content': None}, {'url': 'https://twitter.com/Tim_Dettmers/highlights', 'title': 'Highlights by Tim Dettmers (@Tim_Dettmers) / X', 'content': 'After 7 months on the job market, I am happy to announce: - I joined @allen_ai - Professor at @CarnegieMellon from Fall 2025 - New bitsandbytes maintainer', 'score': 0.6765563, 'raw_content': None}, {'url': 'https://x.com/tim_dettmers?lang=en', 'title': 'Tim Dettmers (@Tim_Dettmers) / X', 'content': \"New post re: Devin (the AI SWE). We couldn't find many reviews of people using it for real tasks, so we went MKBHD mode and put Devin through its paces. We\", 'score': 0.5948579, 'raw_content': None}, {'url': 'https://developer.nvidia.com/blog/author/tdettmers/', 'title': 'Author: Tim Dettmers | NVIDIA Technical Blog', 'content': 'He runs a blog about deep learning and takes part in Kaggle data science competitions where he has reached a world rank of 63. Follow @Tim_Dettmers on Twitter', 'score': 0.51325434, 'raw_content': None}, {'url': 'https://x.com/Tim_Dettmers/status/1876639222305878092', 'title': 'Tim Dettmers - X', 'content': 'Tim Dettmers · @Tim_Dettmers. I open Twitter, and I see this I believe we will get open-source AGI soon, but also that applying AGI will', 'score': 0.48499045, 'raw_content': None}], 'response_time': 2.85}), ToolMessage(content='[{\"url\": \"https://twitter.com/ArtidoroPagnoni/highlights\", \"content\": \"Artidoro Pagnoni\\'s Highlights ... Introducing the Byte Latent Transformer (BLT) – An LLM architecture that scales better than Llama 3 using byte-patches instead\"}, {\"url\": \"https://x.com/artidoropagnoni?lang=en\", \"content\": \"Today we\\'re announcing the recipients of our LLM Evaluation research grants. These four projects will each receive $200K in grant funding from Meta to further\"}, {\"url\": \"https://twitter.com/apagnonipagnoni?lang=ms\", \"content\": \"Don\\'t let climate change deniers derail progress in the global effort to #ActOnClimate: http://ofa.bo/e5FW. Imej. 204. 565. 1K. Artidoro Pagnoni menyiarkan\"}, {\"url\": \"https://tsvetshop.github.io/\", \"content\": \"Artidoro Pagnoni, Martin Graciarena, and Yulia Tsvetkov. Proc. COLING. An Analysis of Emotions and the Prominence of Positivity in #BlackLivesMatter Tweets\"}, {\"url\": \"https://www.threads.net/@sung.kim.mw/post/DDiJwXzTuM3\", \"content\": \"Most talked about paper in AI community today is from Meta, which is not posted on their platform as usual, but here is the Bluesky link. Byte Latent Transformer (BLT) – A LLM architecture that scales better than Llama 3 using patches instead of tokens https://bsky.app/profile/artidoro.bsky.social/post/3ld7apw6ju22y Thread Most talked about paper in AI community today is from Meta, which is not posted on their platform as usual, but here is the Bluesky link.Byte Latent Transformer (BLT) – A LLM architecture that scales better than Llama 3 using patches instead of tokensbsky.app/profi… I remember reading Elon Musk was really high level in games which would have taken hundreds of hours of grinding to get there. Privacy Policy\"}]', name='tavily_search_results_json', id='8614efde-567c-416e-90f1-3154ad2e038e', tool_call_id='call_5PLDkzvAY6kapF6sjsmJNOSa', artifact={'query': 'Artidoro Pagnoni latest Tweet', 'follow_up_questions': None, 'answer': None, 'images': [], 'results': [{'url': 'https://twitter.com/ArtidoroPagnoni/highlights', 'title': 'Highlights by Artidoro Pagnoni (@ArtidoroPagnoni) / X', 'content': \"Artidoro Pagnoni's Highlights ... Introducing the Byte Latent Transformer (BLT) – An LLM architecture that scales better than Llama 3 using byte-patches instead\", 'score': 0.6651719, 'raw_content': None}, {'url': 'https://x.com/artidoropagnoni?lang=en', 'title': 'Artidoro Pagnoni (@ArtidoroPagnoni) / X', 'content': \"Today we're announcing the recipients of our LLM Evaluation research grants. These four projects will each receive $200K in grant funding from Meta to further\", 'score': 0.65914243, 'raw_content': None}, {'url': 'https://twitter.com/apagnonipagnoni?lang=ms', 'title': 'Artidoro Pagnoni (@ApagnoniPagnoni) / X', 'content': \"Don't let climate change deniers derail progress in the global effort to #ActOnClimate: http://ofa.bo/e5FW. Imej. 204. 565. 1K. Artidoro Pagnoni menyiarkan\", 'score': 0.6279746, 'raw_content': None}, {'url': 'https://tsvetshop.github.io/', 'title': ': Tsvetshop', 'content': 'Artidoro Pagnoni, Martin Graciarena, and Yulia Tsvetkov. Proc. COLING. An Analysis of Emotions and the Prominence of Positivity in #BlackLivesMatter Tweets', 'score': 0.55883324, 'raw_content': None}, {'url': 'https://www.threads.net/@sung.kim.mw/post/DDiJwXzTuM3', 'title': 'Most talked about paper in AI community today is from Meta, which ...', 'content': 'Most talked about paper in AI community today is from Meta, which is not posted on their platform as usual, but here is the Bluesky link. Byte Latent Transformer (BLT) – A LLM architecture that scales better than Llama 3 using patches instead of tokens https://bsky.app/profile/artidoro.bsky.social/post/3ld7apw6ju22y Thread Most talked about paper in AI community today is from Meta, which is not posted on their platform as usual, but here is the Bluesky link.Byte Latent Transformer (BLT) – A LLM architecture that scales better than Llama 3 using patches instead of tokensbsky.app/profi… I remember reading Elon Musk was really high level in games which would have taken hundreds of hours of grinding to get there. Privacy Policy', 'score': 0.33154216, 'raw_content': None}], 'response_time': 3.19}), ToolMessage(content='[{\"url\": \"https://x.com/universeinanegg?lang=en\", \"content\": \"·. Jan 26. New goal: publish enough in every genre I care to so that I can ask any new LLM released to help me write \\'in the style of Ari Holtzman\\'. 1.\"}, {\"url\": \"https://twitter.com/universeinanegg/status/1821229923605873003\", \"content\": \"Some sad news: My father died unexpectedly a bit over a week ago. We were close. Apologies for my delayed response times,\"}, {\"url\": \"https://twitter.com/universeinanegg/status/1786601100751343866\", \"content\": \"I\\'m gonna tap this sign every time a new pretraining corpus gets released.\"}, {\"url\": \"https://ci.cs.uchicago.edu/\", \"content\": \"Among the most interesting activities carried out by humans is the act of communication, cooperation, and collaboration with one another. The UChicago Communication & Intelligence (C&I) group is dedicated to understanding these mysterious new machines and their behaviors and to studying new types of interactions that can facilitate humans and AI models to communicate, cooperate, and collaborate with each other. Currently, we’re a team of three human PIs—Ari Holtzman, Mina Lee, and Chenhao Tan. We are passionate about topics such as Understanding the landscape of human-human, human-machine, and machine-machine communication Characterizing, theorizing, and building AI models that generate human-interpretable media such as texts and images Studying the effect, potential, and hazards of information ecosystems consisting of humans and AI models.\"}, {\"url\": \"https://x.com/universeinanegg/status/1874683146928894263\", \"content\": \"Ari Holtzman · @universeinanegg. Felix\\'s papers, little blog posts, and tweets were a window into someone actually, actually try to make sense\"}]', name='tavily_search_results_json', id='24982aa3-d1e9-43cd-b736-d14f0a037060', tool_call_id='call_2v5MmyJ3XPHtRhha4yy7mYmh', artifact={'query': 'Ari Holtzman latest Tweet', 'follow_up_questions': None, 'answer': None, 'images': [], 'results': [{'url': 'https://x.com/universeinanegg?lang=en', 'title': 'Ari Holtzman (@universeinanegg) / X', 'content': \"·. Jan 26. New goal: publish enough in every genre I care to so that I can ask any new LLM released to help me write 'in the style of Ari Holtzman'. 1.\", 'score': 0.7171114, 'raw_content': None}, {'url': 'https://twitter.com/universeinanegg/status/1821229923605873003', 'title': 'Ari Holtzman on X: \"Some sad news: My father died unexpectedly a ...', 'content': 'Some sad news: My father died unexpectedly a bit over a week ago. We were close. Apologies for my delayed response times,', 'score': 0.48630774, 'raw_content': None}, {'url': 'https://twitter.com/universeinanegg/status/1786601100751343866', 'title': 'Ari Holtzman on X: \"I\\'m gonna tap this sign every time a new ...', 'content': \"I'm gonna tap this sign every time a new pretraining corpus gets released.\", 'score': 0.4434805, 'raw_content': None}, {'url': 'https://ci.cs.uchicago.edu/', 'title': 'UChicago C&I', 'content': 'Among the most interesting activities carried out by humans is the act of communication, cooperation, and collaboration with one another. The UChicago Communication & Intelligence (C&I) group is dedicated to understanding these mysterious new machines and their behaviors and to studying new types of interactions that can facilitate humans and AI models to communicate, cooperate, and collaborate with each other. Currently, we’re a team of three human PIs—Ari Holtzman, Mina Lee, and Chenhao Tan. We are passionate about topics such as Understanding the landscape of human-human, human-machine, and machine-machine communication Characterizing, theorizing, and building AI models that generate human-interpretable media such as texts and images Studying the effect, potential, and hazards of information ecosystems consisting of humans and AI models.', 'score': 0.33528608, 'raw_content': None}, {'url': 'https://x.com/universeinanegg/status/1874683146928894263', 'title': 'Ari Holtzman - X', 'content': \"Ari Holtzman · @universeinanegg. Felix's papers, little blog posts, and tweets were a window into someone actually, actually try to make sense\", 'score': 0.33024487, 'raw_content': None}], 'response_time': 3.29}), ToolMessage(content='[{\"url\": \"https://x.com/lukezettlemoyer?lang=en\", \"content\": \"Excited to share that the 4th Knowledge-Augmented NLP workshop will be held at NAACL-25. Stay tuned! Quote.\"}, {\"url\": \"https://twitter.com/lukezettlemoyer/status/1003662931479941120\", \"content\": \"Come see Julian Michael presenting his work in question answer meaning representations, now at @NAACLHLT ! Image. 3:41 PM · Jun 4, 2018.\"}, {\"url\": \"https://www.linkedin.com/posts/leylinepro_luke-zettlemoyer-activity-7244364962268119040-jSxU\", \"content\": \"Adam is currently a Postdoctoral Research Scientist at Columbia University in the Causal Artificial Intelligence Lab. Learn about his path through open source to scikit-learn as well as his current research: https://lnkd.in/e_Q7DXiz AI Chatbots Have Thoroughly Infiltrated Scientific Publishing One percent of scientific articles published in 2023 showed signs of generative AI’s potential involvement, according to a recent analysis BY CHRIS STOKEL-WALKE Amanda Montañez; Source: Andrew Gray Researchers are misusing ChatGPT and other artificial intelligence chatbots to produce scientific literature. . UTCS, UT Computer Science, UT Austin, Computer Science Research, Machine Learning Research, AI Research, Alumni, Graduate Program\"}, {\"url\": \"https://twimlai.com/podcast/twimlai/guest/luke-zettlemoyer/\", \"content\": \"Luke Zettlemoyer | The TWIML AI Podcast Skip to content Podcast Podcast Luke Zettlemoyer Professor, Research Manager University of Washington, Meta Connect with Luke Luke Zettlemoyer is a Professor in the Paul G. Allen School of Computer Science & Engineering at the University of Washington, and a Research Manager at Meta. Luke received his PhD from MIT and was a postdoc at the University of Edinburgh. Podcast Episodes © 2025 CloudPulse Strategies All rights reserved About TWIML Our Policies Privacy Policy Media Policy Popular Content Podcast Episodes Podcast Series Podcast Topics About TWIML Our Policies Privacy Policy Media Policy Popular Content Podcast Episodes Podcast Series Podcast Topics © 2021 CloudPulse Strategies / All rights reserved\"}, {\"url\": \"https://linguistics.washington.edu/people/luke-zettlemoyer\", \"content\": \"Luke Zettlemoyer | Department of Linguistics | University of Washington Main menu Department of Linguistics Graduate Students Graduate Students Alumni News Programs & Courses Programs & Courses B.A. in Linguistics Minor in Linguistics Linguistic Society at UW M.S. in Computational Linguistics Ph.D. in Linguistics Courses Courses Research Resources UW Working Papers in Linguistics Labs & Groups Labs & Groups Computational Linguistics Linguistics Fieldwork Lab Linguistic Bias Working Group Linguistics Society at the UW Treehouse Meetings (Computational Linguistics) Lab & Group Events Share News with Us Resources Resources Financial Resources and Approvals UW Resources Non-UW Resources For Faculty & Staff For Faculty & Staff Conference Room Calendar Resources & Related Links Computer Science and Engineering Support Linguistics Department of Linguistics\"}]', name='tavily_search_results_json', id='7025326d-4f8b-4c4b-8e0e-0d96739fbfaa', tool_call_id='call_pFAnGAFxGfOyeZiDhXvwQdej', artifact={'query': 'Luke Zettlemoyer latest Tweet', 'follow_up_questions': None, 'answer': None, 'images': [], 'results': [{'url': 'https://x.com/lukezettlemoyer?lang=en', 'title': 'Luke Zettlemoyer (@LukeZettlemoyer) / X', 'content': 'Excited to share that the 4th Knowledge-Augmented NLP workshop will be held at NAACL-25. Stay tuned! Quote.', 'score': 0.66777676, 'raw_content': None}, {'url': 'https://twitter.com/lukezettlemoyer/status/1003662931479941120', 'title': 'Luke Zettlemoyer on X: \"Come see Julian Michael presenting his ...', 'content': 'Come see Julian Michael presenting his work in question answer meaning representations, now at @NAACLHLT ! Image. 3:41 PM · Jun 4, 2018.', 'score': 0.6205532, 'raw_content': None}, {'url': 'https://www.linkedin.com/posts/leylinepro_luke-zettlemoyer-activity-7244364962268119040-jSxU', 'title': 'LeyLine on LinkedIn: Luke Zettlemoyer', 'content': 'Adam is currently a Postdoctoral Research Scientist at Columbia University in the Causal Artificial Intelligence Lab. Learn about his path through open source to scikit-learn as well as his current research: https://lnkd.in/e_Q7DXiz AI Chatbots Have Thoroughly Infiltrated Scientific Publishing One percent of scientific articles published in 2023 showed signs of generative AI’s potential involvement, according to a recent analysis BY CHRIS STOKEL-WALKE Amanda Montañez; Source: Andrew Gray Researchers are misusing ChatGPT and other artificial intelligence chatbots to produce scientific literature. . UTCS, UT Computer Science, UT Austin, Computer Science Research, Machine Learning Research, AI Research, Alumni, Graduate Program', 'score': 0.39131343, 'raw_content': None}, {'url': 'https://twimlai.com/podcast/twimlai/guest/luke-zettlemoyer/', 'title': 'Luke Zettlemoyer | The TWIML AI Podcast', 'content': 'Luke Zettlemoyer | The TWIML AI Podcast Skip to content Podcast Podcast Luke Zettlemoyer Professor, Research Manager University of Washington, Meta Connect with Luke Luke Zettlemoyer is a Professor in the Paul G. Allen School of Computer Science & Engineering at the University of Washington, and a Research Manager at Meta. Luke received his PhD from MIT and was a postdoc at the University of Edinburgh. Podcast Episodes © 2025 CloudPulse Strategies All rights reserved About TWIML Our Policies Privacy Policy Media Policy Popular Content Podcast Episodes Podcast Series Podcast Topics About TWIML Our Policies Privacy Policy Media Policy Popular Content Podcast Episodes Podcast Series Podcast Topics © 2021 CloudPulse Strategies / All rights reserved', 'score': 0.24547864, 'raw_content': None}, {'url': 'https://linguistics.washington.edu/people/luke-zettlemoyer', 'title': 'Luke Zettlemoyer - UW Linguistics Department', 'content': 'Luke Zettlemoyer | Department of Linguistics | University of Washington Main menu Department of Linguistics Graduate Students Graduate Students Alumni News Programs & Courses Programs & Courses B.A. in Linguistics Minor in Linguistics Linguistic Society at UW M.S. in Computational Linguistics Ph.D. in Linguistics Courses Courses Research Resources UW Working Papers in Linguistics Labs & Groups Labs & Groups Computational Linguistics Linguistics Fieldwork Lab Linguistic Bias Working Group Linguistics Society at the UW Treehouse Meetings (Computational Linguistics) Lab & Group Events Share News with Us Resources Resources Financial Resources and Approvals UW Resources Non-UW Resources For Faculty & Staff For Faculty & Staff Conference Room Calendar Resources & Related Links Computer Science and Engineering Support Linguistics Department of Linguistics', 'score': 0.14541878, 'raw_content': None}], 'response_time': 2.66})]\n",
            "\n",
            "\n",
            "\n",
            "Receiving update from node: 'agent'\n",
            "[AIMessage(content='Here are the latest tweets or highlights from the authors of the QLoRA paper:\\n\\n1. **Tim Dettmers**:\\n   - Tim Dettmers has shared insights on his work related to 8-bit CLIP training and the release of LLM.int8(), which is an 8-bit inference method that saves memory without degrading performance. You can find more details on his [Twitter](https://twitter.com/Tim_Dettmers/status/1661379354507476994).\\n\\n2. **Artidoro Pagnoni**:\\n   - Artidoro Pagnoni has been involved in announcing recipients of LLM Evaluation research grants. More information can be found on his [Twitter](https://x.com/artidoropagnoni?lang=en).\\n\\n3. **Ari Holtzman**:\\n   - Ari Holtzman has expressed a personal goal related to publishing in various genres to utilize LLMs for writing assistance. You can follow his updates on [Twitter](https://x.com/universeinanegg?lang=en).\\n\\n4. **Luke Zettlemoyer**:\\n   - Luke Zettlemoyer is excited about the upcoming 4th Knowledge-Augmented NLP workshop at NAACL-25. More details are available on his [Twitter](https://x.com/lukezettlemoyer?lang=en).\\n\\nThese links provide a glimpse into their recent activities and contributions in the field.', additional_kwargs={'refusal': None}, response_metadata={'token_usage': {'completion_tokens': 287, 'prompt_tokens': 3371, 'total_tokens': 3658, 'completion_tokens_details': {'accepted_prediction_tokens': 0, 'audio_tokens': 0, 'reasoning_tokens': 0, 'rejected_prediction_tokens': 0}, 'prompt_tokens_details': {'audio_tokens': 0, 'cached_tokens': 1152}}, 'model_name': 'gpt-4o-2024-08-06', 'system_fingerprint': 'fp_50cad350e4', 'finish_reason': 'stop', 'logprobs': None}, id='run-12749cd4-b520-42be-b64f-e78074b9f6f9-0', usage_metadata={'input_tokens': 3371, 'output_tokens': 287, 'total_tokens': 3658, 'input_token_details': {'audio': 0, 'cache_read': 1152}, 'output_token_details': {'audio': 0, 'reasoning': 0}})]\n",
            "\n",
            "\n",
            "\n"
          ]
        }
      ],
      "source": [
        "inputs = {\"messages\" : [HumanMessage(content=\"Search Arxiv for the QLoRA paper, then search each of the authors to find out their latest Tweet using Tavily!\")]}\n",
        "\n",
        "async for chunk in compiled_graph.astream(inputs, stream_mode=\"updates\"):\n",
        "    for node, values in chunk.items():\n",
        "        print(f\"Receiving update from node: '{node}'\")\n",
        "        if node == \"action\":\n",
        "          print(f\"Tool Used: {values['messages'][0].name}\")\n",
        "        print(values[\"messages\"])\n",
        "\n",
        "        print(\"\\n\\n\")"
      ]
    },
    {
      "cell_type": "markdown",
      "metadata": {
        "id": "CXzDlZVz1Hnf"
      },
      "source": [
        "####🏗️ Activity #2:\n",
        "\n",
        "Please write out the steps the agent took to arrive at the correct answer."
      ]
    },
    {
      "cell_type": "markdown",
      "metadata": {
        "id": "v7c8-Uyarh1v"
      },
      "source": [
        "## Part 1: LangSmith Evaluator"
      ]
    },
    {
      "cell_type": "markdown",
      "metadata": {
        "id": "pV3XeFOT1Sar"
      },
      "source": [
        "### Pre-processing for LangSmith"
      ]
    },
    {
      "cell_type": "markdown",
      "metadata": {
        "id": "wruQCuzewUuO"
      },
      "source": [
        "To do a little bit more preprocessing, let's wrap our LangGraph agent in a simple chain."
      ]
    },
    {
      "cell_type": "code",
      "execution_count": 19,
      "metadata": {
        "id": "oeXdQgbxwhTv"
      },
      "outputs": [],
      "source": [
        "def convert_inputs(input_object):\n",
        "  return {\"messages\" : [HumanMessage(content=input_object[\"question\"])]}\n",
        "\n",
        "def parse_output(input_state):\n",
        "  return input_state[\"messages\"][-1].content\n",
        "\n",
        "agent_chain = convert_inputs | compiled_graph | parse_output"
      ]
    },
    {
      "cell_type": "code",
      "execution_count": 20,
      "metadata": {
        "colab": {
          "base_uri": "https://localhost:8080/",
          "height": 105
        },
        "id": "orYxBZXSxJjZ",
        "outputId": "76be837b-6424-4516-8f63-07fbd8c25bf5"
      },
      "outputs": [
        {
          "data": {
            "text/plain": [
              "\"RAG stands for Retrieval-Augmented Generation. It is a technique used in natural language processing (NLP) that combines retrieval-based methods with generative models to improve the quality and relevance of generated text. Here's how it works:\\n\\n1. **Retrieval**: The system first retrieves relevant documents or pieces of information from a large corpus or database. This step is crucial for grounding the generative model in factual and contextually relevant information.\\n\\n2. **Augmentation**: The retrieved information is then used to augment the input to a generative model. This can involve concatenating the retrieved text with the original input or using it to inform the model's understanding of the context.\\n\\n3. **Generation**: Finally, a generative model, such as a transformer-based language model, uses the augmented input to produce a response or generate text. The inclusion of retrieved information helps ensure that the output is more accurate and contextually appropriate.\\n\\nRAG is particularly useful in applications like question answering, where the system needs to provide accurate and contextually relevant answers by leveraging both retrieval and generation capabilities.\""
            ]
          },
          "execution_count": 20,
          "metadata": {},
          "output_type": "execute_result"
        }
      ],
      "source": [
        "agent_chain.invoke({\"question\" : \"What is RAG?\"})"
      ]
    },
    {
      "cell_type": "markdown",
      "metadata": {
        "id": "f9UkCIqkpyZu"
      },
      "source": [
        "### Task 1: Creating An Evaluation Dataset\n",
        "\n",
        "Just as we saw last week, we'll want to create a dataset to test our Agent's ability to answer questions.\n",
        "\n",
        "In order to do this - we'll want to provide some questions and some answers. Let's look at how we can create such a dataset below.\n",
        "\n",
        "```python\n",
        "questions = [\n",
        "    \"What optimizer is used in QLoRA?\",\n",
        "    \"What data type was created in the QLoRA paper?\",\n",
        "    \"What is a Retrieval Augmented Generation system?\",\n",
        "    \"Who authored the QLoRA paper?\",\n",
        "    \"What is the most popular deep learning framework?\",\n",
        "    \"What significant improvements does the LoRA system make?\"\n",
        "]\n",
        "\n",
        "answers = [\n",
        "    {\"must_mention\" : [\"paged\", \"optimizer\"]},\n",
        "    {\"must_mention\" : [\"NF4\", \"NormalFloat\"]},\n",
        "    {\"must_mention\" : [\"ground\", \"context\"]},\n",
        "    {\"must_mention\" : [\"Tim\", \"Dettmers\"]},\n",
        "    {\"must_mention\" : [\"PyTorch\", \"TensorFlow\"]},\n",
        "    {\"must_mention\" : [\"reduce\", \"parameters\"]},\n",
        "]\n",
        "```"
      ]
    },
    {
      "cell_type": "markdown",
      "metadata": {
        "id": "VfMXF2KAsQxs"
      },
      "source": [
        "####🏗️ Activity #3:\n",
        "\n",
        "Please create a dataset in the above format with at least 5 questions."
      ]
    },
    {
      "cell_type": "code",
      "execution_count": 21,
      "metadata": {
        "id": "CbagRuJop83E"
      },
      "outputs": [],
      "source": [
        "questions = [\n",
        "    \"Who is the current world chess champion?\",\n",
        "    \"What is the capital of France?\",\n",
        "    \"Who is the current president of USA?\",\n",
        "    \"Best Brand of acoustic guitar?\",\n",
        "]\n",
        "\n",
        "answers = [\n",
        "    {\"must_mention\" : [\"Guskesh\", \"Indian\"]},\n",
        "    {\"must_mention\" : [\"Paris\"]},\n",
        "    {\"must_mention\" : [\"Donald Trump\"]},\n",
        "    {\"must_mention\" : [\"Taylor\", \"Martin\", \"Yamaha\"]}\n",
        "]"
      ]
    },
    {
      "cell_type": "markdown",
      "metadata": {
        "id": "z7QVFuAmsh7L"
      },
      "source": [
        "Now we can add our dataset to our LangSmith project using the following code which we saw last Thursday!"
      ]
    },
    {
      "cell_type": "code",
      "execution_count": 32,
      "metadata": {
        "id": "RLfrZrgSsn85"
      },
      "outputs": [],
      "source": [
        "from langsmith import Client\n",
        "\n",
        "client = Client()\n",
        "\n",
        "dataset_name = f\"Retrieval Augmented Generation - Evaluation Dataset - {uuid4().hex[0:8]}\"\n",
        "\n",
        "dataset = client.create_dataset(\n",
        "    dataset_name=dataset_name,\n",
        "    description=\"Questions about Chess, France, USA and Guitars\",\n",
        ")\n",
        "\n",
        "client.create_examples(\n",
        "    inputs=[{\"question\" : q} for q in questions],\n",
        "    outputs=answers,\n",
        "    dataset_id=dataset.id,\n",
        ")"
      ]
    },
    {
      "attachments": {
        "image.png": {
          "image/png": "iVBORw0KGgoAAAANSUhEUgAABewAAAEwCAYAAADFDzG2AAAAAXNSR0IArs4c6QAAAARnQU1BAACxjwv8YQUAAAAJcEhZcwAAFiUAABYlAUlSJPAAAP+lSURBVHhe7N17XE/3H8DxF+JLEUNNmwqVEDXkUlaUZrkV2chlrRlyzS1sLrPcpjG5zsx1Zpjf5E6zyLCyEXPJZbJRNpRLRfG15PfHt759O6rvt9jW7P18PHpszufzPd9zPufz+ZzzfZ/P+ZwyNWqYP0YIIYQQQgghhBBCCCGEEP+ossoFQgghhBBCCCGEEEIIIYT4+0nAXgghhBBCCCGEEEIIIYQoBSRgL4QQQgghhBBCCCGEEEKUAhKwF0IIIYQQQgghhBBCCCFKAQnYCyGEEEIIIYQQQgghhBClgATshRBCCCGEEEIIIYQQQohSQAL2QgghhBBCCCGEEEIIIUQpIAF7IYQQQgghhBBCCCGEEKIUkIC9EEIIIYQQQgghhBBCCFEKSMBeCCGEEEIIIYQQQgghhCgFytS3b/RYuVAIIYQQQgghhBBCCCGEEH+vMjVqmEvAXgghxF+iRs2a3Lp5U7lYCFFKSBsVQgghhBBCiNJFpsQRQgghhBBCCCGEEEIIIUoBCdgLIYQQQgghhBBCCCGEEKWABOyFEEIIIYQQQgghhBBCiFJAAvZCCCGEEEIIIYQQQgghRCkgAXshhBBCCCGEEEIIIYQQohSQgL0QQgghhBBCCCGEEEIIUQpIwF4IIYQQQgghhBBCCCGEKAUkYC+EEEIIIYQQQgghhBBClAISsBdCCCGEEEIIIYQQQgghSgEJ2AshhBBCCCGEEEIIIYQQpYAE7IUQQgghhBBCCCGEEEKIUkAC9kIIIYQQQgghhBBCCCFEKSABeyGEEEIIIYQQQgghhBCiFJCAvRBCCCGEEEIIIYQQQghRCkjAXgghhBBCCCGEEEIIIYQoBSRgL4QQQgghhBBCCCGEEEKUAhKwF0IIIYQQQgghhBBCCCFKAQnYCyGEEEIIIYQQQgghhBClgATshRBCCCGEEEIIIYQQQohSoEyNGuaPlQsL54CHnw2m6hRO7IolUZkshBBC6KhRsya3bt5ULjZAzvlGd1EJzz1WPiFMCvDG1hTS4tfiN3qtMsu/n6MHvm7taG95l2NRe1gbFa/MIUSBSt5GlYrbZi1x7dwUMxWor50gMjZJmUEjt26bJ7Pv0AG2FVW3rV3wbm6GSndZ+qX8n/GaxJqRHqiOz6T31GjdnCVm5eJNUwtIiYsk5oolAeHzeds2mY3Dh7D8ijL338fBywfbfAck110SIqIpoiQNk1PeFHX8npZ1AAs/CcA2eSODh64opC79vaxcvGnn5oED8URGriX6lDKHJa6dPXB1c4DzkexZoyxrS3zHTORtbzuqkkb8+h4Er9GkWLl44+vdEfPkPezZGUnMX1Z//qLfdNYueHu0waMBxD+Tc1H+7axSaJ2G9ITtBRwLIYQQQoh/p2IG7MPYd6UntumxzGjSh+XK5L9MT0LC22CVeZqNk1YQo0wWQghRKpU8GJhzvlEuzkohbuUE/GYZGmgbRsS5EJobgzpTTVLUO7QfEavM9C/mweSNoQS4WOYPUt6OZ+24LkyJ0l1YFBcGzvSniXESMaPnslGZ/BRcg0Lxb1CNxNiRzN2kTBX/tJK3UaVitlm3BRxa54MVQEo0E5z7K+pdIXU75TjL3+vBjILq9oD1nJ7ikv+mATlB+7B3CF6XBLOjuNLbBi5swrrDBGXOEhm48SSTXSBmuhO9VwSw4UQortXTiZnqRO+cQOw/IWz/b/jbKJcCXGKjtRdPvfc55U3sTJr4r1CmlkAB/VDgek6HumB6O5YpTfvwz95utWTgus1MdjPTWaYmMWoufd/NuZlgPYA1X4XgYalTa9VJRH/Sl8BlOTc1Rm7mlzHNUGWpUT+6SuS7XgQf8mD6jvkEOOrU3qx04teNotMzurGU37P/TWcVtJ6I8S6YGeUtUydFM6dv/6e4cZV/O20LrdOQsKku7ccplwohhBBC/Dv9S6bEaU5HPx98fTxxUCYJIYR4fmVeIjpiO9sithMZm0S6kRnNg0JZ6KbMWIgBbbAzBq5sx6thg+csWA8D181noIslKnUScbs05RR9IR2qOxCwaDMh1spPFMYBTx8ffP28aapMekoOHt3w9fOhYwtlinguGdhmXXs2xQrNjTTMGuPdM396oXXbrBkD56xnYFF1O+U423K2IfpCOpja4DtpPiMA3nuH3kNHEhjy1OHqQqyl99v9CR46mAn/YLA+j5qEaE1Z5P1FckKZrVQooB9a0wf/d0cSNHTCPxysByYuZZybGdw+ztqpIwmeupa42yqsvEKYP1KTZcQnmmB9+vG1TBk9krkRl0hXWeIxPIyBOasZ6GKLCkjc/hr163sRfAhcF4US4GiK+lqsZt0fR5L4yBSHwDDWKNpG6TSJz8a6YGaUTtyaqQSPnsra4+moLD0Y98kwZeYSOxGprMvbib8NoEZ9R5lbvz17dnHlym8F/n333V5ldiGEEEKIv81TBuyHsWxvFPuWDcNj4ir2HTnJ6SNRrJmSM2IK8J29mX17NxPWM4CF3xzk9LmTHPpmAQGOeWsZsSyKfXuXan5IAeBD2De5y4axbK8HlgDGDgTsjWJZzkWxEEKI51xWMj+MHknw6JEE+buzMDYdsKSpn2VOBksCZq5n9+GT/HLiILs3hmnPL76zN7MvwEEz2tbMhdU65w+rfqFs2JFzTtqxnrDAvNvB2vNW0CTW7D/JL4dXEQCAByOWbdae6yKWheCrEzTUnsu8JrFm70+cPv0T+9ZMypcHHAgI16xDs72hBORLL/o78nFbQICbKWQlsW2oO35DNeUU2KELi46rwbgZ/qGaSI92n/zyPq7Z3s2E+fkQ9k0AjY0BatN+bxQRs30MOsfjF0aENn+OkUvZl7PMd/ZmAuw1I0Yt3aLY900Yvnk5xfNIb5sFcMHfyRJIInpnAmBGc78BeclF1O21Z4HqLvgP112fQnoCwTnbENhhMJFJgLEtrgMAv+GEjAxmRB9NnTXkOhU9fYbSiGGTCB4ZoKnr2jbSk4DwzRw6cZ7ThzezUPl5r2Es+yaKY6dPcmz/ZpaN0WlnT0VN8mFNWeT9zWUj3kzfGMW+veuZrHszpadme/etmUTznCnFNNt1ntOHo4gIDyh08EzR/UzOAscAwjbu1JTDkSh2a/vIwvuh4PHBjAvU6WP09KOG9cXF521trgm0HxjFlDXb2bZmKot+SgFUVK0N0JPGtUCdGc/W7lNZG7GdRaPfIfoKYGqObc7vm9w+8UWX1Tm/dVx4u6klkEL05D6adS8ZQt9tl55sG4UptFxzWPswec1ODp04ybG9q5jsU1EnUUPfsS4y3bs25irgygFGTV3Ltoi1TFkSQwqgqq5bk/Wc4/Rs58aPFXU5tgrm1YGUGNbOypfVIO+/P5Fevfzz/UVGRgJgaVlbmV0IIYQQ4m/zlAF7K2ztbbB1HcTCd12xrKrC1MIGjwEf89kUzQ8p8zq22No70On9ifg6mqMqZ4pVCx+mf5U38q+2nQ229nbkXRaZY2Wfu8wcS0tTzePQRqa8aFkbS3NtRiGEEP9ZlgzcuJPp/VxwqKEmKaMqDi49mf7NTiZbQ1UzMyxr5UwvUMEUy5zzh1XQenbNDMC1kTnqa2lUa+SCf+hmdivOW91HDcDDWgVGoMKDsP1LCfFuhq0qjWRq09x7GAu/Xop/ztZozmWuDJozAFdLU1TGZth6DGDOZ5NyAm8ehO3fzHS/ZthWV0FFcxxcApi+NXe0sP7vyKezg2aE8qntBOebHiSJuV9qAiVmjb3x1e6TLVbV83JpttcWq+rVeLGWOaZGACpMLWtjZlatwHO8yswGjwEL+GqRh2Yl1S2xs7fBro7Oibm2HbY5y6qamfFiziFQVa+NZS0zqublFP9VbgE0tQZSEti9OJ4EwNSpY97AjSLq9pSOdbG2rkv7cYbOmR5L6kMAFSrTJ+usIdep+voMpXzXtTnf1/j1SUz2ceBFExWmls3wDV2dN3LaK4x9n4bg3cIGVVoKWDTDe+QCIpb9lUOrI4l/YIqtvQuv93bRLvXv5EFzexsq3N1PnFcYq+cOw7tFbUi5SqqJDc39QtmyJaTAmwlF9zOa6WI2fBGKv4sD1TKukkxtHDwGsPCrpXigpx+yy/1Gff2oIX1xyUQeTSAdsGqeE2S29qF7QzMghaSjAJsIerUB9Rt2YYr2Uz7UNgOyHnCXarxYq3b+PtHSEnPsMDUBeID6ovaDJKY/AMDU3C5vYUGKLFcAF8KWf8xADwesTFWYWroyMOx1zWCoXPqOtb70yDgu3gZebkqIj6Vmnv7ODpgBKb/F5XyJvnOcAduZjyXT3/HADDXx26aWaCq3n38+yZEjP2r/7O0b4O3tDUDZsk/5M1kIIYQQ4ik8mysR4zSigxpQv2EDAnclASpsm/XSyaBCdf1rOtVvQP36XVh7Vg2mzfANyfuBULipdGq4jQSA9FjmNGxAp0nKPEIIIZ5PKl7088HXL4CQ8M0ENTMFUrgUmwR+oQS5mMKV7QQ2bEn7V50IjEgClQPdPvBh7bvu1P84lnSAK9uo37ABnSb5MG2gC6ZZSWwLaoCzpztNgraTmKXCwTdUZ/S3CnX8XDrZNKB+6/4snzIWfxsV6bEzcWvqTvvWrzEjNh0svAnIi8wApqQe6E/9hg2oHxRJIqCq04yeADnr4Mp2Aus3oH7DnHWYONCxV166/u/QGFhHM49yUsJcZRJEpJAGoKqI/nvcawl8dS4x6QCX2NKwAW7v6kw+Yaombupr1G/YAK+p0aQAVl7DdZ6KK9zad92ZczQdgIRtDaj/av9/floL8Rcros3mcO2tCcinJ8Sw7cpW4q9onqL0yHkCpqC67RoUysLwBdq/6UGGXEOCQ+BSXK0Bkrl6VJmaq6jrVEP7jKKpjOKZ49mA+vXdNU/AYIZNO80+TB7bE1tVOjGz3GnyqhfO3jOJSQczrwAmK1dUbKa4TlFM97E/DICNu89o2rNjAK4A9MS7sRlkxXNgbizNq6dwLCqWyCWv4ezphVvTJcRlgqqBi6ZPKy4rSDgQTfSmCTR51Yv2rd/RPP1g6YC/m55+KFdh/Wh1F4JynijSKKIvLqkVfQheEUtKLR8WHvyNKwcX4FsrhZgVEwgs8P0cDozYOIjmxpByYC0zWEvgqw3y94kNuzCFtcRcUgOWeIQN04xadxzGBr+c8etGFWmeb70KRZYr0HMg7e1VkB7LDM+c32uRyfneDaHvWOtLhxX0HreCmBRzfBcd5MqVgyz0MycldgXj3s0pHH3nOAO2M5+eoXRslDO6frqhN/AKN2jQQKZN+5CZM2cxZsxYZbIQQgghxN/q2QTsfz/B3JwRUNHHr5IOqKrmfyHTme+mEg9APFO+i0cNWNl66uQRQgghFEybMTB8AQvDQxnh1wyzcmoSdi3mg02AixVmgNrYgcl7o9i3N4rJThVRA2Z12yjXlKMNlmbAw4o4jNd8Zt94Byo9BMyscoJWAOmc+W5JznkLBjrkjPGr7c/qvVHs27sa/5zHwiwddKcrSOLE/JwXBEbFcTUdMK6Kmc46En4ciSZHEsv9nbCu74Tfx8X5Dg11lua/FYwKH3/4TCTF8fk6TTAkcd1y4pIAY0ua60x7IYRWUW0WAB8GtbTUtLGoFUAsG09qBns0bhcChdTt3Hch5P518yhsYhbApqc2OL071BsrIzUpkWsJPqTMmKuo61RD+4yipcfvz3nxZhJzE64CUK26AzAAh9pAFtTusVqz/uX+mtH5RpYU0PQJ268IwJ9er50fvSDpVy6RcEHn72KiJmHTcmKuaAK7b7sBPb1pbAb8EsfyKxC3aS4TPlvOGZMQlm3cyb79PTVT1uT0acV2aAVT5i8nMqU5C9dsZt/eMFwtAapiaq/MXLAC+9HIeNIBMyvdsHbhfbGSweU5YClz3nLBrFw6CbGRRB9NIr2cGa5vTSLMS5nZgREb1xPiYor60qa8oHUhFn32NfHpYOoSwu4rv3FlRwjNUy5pXmSb9YC4nJcb559nPYowDCjXFppzZV4dhOjRsZrBUDn0HWt96TCAZTPewtVCRfqlWCKjj5OYrsLM5S0mz9GM89d7jjNgO/M8/eh6XaNGBTNp0kRmzpzF558/i1fwCiGEEEI8nWcTsM96oLmgLJQatWYwiUa6GjWgeTZZCCGEKET6cZaPHknwvFhSAB7Gsydsbf5zTk5wT/P/6STpBqQMlJZ0iYQLF9GE0XI80v1Hjmyd/89MIeHCJS5eTtZZ+JD7OYGGEtP7HRprL2iC6FYNNDPs5zPAUjOyPi1Ne9OhxB6mE6P9h870IjrTXgihpa/N+nXTBIV1Rn5v8NEE8lSO7Zicr24P0E5h8u2CCZo5qzdogulFymk3CRcuERe9iUXjeuActEKZS0fxr1ML7DOeoYfXLpFwIYHE28qUAl68GXmcJ3uIXOmcWetF+w46f0FLctJyb5ZY0qi3C/6dGmOGmrjvppKYMxXQ6R2rCAn0wcPBHDKSuZGpWH1xeIWx77v1hA3riXcrWyqQQnKKMlMJXEojFc3UZ3k3UAzviw0rT0vC+nhjplITv7IL7f2HEPiGO53XxYPKBv+xuo//5g/WB3lOyLm5UISoqXTqMpJFG7YTuSuSjQtG4rUpmWqAOk1TSPHRW/Nv564fNMHsZ1Cu+o613vQ5/nhbqFCfWkFnzz4EBfbArcta4rNU2PqNzf+kiIHnuCI9w9H1kyZNZPTo0XzwwYcSrBdCCCFEqfFsAvZ6mWLXIme+W8CjhS2mQPofumEEU17MfU7V2pKqxjpJQggh/qPU3IjYzrYFE9h6NudFqh/knCyupWmCatci8wJRA6cw5+OROgEppRTSMgGS2KMNYL3DlAUzCe4whEXK7Dnib6cBkHpmSt53hcxkztR38HtvuzJ7gXLXUdUsb1IGq/Gr2L1xKSE9S/Ada+OIzwIa9WRDkO4oew8WBrhgCiSeWKsTbDelqmVuvp7aeZT1snBgcu5LAa0n0cQCIIVEnfinaVVLbWDV38zQFYvnUxFtFvD3aax5MuZSdL7gY9w1wMgB11BLnbrdjbCcup0YG8m2iLu4trRFBSRd+FbnOxWuRWvbkF/gBOZu0nfbqqjr1JL1GYaLJz0NMErj7PS8oHrwx3OZMrAHEyKU+Qt48ea4uWxTZjJQzNxo4rPAqsFAzXQ4mfFEz9OkDevhginpxM1zp36TlrTvupWrujdIC1R4PxMQ6I2tChIjulC/oRNuHUYRX8wbAAX2o145/c/dqzr9neEMK08PrF4AUJOWnBcgTvwjXTPtmplNzvRIJQjWA9O3nOeXyMk0vzaSoKFDmDDvBK97aV6annDqawBilk3Nv51Dp7LckHLNnQtfp5/W3tTNoe9Y60tvZ6EZZ6/OuJF3c+5KkqbtGJlj62fAOc6A7dR4dqPrR48ezaBBA/nww2l88cUX2uWPHz8mO1v3zoIQQgghxN/rbwrYg5lXGLs/XcDCT3cyx8sMSCFuu2Zuyqu3NXN5ekyJYk34UiK+7ojtQ91P5/xYMq6NZ/gCQp5qAkohhBD/PknM+CSaRMCs3SDC3IB5e4i7Dapmb7FvWQgBgSEsW/4Zy1bu5NgyH+UKcsxlT1w6GDfj7b1LCQkMIGTZapZ9uordR5YWOh91zIZYEtRg5bWAiNnD8B0WRsTnS1m28Tt2T1TmLljuOsw8JrE7PISQ0PV8NcADB5fmNC7Jd1yZypyIS6gxxXXidxzbr5mu49DpVZoXIt6OZe2IWADiUzSBEofeXxHx6QLW7J1EcxPdcco5QUPMaPKpYn5wYwcCvlzPwvAFbPjyLRyMQX02miUAF1I0I1sb9eKrb5aycE0Uk5qb5hsBnRukMW+8lIUzBxg8hYj4tyugzebOkU46cev75ws+jjp0CQCHlgOwKqxun1ilmb/8dixbpj7dqFqlwq9TS9ZnGC6WLw5fQo0lHnM2EzbMhxGzN/PFp0vZ8N3OZzKHfeOAnKl8tH9L895BcWUFcb8A1h54mEHKj19rb0KkZKgBU8waad5JMH3jIFyLuB+nr59J0HQyVLPtSYCfDyPCV+OdezMQiu6HchTYj/Z2ANKJ2TxTmf0ZWsu24ymaJ0MG72Th+AACxi9l33DNzdGUk5FsAwau0wTryUrnBs2107Xt27uZsCKmEVt+PAGMzXAd9hO71yxgzY7NjHMxNaiu6y3X6XuIy9T00xHfLGVh+Cr2jdRsdy59x1pf+trtcaQApi0GsTs853y8d4QmT8oZIiMMOMcZsJ3wbEfX+/n5MnnyB6xevTrf8qtX/+DiRZ03AAshhBBC/M3+poB9OjHbEzB/3Qffzg6YkU78mrwXNC0aO5foJDWY2uDh543V5U1EX9P9/Fz2HExCbWSJq58P/q8XFogRQgjx3IoawtrYdDCyodOwAVixgt7j1hJ/2xRb72FMDx2Gt70p6afWMi6ogBHpOZb3G8XaU+mY2nszIjSUEd42mN6OZ+3kIQWMqsxxaALvfBJN4iMzmvcOYeH4njQ3g8SouQyepcxciNx1ZJri4DeMEYEuWJXTOR+W4Duix73DuBWxJGaqMLOxwdbeBitTSL+wnSnd+pD7cH/MiKmsPZUOKkuad/bBteIBtp7UDavH8sW3x0nPMsWhsw8B3XTeMXMpki0PmuHr54OrtQp1UjRzBs/UjKI8NJIP1sSTnqXCqoU3vq4ViI44ni9gH7PhW+LSwbSRN77+3ZC31/yHKNts7hzp6fHsV8xQk7g4TjO9R6M2DLMupG5Xf7JuPxtFX6eWqM8ohpj33mFOVBKYNcN//AJCejfD7FES0Z8MYYYycwmYWmvKL+/PTjNHPgBJTPnuOGojgBTO7M6ba33uEs286lbeISwMD6XXS0nE604dpKCvn4kJW0t0khpTxwCmhy8gxC2ZM/nirUX0Q7kK7UdH0buoWY+egY3vTmB5bBLqFxzwHRbK9GHe2BqnkxA5l7dz5qi3fSknvGxkilVOvdX82WJVxDRiidOHMCPiEunlzHDw8MHD0QySYlk+Tn9d11+uSxg1P5pEtQqzFt74+rlS4afYfFPL6TvW+tLZ1J9xy2JJfGiGg5/O+fhSJHP799eMgtd7jtO/nc9ydD2Am1s7vvzyS+VifvrpR7p2ffrbcUIIIYQQJVWmRg3zx8qFz9LAjSeZ7AIx053ovcIBDz9zkiOiSzinrgMeXhAdVbJPCyGE+HvVqFmTWzdvKhc/c1Yu3jS1UJNQnPOLtQvezc1QJ2wn+pQysXAOXj7YqlI4sUsZSDCcvnXoSy+IlYs3TaunFeszT7LE1as2V6NiSSSMfVd6YntpE9aeE7By8aYR8UTGlmxEo5WLB7X/iNa85FKUGn9XG30aJWrfBirWdWoJ+wzDOeDhZ4Pq2okSt7O/goOXD5YZz26brFy8aWqSxLZCr+d1+6HClaSffFYcvHyw5VIR+1BSlrh2booqqfh1zKBy1bNufcdaXzoAjh742lJkey362OnfTiGEEEKI593fHLBXpgohhHie/RuCgaIw+QP24vn0X2+jcp0qhBBCCCGEKG3+8ilx1BlpqDPTUOt9SZUQQgghSo8HqDPVqDM0LwIU4nkk16lCCCGEEEKI0uYvH2EvhBDiv+u/PnpXiNJO2qgQQgghhBBClC5/+Qh7IYQQQgghhBBCCCGEEELoJwF7IYQQQgghhBBCCCGEEKIUkIC9EEIIIYQQQgghhBBCCFEKSMBeCCGEEEIIIYQQQgghhCgFJGAvhBBCCCGEEEIIIYQQQpQCErAXQgghhBBCCCGEEEIIIUoBCdgLIYQQQgghhBBCCCGEEKWABOyFEEIIIYQQQgghhBBCiFJAAvZCCCGEEEIIIYQQQgghRCkgAXshhBBCCCGEEEIIIYQQohSQgL0QQgghhBBCCCGEEEIIUQpIwF4IIYQQQgghhBBCCCGEKAUkYC+EEEIIIYQQQgghhBBClAISsBdCCCGEEEIIIYQQQgghSgEJ2AshhBBCCCGEEEIIIYQQpYAE7IUQQgghhBBCCCGEEEKIUkAC9kIIIYQQQgghhBBCCCFEKVCmvn2jx8qFQgghhBBCCCGEEEIIIYT4e5WpUcNcAvZCCCH+EjVq1uTWzZvKxUKIUkLaqBBCCCGEEEKULjIljhBCCCGEEEIIIYQQQghRCkjAXgghhBBCCCGEEEIIIYQoBSRgL4QQQgghhBBCCCGEEEKUAhKwF0IIIYQQQgghhBBCCCFKAQnYCyGEEEIIIYQQQgghhBClgATshRBCCCGEEEIIIYQQQohSQAL2QgghhBBCCCGEEEIIIUQpIAF7IYQQQgghhBBCCCGEEKIUkIC9EEIIIYQQQgghhBBCCFEKSMBeCCGEEEIIIYQQQgghhCgFJGAvhBBCCCGEEEIIIYQQQpQCErAXQgghhBBCCCGEEEIIIUqBMjVqmD9WLhRCCFG4SpWMMTd/kcqVTSlTpowy+bnz+PFj7t1LJzn5BvfvZyqTi1SjZk1u3bypXCyEKCWkjQohhBBCCCH+rSoZV6RChUqUK1eO5yk8IwF7IYQohkqVjKlXz45r134nNfU22dnZyizPnbJly1KtWnUsLF7m118vFitoL8FAIUo3aaNCCCGEEEKIf5ty5cpRuYop2Y+yuH//AVlZfyqz/KvJlDhCCFEM5uYvcu3a79y+ffM/EawHyM7O5vbtm1y79jvm5i8qk4UQQgghhBBCCCH+NpWrmKJWP+Du3bvPXbAeCdgLIUTxVK5sSmrqbeXi/4TU1NtUrmyqXCyEEEIIIYQQQgjxt6hkXJHsR1k8uH9fmfTckIC9EEIUQ5kyZf4zI+uVsrOz/xNz9gshhBBCCCGEEKJ0qlChEvfvP1Aufq5IwF4IIYQQQgghhBBCCCFEqVeuXLnnchocXRKwF0IIIYQQQgghhBBCCFHq/Rce/C9nbGzyoXJhHktcO7ejWRN7GjTM+atXnfsXr5KmzPpXcvTAt41j3jY0tOel8he4fEOZ8e9h5eJNu5aWGJ27TIoy0UBWPpNYMHcqI94JwNPyDFsPXVNm+dexClrKhvc7UO7HSE7+rRUklwfTNy7m7frX2HrosjLxKVni2vktBg3tQmMjNdf/7jYgSg1z81okJ19XLlZwwMOvMSY5fYSVizculmoSrqZr0wPCP2Pe2EG83d6S+K2HMKgHsHbBu99Agrs48Fh9XWd9eRy8hhE84q+rp4btfx5jY2PuZ2YqFwshSglpo0IIIYQQQoh/k//Cb5gyNWqYP1YuzDOADacn4ap8x6A6ieglQwhcEK9IKAkXBs70pwmn2ThpBTHKZIA5UVzpaaNcSvqptUwePpVtV5Qpf62BG08y2SWFjdZeTFAmGmQYEedCaF4hncQrKZxd70XQCmWe0q4nIeFtsLr2A8EfbwJg8o7zDHRUEzPVid5rlPn/Bn5LORbujdmFTVh3mAA9Q1joYkli7EjmajaxZKwHsObrEDwsVNpF6qRo5vTtz/K/ue6Jf17jxq9w5szPysX5DVjP6bEqvmjYg7lAyJbzvJ0xiyb91gLguuggG3yqkhgbx9kLkQRN1V9BrYJWETHWA7NyatSPVKhUahKj5tL33RUkAlgHsOzLiXhbq1BnqlEZqyAllhk9+jzTemrQ/uuoUbMmt27eVC7Wa+XKFbi4tAZg8+bNTJkyFTs7Wxo1asTly5epUaMmKpWKgwcPYmtrg43Nk+eIXNevXycmJla52GAWFhY4Oztz69bNZ7YegBo1anLs2DGuXcu7XVPYPgK4u7tTqVLFQvfH09OTatWqkpqaxv79+5XJT2XatA+pVcuCOXPmcPFigjL5Ca6uLtSoUZPz58/RoEHDAsvO09MTlUpFUlISNjb1uHz5MgkJl3B3d8fIyOiJssn9TJUqlTl79qxB2/Gs6B6XkydPKZMNUliZDB8+lAEDBlKhQnkSEi7h4+Or/OhfqqRt1NPTExMTk3zHycTEBHd3dwAOHjxIRkYG6NT9jIwMzp0790zaU3F4eLRj0KBB7N+/n+XL/3UXXKXGs+oLdeX2A7r15e9WGrYhl5OTI3Xq1PnL+jgTExPGjBmNq6sLavVDVq5cxY4dO5TZ/nWKe4561kpDH/OstqFjx464uLTi118v8+233z5xHjYxMaFjR2+aNn2FEyd+Zs+eyCfajYWFBa+//jr16tUhNvZH9uzZky+dnPOqu7s71tZWheZ5XjyLawhRtNzrD7Va/cyvgZ9W7vG/e/fe37ZtueVRqVJFZRIAf/6ZVeB1dnHkXtc+7XoK4+TkyKuvvkrNmjU5dOhwscsuOHg4rVq1ZtGiRRw58qMy+S9lYWHBK6+8ws8///xE2ZiYmNCmjSu//fZbsc5XhZW3q6sLtWrVKvT34fOspL9hSsrIqByuru40bNiY1NTb7N8fRUpK4aPIK1c24dVXPahb14arVxP5/vv9pKfnDac0ZH16Rtg3442h7lhejyQ4dBF7vo1kz6k/sWvRkuatnKi8aD2aMMLT8GbcgoG8Zl+e80s3c1yZDNAhgNEORsQtG8/sryLZ8+0RUqo2pqWzK84Wv/H5zgvKT/ylmr8xBHfLTM7MX0uUMtEgbzBovANGP86lRddR7Cxwp0u7AKZ/7odrjTvM/0JTCgdj4jh/eD1hESV97uApndvFD2cusHPNZySlAYHT+OwNF2qkLmDtd8rMhvOd9xlDnVTErxtLj64f8bO1Ox1aN8O2xk+s3nNVmV085wwaYd57CO/VSGL+ql0k4cLbI3qhOtOftTkdhvfbo3DPPkCXzkP46oAhNz57smDZQGxTNjGgeTfGLlrAyZe74d/VFdvE5Ww9B/7zljPEMY3IKV15PWgW8/dn0cqvF2+0q8y2rw4VOdLe2/t1+vTpzfff6+/RDdp/HSW98+3v34uaNWvy/fff8+OPP3H27FkCAwOZNOl9ypYth79/L15//TV+/vln3nyzJyEhY/D2fr3APwsLCzZvjlB+hcE6dHiNjz6aiZWV9TNZz8sv16Z169a89VZfLl68yLlz57V5CtvHWrVeZPbsWbzxRg+aNWvKwYOHSU29o/2cl1d75sz5mO7du+Pg4MDatV9q04rrzTffYODAAZiaVuHs2bM4OTkybNgQ6tevz+nTp7lwQf85NywsjL59e3PvXgbvvTe+wLJbvvxzOnTwoly5cowbNw4jo/Ls3r2b0aNHEhw8AguLWuzenfcDvlevnsyaNYNWrVpx+PBhkpL+vv5Xc1wmYmRUnqiokp35CyuTatWqAfDSSxZkZz9+qmNXEiVto5MmTSQoaBAPHqiJjdX8QOjWzZdZs2bi7f06t2/f4eTJkwAMGNCfKVMmU6tWLe7eTX8m7ak43n47gM6dO1G2bFm2bNnC4MFB9OrVizJl4NKlX5XZnwvPYh+V63hWfaGu5cs/1/Zzf0WbbtasKcHBwTRv3owffihwWNBfvg3FMWbMGEaOHEl6+l1tu3qWxo4dQ//+71CxYiVSU1OJivruH9/n4noW56hnrTT0McptKK7WrVuxevVqAgLe4pVXXsHDox2+vj6kpaURH6+5Vm3duhWff76M3r39cXJyokOH1+jUqSOJiYlcvqx5unnw4CAWLpyPt/frvPLKK3Tu3Im2bdty/Hgct2/fBiA0dCqzZs2iffv2heZ5njyLa4h/K0P64GehRQtnZs+eRatWrf6y66iStOvg4OGEhc2me/duT319Xhy55fHGGz2e+F3k7f06bdu6P/EbpLjCwsIK/C3ztCwsLFi8eBHjx4/Dzc2Npk2b4uvrQ48e3UlNTeX8ecO+a9KkSbzyihPXrv3BjRspjBw5gnbt2pKYmJTvN9SzZGJigq2tDU2bNmXy5IlcuaIZNXf//n3+/PNPnJwcsbS0ZPr0aWRnw82bKahUKu7du6dc1RMKKu933nmHWbNm0Lp1K06c+NngsnleGPIbpoJLIyoH+1Kpexsqdm6l/VO1deTxvQc8umpY7FKlUjFo0DBatHDlzz8fYmlpTZs2bty8eZMbN568YVW9enWGDBlFgwaNePDgPvb2jWjRohWXL/9KWlqqweszbA77rHS2RWzX/C0ZycaT6aAyx7Z3XhYrn0ms2XGQ0+dOcmjHeqb3s9RZgSW+Y5YSsf+nnPRVTPaxBHwI+yaAxsaAsQMBe6NYNlLnYwrq5JxtiFjLFP9oEgCzus01iX5hROyNYtn4ABbu+InT53YyHcAxgLCNOzl04jynj0QRsSwEX+vcNQ5j2d4oImYHEBC+WZPn8GYWBjrkfSngELiAiMMn+eXEQSLCA/KlFcyBgPDN7Dui+czuNZO03+k7ezP79npgCZjaB7Bv72bC/JSfR7OO2evZffgkv5z+iX3fLCXER7dM85f5sf1PbneR6bnlpVveI5cqtke5DQsIcCSn3DT7gIWH9jO+Q0IYN344I7QrtMR3yqoCPl8Iax8mr4ni2OmTHNu7isleucfHB7Rlt1Rn/TBiWRT7vglDMx5xGMHjQwgZ4qPZF7faAFi66eZR7lP+cs1d38CJq9h34jyHVgZQ6UIs2yJWsHbSdhJJYtv8eG4A1czyl7cQmidPFrCmeW3AHP/wBSwMH4htDTXUWsDC8Z+xbG8UAfamYObCap36beUTwrJvojh2+jynD+9kzRQfrLTrbY6lGSTFTSA6Z0n0uDiSMMOyJUAAvs3MSD+6lqB1SZoMp5YwYXs8qvou6Ou1Dh06jJubG5MnT1Qm/aPu37/PV1+t53//+0a77M8//yQlJf+d9PXrv2L06DGMHj2GdevW8fDhn+zatUu7bPHixfny/9P++OPJk7qugvZRV61aL/Lqq23yLfPw8KBq1apkZWXlW14Szs4t8PPrjrNzCwBOnjzF8OHBDBoUxLZt25XZC5WRkcG9e3eVi/O5dy+DjIz8F1orV67i6tXfcXd3p3dvf8i5AO7Z802MjY3ZtWvXv3YESUFlsnfvd4wbN5709KLLqrS5fPkyZcuWoV69utpljo5NMDY2plKlSjRoYK9dbmtrR9myZTl79qx22d9p7txPGDQoiPHjNc9Furu7061bNxo3bqLM+tx4Fvv4LNbxT6tTpw6+vj506NBBmfSf9MIL1Xn8GL74Yi3dunX/V/alz+oc9SyVhj5GuQ3FNXDgQOrVq8u2bdtp1Kgx4eHhGBsbM2DAAExMTAAIDg7GxqYe27Ztp3VrV9av30Dt2pYMGzYEcoKzffv2pUyZMnz44TRat3blu++icHJyZODAgQB07dqVbt26c+fOHYYPD6Z1a1diY4/g5ORIYGBgvm0S/37PUx9c3Hb9wQdTCA4OJi0tldu3SxYg7tevH//730Y8PT2VSVoF5Tl58hQffjhN+1vo8uXfSElJ0S6bMOF9YmOP5FtPaTFjxnTatnXnl19+YcKECQwePJTdu3dTq9ZLjB8/HldXF+VHCjR27FgGDQpi/vyFWFi8SKdOHenUqSMWFi8qsz4z77zzNps3f4O/f0/Kly9P//7v8PXXG+nZsydvvNGDL774gvfee4/y5cvj4dGW7du38s47Jev3+vXry5gxowBYuHARW7ZsVWYRQKXurpSpXEm5mDKVK1Gpu6tycaFcXNywtLRm69b/8cknHzF/fhj37t3Dw8OL8uUrKLPj5eVNlSqmrFq1jPnzP2blys8oV6487dp5FWt9hgXsdVn70OQlU8hMIm6DZpFV0Hp2LRqARx1ITkqBOi4EzNzJhiBNINR19mrmjPTGziiBmOh4qOPBwLlLmawNnBefw0hbzIHEC5GaBdUtsbO3wWPARHxrPyD5WjJq6wFs+CIU/xaWcCmGuBRTGnsPY85nk3ICYVbY2tvQ2Hcsk9uZ8TAlGSya4Ru6lIVumtVaTdnJllAfmldNIynlIWZeEwm2z5sa5UkehO3fzHQ/B6pmppB0pyK2HgNYuHkVmssUQ1gycON6pvd2wZIEYuKSqerozQidMlOW+X2zZviGbmb3FE2ZF5a+b3ZOB5dTXraamLZGbTts7W2xqq7558B165neuxnmd+KIjEumqqMP01etQhM+eZJ5HVts7e3ICZMzcONOFg7wwJIUkq49wLypD9O/2VnIce/Jsq8XMNCjNqSkkGbUmIA5g3C1t8Gujjk8sX6N2nY22NpbosmhOZ65+Z+kv1xr29lg29SXce+6UvXOVVLSYePHIwkePZeNuesIa4cVkHTh2/yrF8LbgeYODjS2UKE2qoqDgwMOzZtja6ymwksO1K5+m4vx8Vy6o4aMJOLj44n/LQW8wlg9dxgetdOIi/qW6ISKNB/wMZ/ltGfYSvwVsGwehkfOEo85zbHMusSxXQAVwChvM3IlZgFGljjouQ7IyMigWzc/2rZty7BhQ5XJpdLNmzdRqx9w7doNTp48RUTEFiIitnDrluaC+O7dDO2ymJhYLCwsmD17NgcPRnPixHG++WYTfn7dAZg/P5wtWyLw9n5du35PT0+2bIlg6dIl2mW62rZ1Z9OmDZw4cZyDB6OZMmWy9gdt7mfnzp3D6tUrOX78GMOH5y/Xa9eu8eDBA9LTn3wPQS7dfcx169YtoAyenu20y0xMTGjZsiWpqalPrK9tW3fWrFlNXNxRjhyJYfHihTRr1hRyLvB37tzO5MmT2LIlgh9/jGXp0k9xd9ecAN3d3fjqq3U4OTkydOhQhg0bhpOTo/Zz77//HqtWreTEiTh2796Jv3/PfN8NkJaWRkZGRpEj5n7//Sr372dy965m248fP8GOHTuoWLESb7zRAxMTEwYOHEiTJk04d+4c4eHzMTExYfz4cURFfcfJkz+zc+d2Bg4coF3nsmWf8dVX65g+PZSjR3/k0KGDDBw4AH//nnz7bSSnTv3M6tUrsbOz1X7Gz68733yzSXtMZ8+ejYWFhTYdoGJFVaH7XFQd02VImfwbnDjxM/fuZWBvb6+t+3Z29UlLS+fOnVTq16+vzWtnZ8e9exmcOJE3nVbZsmWZN+8T4uKOEh29jyFDBmvTyNfG4oiK+o6xY8dq04pTBwG6d+/OqFEj8ffvyUcfzaJhwwYYGZWje3cfli37TJkdco7nvHmfcORIDHFxR1m+/HNt2yGn3U2ZMll7vDdt2kDbtprpgAA++mgWW7ZEMH78OA4dOsjRoz8yadJE2rZ1Z8uWCE6d+pktWyJo3bqV9jO635nbXnXrqLI9z5v3yRN1lJzvLmgf9W2zrsLWgQHHzt+/J9u3b+PEiePs3LndoCBc69YuREfvIy7u6BP7pbvdcXFHWbNm9RPlptv2cvfL09OTd9/tT4UKFbCwqMXOndvp16+f9nNKhW1DQX1l165dn/heZZvP7YfGjBlT4HrJKavdu3dy4kQcK1euoHz5/Cdz5XcUdcwo4tzk5OTIV1+tw93dTXtMc/t3JWU90z1vYEA90pee2zZ0g0u5ZZW7PcptyC230aNH6j1HYUD7VVIeh/Hjx+WrL8rtyy3P3HZhSB+j3Cfdci3sukF5rtu+fZtB/RwG1j9dZmZmJCYmsm7dejIyMpg/fyF//HENU9MqODk50rlzZxwcHLhy5Qrz5y/k2rVrzJw5i4sXf8HOzp7OnTvz8su1qVhRxU8/HWX16tVcu3aNPXv28ODBA2rX1vyCU6sfsHfvXj75ZB47duzg2rVrbN26FbX6AXXr5t0ALoqyLJX7Vdj5w9fXh61bt/Dxx2E6a9PUyR07tmkHCRTVhyn79u3bt4GB1xAFyT32s2fPLrRfVdYD5TWPcpv+zvMNRfRTRfXBRZWXIef43O3PLa/WrfUHcQvrH9E5Dh99NEubP3c7Ro8eWWi7LkqZMmXYvXsPkyd/wMOHamVykdzcXqVZs6aYm5tja1ufatWq4uzsnO8YFpUnIyODPXv2aH8L/fnnIx49esSFC+eJiNiibXuFHQdD24ouQ/t+ZdvR5evrQ4sWziQmXiE4eCQbN25iz549DB06nIMHD/Lii+Z07Oit93gB9O/fn+DgYAYM0Py3WrVqVKtWjdDQUG0eZT3X9zupoHO/7n4uXvwpM2bMxNq6DjVq1KBKlcpMnz6D1atX8803mxk5ciQmJiZYWFhgYWHBwoWLmTXrI+0+GMrDox3Dhw+jXLlyrFq1inXrvgID+xOKaAsFHfePPpqVr+26urrwzTdfa38jF/dc83crKFifq6g0JXv7hqSlpXL27GkAbt++zfnzZ3nhhZrUrJk//mhsbIyVVV2uXfuDixc1T/39+utF/vgjCQuLl6hSxdTg9RkWsLf25Zdz5zV/+xfgbXyctRNGsQgAF0L6umCaHsuMLu607+CFW5clxGWa4to3BFegYzMbVFnxbHXvQ9DQPriNnsvGDVvZz3YmvLGWM5lAZjxrO3gRtED55blMcR2fsw3nzrM72IHkyJkMHqEYGRK/Arem7rT37M8M4tm/PZK1H3fB7Y3+BHZtydqzPDHiVHUrhqCm7rTv4E7nlfGoscTBB8CHab4OqDKPs0i7byu4WLGIgP3I4XS3UZG4awjOnl6092yJ15p4MPPAf44l297rQfsO0SQB6RfW0r5DDyYU8FRxfPRWItfNpPOrPQgM7ILzl/GgcsA1gLwy192uJhOITFJTxSaA5oWkR6eosO08wsAbBz1p08AUUmKY27U/wYFd8Ju2go2bIjnNEoJy9oFr0QXvg1sIAS6mqI8vofOrXrTv4E6T9yNJzDDFtm8zRWZgSgDeFuQrt6DYNJSvTzDYgiG0P6R5xDfpkBft35jANr3lmsMomeigBjh7euE3WjPnOOTMZX/4Oya7mJJydAVzpuaMZBYiV+RUendYy8UHas5s8qJ9By/ab01AfTue5R288HtvInNHj+SHZDWkJxA8eiRTlsVCciRbNyzhg9Y9CBo9kuDAd4i+osJBWzFjCZ62ljOmvqy5dJ5ffvmNNb6mxCwZyYRDACuIuaDG1Kkbk3N/e1v7sOz1nKdACgjmd+rUkfHjx2n/hg0bSmxsLFOnTiEg4C1l9lLh7t107t69y8OHD8jIyCA1NZ3fftP/SKqJiQlz586hV683efz4MWfPnqVRo0ZMnTqVrl27cvduOk5OjvmCB+3be+Lo2KTAETH9+vVl8eJFNG7chJSUFCpVMqZ//3f49FPNhUu1alWxt69P165dcHZ2Jjk5GbX6IZmZmaSlpfPw4QMyMzNIS0sjLS3/qGp9+5iWlkZKSjL169trLyj9/PyoXfslLl++wsOHD7V5PTzaERY2G1dXFxITk7h16xYdO3YkNPRDTExMMDc3x96+Af369aVOnTokJyfz6NEj7ed12djYYGtrk+9zffr0xsGhEenpadjb2zNu3Dg8PDQ3ElJT75CZmcmDB2ru3bvHnTtPBqfT0lLJzMwkM/M+6el38z2eumTJp5w6dRJHRydGjBhO9+4+PHjwgHXrviIjI4Pp06cRFDSIKlUqc+rUKV5+uTYhIWMZOlQzys/GxgZn5+Z4e3tz504qNWvWYNiwYUyYMAEjIyPUajXt2rXjvffeg5xjGhr6IY0aNeLixQv8+ecjevV6kxkzpmu3CcDT06PAfdZXxzCwTP5NDhw4QHJyMjVqVMfFpTVOTo7Url2bGzdu8Mcfv1O79su4urrg5dUeM7OaJCcnc+DAAe3nGzd2wMOjHXfupPLyyy8THDyct97S9D3529hNqlY1ZejQwcyb9wmAQXVQV27+WrVeUiYVyM7OltWrV+Hr64Na/YB79+7i6enB/PnzaNasKSYmJnz++TL693+HMmXKcevWLV55pSkLFiygVy9NQMHa2pomTRrTq1dP7t+/j0qlom/fPnzyyVxq1HiBtLR0mjZ9hUmTJmJiYvLEd6rVD+jYsSOLFi3Czs4WV1cXZs+eTatWLTl9+gy3bt3C19fniTpaGEO22VBFHbtx48Yxbdo0rK2tuXHjBpaWVkyc+B7jxo1TrkbL1NSUt98O4NGjbDIz79O9ezeWLfsMExOTJ7b7zp1UXF1dmD8/XHusP/44jDff7MHdu/c4efIkTZo4MmPGDGxs6im/qlBFbUNBfWXZsmX0tvncfuidd97m0aNsjIzK4+fXnYkTNf3O0KFDCA0NpU6dOqSk3KRJk8a0a9c233YVtm8FBZ/1nZsMoe+8oTweufVo/vxwunbtWmi6sm3Y22uCS7l0zzElqeu6n1e2JWX7VRo8OIipU6dqj4OjYxN69+6NvX0DzM01P5p114/OtAe578/R18foK9fCrhumTv2AoKBBlCtXlqNHj2Jtbc3770/U1jFdym3QV/+UfHx88fBoz9GjP0HOaPlKlSqRmZnJtWs3sLOzwdi4EvHxZ7XXJZr3kpzH2NgYe3t7duzYQYsWrXj33bxgsoWFBeXKldO+vyf3qbLcpydNTExwc3sVI6PynDqlf353ffWjqPPH5cuXqVmzJm3bumtH6TZr1hR3d3eqV6/BhQsX9PZh1tbWODk58u67/YHH3L592+BriILkHvsuXToV2q/qu+b5p883hfVThfXB+spL3zle0898hp9fdzIz7/PoUTZvvx2AqWnhkQN9/WPucbC2zhtZqGxTSnXr1mPHjm3ExPyQb9BPrtDQaQQHj+TPP/9UJhXJwsKCDz74gJUrV2JnZ0OZMmVo396TtWvXMHKkJtBsSB59ijoOhrQVXYb2/cq2o+Ts3JzKlSvz449Hn5jf/d13B1Cvni1Tpkw16HjlnmuqVKmis5Y8+vrlgs79f/75sND63qxZU/r168vo0aMwMTHhwYMH1KhRk5EjR+Ln1x1v79f58MOpvPRSLW07HTRoIIMHBwEwe/ZsTp8+yaRJRT/xbmZmxocffkD16tVZvfoLwsPzAqiG9CdFtYXc4+7q6oqTkyN169ajTRsXmjRpQtOmr0DO4AYnp6Y8epQNJTjX/FtVqWLKvXsZpKWlapelp6eiUlWgVq1aT+Q1MTHhzp3bPH6c98rYe/fuYmJSBXPzWgavz7CA/Z14IiO/1fwdiifdtBkBH4Qx0BqgGw7WoE55QJNRC1gYvoCFoyzhFvCCGQ7AnvgkMHIg4MRBItaEEVL7LGunriCmWC9CVJMQk7MNkdHE/K7G1juEhXNyx5tqJCXM1byAEeBKLMunLma/0QAWhq8iYm8U3WwAo4roNtv0q3HaaSYSk9PJu//ZBkszUJ+PZW7utl6Zy56ThY+IDGhhi4okzm7IXSMkTo0lPgtsG+ubmCJXEjHLprIwWsXA8AWs+SaKfb6aO94qU/LKXHe72ETQq064Bc4krpD0LSdTwNSWNgVOwaO0ibiEdDDzYNqRKDZ8Gorvnf0s+XgThsy4TWcHrFBz5pDO8dg0BLem7gTOenLS/oEOlqAot+iwE3mffSb0lWuO9KscK2B6QdeQADwsIX5ZF5zfmKmtM0Lk54B59WRSjmr+5WprhiolCZ1bP086Fc2iVT+QOiw0p69ajWst3YrpQdjEXjRXJRPz7dd8vSGSuGRTPAYvIEzzVBWLxs4l5oEDA7ec59j+g5zevwDXq8cLbUNlypRRLtIqKu2ftHz5Clq1cmHx4k95990BxXo554EDB1i3bh2dOnWlb99+bN68mcqVTWjZ0pn9+6O5c+cOLVo4U7duPUxMTGja9BXu3csocLqAbt18MDIyYs6cT+jQ4XXatfPMeZFmc9588w1tvuvXr+Hn1wNv704sX76CyMhvcXFxZcqUqUyZMjXfD+Nc+vbx0aNsTp48hbm5ufbx4latWlKunOYlrbquXr3Kt99+y5w5c+ne3Y/Onbty/vx5rKysadcuL6gZHx/Pq6+60bWrL8OHj+DgwUMAHDx4iL59+xX6grRffvkFT08v2rb15LvvvsPUtCpNm2puyA4dOhwPj/bs2LEDD4/2TJkyVflxevR4Ex8fX3bs2MGrr7qxePGn2rSMjAzWrFlLZmYmffr05qWXanPo0CG+/lrzguajR4/yv/9tpl+/t3jrrQCWLVsGQLNmeTeE1Wo1M2bMpEOH1/n666+pUqUyP/74I+3bezFy5CiSk5Oxs7Ohbt16JCQksGvXbiZNmkzPnr0ZM2YMv//+B/b29vlGoBa1z0XVMQwsk3+TjIwMLly4QJUqpjg6OvHKK02pUaM6Fy9eJD7+LKamptjZ1adxYweqVKnChQsX8r2Y8Natm/Ts2Qsvr9dYv349FSqoaNy4MeS0sTJlyjBr1mw6dHidPn36cvVqEm3buucLyBd1PArz/vsTOXfuPFlZj9iyZTtBQflHHQH06NEDGxsbIiMjadvWk7ZtPVm3bh1lypSjefPm+Pn50azZKxw/fhxv7454eb3GggULMTauhK9vXpvNzs5m1arVdOjwOgsWLKRs2bIkJV2lY8cueHt35OLFBF5++WVcXFrnfGc9du7cpf3OyMhIbGxs6NFD8+6KGjWqc+TIEQID36FnT38+++zzAudDLmgfDd3motaRq7BjV7duPTp18iY1NZVRo0bh7d2RCRMmcO/ePTp18qZu3YKDN+XLl+d///sfXl6v4e3dkePHj2NvX5+33uqn3e4jR37UbvfatV9So0bNnGlRnLGxseH69RtMmfIBgYHvMHPmLLZs2crOnbtYuXIVDx8+5Nq163Tp4sO6deuUXw96tiGXbl8ZFbVPb5snpw7MmzcfL6/XeO+997lz5w4NGzYCoHPnTmRnZ2vPJX379tM+aQQUuW/Xrj35Lpmizk3169enb99+HDx4SHtMC+rf9Z03CqpH8+aFk5l5H0fHJgWmF1XPClJUXQ8PX6D3HKWv/Sp17doFQFtuffr0JT097wd0cRXUdvSVay7ldYOjYxMyMjL45JNwBgwYyMSJk/j66685f/5cvu8sTFH1rygmJiaMHTsWc3Mz9uyJ5LfffqVsWSOgzBPT2GVlPcLIqBwvvJB3AyaXh0c73nqrH2lpaURE5J9Xv0WLlkRH7+P48WN4eXmxefMWFi3SP4VhUfUDPeeP6tWrc+LEcapXr6F9QbqLiwtmZjU5ceIEd+6kGdSHZWdn8+WX63Bza0tg4DsGX0MUpbB+FQOvef6p801R/VRhfbCh5VXYOf6tt/pRv3594uLitP3M//73P8qXL59v23QV1T/qXrsXpqB2bWpamWrVqlK1qik1a9ZUfqTErl27xtChQ/nhhx/w8PDghReq4ebmxubNmxkzRvO0iCF59CnqOACFtpVz585x/PiJfOsytO9Xth2lChUq8uhRNtev5z1d7Orqgp9fd+2foVPi5LpyJZGFCxeSmppKamoqU6dOJTx8gcH9su65/+bNW4XW92vXrnP27Fk2btzE9OkzSE1NZfbsML799ltOnz7NoUOH2b07knHj3iMlJYU1a9by9debtDc/XnihGpUrV8bMzExn6/MrU0bzvqg6depy48Z1tm4t+H0lRfUnRbWF+vXrc/HiL9SoUZ1XXmmKs3MzqlZ9gbt372qnumzUqCFZWX9y9Gje786Snmv+TZRPQBbFyKgCRkaF90dGRkYGr8+wgH3OSNDg0SM1I63XxKM2cyFgQl5jUb1gq5n+IeevauYlEq6lURGIGd2X4AWRxGVUpbFrT0aErmL36c1Mzpl2xjBqkg/nbMPoIfR2H0XkNRW2XYYTosyayyuMfb/sZM2YXni0sKKqOpkzlwsPthdGrTb8ok1lBPCQVM21ZI4bpGUqo8JF8SBs73l2rwyhV7umWJo+IPnMVZRbrm+7lOkn0h8AKlQ5U97os8i/D1M2xJKEGc1fDyDk0/VEHV5q2Aj9cgBq1MqN1kOtG1288oC8saLPgmHlWhgHs6qQGc/+WQbdshD/QdN3nOeXc77YYonH55qngda8bgk2vvxybrPmvRoFGbCUQ9+tZ9nwjjg4mKNOiCNRd9DByOF0t0kncrQ7vYdOZcrUIfi9+gHR6TZ0HzxMk+fKCnp368OMdd8Sc/IEWz/uQ+doNdVIIXGFzrpy7Nq1m48/nqP9W7LkU1xcXAgNnc4XXxR5e+FfJyMjg+XLV3DsWBwffPAB33yziY4dO2JkZESFChWJjj7AhQu/aOeG9/JqT+3atbl48QK7du3Kt64WLVpSu7YlKSnJHDjwvXb9cXFxVKxYEUfHvHktf//92hOjQ56Fn346RlbWQ1q0aEGzZk1p2rQpKSk3OXMmf9908WICn332OeXKlWPx4kXs3r2TevXqUb68ESpV3tx4CQm/5gukGkr3c8onBZ6FHTt2EBUVRZUqVbh+/TorV67Spm3YsJFvv43k7bcD+Oqrdbz11luoVCqMjY21ee7fv09KiuZFQunp98jOfqzdzpiYWO7evYdKVRELixc5cuRHVq5cSb16Nixb9hlz587lxRdfpHx5I+2ISorYZ3117Hl15swZsrMfUa9eXRo0sKds2bKcOXOGX3/9lbJly+Lg0AhbWzugDL/++lu+z+q2j9zjg04by8zMpHnzZoSHz2Po0KHcv/8AY+NK2hGvFHE8npaDgwNZWX/y0095P0amTg3Fzc2d5ctX0KhRQ8qXr8CJEz9rv//w4cMkJ6dgZWWlDThkZWVx7ZrmnRV37twhOzub+/fvk5GRQUZGBikpKVSsWBFTU1McHBx4/PgxlSpVIjx8HuHh8zAxqQw5o6ni48+SmprKq6+6ERm5m/feG88PPxxmwwbNhH36GLrNhijs2Dk6NsbMzIx79+7h4+NDePg8Xn/9dTIz71O5cmVq1y54lOKdO3f4/vu8/vTs2bOUL18ea2tr7XY/fvyYGTOmEx4+D0vL2mRlPcTMzJxjx45x9WoiL71kwZIlS1iyZBEPHjxg2bJl2rI3RFHbkEu3vhna5tPT07lwQfMSuLS0VO1TUK6uLtSsWTPfueTixQSOHcsb1FKcfSvOuako+s4bBdWjzz5bRps2rzJz5qwC04tbz562rutrv7oMOQ7Pgr5yzaW8bjh//gJVqlRh+vRprFixHDMzM1avXmPwtUVh9a8oJiYmLF68kJYtW3L48GGWLMm7mV4cHh7t+PDDDzA1NWXDhg1ER+c9YUXOtH8HDnzPgQPfc//+A7p392Xw4CdvoCoVVT8MOX8cPHiIhw/VODtrgt1t2rTh0aMsfvzxJ4P7sIcPH+Z7J4uh1xBFKaxfxcBrnn/qfFOcfiqXoeVV2Dm+bt16GBkZ5etnvv/+e+7cefKpWJ5h/6h08uQp3Nza4eDQRDslybPSpEkTbG1tqFChAtnZ2VSqZEyDBvbUr29XrDxF0XcclG3F2bk5jx5l8f33B5WrMrjvV7YdQwwfPlxbT8PD5zF8+HBllhIxtF/WrYf66vvx4yf45JNPSEm5SULCJf744xrTp8/g4sUEMjIymDNnDklJiSQkJHDjxg1mzw7T9o1BQYOpW9eGUaNGa79bydjYBBsbG3755SK1a1tqnxRWKqw/MaQtnD4dj5GREQ0a2OPo2ITs7Gx+/PEnLCws6NKlC/Xr23Lr1m1+/jnvpk1JzjX/NvfuZVC+fLn888uXNSI7Oxu1+oEibzqZmZrfmbrKli1LVtafpKbeNnh9hgXsFRITkkkHqpnaARdJTgfuxPJOh5wpIDp4ERwykvYdhuRMm2NK+qnF+L3qRP36dem0Ih61aTM8NO9aLKEEku8AxlUp7B6Ub28PbFUpRL/fgCavetG+ax/OZBQxnc0TNPtmWrs5ea8jcMG5duGB92+TUoDa2I3RWdjTFTtTSP/DwECv31u0t1eREj2B+k3dad+hC71PpZG35QVtlyUDZy4gpLcLVoWlN7AERfCugkneTRcrI8XLEqxNSdo2gfatnahv405wZAoqS1c8855yLNyFZNIxpXYznTug1gOYHh6Cv0v+l+eiLTdLbPvnpVlNdNC82DafClTT3uixpJJhN6Y09JZr0Zb7O2HdsAdzlQlC5Njz2XjGRSfDtWhmTBrPuElziUmBxG/HMy5kLsuVH8gx0MsVq9uRBDZsqamXQxdzVfc8V7sqKtJJzTewJZb0TFBV17yRY8SyKHaHOLB8qubG5pRlsbi62GKadJEnZwjMr0qVKmzdGkF09IES/zArzezsbImM3M38+eG89lp7TExMuHz5Nx4+zHtE9YcffqBs2XK0bOlMmzZtUKlUREdrLmR0lS9fjjJlyvDwYZZiqpq7ZGc//luCsxEREfz222VsbW3p3LkzNWvW4PjxOO3j5rn69etLZOQexo0LwcnJkYcP/yQpSTNV2L/FDz/8wP3790lKStKO5jExMeHLL9eyatVKfHx8MDMz4/Llyzx4kP9iqTjGjh3Lzp07CAoaiL29HXfu3OLmzcJf/KtkSB17Hp06dYrU1FTs7OyoX78+qampnDp1SrvcxsaGunXrcPduOqdOnVR+vEC5bczExISGDRtq/6AMly79WuCLnZ61cuXK8fjx43yjnXWVLVuOx48hM/O+dllCwiUePlQ/EXAwVLly5Shbtiy2tjbafa5VqxaXLl3i4cOHREcfYNy48Rw5coRatSzo27cvX365lhUrCjuz5PdXbLNS7j688MIL+Y7dvXv3uHr190KPXXZ2dr7puNLS7vLoUTZly5ajbNlylCtXDkvLl7Xrs7auw5UrSaSlpQEwcuQYvv76f2RnZ9OhQwfmzp3Dzp3bizUKr6htKMizavPKc0lWVv5pyQzdt2d1btJ33iioHukqKL249exp67q+9luQrKxHJCfnjehUHoenpa9cCzNp0mSWLv2M1NQ7uLm9SmjoVLZv31rg+1GeBRMTE2bNmom7uzs//fQTw4cHawNVmZkZZGc/okaN/CO/TEyMycrKynnHjkazZk157733sLB46YkpG3L99tuvhIZOIyhoMBMnTiIzM5Pu3bvpvalTVP0w5Pyxe/cerly5Qt269fD374mNTT2uXv2DiIiIEvdhT3sNUZS/4prnWZ9vDO2ncj2L8srOfpyvn3n06BHZ2ZopOpSeVf/4dzExMSEwMBAjo/J8+eWXpKamsWrVKurUqUtAgGbGBkPy6KPvOCjbSqNGjfjtt8tERCjnQn42fT85U4OWLVuGevXy3mfRp09frK3r8sEHH5KZmVno9J3FVdJ+2ZD6vn//fvr27cf+/fvzfZacGz3vvPNuoU/8FeXRo0fs3LmLoUOHkpBwCTe3Vxk1SvPiWUMY0hZOnDhOeno69evXx86uPnfvpnHy5M+UL1+e1q1bUrXqC1y8+MsTT7eVVo/vFXy9gp40pdu3b1K16gva+eXLlClDvXo2ZGZm5rt+AEhPT+Pu3bvUrGlG5cqaul+5sgkWFi9z924at2/fNnh9hgXsTW01U92EL2Bh+Cr2TfHADDUXj64FVrDtpxSw8eWrZcPw9vLAe9hSPvtmJ7/sDaU5Liw8uJM1ny5lWZALVo4eeNqYo0KN+g7AChJTACNTrPx88Cj0HK3C/NXcbVjAsm++olcj4Ep8ocGoE7fTAVMsXXrigAP+oZt5u5mh4VmAFeyPTwdLD8KWDcPXz4cRy8LweDKKrJW4OJp4tYrmb21meqAPvn4hrBnjihlJxKwxcNRqXAppgKlVG/wdwaFnKBFvNdMJLOeUuc52BcxeSnA/Hwb1aEZiIendGoH6eCRLAFbEk5QFVl5hLBvmQ8D4VXzlpbtjw4iIXM+aT+czvacDVi4uuFqZAmrSb5N3o8bYjAA/b1yVL5JdsZW4lLz1+/oFEPbZCAL8BtCz5ZNzv2vKDRx6b2b3mgUs/HQzEb3zXnwDsDw+CbDEY+ZSRvgFELLmKzxezpclvwuaG0tVqwfg29kFK73lWhRLQr45yS+ndxJWrCdDxH9JzK7tVDWtivraWdZGbGdbRDVMq6Zz9fh2tu2KLXR6muQMNVS1pE1O/+cwMgwP3Ta1PZ5EbOi0JRR/RwAH/EPn42ENifGaN8LHPayAg88INoxxwQpLfKdsZpKHKfHfziJGZ1UFadPGlejoAyV66c2/Qfv27albty4HDhygWTNnOnbszM8/n6Js2bypf3bvjuTGjes4OTni7NycmzdvERv75HQ4J0+eIj39LtWrv4CXV3vtcgeHhsBjrl37PV/+v0JGhmaqHpWqAm3auJKd/SjfSMJc7dq1o1KlisybF46bW1u6devO3bvPbhTyP6Vdu3Y4Ojpy7tw5XFza0KHD6+zd+12+OQKLy9OzHWq1mnHjxtOuXXsmTJjEn38a/oIwQ+rY8ygmJparV3/H3NwMa2srbt68SUxMrHZ5vXp1eemll7l27RpRUfuUHy9Qbhu7d+8e06ZNw9u7I97eHRk9ejS9evUu0Q+c4rp69SoVKlSgUaO8x3l79erJ1Kkf4OTkyI0bmgtp3R+UXl7tqVmzJqmpaQVOpaXP1atXefz4MTt37tbu86BBQQwaFMT772vmM83MfMC0adN45ZWmvPHGm/zxxx80adK40KCIrr9im5WuX7/O3bt3uXnzFj16vKHdjwkTJtC9u1+BP1wBTE2rYGOTd81na6uZduLGjRvcuHGDrKwsYmM1U+J4e3fknXf6M2LECO00PZUrm7B5cwRt2rzKK68049tv91K7tqVBLyHMVdQ2FORp2/zJk6fIyMh44lxia6uZEz2Xofv2rM5N+s4bBdUjD492zJgxDQ+PdgWmF1TPypQpQ5UqmgFQJiYmT5Tb09R1fe1XV2651axZU1tuJiYmBY5QLV++vHZEc27A01D6yrUwpqamxMbG4uHRHnv7hqxdu5bq1avTqlVrZdZnYvr0aXTp0pkjR35k0KAgbbAe4MKFC9y7d4+GDRtq3wVgZ2dLkyYO3L17V/uUn52dLbNmzaJu3TosX76SOXPmaNcBMHr0SPbs2aWdtxmdEZlGRuUMCp4WVj8qVqyo9/yRew1VpUoVOnfuQrVq1fjpp5/IyMgocR/2tNcQRfkrrnme9fnG0H4q19OWV+7Tk7r9jJ1d/ULnsC9O/6hS5UUGitPGn6WMjAyCggbj69tN+2TBhQsXaNfOk8mTpxicRx99x6GgtqI7gl6XoX2/Pj/88AOpqam0bNniiXcStWzpTPny5fPNn/80x6uk/XJx6/uz9ODBAw4fPszFiwl88cUXqNVq/P17PlFWhTGkLURHH+Dy5StYW1tRr15dfvklgWPH4sjMzMTZ2ZkKFYw4fdrAgcgFGDUqmJMnf2bxYs3Qbm/v14mJ+YEdO7ZRt249ve+GKK77W2IKDMw/vnef+1v0RUnynDx5nPLly+Pn1xNr6zp4enbAyqoOCQkXuHkzhaZNmzF+/BSaNHmFx48fc/r0z9SsaUa3bv68/LIVHTp0oXr1Gpw+fZI//3yod325DKvVZs3w9fPJ+fPAlhTi1o1nVM7N8o3vTmD50XSsvENYtnIVy8Z782JyLGs/nkpczssS49WWeE9cz6EdqwjxMCUx9kvm5LzUecnXsaRUcCAgfAHTBhdW0VXYeuRugw/eTc1RX4pk7vCRhQajEhdvJDoJbP3C2H1lJ2G9q3LmlOGjLQCWT/iEyEtg5R3CwvAFhDS/SmRsEeu4MpPB0yJJqNiMgNAFLAwfhkf1ZGKWTSXoyWnfCnZlMRujksDGh7Adv7F7Ti+qXojPN3WLbpkvDF/A9N4OcGE7M8ZqXpxSaPqo3DnlZzJnXTzp5SzxHr+A6QNsuRQVq/MdSxg1P5pEk2YEzNnJoY1h+NdXkxCxmJkRACv4PPISagsPpofPJ6SH9oM5NhH43gri0jXrXxgein99SIiYpa03+VyZyeCQFcQkq7Bt9TrebmacWfyt5sW2uaZ/wtpT6aisvQkJD2WQbQLRR4s4FiuWs/uCGjOvUBbODaGnAeVauNpYmZuiMjWnWmGPdAgBOJibcuPaD5p/uNlgZlzwlDS6tk37nJgMBwbu+I0rV35j9wAVSbqV/9BIBs+LJrVBAGE7fuPKlZ2E9XMgNXqu9sXbMSOmsvyoGteR6zl05SALAx1I3jWLwdOfvEGmFBn57XMbrAe4desWWVlZvPxybVq3bsVbb72Fj09XjIzyHtH57bdfOXnyFLVqWVC7dm2OH497Yn5Gci5ejxyJpWrVqgwZMphevXoyefIkWrVqxR9//M6uXbuVH9HLzs4WX1+fJwIJRfnhhx/IyMjA3t6+0NEut2/fply5cjRs2AA7O1s++mgWTZpo5i8syo0bN3j48E9q1qxBx44dDR4VYwhPT8+nXuedO7d58OA+1atXx9PTE2/v13n77bfyPRpeXGlp6VSsWJEmTZrQuHFj3n9/ArVrF3F3XsGQOva8Ons2nqpVq1KjRg3i4/Mecz57Nh5TU1OqVauab7k+uW2sZs2ajB07hq5duzJw4AC++GIN3323F2fnvPnBSyop6Sply5bhxRdfzPey6VyHDh0mIyMTH5+uDB4cRGBgIMOGDcHfvyeOjk4cOBDN9evXadeuLePHj6NXr54MGPAulSoZc+hQvjkRDXbo0GEyM+/j79+TgQMH0LVrV8LDP+G7775l+PChvPfeBNavX8fs2R/h6upC8+bNqVy5Cg8fqgv88azcx5Jss3Id+sTExHLmTDz16tVlwYL5dOjwGiEhIXz11Tp2796JhYWF8iMAVKxYicDAt+nXry/jx4/j1Vdf5ebNmxw5Epuz3Tfo1KkjISEhdOjwGtOnT2P37t3Mnv0RHh7t2LhxA0uWLOStt96iZcsWvPzySzx6lMXdu+naAJxKpeLNN9/Azi7/YJBcRW1DQZ62zWdkZHDixM9Uq1ZNey6ZPXs2Dg55QWZ9+6Zc37M4N+k7bxRUj8aMGU2vXv60atWqwHRlPbt0KYGKFSvy9ttvERgYyJIli3nppbzpkvTVdX3nKH3tV1duuVWuXJn333+PxYsX8eWXa2nQoH6+fJcvX6Z69eoMGTKYwMBARo0axQsvvJAvjy5l29FXrgWpW7ce69evY+nSTxk9eiTOzs5YW9eBnNHuz9q8eZ/QrZsvKSkp3Lx5UzsF1UcfzaJZs6ZERx/g559P8tJLFkyaNJF+/fry0UczsbKy5sSJn4mK2oednS2LFi3C3r4+Z8+e46WXLLTTWIwfr3lp682bt6lTx5qgoCAmT55Ev359GTduHObm5ly8mMDRoz/h6upC165dC+wziqoft27dMuj88cMPP3D37l2aNn2FjIwMoqM1byYraR/2tNcQRfkrrnme5flGXz9VUB/8tOUVE/MDt2/f0vYz/fr1JSDgLSpWLPhmjyH946VLl7h9+w5NmjRm9uzZjBoVTI8efhgZ5T1lpWzXJQ0surq6cOjQASIj9xT4Imxy5qjPyMjgzJnT7Ny5g8uXL5ORkZFvmiFD8hTFkOOQ21aaNWvKvXv3CnyPAYWcG5R9vyGiow/w/fcHqVmzJvPmzWP+/HBGjQpm8+Zv8Pb2JiHhEl9//bVBx0tX7lSYFSqocHBwwMnJsUT9sr76/jQMfelsrnXrvmLPnkjMzc0ZNGjQE+fCghjSFsi5hq9evTqmpqYcO3aMmJhYkpISsbGx4f79BwY/NVuQqlWrUbmyCebmmvc+1KxZk6pVNb8XTE0rP/N3QzyMPUva+BWkDl2U7y9t/Aoexhr+++TMmVPs3r0DCwsLgoPH0bFjVy5dusiWLZr3q730kiU1a5phaqp5n8vBg9EcPnyAJk0cGTNmAq1ateHYsR+JivrWoPXl0nNVuYLeTfREmgCIZsYbLZlh7YJ3czPUCduJ1n1CImoqnZpMxcrFm6YWahIiovO9uDRxWR+cl1ni6mJKTGwBd2vGeWGtOccXbkUfntjUKysIfHWF5nurp3HiiRGuE2hvPSHfkifWc2UtQZ5rn1hHsE4WpcR1Q2i/Dhy8fLBVpRj2vfkksfxdd5Zbu+DdvCrpcZEFvKBXT5nrTYfoqV1oonznnc6UWYnL+uO2rPD9iB7nRf1xDri6pKO5aeqUf8qPqJn4Oc8s9LgrJZ7cyoy+M4nP3VfrBRyaCGTlzg0SzZSuTijvGecdC2W5RjOhQwMmOLrgmharubGjp1wneNal4CMTS7B7F5Y5xhP/73j6R/xDJnTIG1nAoSG4KZ8+yZleKV9bubKC3s4rCm1rAPEL+uO2gCf6ojy6bb4iSXra23/J7t176NixI23buvP11xvJysri9OkzvPBC/se6o6L20bZtW8qXNypwxHqu2bM/pkaNGrz2WgecnZ15/PgxSUmJzJ+/kIsXE2jSpHhzYQ4YMJA33vBj9eo1Bj9eGB19gFOnTtGuXTvi4uKe+AEFsGfPHlq0cKZLly507dqV1NQ0fv31N6ysiv5RtGPHdjp08KJ9e0+aNn2F8eML7hWLy9XVhY8+mola/YDz5y/kexSzOGJiYtm/P5oePfxYvHhhziiG008VwNi2bRv169sxcOAABg4cwNWrv/P7739QoULhLwzSZWgdex6dOROfM9dimXyB+VOnTuPn94CyZcsWK2CPoo0tXrwQcgKkmjnDj2lfgFZSkZF7ePXVNvj798TFpSW//XY5X33csWMHL7/8EoMHD+b99zXzg969e5cNG77myy+/BGDevHmMGzeOoUOHUKZMGdRqNbt37yY8fL52PcWh+52TJ0+CnBcn79kTyerVXwBQv3592rZ1Z8OG9ZBTJmvXriuw31Du49tvv1vsbVau46uvnpy/WGn27NlUrlwZT08PXnvNS9s/Ll++otAgQkpKCnfu3GLGjOmUKVOG27dv8/nny7Uj8nK3e/jwoZQpU4asrCzt3LsXLyawbt063n33XWbMmAY65bZ+/QYyMjI4fPgHunXzZfbsj1i9eg0zZsxUbEHR21DQqLln0eY/++wzateuTYsWzjg7O5OamsaRIz/Spk0byOnni9o3JX3nJkPoO28cP36i0Hq0aNFiMjIyCk3PrWdr135J48ZNaNr0FT788AN+++03zp07z0svaYKhixYtLrKuZ2ZmFnmOMqT96po9+2Oys7Pp2rUrnp4e/PHHNaKjD/Daa5oXuwN89dVX2NjUo3nz5jRv3pwTJ34mKd/IivyUbWfp0s+KLNeC/Pbbr3z22TLGjQth1KhRjBo1Slv316/XlMuz5OjoSLly5bCwsKBbt7yXRGZkZHD06FGOHz/B7NmzqVixIq1bt8LZ2ZlHjx7x009HmT17NuTMqW1lZUnZsmVp2vQVmjZ9RbueixcT+PjjOXz55Ze8+OKLBAT0Y+BAzTyrDx/+yeHDPzBtmqaeT5s2jerVX2D8+AlP9Bv66kdCwqUizx/oXEN5enpy9OhP+Z4AK0kf9rTXEEX5K655nuX5Rl8/VVAf/LTlFRMTy+rVaxg8eDDDhg3l8ePHHDt2lJQUzTz8BTGkf9y8+RveffddevfuhVqt5sCB76laNW/UvrJdz579cYkCi6amplSpUhWVqiJVqz75smZde/d+x9693ykX52NInoIYchx028q5c2e1860rFXVuKOwaozBjxowlNTWVN97oQffu3SBnKpj4+Hhmzpxl8PFS2rMnkkGDBjB58iR27NjJ5s2bi90v66vvT8OQl84qhYZOo2HDBrRo4cz48SFPtM+CGNIWjhz5CR8fXx48uM+pU5p1/vzzKZo2bcZvv102+KnZgoSGTiM0VFN25Nx4UL4Dws3NsCcG/m6HDx/ghx++p2ZNM9LT01Cr855I2bVrG7t25c398vjxY7Zvj2D37m3UqFGTW7duPjHdXlHry1WmRg3zkj9PJcSz0iKMfRt7YpkSy9efbeQY9enefwAe1mpipjvRW3kzRoh/SOPGr3DmzM/Kxf8Zxd3/GjVrcquY81ICrF//FY0bO3Do0CEOHPie//3vG2WWYrOzs6VBg4acP3+uwOCFl1d7Pv44jOvXr/Pmm70KDILrsrCwwNnZmVu3NNOAlNSXX67F0dGRiRMnPfGS22fB1dWFqlWrcfDgQb37pKthwwZkZWUVWFYl4evrw8yZMzhy5EcGDDDo9eVFyi3/xMQrBl2gGiJ3FHFhj73ro6+OFaRDh9d47bXXaNvWnfT0u3h5vabM8pcqaRv9OzyrNlYYZ2dnfv/990KDMOTUCZVKVWj7cXV1oUaNmhw7dqzI9RRHUd9Z3DIpaB+Lu80FrUMfOztbGjVqxOXLlw1un/r6Kn3bra/cXn75ZW3ArjD6tkGpJG1eycnJESsr60L3Cz37plTcOlIQQ8pB3/HQl66Pvv0w5BxlaLk1bNiAxMQkbZ5PPpmLj09XlixZwvz5mqBvSSjbjiHlWpCnLctnzcLCgmbNmvHLLxeKLH99CiqPFi1asmjRfG7dukXnzl2VH9HSVz/0petTkj7saa8hivJXXPOgp40Utwz1rUvZBz9teZmYmODu7k5aWqpB20cJ9qkgynb9b6fvOCxevIgOHV5jwYKFBr3r7Fn2VwX1EU/DxMSERo0cOHr0J+2ykn5HUfX93+BZtIV/Wmn+DfOsSMBelBoeE1cx+U0PbHMHJ6UnEbNpLhOmb39itLEQ/5TiBqyfN8Xd/5KeSNev/4o2bTSvzd64cRMTJjybUd4FqVu3HgEB/WjZsgX169uzcuVKZs8OU2b7y3z7bSRly5alW7fu/8oLPkONGhXMwIEDWblyNfPmzVMm/2eNGTOGIUMGU6FCeS5eTJCAvRBC/I3mzPmY7t27cfToMbZu3UqDBg148803yMjIYPToMf/aQMa/la+vDzNmTGfPnsgnnp4QQvx93nzzDTw82uHu7k5KSgr9+w8s8dOxQvwVqteoye1bz/dvGMPmsBfibxA9qz/tm9bF2jrnr4k7vSVYL8R/Up8+fbV9wV8ZrAdwdm5Gt26+1KlTR/tY/9+lYcMGlClThlOnNC8gfJ4ZG5tw69ZNTpw4rkz6T5s3bx52dvWxtq77twfrhRDiv+7zzz/n0KFDNG36Ch9/HMbbbwdw82YK4eHhEqz/B1SvXoO0tHTtNAxCiH9Gly5deO2110hJSWHhwkUSrBelzqNHjzAyMmwqrX8rGWEvhBDF4ODgxLlzp8nOzlYmPffKli1Lw4ZNiI83/EUzMnpXiNJN2qgQQgghhBDi36SScUWMypXn7t27yqTnhoywF0KIYrh3L51q1Qx/qdzzpFq16ty7l65cLIQQQgghhBBCCPG3uJ/5gLLljKhYqZIy6bkhAXshhCiG5OQbWFi8TPXqNSlb9r/RhZYtW5bq1WtiYfEyyck3lMlCCCGEEEIIIYQQf5t7d9NRqSpSpUqV53J6HJkSRwghiqlSJWPMzV+kcmVTypQpo0x+7jx+/Jh799JJTr7B/fuZyuQiyXQbQpRu0kaFEEIIIYQQ/1aVjCtSoUIlypUrx/MUnpGAvRBCiL+MBAOFKN2kjQohhBBCCCFE6fLfmM9BCCGEEEIIIYQQQgghhCjlJGAvhBBCCCGEEEIIIYQQQpQCErAXQgghhBBCCCGEEEIIIUoBCdgLIYQQQgghhBBCCCGEEKWABOyFEEIIIYQQQgghhBBCiFJAAvZCCCGEEEIIIYQQQgghRCkgAXshhBBCCCGEEEIIIYQQohSQgL0QQgghhBBCCCGEEEIIUQpIwF4IIYQQQgghhBBCCCGEKAUkYC+EEEIIIYQQQgghhBBClAISsBdCCCGEEEIIIYQQQgghSgEJ2AshhBBCCCGEEEIIIYQQpUCZ+vaNHisXCiGEEEIIIYQQQgghhBDi71WmRg1zCdgLIYT4S9SoWZNbN28qFwshSglpo0IIIYQQQghRusiUOEIIIYQQQgghhBBCCCFEKSABeyGEEEIIIYQQQgghhBCiFJCAvRBCCCGEEEIIIYQQQghRCkjAXgghhBBCCCGEEEIIIYQoBSRgL4QQQgghhBBCCCGEEEKUAhKwF0IIIYQQQgghhBBCCCFKAQnYCyGEEEIIIYQQQgghhBClgATshRBCCCGEEEIIIYQQQohSQAL2QgghhBBCCCGEEEIIIUQpIAF7IYQQQgghhBBCCCGEEKIUkIC9EEIIIYQQQgghhBBCCFEKSMBeCCGEEEIIIYQQQgghhCgFytSoYf5YuVAIIYRhKlUyxtz8RSpXNqVMmTLK5OfC48ePuXcvneTkG9y/n6lMLlKNmjW5dfOmcrEQopSQNiqEEEIIIYT4t6pkXJEKFSpRrlw5nqeQjATshRCihCpVMqZePTuuXfud1NTbZGdnK7M8F8qWLUu1atWxsHiZX3+9WKygvQQDhSjdpI0KIYQQQggh/m3KlStH5SqmZD/K4v79B2Rl/anM8q8mU+IIIUQJmZu/yLVrv3P79s3nNlgPkJ2dze3bN7l27XfMzV9UJgshhBBCCCGEEEL8bSpXMUWtfsDdu3efu2A9ErAXQoiSq1zZlNTU28rFz63U1NtUrmyqXCyEEEIIIYQQQgjxt6hkXJHsR1k8uH9fmfTckIC9EEKUUJkyZZ7rkfVK2dnZz+08/UIIIYQQQgghhCj9KlSoxP37D5SLnysSsBdCCCGEEEIIIYQQQghR6pUrV+65nAZHlwTshRBCCCGEEEIIIYQQQpR6/4UH/8sZG5t8qFyYy8HLB9dXXsLo3GVStEstce3cjmb1q3P/4lXS8nLj4eeC08tGXPjVHA8/FxpUyyTharo2x1OxHsCydZPoUC6WPaeefp0OXj64NlTug/inWQUtZcP7HSj3YyQnCzwwOfXP2ogLv+bVytLAymcSC+ZOZcQ7AXhanmHroWv5Mzh64NumATUyE0jKt2+F7ZMDHoFvM+Tt12loUoaMfO1Qh7UL3u2b4VCvoPpsiWvntxg0tAuNjdRcfyJdPA1z81okJ19XLs7P2gXvVy15mFP2Dl4+NK58gcs3FHn6DSS4iwOP1def6Dfz6pYvzuU2sefnnDrTxJ4GDfP+6ubrcx0ICP+MeWMH8XZ7S9ZuPZRvnSVl0D7rMDY25n5mpnKxEKKUkDYqhBBCCCGE+Df5L/yGKVOjhvlj5cJcvit/YqGXipjpTvRekbPQOox9B3tiSxKR/dwJyo0BBa7ndKgLxM6kib8d+670xDx2Jk38cz/4lCbu5JcgB9SHptKk31platF6hrDQxZLE2JHM3aRZFLb/N/zNYpnRpA/Llfn/Cwook9Jg8o7zDHRUEzPVid5rlKkAA9hwehKuKZuw9pygTCyZZ1IWw4g4F0LzCukkXknh7HovgpRVf04UV3qa5W9PUOA+WQWt4quxHlipdLJlXmLbhHcI3p6ksxD81/xEmIcZZMWz1rMLU67kJFgPYM3XIXhY5K1EnRTNnL79WZ6bRzyVxo1f4cyZn5WL85sTxRWXi/R+dQgxuLDs8HpsD9el/XuaZKugVUSM9cCsnBr1IxUqlZrEqLn0fXcFiaCtW40z4ok5c4kzU0cy90oY+670xDb/N5Gu0+e6LjrIBp+qJMbGcfZCJEFTS1y58zFon3XUqFmTWzdvKhfrtXLlClxcWgOwefNmpkyZip2dLY0aNeLy5cvUqFETlUrFwYMHAXB3d6dSpYraz6emprF//37tv/8uFhYWODs7c+vWTWJiYpXJADg5OVKnTh3Onj3LxYsJT6TZ2NjkW6br+vXrha73n+Dq6kKNGjU5f/4cDRo01O738OFDGTBgIBUqlCch4RI+Pr7Kj4pSoqRt1NC66unpqW2rGRkZymziHxIcPJxWrVqzaNEijhz5UZmMiYkJ7u7uqNXqf6QvLYq/f0/efLMnJiYmHDx4kFmzPlJmyceQfrm4CuvHS1Ju06Z9SK1aFsyZM+eJc0JJFbZ9ukxMTOjY0ZvmzZuTkJDAwYMHC81bGtjZ2TJp0kQuXkxg5sxZyuRiyT1OQKnpm3SvcU6ePKVMfkJuvS5f3ki7rLjXPoasw5ByN6S+/ZVyyy4lJeWZtXEhhBClW0l/w5SUkVE5XF3dadiwMampt9m/P4qUFN1RmPlVrmzCq696ULeuDVevJvL99/tJT88bPmvI+oqcEmdbfBJqTKndzCVvYYBDTpDIEtvOeYtdW9bGFDUXf1JGKZ+RWUMIHNof/+IG6wFaeOPr50PHFsqE/7BSWiYzhr9D0Lt9CgnW/0WeSVlYUdUY0o8uws2zgGB9sUzis7EeWGUcZ+24Llhbu9N7ViSJ5Wzw/SAU/3x5e+Ld2AySkkgxcsB1uKU2xfeDQXhYQPy6kbhZuxMccQksPQgI0WnP4i830NIMdcolYgBog1mNdJLP56b2ZNpAD0yvbiLQpgH169clcNNVXvQaxDS/3DxWVDVOJ255FwIDRzL3CuBmSgXSiZleF2vrvD/dG6QOZlXhygH6+vfXG6z39n6dDz6YrFz8j6pUqRJZWVlER0dz6tRpALp29WHu3Dn4+/szceL7fPjhBzg5OeLk5MiHH35AePg87d/q1Ss5depnQkOnYmJiolz9X8bFpTVhYR8xfPhwZZJWnz59mTt3Ll27+iiT6NOnb779UP4Vtd5/wvDhw/noo5l07twl337/8stFvvvuO+7du4exsbHyY+I5YGhd1W2r/0VvvvkG4eHzePPNN5RJ/ygvr9do2bIFrVu3UiZBTgDuww8/YOLE95VJJTZ4cBBz5nxMhw6vKZMM5uHRjnHjxtGkSWMqVCif74dPLuX3GNIvF1dh/Xhxy83JyREPj3a4urrQqFEjmjVrykcfzWL8+HHKrMVS2Pbl6tWrJ99/H80nn8ylT5/efPDBFLZv38p772kGjtStW4+pUz9g6tQPqFu3nvLjBXpW216Ydu3a0bp1a22g/WnkHqfS1DdprnHm0qdPX2VSgXLrtW6/u3r1So4fP8bAgQOU2QtU2DqOHfuJfv36gYHlrq++/dVyy+5ZtnEhhBD/fhVcGlH14wFU+3REvr+qHw+ggksjZfZCqVQqgoJG0LlzdypXroyDgyOjR4/HyamZMisA1atXZ/jwsbRr1x6VSkXr1q8yatR4rK3rQDHWV2TAnnnHScgCqwbdsMpZNNDBEtIvkXAbLO1DtFl9bS0hK4Hj87SLABUB4Zs5dOI8pw9vZmGgg24iOAaw8Jsojp0+z+nDO1kzxUf7PU/wG07IyEkEj8xd4EDA7PXsPnySX07/xL5vFhBQ0PXWyKXsc6sNgKVbFPu+CUN3nF/FwAVEHD7JLycOEhEeQP4tdCAgfDP7jpzk9JEoIpYNwyNfukJR++MXRsTeKJZptz9n2/ZuJswPYBjL9kYRMXsAk9dEcfrcQdYE6nxufAALd/zE6XM7mQ56ti13XQEFl7+eMtHIXUfPgtdBSbdNU05hG3dq1nkkKl+5+w4JYdz44YzQZtasS/v9mmtHhaK+71mUBYAlvlNWFVjffGdvZt9eDywBU/sAnWNaQgMcsFRB4oEPmLIpHkgiZtkQlmw7TsJtNWa6eXt609gMEmLXcjEdbFuF4JqTVOlCLNsiVrB20nYSSWLb/HhuANXMFO1Q/DXcBjA9fAEdbU1Rm9iwMHwBC8NdsDJWo3JawPQgF6A5lmaQFDeB6JyPRY+LIwkzLFvq1i1TGveNYt/epZq2YV+VaqSR8l3+r9TQ1PkAe1Mwc2H13igiZhf9A+rQocO4ubkxefJEZdI/6v79+3z11Xr+979vtMv+/PNPUlIKvpN++fJvjB49htGjx7B8+QoyMzN56623mD59mjJrqbV+/VfafVi3bh0PH/7Jrl27tMsWL16s/Mg/LiMjg3v37uZbtnfvd4wbN5709PzLxfPj31hX/wnOzi3w8+uOs/NTjQp45saOHcugQUHMn79QmfSXcXd3p1u3bjRu3ESZZLAXXniBSpUqcexYHJ6eXixe/KkyyzP5nr/LyZOnGD48mEGDgti2bTt16tTB19eHDh06KLM+M05OjgwfPpSKFSsyf/58GjVqzOTJH3D37j169+5N165dsbB4kU6dOtKpU0csLF5UrqJAf/W2L1++giFDhkpQVuHYsWM6ffFXVKxYkcDAQJo1a6rMWijddaxfvwETExOCggbg5OQo5S6EEOJfq1J3V8pUrqRcTJnKlajUPTdypp+LixuWltZs3fo/PvnkI+bPD+PevXt4eHhRvnwFZXa8vLypUsWUVauWMX/+x6xc+RnlypWnXTuvYq2v6IA9azl9BbCwpScAPrSxNYVrcURfB5VtMwYCEIKdJXAlHt3x7yqnQUxuZ8bDlGSwaIZv6FIWuuUkeoWx75tQfB1NSbt2leSKtngMWEDEmkJGBFS3xM7eBltNbJWB69YzvXczzO/EERmXTFVHH6avWqUYfayHUTMGTWyHWWYKN4wsae4XymeLckcfexC2fzPT/RyomplCcqYpjb1DWLY/rOCgfWH7s0xTcsrtB6C2Hbb2tlhVB7DC1t6G5n4hDGxlSnJSCuk6n/MYMBHf2g9IvpaMWu+2adbV2Hds4eWvV846Xp/EZC8zHqZcJbVqM3xDN7N7Ss4o7hJt2wA2fBGKfzNz7p78lrgUUxr7hfLFSk05mdexxdbejpwQOpP3bGa6XzOqZVwlOdMMj0kjaJz31KYBx+lZlIUlAzfuZOEADyxJIenaA8yb+jD9myjCDF5HMXyXRDJg5bUg3w2SjeN60L7DEBbpZB3o1xwzkkjYvoKYC2qwbop/zjZt/HgkwaPnshE0+xDWDisg6cK3OmsQfxnH5jR3aIrdC0BFOxwcHHBwccBMDVUdHDCvGAtsJf4KWDbP61c85jTHMusSx3ZBym9niI9PIh01yb/GEx9/SfMeA3tzTLMeohq1mX17o9i3Yz3T++U+XZHCxfh4Lt1RQ0YS8fHxxP9W4NsPtDIyMujWzY+2bdsybNhQZXKpdPPmTdTqB1y7lvfY2J9/PiIiYgsREVuYMWMmY8aM5Y8/rtG2rTseHu20+fz9e7J9+zZOnvyZqKjvGDJksDatX79+7Ny5nffff49Vq1Zy4kQcu3fvxN8/py8H2rZ1Z82a1cTFHeXIkRgWL15Y5A9jf/+e7N69kxMn4li5ckW+R8+VTp48pd2HW7fuAHD3boZ2WUxMLMuWfcZXX61j+vRQjh79kZUrV2i3e/TovLvCo0ePZOfO7fTr1w9PT0+2bIlg7tw5rF69kpMnf2bLlgjc3F5lypTJHD36I0eP/sikSXk3bT76aBZbtkQQFDRIu/2rVq0scF/T0tLIyMjg9u3byiTxnDKkrupyc3MjOnofcXFHmTfvEywsLLRpbdu6s2nTBk6ciCMq6jvGjh2b77NKefmPc/BgNFOmTNY+SZNbbz09PbX5c9uMk5PjE23h+PFjDB8+VPu58ePHcejQQbZv3wY5U0bMm/cJR47EaNu7nZ3mWdPcdc2ePZt58z4hLu4o0dH7tH3K6NEjcXfXnJTd3d2026BLdx1z5855Yh3o7FNxto0C+irdcu/fvz/BwcHacspdV+73t2795NN4RX2fvr7zo49m0bBhA4yMytG9uw/Lln2mWLuG7nfExR1l+fLPtX3ORx/NYvjwYVSoUIGGDRto+zddRX1P2bJlCzxOuYpbDw2hr1wAhg4dyrBhwxgwoD/vvtufChUqYGFRK9/+6du24pxnbGxstFOZhYcvICMjgy+//JJNm74hKSkRB4dGBAcHU61aNapVq0ZoaKj23OLn151vvtmkbXuzZ8/GwsICT0/PEm+7cp267VmXp6cnwcHB9O/fH3KmtRk/fhxRUd9x8uTPbN++LV+5FldRdS83ffbs2Rw8GM2JE8fZtGkDbdvmjTovqn0Y0s5zVayoKrSuFEStfqjtdydNmsypU6cxNzfT9j2G0F3H++9P5Pff/6BatRewsrJ+otwxoL6ZmJgwZcpkDh6MJi7uKGvWrM73NE9unzxmzJhCzwtPI7fdTZ48iS1bIvjxx1i6du2qzCaEEOI5V1CwPldRaUr29g1JS0vl7FnNk/+3b9/m/PmzvPBCTWrWNM+X19jYGCuruly79gcXL14A4NdfL/LHH0lYWLxElSqmBq9PT8A+iW3nk8DYluYDALeO2JhBYsJW1p65BKa1cXYDApthZwyJ57fmzLmsoboVQ1BTd9p3cKfzynjUWOKQM9BzxGBfbFVJRA5tSfsOXrR3fo21Z8HMw58wa52VFKgnbRqYQkoMc7v2JziwC37TVrBxUySa3dWxYAjtD10FIOmQF+3fmIDmZw5gnEzMUCfcOnjh1mUF8Zlg5dBNkzZyON1tVCRGDMHZ04v2ni0J2pWEysaXEbqj5HMUtD/Lj6eDVRsClJmLkhxNYMOWtO/Qg2DdaWHiV+DW1J32nv2ZYeC2FVr+RZWJgqpiAp93cad9By/cuiwhLlOFg29o/lHoxdm23q7YVYeUmLl0ChxJYNcezFi2iY3fxuuuUcMvlG6NVKiPL6Hzq16a/ViegEp3dgV935fjqcrCLYQAF9N829Hk/WhSVDZ0GjaAbe/1oH2HaJKA9Atrad+hBxMilCsphisTmLHsOCnGNviG7uTKpZMc27ueMOUTKgyjo5MpJMXzxSFYdEizX66BitHU1gNYc/g7JruYknJ0BXOm5p8DX/xFlgyhU4dYko2SiJnkRfsOXkw5ngyXo2nfwYugBQCxBE9byxlTX9ZcOs8vv/zGGl9TYpaMZMIhiFk2leDRCaShJvlw3g0Yb5MKYGSDawtIStDchAqYuZMNQZbAJuaOHskPyWpITyB49EimLHtyPs9OnToyfvw47d+wYUOJjY1l6tQpBAS8pcxeKty9m87du3d5+PABGRkZpKam89tvvyqzacXExPLjjz9SrVo12rRpA8C4ceOYNm0a1tbWXLt2DTMzM0JCxhIWFgaAubk59vYN6NOnNw4OjUhPT8Pe3p5x48bh4dEOD492hIXNxtXVhcTEJG7dukXHjh0JDf2wwADD0KFDCA0NpU6dOqSk3KRJk8a0a9dWma1YbGxsaNWqJW+++SYZGfdIT0/XbnetWi9p89Wq9RL29g0wNzenWrWq2NvX5/XXO2Bra0ta2h2cnBz56KOP6NGjB3fupGJiYkJAwFsMHToEAGtraxo3bszgwYMxMTEmPT2Ntm3dmT9/njaIkZp6h8zMTB48UHPv3j3u3JGAvXhStWrV6NevL48eZWNkVB4/v+5MnKh5kUe/fn1ZvHgRjRs3ISXlJlWrmjJ06GDmzftEuRp4In8KlSoZ07//O4SHax7xtLa2xt6+PtWqVdV+xsbGBltbG0xMTLRtoWvXLjg7O5OcnIxa/RBra2ucnBx5993+wGNu376NnZ0tq1evwtfXB7X6AWr1Azp27MiiRYuws7PVrqtLl054eLTjzp1UXn75ZYKDh/PWW4b1o7nr8PZ+HU9PD1JSblK9eg1CQsYyfXoo5OxTcbfN1dWF2bNn06pVS06fPsOtW7fw9fVhxgzNs5C65WRiYsLnn3+Gn193MjPv8+hRNm+/HYCpqal2O/V9n76+0xDK77h37y6enh4sXLgQV9cnbyAUV+PGDoUep+LWQ0MZUi659VOl0n1xUR5921bc88z169e5e/cujRo55Js2bu7cuXTp4sOePXuUH4Gc7QgN/ZBGjRpx8eIF/vzzEb16vamtUwXRt+29evXkww+nYmdXn7i4OB49yiYw8G3ee2+8clXatmJtrfmhOHXqBwQFDaJcubIcPXoUa2tr3n9/YokCs4bUvY8/DuPNN3tw9+49Tp48SZMmjsyYMYNmzZo+8Xll+zCknefy9PQotK78HTp0eI2qVU25efMmZ87EP1Hu+uqbpj9ZRv/+71CmTDnu3EnF1dWF+fPD89V5Z+fmvPPO2wWeF55Wbrvr168vderUITk5mT//fKjMJoQQQhikShVT7t3LIC0tVbssPT0VlaoCtWrVeiKviYkJd+7c5vHjvFfG3rt3FxOTKpib1zJ4fXoC9hATlUBK7jz2ne2wIoVLUbEkxiaSgiW2PpY589enc/V4/qBQ+tU47TQPicnpqLUpAbjaqDSBxqjcZUlMiYkHbGiiN8K9ibiEdDDzYNqRKDZ8Gorvnf0s+XgTBYR9C5d+lWO533/lBmlZeUkBLWxRkUIK3XKmslhA93IPSUeFWZ28ecJzche4PzO6O+HccWS+pw700S0zXUkJc7U3QwzdtsLL33DpJ/do5swGuDKX45cBMyvttCsUd9s2xHExHczcpnFs73qWhfqQHL2YuZsKOHIuVpih5syhvPUnzttDXHpeFr3fl+OpyqKzA1aK7WDTVs6kgKmtayFT6Dyd6Fk9cPbsw4Ql24k5m4bKxgX/0J0cWzcgb5qlkZ40NobEU2s186Mv2M+ZTDBz6pbvSRPXkAA8LCF+WRec35hZYP0Sf5FAS8wzU7iY83JuVwtz0pN167oHYRN70VyVTMy3X/P1hkjikk3xGLyAMM3TUgWKHOqumbP+1R4EDu1De+chbLtiiutAxc20IpQpU0a5SKuotH/S8uUraNXKhcWLP+XddwcY9CLT33//g+zsx1SpYkrduvXo1Mmbe/fuMWHCBLy9O/LOO+9w/foN2rVzzxcQ+uWXX/D09KJtW0++++47TE2r0rRpM65evcq3337LnDlz6d7dj86du3L+/HmsrKxp1+7JH9SdO3ciOzubOXM+oUOH1+nbtx937+p0YiX0559/EhY2h3bt2jN69BhlcqGSkpLw9u5Ex45dOHnyFDVr1mDRokV06PA6K1asomzZcjRqlDefX/nyRsTE/EDbtp60betJZGQktWtb0r275ub20KHD8fBoz44dO/DwaM+UKVN1vk0IjezsbObNm4+X12u899773Llzh4YNNfWsWzcfypQpw6xZs+nQ4XX69OnL1atJTzwZk6tbNx+MjIy0bapdO0+OHz+Oubl5ofOxF+T69Wv4+fXA27sTy5dr3v+RnZ3Nl1+uw82tLYGB79CjRw9sbOqxc+eufG3AxsaGHj16aNd169ZNevbshZfXa6xfv54KFVQ0btyY8PAFHDyoOQEcPHiIvn37FfoyyezsR0ycOAlv745MmDCBtLQ0PDw8tSPyi7ttzZo1pUaN6hw5coTAwHfo2dOfzz77nKgo7YWq1ltv9aN+fU3A1Nu7I15er/G///2P8uXLa/Po+75chfWd778/kXPnzpOV9YgtW7YTFPTkyGLNd9gQGRmp/Y6NG7/mpZcs6NatG++/P5HFi5fw8OFDzp07T5cuPqxbty7fOor6nsKOEyWoh8VVWLnoOnHiZ1auXMXDhw+5du26dv/0bVtxzzMxMbGsXr2GrKwsAgMDOXXqZ6Kj9zF+/DhMTEw4efIUCxcuJDU1ldTUVKZOnUp4+AISEhLYtWs3kyZNpmfP3owZM4bff/8De3t7bt26WaJtd3R0pHLlyuzYsZ0BAwYyaFAQq1ev4YcfNG/+KYqjYxMyMjL45JNwBgwYyMSJk/j66685f/6cMqte+uqes7MzNjY2XL9+gylTPiAw8B1mzpzFli1buXbtusHtQ187x8C6okulqoCfX3f8/LrzySdzcXRswu3bt/npp6PKrIVq0cKZ/7N352FRVf8Dx98IMgIKLkCiAiqgKYuJZEK5gGSYKUqllkZWKu5biOWS4W6auz8lNc3cssRcMiyVvlpguaLiklgJFgouMCw6iPD7Y2BghhkG1Art83oenkfvOfeec8+959w755577tmzZzh79gzLly8nIyOT6dNn6h0UYex8CwkJwdv7KQ4f/lnTnqxf/zn16tkSEtJLE6+868LDkpiYyHPPtad792BiYuQNYyGEEPdH902y8piZmWNmVnIPrcvMzKzC2zPaYU90HBeV4OTak/DmjUCZxE/RJcsdXfsQ0MQRcpM4VuEPbZqDGZCnLPoQY5E0JUpAUTKgx6ClfV9nyuZ4UrCjzQuhhP/fJvb9uKJoip4HpzADsMbJ3V09lYW7O+5NIO3CJdJVutMBGNifv0nl8vZwXcs0/AOACuVtOa/1m8qWI1fAwZugAeFEbfmeQ1EGpkJChaqcJI2n9xCYoicfJ1DmAooaaL8A8xBdjmfLR6N5rXsHPF3eZsslFXbtQ5lU9IZreCd3FIBTt01cvvw7ly+H08YSsPMgqNTbs+52NpCbyIFZeh6KiL/Nuh/P8+tEX6wtvRl87jy/njvPYC8F1m0n8uuPK9QPVUaPoJeLkpixHXht2FSmTB1KyHMfEKt0odeQ4bqbLEcso36+VOZhWnm++WYPH300T/O3fPn/4evrS2TkdD77rDKPGau2atVKLnNeXh7Y2dnx++9/aH64HT9+gnPnzlG7dm28vEp+MCcl/UZOTg4AmZkl87BfvJjEypWfYGpqyrJlS9mzZzdNmzalenUzFArt+ev8/HyxtbUlPT2NH374n2b9o0ePa8W7H0qlkgsXNF8vrrCMDPXUNTk5Ody+fZuCggJu3VJPZ/LHH79z924edevW1cS/fTtX0+EIcPr0Ge7evUvjxk00y4QwpvT5mpmZQV6eeqTj00+3pVEjR3Jzc2nTxpuFCxcwbNgwbt++g6WlBfb22lfY4vil61ROTg4vv/wqPXv24vDhn7Xil+fPP1O5eDFJa1leXh5nz57V/N/d3Z3CwkIsLCw0H2S0sqoJgJ1dyRdlSm9LqcymoKBkNE1F/frrRU27FBOzl9TUVGrXtqFxY/XHqSqbt8TEs2RkZPDcc+2JidnDe+9F8NNPP7J5s3qivNKaNGmKmZkZJ06c1LR7//vf/zRtAxVIr5ihtrMi3N3dyc+/yy+/HNUsi4uLJysrG3f3B+/IM3ScKnse3o/7LRdjebvf68zKlVG88EJXZs+ew8mTCdjZ2TFs2FC2bftSa1ql0g4f/pk1a9bQtKkLUVErmT9/Pk888QTVq5vpfcPMWN7t7e05d+4ct2/f5pVXXmH79mh69uzFrl27KtS5ev78BWrVqsX06dNYvXoVdnZ2rF27rky9rghj597Ro0e5ciWZBg0cWL58OcuXL+XOnTtERUWRmppa4fphrJ5zH+eKj4+PJs1XXnmZ3Nxcli5dXmZasvKkpKSwd+937N37HSdPHqdxY2ciIsLLnAsVOd9atmxB9ermFBYWMmPGdBYuXICjYyPy8/OwsyupS4auCw9T6bIUQggh7ld2dg7Vq5tqzy9fzYyCggJUqjs6cZXk5majUNTQWl6tWjXy8++SkXGzwtsz3mHPao4lqcDBnQBHBVxJZFWp5YrGQfg3Av44znzdVQ3aS3K6em78ks/WQl9fV6xRojUA1RBna1J2TKBzu1Y0c+nAqJh0FI5+BBjq962kvSnpgIqLW9VTWXTuEkjnQaMZNSiQkPd26sbWvz8TFzN9uL/Wh2zNrUpGcDqZlf04QUVULm8PxrqBZ6kOQH98GluDMg1Dt8IVyZuTVQo7JgTi4/kkzh1GE5OqwMkvoOzDlqQ0lMVvdxRr34ZGpR7oVCS9B3ZBTz6cB+LaEEhNKaoPFZCaiQpr3J7TmYsysA1u1lD8RKDNvH38eu4XNmtNvRTLiWQlYIO1C8AkArwUkHqcHdE7S/6+SUSJHW1CSirCqr6tcG7xciXqp3gYPlsQwfpEJapT6xk/KYLxk3aQdE/JsXURjP9wmfrbAo1sUKAkQ2vAYzzKXFDUNfgJbkb+3272R2l36PtZmUNupnqO+0qqVasWX38dTWzsDyxfXvYDfo+yxo3Vr3Bfu3YNU1NTqlWrhkql/Y5NZmYm1aqZYmlZtsNBV//+/YiJ+Zbx48Np1cqLvLy7pKSop9UyJC8vX2uUWn7+Pa3wqqywUD2av9itW7coKLiHqampVjwh7kf16qaYmJhgZWVFixYtNH9gwqVLv5X5iFNxfN069XcpbjNcXV00eatfvz6XLl166J1LBQUFWv/PysqmWrVqBuuasbzFxv7A+PERHD58mPr1HejXrx+ff76e1av137UUFBSSm3tb8/979+5p5clYeg+DqakphYWFWqN1lcpM8vJUZX70PEyVPQ//ScbyZmqqHsGlWycqcp1JTU1l5cooXn75FZ55xpefforD1dWVPn366EaFog8V7969i7CwQTRv7satWze4fl3/R+CpQN6rVzdnw4aNTJnyAYmJZ3Fzc2X48KF8+eXWMtPE6DNp0mRWrFhJRsYt2rd/jsjIqezc+bXWKO5i+r5tUVpFzr3Ro8fxxRdfUlBQQJcuXZg/fx67d+/Ez8+3wvWjsvW8Ioo/GLtq1Wru3LlDamoq27dv141WrqtXr2k+Ovvqq33Zv38/bm5uBs+F8s63atVMMTU1xdGxoaYsnJ0bc/lyCpmZmZp496tVKy82btxg8DsYQgghRLHC7JJ7W13lhem6efM6NjZ1NPPLm5iY0LSpC7m5uaSllXxTj6L7h6ysLGxt7ahZU92/ULOmFQ4ODcnKyuTmzZsV3l4FOuxh/vEksHbH3Q6SzpSMvJx/PAnquuBqrb3cuBSWxyaisvTmze2RhIb0IDjiU8L97CAljk9Kz92u13CiYzax7v8WMb23O06+vvg5WQMqlPqmz72QhhKwqRtKcDffkilFypG8LJZElTV+w7cxfYA//oGhTF+0iT0Hf2Hda7qxDezPgB6E9umJDcDqRFLywSlwLlHDexAa8SkbA3Wn1qmYyuXNgIqWifMLzI0aTnBID0ZGReLvAMqEAwY7qY3mbfQ29m35lKhFkfT1csTP71kcbYCcTNJ0NxZ1gDPKkjILDhlO1Ex/rbwaTa8ijJXF6q85ll46H6HMXdkTdzMVx2KW6cY2bMG3HLsJdv7TOPTVYsIHhBK+cBuH/i8IO5TEbZsJwLEjySgt7fAbuI+oiFCCQ0IJj9rHpPZ2cDORA+vAKdIXdzNIPjKfUWNHl/wNW8+xdLBu1ZWRADgS/lUCv57e/fd8IFcYFBu9k1pW1lxLiVE/TEm3ppYinYuzdrJjX9FTyZ2JJOPCi9sj6esF4E7fyEX4O0Ny4tc6WyxxLKcGrkGDiZ7SAyfAfcAK5gY6qqew0o1cAc8+60ds7A/MmjVbN+iR9tJLL+Hn50taWho//BCrmbe3UaMGNGnSFIrmWm3R4klUqjtcumToUWSJTp06YWFRgwULFtK+fUd69uxFVpb+EXAJCafIycmhbt06BAZ21ix3dXXRivcwWVmVfOTDzOz+OwCKmZub06xZM83/W7R4kurVzblypfyHFEJURELCKZTKLLKzs5k2bRpBQV0JCurK2LFj6dPntTLTnRTH161TEyZEMGRImOaDhSYmJtSqpX66b2VlRbVq9zfN15UrVygsLGT37j2avA0eHMbgwWG8/37JB5ofBgeH+pp2yc3NlYYNHcjKyuLq1au6UaGCecvNvcO0adN46qnWvPLKq/z11194enqUmQ8+PV39qLdp05I3Z9zcmmnNYV+R9B7UlStXMDc315qWy8vLCxsbG1JTU7XiPkyVPQ8p+qZKtWomeHpqf1+oRYsW2NjYlBltdb+M5e3jjz+u9HVm3LhxnDp1ko8/LrljyMnJ4Y8//qBatWp6R8sDBAR0QqVSMX58BJ06dWbChEncvWt4kkljeS8u1/T0dEaMGImHhxcjR44mJycXX1/j7wtaW1sTHx+Pv39nmjdvwfr166lbty7PPNNONyrOzs48+WQz7OxsodQDqJycHBISTlXo3KtZ04pt26J59tnneOopb/bu/Y5GjRxp1863wvWjsvW8Ioo/GLtw4SJ+/fVXnnyyBWFhYbrRKuXGjZuahy2lVeS+5tq1a+Tn5xMfr54SJyioK2+99TYjR47UOxVWZVlZWeHq6oKbm6smf8VvU/6d7YQQQohHz+3tcXo75guzb3N7e8XnR0lIOE716tUJCemNs3NjAgK64OTUmKSkC1y/nk7r1t5EREzB0/MpCgsLOX36JLa2dvTs2ZeGDZ3o0uUl6tatx+nTCdy9m2d0e8Uq1GHP+ktFc3enkLSz1Acr1ycWjbTWWV4BydOHMuObSyi8Qpm+cDFLhvtjnRbPqg+HVmCO7eWMWRRLspU3ofN2c2jLXPo2U5EUvYyZ+j72uXoVey6osAuMZMn8cHTGN+t3eSZDpsWQVMOb0MhPWbcmklAvSIpexgebdSOXsz/TRhdNkzOTeRsSUZo6EhSxmOkDXbm0L55yZnsxrJJ506uCZaKM38uVNuEsWbiY8CBHuLCTyZPKmfvIWN4Wj2HevhQU3qHM3XWQzXN6455/iR3LZpX92CurmTA3hqR76jJbsjCcNsl7iStdaMbSqwijZbGVAe+t5piyOB+R9G0GSdGzGLOgMuf9al57cz6xKeD0dA9GRkYyMsQbp3spxEWN4bXiYt36NuOj4kk2cyFoeCRLFkYyMsgFa2Ui68e/ziocGdTWHUjhxFbd1123EnMmHSzd8R8H0Agne2sU1vbULnkjV/wjQnGyU5GeVHSMnrbnCd23Uw6NZsiCWDKeDGXurt+5fHk3c/u7kxE7nyEjdY9tibjxM1kVn4nHwMUcuvw7eyKDqH1hPaP6llM3yxETs/ex6Ky3tq6leS1869bNzJ//ETVr1uTrr3dw/PgJ4uLiOXMmkYYNGzFp0vuEhPRixozpuLk148KFC+zbt193k2XcvHkTU1NTWrR4Ejc3V2bPnoWnp3oOZF05OTmcOHGS2rVrM3ToEPr06c2cOXMeytQOui5cuEBubi6dOnUkImI8U6d+QOfOnSkoMD7KsjxmZmb06tWTIUPCGDIkjBdffJHc3FyOHTumG1WISsvJyeHw4XhsbW15991xdO/enUGDBvLZZ+v4/vvv8PHx0RvfxsZGU6cmT57Em2+G0qdPb2rUsODSpSRq1KjBm2++wYABA1i+fBkNGpR8jLkyDh36kdzc2/Tt25tBgwbSvXt3Fi78mO+/38uIEcN0o+t17do18vLuYmtbj65du5bpACvm6OioaZcmTJhAgwYN+fXXiwantTCWt/fem8CmTRuYM2c2fn6+tGnThpo1a5GXpyozRURc3E/cvHlD037079+P0NA3qFGjZFS7sfQqIiXlCtWqmfDEE0/oHel86NCP5OTk0qNHd4YMCWPAgAH06fMq9+7d48AB478OihlLR1dlz0OAAwcOkJaWTocOHfjqq60MGRLG0qWLGTt2DNWqVeP7741fT/QpfrCsUCh49dVXaNDAody8tWjRotLXmYsXL1JYCF27BvHxx/M1c58HB/cgOzubkydPaqaDMTdX4O7uTqtWXmRmKqlRowaenp54eHjw/vsTaNSoZPBRZfPu4+PD0qWLWbduLZGRH9KqlRfu7i2xsKhBbm6uVp51NWnSlE2bNrBixf8xduxofHx8cHZWTyuTm1t2CpRLl5IwN1cwYMCb9O/fjzfffJN69epx+fJlcnJyjJ57/v6d2LJlM8uXL+GNN96gbdunadiwAffu5ZOVpaxw/ahsPa+MnJwcoqO/Jj//LsHBL+Hm5kqTJk3ZtWsHcXE/ERT0gu4qGvXrP6G5f1q16hPNx3PPntX+HkBF7mvUAySu8eKLXQkPD6dLl+eZPn0ae/bsYc6cit9rBgQE6G0zExJOkZaWhqOjE/PmzaV//368+GIQhYUF/Pab4Tev5syZw+nTCUya9HAeMAohhKj68uLPkhmxmoxhS7X+MiNWkxdfMtWkMWfOnGLPnl04ODgwatR4unbtzqVLF9m+fSsADRo4Ymtrh7W1DQAHD8by448/4OnpxbhxE3jmmWc5evRn9u1TT4tnbHvFTOrVs6/8RJsPlTv+IS4oUk8QE1+Zzk8198AeuCrSOfFNfMkHQQ3x8sUvM5644o+oVlCl0njA/amsyuVND4NlMpf9l3tjHz8Tz7578evWGuubldun8vNWmXJyrFD65adXAQbLooSTbxCtHVQkRcdW7gPHupx9CWpjB0b2X52eOcqkncTq/05dBbjj7pVI4n2vLwzx8HiKM2dO6i6+L06+QbSum1nJ89cd/xBHVMdiyj1vH6bK7nM9W1tulPPKvCGbNm3ExaUpY8eOM/pD1s/Pl4ULF2h9UT0/P5+kpEusXfspW7aUXPjc3FyZMWMGTz/to3kFPjExkenTZ3D48M+MGzeOoUOHEB29nQkTJgAwd+5cQkJ6sWLFSk6cOM4HH0yhSZMmmJiYkJGRSWpqKk5OjkyePAWAGTOmc/JkAq+/3q9MehkZmZw4cYJnn32WFStWsmDBAk3edOnLC8C+fd9Tq1bNMmUze/YsXn45BIVCQVZWFvHxh3n2WT9Wr/6UP/74XStfFJXxU0+1YvLkKURHb9c8wCiOUxz+yy+/0L59e8zMzMjNzeGzzz5nzpy5mnTLs2/f9wAEBj6vGySqiPuto6UZOlfRc74W19esrGwCA5/HysqKefPm8vzzXTA3V0/vcePGDVasWKn5GGxpuvELCwtJSUlmwYJFbN/+NW5urnz00Ue0bv0UAL///jsZGZk0aODA2LHjqF+/fpm6gJ76UEz9sGoIderUBkClUvHttzFMnDiJF17oUmZbumXh5ubK0qVLePLJJ7l58yYRERO0Hg4W17sLF37F3t6eRo0aUlhYyNmzZ5k8eQrHj5+4r7wBLF26hI4dO2Bmpv6wVely1d1m6W0VFhZy9OgRnJycUSqzNPW3vPTCwsLKnAOl284FCxbg79+JGTNm0KhRQy5f/oM333ynzNRGumlkZWWxdeuXTJs2HUqVl+7xK003nY0btzB69Mhyj5PueYWR8xCgS5fnef/99zTXA4qmWPvqq22a/Oqmg55y0a0jH388n5491R9VX7t2HQsXLio3b/dznRk0aCBhYYOxtbXVyvvatWtZuHAxFE2BM3jwQGrUqMGuXbs5dOgQ48eHa+Zkv3LlTwoKCjA3r/5AeS+uryYmJmXqc2m6x75Pn95a+cnPz+fw4Z/58MMPy8xjb2VlpVUfdK/9VODcGzt2NO+88w61atUCnfM/JyenzPr62ory6nlFzpXSdMuj2KZNG2nb9mnWrfuMXbt2sWzZEurWrcfs2XPYsGGj3m2U7hQvLCzk+vXrbNiwiUWLFpVJpyLnW69ePRk/fjwNGjhgYmJS5tjonvO614Xi/6tUd/S2E/7+nbTuxXSPhb6yjIpaSZcuz7Njx07GjBmrtT0hhBCPnofxG6ayTExMsLW1Q6nMLDPNrj5mZqbUq2fLjRvX9U5XaGx7VaDDXlRNpTvs9f9QEeK/rrKd14+Dyu7z/V5IN23aiIeHO4cOHeKHH/7Hl19+pRvlgbi5udKyZUv++OMPEhIq/zTLz88XG5vaHDx4sMxoVX1atfLCycmZo0ePPjKvbJfu0Lt06VKl8t+ly/M8//zzdOzYQavDT1Q991tHHzYHBwd8fHy4ceO60Yd03Ef8BxUQEIBCoahwndfVosWT5Ofnl+lILN0ZNmjQYDp06EBmZkal9qm8vFWmnKysrCqUfnnpVYSPjw9//vlnuW3Jg6ZBBdPRVZnyKlZ8PUlPT6/wOsY4ODjQsGFDjh4t+Qiqsbzdz3WmVSsvXFxcuHr1qt5tWllZ0bKlO0eO/KJZVvzWwoEDB0rFLHE/eX+Qa7Kfny/16tlWaL8dHBzw9vbm118vlKmLxYyde/cT/jDqeVVTkfOtMsemtODgHsycqX6YMnBgma+cabRq5UWDBg0NHgshhBCPr6ryG+bvJB32woBI9pzrQ624WbR/pzLfJxDiv6OyndePg8ru8/1eSDdt2sizz6rnsN2yZWuZUbvi76c7Arcyike3mZtX5+LFJOmwr8Lut46Kh0N39KoQ4vEj9bxyxowZxaBBg1izZm2ZNwuEEEIIgLr1bLl54/H+DVOxOezFf9BUXmzxpHTWCyH+Fa+/3g9n5yY4OzeRzvp/ye3bt8nJyeHu3XzdIKMWLFiAm1sznJ2bSGe9EOW4ezefnJwcbt8u+0EsIcTjQep55VhaWnHjxnVOnDiuGySEEEIAcO/ePczM1NPtPa5khL0QQtwnd/dWnDt3moKCAt2gx1K1atVo0cKTxMQE3SCDZPSuEFWb1FEhhBBCCCHEo8TCsgZmptXJysrSDXpsyAh7IYS4T9nZSmrXrqu7+LFVu3ZdsrOVuouFEEIIIYQQQggh/hG3c+9QzdSMGhYWukGPDemwF0KI+5SWdg0Hh4bUrWtLtWqPb3NarVo16ta1xcGhIWlp13SDhRBCCCGEEEIIIf4x2VlKFIoa1KpV67GcHkemxBFCiAdgYWGJvf0T1KxpjYmJiW7wY6GwsJDsbCVpade4fTtXN7hcMt2GEFWb1FEhhBBCCCHEo8rCsgbm5haYmpryOHXJSIe9EEKIv410BgpRtUkdFUIIIYQQQoiq5fGdw0EIIYQQQgghhBBCCCGEeIRIh70QQgghhBBCCCGEEEIIUQVIh70QQgghhBBCCCGEEEIIUQVIh70QQgghhBBCCCGEEEIIUQVIh70QQgghhBBCCCGEEEIIUQVIh70QQgghhBBCCCGEEEIIUQVIh70QQgghhBBCCCGEEEIIUQVIh70QQgghhBBCCCGEEEIIUQVIh70QQgghhBBCCCGEEEIIUQVIh70QQgghhBBCCCGEEEIIUQVIh70QQgghhBBCCCGEEEIIUQVIh70QQgghhBBCCCGEEEIIUQWYNGveslB3oRBCCCGEEEIIIYQQQggh/lkm9erZS4e9EEKIv0U9W1tuXL+uu1gIUUVIHRVCCCGEEEKIqkWmxBFCCCGEEEIIIYQQQgghqgDpsBdCCCGEEEIIIYQQQgghqgDpsBdCCCGEEEIIIYQQQgghqgDpsBdCCCGEEEIIIYQQQgghqgDpsBdCCCGEEEIIIYQQQgghqgDpsBdCCCGEEEIIIYQQQgghqgDpsBdCCCGEEEIIIYQQQgghqgDpsBdCCCGEEEIIIYQQQgghqgDpsBdCCCGEEEIIIYQQQgghqgDpsBdCCCGEEEIIIYQQQgghqgDpsBdCCCGEEEIIIYQQQgghqgDpsBdCCCGEEEIIIYQQQgghqgCTevXsC3UXCiGEMMzCwhJ7+yeoWdMaExMT3eDHTmFhIdnZStLSrnH7dq5ucLnq2dpy4/p13cVCiCpC6qgQQgghhBDiUWdhWQNzcwtMTU15HLpppMNeCCEqwcLCkqZN3UhN/ZOMjJsUFBToRnnsVKtWjdq16+Lg0JDffrtYqU576QwUomqTOiqEEEIIIYR4VJmamlKzljUF9/K5ffsO+fl3daM8kmRKHCGEqAR7+ydITf2Tmzev/yc66wEKCgq4efM6qal/Ym//hG6wEEIIIYQQQgghxD+uZi1rVKo7ZGVlPTad9UiHvRBCVE7NmtZkZNzUXfyfkJFxk5o1rXUXCyGEEEIIIYQQQvyjLCxrUHAvnzu3b+sGPfKkw14IISrBxMTkPzOyXldBQcF/Ys5+IYQQQgghhBBCVG3m5hbcvn1Hd/FjQTrshRBCCCGEEEIIIYQQQjwyTE1NH6tpcEqTDnshhBBCCCGEEEIIIYQQj4zHeQIAU0tLqw91FxZzD+yB31MNMDv3B+mapY74deuEd7O63L54hcyS2PiH+NKqoRkXfrPHP8SXJ2vnknRFqYnxcPkzfcsy3myWyteH/tANrDQn3yA6tXXU2dcqznkgURsm0cU0nm9P3U85q4/Zgx0nd0IXrmTBu4N5M6QNfBFDgk64f4gvrVo050mdvwbVL/DHNa3IVYwjft3eYPCwl/AwU3FV63wX/1X29vVJS7uqu1iHO/4hHlgVtSdOvkH4OqpIuqIsamtalqkPT7ZoQr3cJFKKTzJnX4L6D2KQvxP3shLK1BWnHpNYPH8qI98Kxsd0K9+eVC93DwzlzcGv49foHpknH357VrH9L2Fpacnt3FzdxUKIKkLqqBBCCCGEEOJR9Dj/ljGpV8++UHdhseA1v7AkUEHc9Fa8trpoofNc9h/sjSspxPTvQNihouUDNnE60hfiZ+LZ1439l3tjHz8Tz77FK1ZS73CW+DqSHD+a+Vt1A4GQFRxdGITdha04d5mgG2pEb8IXPotT6k+M+ki98UFbEpjsm84W50Aqu7V/zcTd/BrmjurQVDz7r8cvLJK+T8Lp6KmsKj4u5Zr7wMfJb+lBNvdwRJV+iWt/HKPfKxNI1oqhTsNVa5la0tYmdB6vu7SKcB7Iui/C8XdQaBapUmKZ1+9tVl3Wiin+Yzw8nuLMmaLecUMGbuL0uwo+a/Ey84Hw7ed5M2cWnv3XF7U1+j7cqtS0tU5hn7LxXX+cTFWo7ilQKJQkrhvDi1Nji+IOJ/pcOB45icSducSZqaOZf9mf6d8uIrSlNapcFZgrUOQmsn7sS0zZp5PUA6jQ/pdSz9aWG9ev6y42as2a1fj6tgNg27ZtTJkyFTc3V1q2bMkff/xBvXq2KBQKDh48CECHDh2wsKihWf/27TscPHiQnJwczbL7MWrUCJ55ph1Lly7l8OGfdYO1ODg44OPjw40b6v2tV8+Wo0ePkpqays6dO3B1dSEv7y6rV69i2bL/011diH/F/dbRVq28cHFx0V2scfXqVeLi4gkICNDU1Qetj/+UadM+pH59B+bNm8fFi0m6wUaVbqsSEk7pBldI3769efXV3lhZWXHw4EFmzZqtFW6o/O/ezde0O1Wdm5srkyZN5OLFJGbOnKUbXK7i9rZ6dTPNsoyMTA4cOKAV73486PEXQgghhBD/jPv9LfMgGjZ0wt3dnVu3bnHkyGHdYABq1rTiuef8adLEhStXkvnf/w6gVJYMATYzM8XPrwMtWniQkXGTAwf2kZ6uPUqz3ClxdiSmoMKaRt6+JQtD3Ys6Xx1x7Vay2K9tI6xRcfGX++v4LePpIIJDetD1ad2AItFDefOdobw26H6619vQNaQHwUFtdAMeLbOGMmDY2/Ttvx4Ad/+eBIf0JKC5bsS/j7udDXCJ7T6BtC/TWV9CeXw1o8aO1vqb8blurKoj+IPB+DtA4obRtHfuwKjoS+DoT2h4qboghCHN7bG+kUYcAL642SlIu6Kup6v6tsLZuYnW34x4JSgTObAaYDiLxvhT+/h8XnR5kmbNOjAjHtz7T2Ju++IEnLCxVHJs1UsMGDCa+ZfBKfJdQltC3KwONGvxJM0CZhKX707ou5M02TIkKOgFPvhgsu7if5WFhQX5+fnExsZy6tRpALp378H8+fPo27cvEye+z4cffkCrVl60auXFhx9+wMKFCzR/K1f+Hz//HM/YsaN1N10pgYHP07bt07Rr94xuUBm+vu2YO3c2Q4cOZcSIEcydO1vz0OHHH3/k5MkEatRQYG5e8mBBiEfV66/306pzun8jRowA0Kqrj4JWrbzw9++En58vLVu2xNu7NbNnzyIiouIjDNRt1Xxef72fblCF+Pt3Yvz48Xh6emBuXl3r5r6YofIv3e5UdZ06daJdu3Z06NBBN8io4va29L6vXbuGo0d/oU+f3rrRK0z3+AshhBBCiEebuW9LbD4aSO3/G6n1Z/PRQMx9K36/Z2JiwvPPBzFy5DheeOEl2rV7TjcKAHXr1mXEiHfp1KkzCoWCdu2eY8yYCJydGwOgUCgICxtJt269qFmzJu7uXowdG0GrVt5a2ym3w54Fx0nKB6cne+JUtGiQuyMoL5F0Exybh2uiBrs6Qn4SxxdoFgEKQhdu49CJ85z+cRtLBriXCnMkeNwKog/8wulzCRzatYm5xeGjV7C/fSN1rPb72P/VXIJLrak2nFER4YQP7VH0f93tfcrkHo466wAMJ+o7fxwBHPzZ/9025oaUhFr0mMS6737h9Olf2L9uEsHOpVbFkeApn7LnxwR+PXGQPVsiCdUK1+VO6MJt7D9cFF93e16hzN2yW10+h/cRHRVeKnw4Ud/tI3pOb8NlGDKC8NGTGDUagudsI7S5NWCNR+g+9kcNr0Aaxjn1mMS6XQc5fS6BowdKp6/OnzrNRnT+rlSa+qiusSN6p9Zf7CkgZC7R3+0jKiKUJbt+4fS53UzHWL6LyybUcNmUm/ciXqEs+WofR0+rw6NG+2uCLC7EsyN6Nesn7SSZFHYsSuQaUNtOZxtCaOlN+MLFrGvTCLCn78LFLFk4CNd6Kqi/mCURejoR2s+l79PWJMUsZRXAlK604Tif9V1OIgAprJrwMat2HiO9jrqu7//OH0es8ei3j/3frWAk0MnFUd3pH5Wi3u7l1Ry4oIT67oRqJVjWoUM/0r59eyZPnqgb9K+6ffs2Gzdu4ssvv9Isu3v3Lunp+p+g//HH74wdO46xY8exfLl6BPuAAW/RvXt33agV9u677zJ4cBiLFi3RDTLor7/Kjmz96KN5HD16jIKCAt0gIR5JmzZt1NS3DRs2kJd3l2+++UazbNmyZbqrPBISEk4xYsQoBg8OY8eOnTRu3Jjg4B506dJFN+rfpk6dOlhYWHD06DECAgINvpGTl3eXDRs2aMp87NhxTJjwPvHx+kf6VDWrVq1m6NBhmoc79+Po0aOafd+8+Qusra0ZMWIE3t6tdaNWiO7xF0IIIYQQjzaLXn6Y1LTQXYxJTQssevnpLjaoQQNHfH3b89NP/9O8Va9PYGAQtWpZ8+mnUSxa9BFr1qzE1LQ6nToFAuDr2x5HR2e+/vpLPv54NosWzSU7Oxt//0CqVzfXbKf8DnvWc/oy4OCKupupB8+6WkPqMWKvgsLVm0EAhOPmCFxORD2GVE3RajCTO9mRl54GDt4ER65gSdEIUf95a5k3OggPayVnfk4kr7EvfSPXsk5Pf5Z+Trg2d8GtsT0AfnPU23MzSyIuNhEa+zNo/gomV6JzGhoRNPMNPMyUpKmscfUfyLyPizuhHRm0ZTdLBvrjSDop6eD4dCjTv97EIL1p+DP3wDamh7hjk5tOyq0auPoPZMkXK+iLesqVzZ9F0vdpR7gUx7F0azyChjNv5aSihyPq/fN4YRKTA+3IS79Cho03wZHb2DOl6EFEXUfcmrvgqn62UZbRNMrnFLaJb5YOxL8xpKWkc9tOnf7+OQ9xlHnRPvgPnEhwozukpaahMprvorIJftfg+WUo75qyC5zL/q8iCfayJjM1nUxrd4LGrWD/PHWn/ZaPRjNq7Hy2gPrYz+2EE5ByYW9RxoXQI8idNu7ueDgoUJnZ4O7ujnubNrhaqjBv4E6jund012Dk6GBcc+PZMj4eih+Kpibx7YC5bN61j/3f7WbzUNg+dgLzd0L672dITExBiYq03xJJTLxEOrD+SBIqa3cCworOceeBBDS3RnnhgFa7rE9OTg49e4bQsWNHhg8fphtcJV2/fh2V6g6pqSWvjd29e4/o6O1ER2/no4/msXfvd1hb16JtWx8AOnbswLp1azl27AiHD8exbNkSTadOQEAA27dHM3/+PNauXcPx40cZMWIYb7/9NqNGjSIgIEDvNhYs+BgHBwdNHoqlpqZy584dlMr7/T6IEFVbQsIpTX27ceMWAFlZOZplcXHqNq1Y+/btiY3dz7FjR8rUm44dO7B162ZOnDjGvn3f8+6772qtq6sk/nEOHoxlypTJWFlZacJDQnrx1VdbNeFz5szRpNe/f392795JRMR41qxZzYkTx9izZzd9+5bcgA4bNozhw4czcODbvPPO25ibm+PgUJ/du3fSv39/o2kYY2VlxZQpkzl4MJYTJ46zdetmOnZUjzKfPXsWI0YMx9zcnBYtntRKU58bN25pyjw6eju7du0iNTWVqKiVbNy4genTIzly5GfWrFG/AVtevmfPnsX27dGMGDGMPXt2c+LEMT79dI1W53d5edcNP3bsCOvWrTX4hlJAQACjRo3i7bffhqJ1IyLGs2/f9yQknGTnzh1ax0UflSpPs+/vvfcex4+fwN7ejrZt24KR/S0+FyZPnsT27dH8/HM83bt31xz/4rdCdLehe74JIYQQQoiqS19nfbHywnRlZt5g1aoVHDwYS2Gh/oF4lpaWODk1ITX1Ly5evADAb79d5K+/UnBwaECtWtY0b96CzMwMzp5VzyRw8+ZNzp8/S506ttjaqvu4Md5hn8KO8ylg6UqbgUD7rrjYQXLS16w/cwmsG+HTHhjgjZslJJ//WmtKFMWNOMJad6Bzlw50W5OICkfciwbEpx2JISZ6NWE+gbw24HU6T40lHTs8XugBi4fS+dAVdQ4OBdL5lQnsKLVdfbp6u6DIT+TrDq8TNux12o+dz5bNX1N2JsvlhHWJJQUgNZbOXV5mQnRJ6Jm1z+MTEEhnn6HEpIKi+bPqhxLtwwn1tUYZP5NuzwWq92n5cVR1ffVPkzJ6BL1cFCR/M1S9vYC2BK4+jhJH/AYAJHJgZwzrP3qJ9q+8zYDubVl/FhTNfLVGwypqJPHJSx3o3CWQ9i8t51iuAvfgyDJvHOx472XWX1ACSs6sD6Rz2PIKp6GfL+H9fLHOPc7S4vQ9JxCbrsC120gGsZywLoFFaV5hf5fiNPWzbh7K/u/2lfzpvjWRuJr2rTvQOeBtZlQw34bPL/15j0lRUcsllDbAyCHBuJqmsGNYWzp3KTreKQpcXxrByFJp4DyQdT9+z2Rfa9KPrGbe1KLRy0LoEzOV17qs5+IdFWe2BqrPra+TUN1MZFWXQELe0xmt134xvZ9WlIyuB1ztrVGZ+7JlShD2ORdJUVrj8Vok23epH1jFRU1l1NgkMlGR9mOpB0uLxzDjm3TaRBzk13Pn+fXAJNpc3crkCfqnKXvxxa5ERIzX/A0fPoz4+HimTp1CaOgbutGrhKwsJVlZWeTl3SEnJ4eMDCW///6bbjSN/Px7mJiYYGZWHX//TsydOwc/P1+Sk1O4ceMGXbt2JTLyQ6ysrKhd24bmzZvRvftL+Pj4kJaWhkqVh7OzM82bN6N2bRv8/HyZM2cOzzzTltOnz3Djxg2Cg3swY8Z0AHJzc8nMVJKXd4fc3BwyMzPJzMzSzZYQ/zm1a9emf/9+3LtXgJlZdUJCejFx4nsA9O/fj2XLluLh4Ul6+nVsbKwZNmwICxZ8rLsZKBM/HQsLS95++y0WLlS/4tm/fz8iIz+kZcuWXLx4gbt379Gnz6uaempvb0/z5k/St28fPD09SE+/TuPGjZk6dSpDhoQB4OLigqurCwpFyXdsSjOWRnmsrKz45JMo3n77LUxMTLlx4wZPPdWaxYsXP9BULrpcXFx45pm2vPrqq+TkZKNUKo3m29nZGU9PD8LCwrC0VE9LFhDgrzlWhvK+aNFCunfvXib81q0M/Px8WbRoIf7+nXRyiKbddXZWj3yZOvUDwsIGY2pajSNHjuDs7Mz770+s1FtSBQUFVKtWjRo1FEb3t/hc6N+/H40bNyYtLY27d/M0x9/Kyoo+fXrz4YdTcXNrxrFjx7h3r4ABA97kvfcidJMWQgghhBCPsezsHFJT1X3VhtSqZY2VlRW3bt2ksLDkk7HZ2VlYWdXC3r4+tWpZk52dQ2ZmhiZcqcxAoTCnfv36mmVGOuwhbl8S6cXz2Hdzw4l0Lu2LJzk+mXQcce3hWDR/vZIrx7VHUymvHKP4E4nJaUpUpcISt85n/taLtJmzmKgtu9k/rg12gMKq5GlCZXybmAJm7oSeOEj0urmENzrL+qmriavUB0KvcHFBcYdsLBmlPzTczR0nVKTd8SR84WKWLFxMuCNcy9c/TUro064oSOHs5uISgOTpL+PZ7iVGrQMux7Nq6jIOmA1kycJPif5uHz1dALMa1Cq1HWXCt8wv3ofL8zn+B2DnRIVe2qhgGvr1xN0ZVOfjS9JnK9sT0sHalWdLTSNUIdb2ODo2Kvmrb4dNqeCUpPklD3sqmG/D55f+vIc914r2A2ZyjFD8XBRwKx26qY/lkoU9IVcJlna4lXpjwi88FH9HSIx6CZ9XZmrSE8Iwd+zrppF+RP0/P1c7FOkpeke5jxz9Ak7KktH1xRSONTg29SU69x3KgFc60G3xcfAKZlo5fTlOYXMZ360RyrOxbN/6BdsPXULVrDdTZg7U+0aNiYmJ7iKN8sL+TatWreaZZ3xZtuz/eOedgfToofvoskTHjh1o1+5pbt/O5ezZc1y5coW9e/cyb958evUKoVu37pw/fx4nJ2c6dSrpSLp6NZWQkJcJCnqRVau0H3Z4e7emXr26HD58mAED3qJ3776sXPkJ+/apv+obE7MXX18/pkyZypQpU/H378yRI79obUOI/6KCggIWLFhEYODzvPfe+9y6dYsWLdTzRfbs2QMTExNmzZpDly4v8Prr/bhyJYWOHTvo7eTt2bMHZmZmzJv3MV26vECnTgEcP34ce3t72rV7hqSkJL75Zg+TJk2md+/XGDduHH/++RfNmzfXmkc/K0tJv3796dLlBebNUz8c6N79pVIpwYkTJ1mz5lPy8vJITb3KSy/1YMOGDRVOQ5+QkBC8vZ/i+PHjBAV1JTDweRYvXoKlpQXBwcG8//5Eli1bTl5eHufOndekqY+ZmSm9evUgJuZbzd/s2SUfb7179y5z586jU6fOjB07rsL5/uKLrXTq1JnXX+9HSkoyjo5O+Pn56s37ggULyc29jZeXpyb88OGfNeHr139OvXq2hIT00mzfEC8vT3Jycvj444UMHDiIiRMn8cUXX3D+/DndqHr17dub5s2boVQqSUg4VeH9TUxM5Lnn2tO9ezAxMdpvUnp5eVGzZk127drJwIGDGDw4jLVr1/HTT+qv1AghhBBCCFHMzMwcM7Pquos1zMzMqF7dTHexXkY77ImO46ISnFx7Et68ESiT+Cm6ZLmjax8CmjhCbhLH9A/k1MORQRt+4dCWuYzs5otr3RpkJiaRrhutEuLG9mPU4hiO5djg4debkZGfsuf0NiZrPtL4gEwBFNg3dVdPc+Hujru7DXmXLpGWWXYElsIMII+MQ7ohRQLnsv/X3awb1wf/p52wUaVx5g/jUydcyzQeR+M+0yhNpSp54gNwQnkHUKCoq7XYKOWR+eoPYRb/Pfe23g5MeDj5Rk/eS5iDGWDlWOpYuuNKOkkX0rld6lvE7nY2kJvIgVnq2cSFKM/0Xef59Vwwrjji/8l5fj13nnUvOIJLML+e26b+PkMxPaPrAbJUqNvZDSVvcyQviOdMrh2Ohj7CXfRWieLU54R0f5sJU6cyYUAg3TYkYtc+lHA97eA33+zho4/maf6WL/8/fH19iYyczmefGaydVVqTJo05e/YM58+f5bPP1tGokSMHDsTy+eefc/FiEitXfoKpqSnLli1lz57dNG3alOrVzVAoSuaJ+/PPVC5eTNLabrHExLNkZGTw3HPtiYnZw3vvRfDTTz+yebN68iwhhH5KpZILF84DkJmZQV5eHgBPP92WRo0cyc3NpU0bbxYuXMCwYcO4ffsOlpYW2NtrD+Iojp+ensYPP/wPiqb0evnlV+nZsxeHD//M4cM/s2bNGpo2dSEqaiXz58/niSeeoHp1M61pTI4ePa6p68ePH+PGjZvUq1ePp59WT6VSnoqmoU/Lli2oXt2cEydOkpOTA0UfpU5LS8fJycloh39pJiYm2NnZ4+TkqPkrXWaly50K5jsvL4+zZ88CcPFiEirVXc36+vK+cmUUzz77HDNnztKEFxYWMmPGdBYuXICjYyPy8/OwszM+IOf8+QvUqlWL6dOnsXr1Kuzs7Fi7dp3BNhng6ad9OHv2DBcunGPu3LnUrFmT7du/Jjb2hwrtL0BS0m+a/dF17tw5bt++zSuvvML27dH07NmLXbt2lenYF0IIIYQQIjtbSW5uNgpFDa3l1apVIz//LhkZN8nOzqF6dVPt+eqrmVFQUIBKVTKNsvEOe1ZzLEkFDu4EOCrgSmJR55J6uaJxEP6NgD+OM193VYNC6eVrB2fX095TPSVJyIY0butGqxRrlKeWEfJcK5o1a8KLqxNRWXvjX/xN2gd1IQ0lkPbzW+ppLroE0rnLaEaF658KZm9KOtAIt3GlFvaexJLI4fh7QfBr/rgq0ol9/0k8nwukc/fXOZNTtuPfuoFnqdH0/vg0tgZlGoZ/upSoaBr6XSRNCdaN2pRK35FBTzoC6SRX+OFM5T1YvjGc95mLCX/NFyf2kpwO5CexRXMsA3krfDRv6UyRtKpvK5xbvFyJc1v8l327MoLxsWmQGsuMSRGMnzSfuHRI3hvB+PD5Wh3zhkbXH/g9BcwUWm+g0N4FO0tQGXxu5Y5dHVDlXNOaliz5LyVKbLBrXmqhHrVq1eLrr6OJjf1B87HWR9GNGzfYu/c7vv02hi+++JLhw0cwfLh6kqv+/fsRE/Mt48eH06qVF3l5d0lJKf91Nl2xsT8wfnwEhw8fpn59B/r168fnn69n9erSR1YIUVHVq5tiYmKClZUVLVq00PyBCZcu/aZ1E1s6fl5evsHpsN599112795FWNggmjd349atG1y/XvajUPn59zT/Tkq6RF6eChMTE6pXN9WKp09F09CnWjVTCgshN7fkrrc4fd2OZGPu3s3nk09W07Klh+bvnXcG6kbTeJB8YyDvpVWrZoqpqSmOjg01x9LZuTGXL6eQmZmpG72MSZMms2LFSjIybtG+/XNERk5l586vyx2dn5KSwt6937Fnz7d8/vnnvPnmAGbMmAkPYX8BNmzYyJQpH5CYeBY3N1eGDx/Kl19uZfr0SN2oQgghhBCiCirM1n/vipGw+6FUZpKVlYWtrR01a6rv62vWtMLBoSFZWZncvHmTmzevY2NTRzNfvYmJCU2bupCbm0taWsk3+irQYQ/zjyeBtTvudpB0pmTk5fzjSVDXBVdr7eXGXSMzF6jvRm9fR5x8BxI101972oaiDnKbuqEEd/PVO6VDCV+WHNzNuv9bQVSYL05e/gS42KNAhUr9HTQd6g5dLO0IDQnCT+9HY3Ws/ppj6eAavJGo4UH4BwYxMmoF23edZ/9Mb93YJC+LJVGloM0b25g+oAfBIeGsG/cGwQP60MsGTtxUAtY4+vbGHXf6Rm7jTW89ndLOLzA3ajjBIT0YGRWJvwMoEw5odfwVW5WSDiiwadKD4ED3iqeh12p2/JIOjv6a9EPnrKBnS1Adj6HsI4qH58HyjcG8j+rfg8Eve5NMCstjE1FZ+zJqeyShgf74D4hk0We7OXT0U/VHgQFwJPyrBH49vZu5ekYoC6Er7pud2FjboEo9y/roneyIro21jZIrx3ey45v4ks50A6PrAeLm7iXR1Js3t0fS14uS9jH3ON8anB55NXEXVFh7h6rbQIrW6+eNdW4ScUYesD37rB+xsT8wa9Zs3aBHilKZxdix4xg7dhwTJkzQGgHZqVMnLCxqsGDBQtq370jPnr3Iyqr8/PK5uXeYNm0aTz3VmldeeZW//voLT08P/Pz0fMtECFGuhIRTKJVZZGdnM23aNIKCuhIU1JWxY8fSp89rZaaCKY5ft24dAgM7a5ZPmBDBkCFhODg4EBDQCZVKxfjxEXTq1JkJEyZx927pSRnVXFwaa/7doUMH6tSpg1KZRULCKa14+lQ0DX2uXVPfhDdt2kSzLDCwM7a2tmRkZJb5WO/D9CD5xkDe/f07MWPGNPz9O3Ht2jXy8/OJj1dPiRMU1JW33nqbkSNHEhY2pNSW9LO2tiY+Ph5//840b96C9evXU7duXZ55pp1uVI2rV69p2v3Jkz/g8OGfNWEPur/F0tPTGTFiJB4eXowcOZqcnFx8fSs0OaUQQgghhPiX3d4ep7djvjD7Nre3P/g0h61bexMRMQVPz6coLCzk9OmT2Nra0bNnXxo2dKJLl5eoW7cep08ncPduHgkJx6levTohIb1xdm5MQEAXnJwak5R0gevXS+aeqVCHPesvFXU0pZC0s9RHN9cnFo301llu1Go+iU5Eae3LyC0HObRlEm2Sj2uNDGX1KvZcUGEXGMmS+eGUM3UzEM+oaetJVDkSNHETh3Z9Sri/NcnxnzOvZCrPUlbzScwlVA7+TF+4iPCXdcP12cqA91ZzTOlIUMQK1q1ZQXiQPdfiP2fGpOO6keHyTIZMiyGphjehkYtZsnA4/nXT1B+MPATJy7YQmwKuIXPZc3k3c1+z4cypssNnlfF7udImXD1nfpAjXNjJ5EkGet+WbSEuXYF7/8Us+XAEjSqYhiFb3pnAqiNKnILU6U9/zR0u7GTGmFLzzf8NKlo25TGY93fVjxqSpw9lxjeXUHiFMn3Np6yLDKWN2SV2LJqq/oAnAI1wsrdGYW1PbbtSGxeiHO721lxL/Un9n/Yu2FnqvpHiSPg4/aProajt+DiWjCdDmbvrdw5tmURQnSTWTxjDUt24pSx9N4L1F2zUbeDlovVqGV+PornXH/XOemNu3ryJqakpLVo8iZubK7Nnz8LT00M3Wrnee28CmzZtYM6c2fj5+dKmTRtq1qxFXp7K4HQKQgjDcnJyOHw4HltbW959dxzdu3dn0KCBfPbZOr7//jt8fHz0xrexsWHo0CH06dObyZMn8eabofTp05saNSzIzFRSo0YNPD098fDw4P33J9CokaPWdgA8PDyZM2cOffr0ZuDAt7G2tubEiRNl6vLVq1fJyspCoVDw6quv4ObmWuE09Pnhh1iuXr1Kp04diYgYX5T+O1hYWHLokKF5FB+OB8k3BvI+btxY+vTpyzPPPFMUfo0XX+xKeHg4Xbo8z/Tp09izZw9z5pR/jWnSpCmbNm1gxYr/Y+zY0fj4+ODsrH6okpt7f+3rg+4vwNKli1m3bi2RkR/SqpUX7u4tsbCoQW6u+kNXc+bM4fTpBCZNmqi7qhBCCCGEqALy4s+SGbGajGFLtf4yI1aTF6+eCvJBNGjgiK2tHdbW6nkSDh6M5ccff8DT04tx4ybwzDPPcvToz+zbpx5QeObMKfbs2YWDgwOjRo2na9fuXLp0ke3bt2pt16RePfuSz9b+49zxD3GBpJ3EGhrQ5OWLX2Z8hT8e6+QbRGsHFUnRsRifddwdP18lcfGVedhQ2TTAPbAHrop0TpQeYVvEyTeI1nUz9YTNZf/l3tjHz8Sz7178urXG+uYJYiqQVydfX2rFx2vyZjiNCnL2JaiNHaryjtPf4IHzTUXyrj4HFamGytYdd69EEvWuK/6LPDye4syZk7qL/xbugT1wzDF0bhpSgXb1AVR2/+vZ2nKjklMQAGzatBEXl6aMHTvO6IhTPz9fFi5cQFZWNoGBz+sGQ9Eo0A8+mEKTJk0wMTEhIyOT1NRUnJwcmTx5CgAzZkzn5MkEXn+9n2a9TZs28tRTrZg8eQp7937H0qVL6NixA2Zm6g/F3LhxgxUrVpb5QK0+48aNY+DAt1m9+lMWLFigGyzEv+J+62hp48aNY+jQIURHb2fChAlaYfv2fU+tWjU1dVm3vlpZWTFv3lyef74L5ubqDzSVV6904xcWFpKSksyCBYvYvv1r+vTpzfjx4djZqZ+0X7nyJwUFBZibV2fs2HG0a+fL0KFD+Omnn2jdujW1a9tw79494uMPEx4+ntTU1DJ5/vjj+fTsqf7ItXpO9YsVSkNfeQD06tWT8ePH06CBAyYmJqhUKr79NoaJEyeRk5NDSEgvve1RaXPnziUkpBcrVqzU257o7gNgtGxGjBihae+io7fr3Y6xvOuG5+fnc/jwz3z44Ydl5qLX3U/d/FVmXX10t6e7v4aOU+l9Tk9P56OPPqJ166cwMTEpc75FRa2kS5fn2bFjJ2PGjC2VuhBCCCGE+Ls9jN8yfxczM1Pq1bPlxo3rWtNxFjMxMcHW1g6lMhOVquxboP9yh70wrHSHfdkfrEKIf0dlO6wfN5Xd//u9gG7atBEPD3cOHTrEDz/8jy+//Eo3yn3x8/PFxqY2Bw8eLDOStqIcHBzw8fHhxo3rRh8mFIuIGM9TTz2Ft3drPvlktd4ONiH+DfdbRx+2ytYrY/EDAgIAOHDggNby0g8XFi1ahI+PD8nJl41OhePg4EDDhg05evSoZpmhNCrKz8+XevVsOXr0KKmpqbrBf5sHzTcVyLux8PI8yLr6PIz9dXNzpWXLlvzxxx9GzxUhhBBCCPHPqCq/Zf4O0mFfZUWy51wfasXNov07lfk+gBDi71TZDuvHTWX3/34voJs2beTZZ9VzBG/ZslXvKNVHyb593+Pm5kpe3l2DI2KF+Dfcbx19VJX3NoAQQgghhBDi0VG3ni03bzyev2Wkw14IISqhsh3Wj5vK7v9/rTNQiEfNf62OjhgxjIEDB7Fr106mTJmqGyyEEEIIIYR4RNjUrkNOdjb5+Xd1gx550mEvhBCV4O7einPnTlNQUKAb9NirVq0aLVp4kpiYoBtk0H+tM1CIR43UUSGEEEIIIcSjyMKyBmam1cnKytINeuRV010ghBDCsOxsJbVr19Vd/J9Qu3ZdsrOVuouFEEIIIYQQQggh/lG3c+9QzdSMGhYWukGPPOmwF0KISkhLu4aDQ0Pq1rWlWrX/RhNarVo16ta1xcGhIWlp13SDhRBCCCGEEEIIIf5x2VlKFIoa1KpVCzOz6rrBjyyZEkcIISrJwsISe/snqFnTGhMTE93gx05hYSHZ2UrS0q5x+3aubnC5ZLoNIao2qaNCCCGEEEKIR52FZQ3MzS0wNTXlceimkQ57IYQQfxvpDBSiapM6KoQQQgghhBBVy39jPgchhBBCCCGEEEIIIYQQooqTDnshhBBCCCGEEEIIIYQQogqQDnshhBBCCCGEEEIIIYQQogqQDnshhBBCCCGEEEIIIYQQogqQDnshhBBCCCGEEEIIIYQQogqQDnshhBBCCCGEEEIIIYQQogqQDnshhBBCCCGEEEIIIYQQogqQDnshhBBCCCGEEEIIIYQQogqQDnshhBBCCCGEEEIIIYQQogqQDnshhBBCCCGEEEIIIYQQogqQDnshhBBCCCGEEEIIIYQQogqQDnshhBBCCCGEEEIIIYQQogowada8ZaHuQiGEEEIIIYQQQgghhBBC/LNM6tWzlw57IYQQf4t6trbcuH5dd7EQooqQOiqEEEIIIYQQVYtMiSOEEEIIIYQQQgghhBBCVAHSYS+EEEIIIYQQQgghhBBCVAHSYS+EEEIIIYQQQgghhBBCVAHSYS+EEEIIIYQQQgghhBBCVAHSYS+EEEIIIYQQQgghhBBCVAHSYS+EEEIIIYQQQgghhBBCVAHSYS+EEEIIIYQQQgghhBBCVAHSYS+EEEIIIYQQQgghhBBCVAHSYS+EEEIIIYQQQgghhBBCVAHSYS+EEEIIIYQQQgghhBBCVAHSYS+EEEIIIYQQQgghhBBCVAHSYS+EEEIIIYQQQgghhBBCVAEm9erZF+ouFEIIYZiFhSX29k9Qs6Y1JiYmusGPncLCQrKzlaSlXeP27Vzd4HLVs7XlxvXruouFEFWE1FEhhBBCCCHEo8rCsgbm5haYmpryOHXPSIe9EEJUgoWFJU2bupGa+icZGTcpKCjQjfLYqVatGrVr18XBoSG//XaxUp320hkoRNUmdVQIIYQQQgjxqDE1NaVmLWsK7uVz+/Yd8vPv6kZ5pMmUOEIIUQn29k+QmvonN29e/0901gMUFBRw8+Z1UlP/xN7+Cd1gIYQQQgghhBBCiH9MzVrWqFR3yMrKeuw665EOeyGEqJyaNa3JyLipu/g/ISPjJjVrWusuFkIIIYQQQgghhPhHWFjWoOBePndu39YNemxIh70QQlSCiYnJf2Zkva6CgoL/xJz9QgghhBBCCCGEqJrMzS24ffuO7uLHinTYCyGEEEIIIYQQQgghhKjyTE1NH8tpcEqTDnshhBBCCCGEEEIIIYQQVd5/4cX/cjvs3QN7EBzij7vWUkf8uvUguJsvTlrL3fEP6UFwoLvm30G+jloxHojzQKJ2bWNJ/4ezTfdAffsg/mlOvkF6zrHSis63QMMxymN8+1XJ31BvHgKnsBXs+Woxoc66IQ/CEb9uw5m+MJKRj2U9dMe/1Hnn5Bukc1zdCV24jf3f7WP/ukm0KRVSceq64e+lvdQ9MJTwOXMJH/ConPdCCCGEEEIIIYQQophJvXr2hboLiwWv+YUlgQriprfitdVFC53nsv9gb1xJIaZ/B8IOFS0fsInTkb4QPxPPvm7sv9wb+/iZePYtXvEBTdzNr2HuqA5NxbP/et3Q8vUOZ4mvI8nxo5m/Vb1o7oHf6WsXzwzP11mlG/+/QE+Z/BsGbUlgsm86W5wDmaAbCMBANp+ehF/6VpwD9Mcoj/HtVyVzH369eQgm7zrPIC8VcVNb8do63dD74DyQdV+E4++g0CxSpcQyr9/brLqsFbNK8vB4ijNnTuou1jZwE6ffVfBZi5eZD4RvP8+bObM0bZff0oNs7mFDcvwxzl6IIWzq/VRCdd2wj2lC5/EA/kz/dhGhLa1R5arAXIEiN5H1Y19iyj7dde9fhfa/lHq2tty4fl13sVFr1qzG17cdANu2bWPKlKm4ubnSsmVL/vjjD+rVs0WhUHDw4EFycnI067m5udKhQwecnZ04cuQYBw4c0Ap/UH5+vtSrZ8vRo0dJTU3VDX4gpfcvIeGUbjCUSv/8+XM8+WQLbty4TlxcvFacgIAAFAoFKSkpuLg01WzPwcEBHx8fvetUlJWVFR06dEClUnHgwAH8/TsxePBgDhw4wKpVD95ulc4joFXWO3fuwNXVhby8u6xevYply/5Pd3VxH+63jrZq5YWLi4vuYo2rV68SFxevOR9166r4Zxk7Drp1u7KMbb8qeRht4d9h2rQPqV/fgXnz5nHxYpJu8GOhb9/evPpqb6ysrDh48CCzZs3WjQJA165d8fV9ht9++4O9e/eWud5aWVnRtWsQrVs/xYkTJ/n225gy552DgwMvvPACTZs2Jj7+Z7799lutcIquqc8++xwA33231+C1V5ebmyuTJk3k4sUkZs6cpRtcruLzr3p1M82y4vaytId9fdWnvHuaB9nHh8lQHovLMScn577arIrccz2O/q79Lr6GmJmZcfToUezt7QzeI1y6dElv2n9X3ipL9xoxatQInnmmHUuXLuXw4Z91o1dZrVp50bhxY86ePfuvXVOM3RvolnVlGdt+VVJVzm9dj/K9x/3+hrlfZmam+Pl1oEULDzIybnLgwD7S06/pRtOoWdOK557zp0kTF65cSeZ//zuAUpmpCa/I9sodYb8jMQUV1jTy9i1ZGOqOKwCOuHYrWezXthHWqLj4y99zQ8GsoQwY9jZ9K9tZD/B0EMEhPej6tG7Af5iUiaigGSPeIuyd1x9OZz0Q/MFg/B0gccNo2jt3YFT0JXD0JzS8VDvzqGtuj/WNNOIA8MXNTkHalZK2y93OBi7/QL++b99nZ31ZTpHvEtoS4mZ1oFmLJ2kWMJO4fHdC352kG7WMoKAX+OCDybqL/1UWFhbk5+cTGxvLqVOnAejevQfz58+jb9++TJz4Ph9++AGtWqlfMbCysmLOnDl8881uPvhgCm+++SbLli3h0KH/MWjQQJ2t378RI0Ywd+5szcOEh0m9f/N5/fV+ukEaI0aMYPbsmXTr9hJz585mxIgRulGYOPF9pk6dQq9ePbW25+vbzuA6FdWqlRcffvgBEye+D0CHDh145pm2dOjQQTfqfSnO49ChQ8uU9Y8//sjJkwnUqKHA3LyG7qriH/b66/1YuHCBwb/i80y3rv7XvPrqKyxcuIBXX31FN+gfZew46NbtyjK2/arkYbSFD1urVl74+3fCz8+Xli1b6gY/Fvz9OzF+/Hg8PT0wN6+u9aO1WLt2z/D999+xYsVy3nzzTSIjp7Jr1w769OmtFefrr7czf/48+vfvz/z589i9eyf+/p00cYYMCWPv3m+JjJzKm2++yYoVy9m+PRo3N/WvWDc3V7Zu3cymTRsZMWIYI0YM48svtzJ7dsU6pjt16kS7du3u69pXfP6Vbi83bdrI0aO/MHToEE28h3191Uf3Olvag+zjw2Qoj8XleL9tVkXuuR51TZo0ZerUD5g69QOaNGkKf9N+d+zYgR07vmbFiuWaY1XePcLrr/f7x/J2P3SvEYGBz9O27dO0a/eMbtS/xcO6b3j99X7Mnz+f7t176Ab9Y4zdG+iWdWUZ235VUlXO79L+C/ce5r4tsfloILX/b6TWn81HAzH3rfg+KxQKwsJG0q1bL2rWrIm7uxdjx0bQqpW3blQA6taty4gR79KpU2cUCgXt2j3HmDERODs3hkpsr9wOexYcJykfnJ7sqZmyYpC7IygvkXQTHJuHa6IGuzpCfhLHF2gWAQpCF27j0InznP5xG0sG6EzQ4BXKkq/2cfT0eU7/uJt1U3oYnhojZAThoycxanTxAndC52xiz48J/Hr6F/Z/tZhQffV09Ar2t28EgGP7fez/ai7BpYJrDFhM9I8J/HriINELQ3WmkCiatuJwAqcP7yM6ajj+WuE6ytufkLlEf7ePKE3+i/L23TbmhgAMJ+q7fUTPGcjkdfs4fe4g6waUWi8ilCW7fuH0ud1MByN5K95WqP7yN1ImAKELd7P/u08J10yDot7m/qjhmjh+Uzax/7tNTA9S/9+pxyTW7TrI6XMJHD2gc7wN7ocu9X5p8txfN7ysctMtYtFjEuu++4XTp39h/7pJBGtN71JeWaqP69wtu9V5OryvzHni1COcKEPHvQxHgqd8auS8La/eOBI8bgXRB37h9LkEDu3axNxS4SOj1Mdz0MRP2X/iPKcP72ZJf0d1GR1I4NdzCexfN6lk/zTnpT+T1+3j6OkEjn73KZN7lEzfEjw0nPERIxipWVL+PgTP2cb+71YQbqDMLS7EsyN6Nesn7SSZFHYsSuQaUNuu7HF79PQmfOFi1rVpBNjTd+FiliwchGs9FdRfzJKIlUR9t4/Q5tZg58va7/YRPafoJkrTfhg4j517MHld0Xmop250cnEEZSIHolLUCy6v5sAFJdR3J1Q7ahmHDv1I+/btmTx5om7Qv+r27dts3LiJL7/8SrPs7t27pKeXfZL+3nsR9O79CteuXWPWrNkMGjSYDRs2UqNGDUaOHKH1Y/9Rl5OTQ3Z2lu5iLdnZOeTk5Ooufujmz/+YwYPDiIh4uO8w/fVX2bcXPvpoHkePHqOgoEA3SPwLNm3ayNix4xg7dhwbNmwgL+8u33zzjWbZsmXLdFf5T/LxeZqQkF74+MgICWFYQsIpRowYxeDBYezYsVM3+LFQp04dLCwsOHr0GAEBgXrfkho0aBBNmzZhx46dtGzpwcKFC7G0tGTgwIFYWVkBMGrUKFxcmrJjx07atfNj06bNNGrkyPDhQwHw9m5Nv379MDEx4cMPp9GunR/ff7+PVq28GDRoEAChoW/Qpo0Phw//TGDg8wwaNJibN2/SrduLBAcb79xatWo1Q4cOu+9OJoCjR49q2ssvv/yK6tXNGTt2DOPHj4e/8fpaUQ9jH8W/y8HhCV58sSsvvtgVB4cndIMfiqCgF1i4cAH29nb89ttvmuWl7xGK/w4ePMTdu3e5devmP5K3h+Xdd99l8OAwFi1aohv0t5D7BvFP+S/ce1j08sOkpoXuYkxqWmDRy093sUG+vu1xdHTm66+/5OOPZ7No0Vyys7Px9w+kenVz3egEBgZRq5Y1n34axaJFH7FmzUpMTavTqVNgpbZXfoc96zl9GXBwRd3V0YNnXa0h9RixV0Hh6o36ticcN0fgciKlx78rWg1mcic78tLTwMGb4MgVLGlfFBg4l/1fRRLsZU1m6hXSarjiP3Ax0esMjISs64hbcxdc1f3MDNqwiemveWN/6xgxx9Kw8erB9E8/pa/ueuUx82bwxE7Y5aZzzcyRNiGRrFxaPMrXn7kHtjE9xB2b3HTScq3xCAon6sBc/Z32hvYnqqiTSCf/ADRyw7W5K051AZxwbe5Cm5BwBj1jTVpKOspS6/kPnEhwozukpaahMpo39bY8gt81XP5GrL8Jrs39CSju6RsXgH9zF1z9ni065o4E+/vi6qggMwacwjbxzdKB+DeGtJR0btt5Exy5jf1zispT737ocmTyt9uYHuJN7ZwrpOXa4T9pJB4lb4yWYSjdPVNKzxfeiKCZb+BhpiRNZY2r/0DmfVz84MFYWQ5k82eR9PW2JythL8fSrfEIieSzNUXHtf1c1s4fTlBzcy4eiuVMgSP+Az9ipVb6xRwZtGU3Swb640g6Kal3sG/dg+lf7WZyqQcI5dUb/3lrmTc6CA9rJWd+TiSvsS99I9eyrig7jdxccHUPZtSrrpB+BVVdd4LHbGTj/N645KeTkqNQ739x/ouOi9+AuYR6QGZqOjT2Z9DCbRSfuvaNXXFt7kbRIx4D+7CPuUV5VMf3Z7CBMt/y0WhGjZ3PluLtze2EE5ByYa96A4+yIHfauLvj4aBAZWaDu7s77m3a4GqpwryBO43q3uRiYiKXbqkgJ4XExEQSf0+H9ur2I6h+Jsf2/cCxm44EaZ3H/sxd+xGD/KxJj99L7Cnwm6BdN9YfSUJl7U5AWNE6zgMJaG6N8sIBrXZZn5ycHHr2DKFjx44MHz5MN7hKun79OirVHVJTr+Ht3ZqAgM5kZGQwc+YsoqI+4bvvvmfSpMls27aNmjVr8vzzzwMwe/Ystm+PJiAgQLOtqKiVbNy4QTM6o2PHDqxbt5Zjx45w+HAcCxZ8jIODgyZ+aX369Gbnzh2sW/cpLVo8iZWVFVOmTObgwViOHTvCunVrtUbkODg4MGfOHA4ejOXEieNs3bqZjh21R6/VqKHg00/XcOLEMfbs2U3fvmUfNmRmZpKTk8PNmzd1gzT+/PMKt2/nkpWl1A2CUmUxYsQw9uzZzYkTx/j00zV4e7fWxHFwcGDBgo85duwIsbH7addO+02YXr16MWbMaE0edffvq6+2EhLSSxO/uKzHjRtHbOx+jh07YrB8U1NTuXPnDkql/vyLf1dCwimio7cTHb2dGzduAZCVlaNZpvtqc/v27Q0e844dO7B162ZOnDjGvn3f8+6772qtq6sk/nEOHoxlypTJms48Y3U8ICCA7dujmT9/HmvXruH48aOMGDFMs15ExHgOHTrIzp07oFQdOHw4jsOH41i2bIlmlG7xtubMmaNVT4pHyY4dO5oOHdQXxw4d2mu1M8UWLVrI9u3RBAW9oLXNqKiVmjhTpkxm164dvPaa+i63b191u5OQcJJ9+77XGpXbv39/du/eyeTJk9i+PZqff46ne/fumvBixuq2PuWlW6y841xeWWKk7bWysiIiYjz79n1PQsJJdu7cobdtLFY6rWPHjrBq1SdabRtAtWrV9B634vUr0pZNnx7JkSM/c+jQQQYNGkjfvr3ZuzeGU6dOsnbtGs3+FR+XiIjxrFmzWm/7PmzYMIYPH6715ljx9UTf9aIy7ak+umW6e/dOrTfSdMMfpMxnz57FiBHDMTc3p0WLJ9m9eyf9+5cdlWNnZ0dycjIbNmwiJyeHRYuW8NdfqVhb16JVKy+6deuGu7s7ly9fZtGiJaSmpjJz5iwuXvwVN7fmdOvWjYYNG1GjhoJffjnC2rVrSU1N5dtvv+XOnTs0aqS+m/3zz7/YuvVLPvroIy5eTOK7777np5/isLCwxMWl5Jw0JCAggFGjRvH222/DfZQVgEqVp2kvx4+P4MMPP+T27Tu8+GIQTZo0LXN9rcjx9vZurXX/EBY2mO3boyv85kBpuvv4d7SRD1t5eTGkenUzg3WSUu3eiRPH2b17JwMGDNAKL+96BBAS0ouvvtqqCZ8zZ47mmOm21wkJ6najVSsvFi1ayIkTxzVtSzFj95nFWrXyYtSoUdSuXZvatWsTGRnJ2LElIweN3Wsa2+9iCoWCCxd+ZfDgMK5eLZnKofQ9QnT0dnJzc3F3b8mff14hMTHxgfJWrPj8Kn1+F5dp8fYqcq+rW2+KR8AWe/vttxk1apTmvqK8a1VxemFhgw2mp/u7o1UrLzZu3EBU1Mpy7xuMHZO+fXtr0lyzZrXWtFulOTk5sXbtGjZv3qTJV3G5lS7LpUsXs23bl5rrTnn3ALrnsqF7D2NlrU956RZ7lO49yju/q8K9h7F9qMi1qCrR11lfrLwwXc2btyAzM4OzZ9Vv/t+8eZPz589Sp44ttrb2WnEtLS1xcmpCaupfXLx4AYDffrvIX3+l4ODQgFq1rCu8PSMd9insOJ8Clq60GQi074qLHSQnfc36M5fAuhE+7YEB3rhZQvL5r0kutbbiRhxhrTvQuUsHuq1JRIUj7kWDFkYOCcZVkULMsLZ07hJIZ5/nWX8W7Pz7Mtfoxy178+yT1pAex/zubzNqwEuETFvNlq0xqHe3lMVD6XzoCgAphwLp/MoE1LcXgGUaccNa0b5LIO1fWk1iLji591SHjR5BLxcFydFD8QkIpHNAW8K+SUHhEszI0qPki+jbn1XHleD0rNHRrVrSYhnQoi2du7zMqNJTkCSupn3rDnQOeJsZFcybwfIvr0yKrT9GYj64eqvfohjU1hWFUonS2pVnQwBC8XQG1fl45uNLeD9frHOPs/SlDnTuEkh7zwnEpitw7TayqIO/SOn9KL0cICSSni0VqI4vp9tzgep8r0pCYakbsZj+dGNSVNRyCdX6kOeZtc+ry8pnKDGpoGhe9ODBWFm+5odbXUiPm8+LA0YzoPvLzIjaypa9ieoNB7XBVQGJ0R14bdhQXuswhvmbv2C7vjnD24cT6muttX+e78eQnGONa7+SV18MHjcg7UgMMdGrCfMJ5LUBr9N5aizp2OHxQqnRQOZJfN1TXR4h6xJR2TliETuG9l0C6ewznzgl2DX3p/TzROucY4T5BNK5SyA+w2JINrMj6C09U6no3YdY0hUuvDhc+2GbwTIv5jyQdT9+z2Rfa9KPrGbe1KKR4Y+ymKm81mU9F++oOLNVXZ6dv05CdTORVV0CCXlvIvPHjuanNBUokxg1djRTouIZNDwI17QYwp57mbCxowl75WU+OQ7uwZHqt19Gj6CXi4q4jzoQMmw0o4a9TMhanbqxeAwzvkmnTcRBfj13nl8PTKLN1a1MnqB/mrIXX+xKRMR4zd/w4cOIj49n6tQphIa+oRu9SsjKUpKVlUVe3h1ycnLIyFDy+++/0bZtW2xt63H+/AViYrQf/EyZMpWmTV0ZOFB99jk7O9O8eTNq17bRxHFxccHV1QUrKyv8/HyZM2cOzzzTltOnz3Djxg2Cg3swY0bZd4J69erJu++Oo379J9ixYyfJySl88kkUb7/9FiYmpty6lYGfny+LFi3UvKr/0UdzefXVl8nKyiYhIQFPTy9mzJihdSMUEOCPu3tLlMpMmjdvzvjx4zXrZ2TcIjc3lzt3VGRnZ3PrVtkO+8zMDHJzc8nNvY1SmUVGhrozVZezszOenh6EhYVhaamegiggwJ+JE9+DopvUTz5ZSUhIL3Jzb3PvXgFvvhmKtbW1Zhv29vY0b/4k9es3wMrKivnz59Gnz6sUFhZy9uxZWrZsydSpUzU37S4uLvj4tOGtt97k3r0CzMyqExLSS5Nmbm4umZlK8vLukJubQ2ZmJpmZ5b9NIKq+2rVr079/P73HvH//fixbthQPD0/S069jY2PNsGFDWLDgY93NQJn46VhYWPL222+xcKH6FU9jdbx2bRuaN29G9+4v4ePjQ1paGipVHs7OzrRq5cU777wNFHLz5k3c3FxZu/ZTgoN7oFLdQaW6Q9euXVm6dClubq6abb300ov4+3fi1q0MGjZsyKhRI3jjjYq1o1lZSry8PHn2WfVV2c/PFy8vT7y9W9O+/XNYFc0L3LBhQ9LT0xk/fjzTpk3D2dmZ1NRU7OzsCA9/l7lz50KpOtm/fz8aN25MWload+/maaVZkbqty1C606dHauKUd5yNlaWxtnfq1A8ICxuMqWk1jhw5grOzM++/P1Fvh4BuWtnZWQQE+LNo0QKtttbDw13vcatMWxYUFMStWxnY2tZj+PDhTJgwATMzM1QqFZ06deK999T7X3xc+vbtg6enB+np12ncuDFTp05lyJAwzTaLz1P1MSq5nty4cYOnnmrN4sWLNW+MGWtPjZk+fRphYYOpVasmp06domHDRoSHv8uwYeqR6g+jzJcsWYKfn/GHQcV69AjG378zR478AkWdOxYWFuTm5pKaeg03NxcsLS1ITDzL77+rR/Pm5ORw7tx5LC0tad68Obt27eLpp5/hnXdK7ksdHBwwNTXVfB9l5coo3n9/IsePn9Ck06pVK5TKTE6cOK5Zz5Diuu/srP7RWpmyMmT79q85d+4c9evXp0OH9lrXVypwvL29W7No0QI6duyAUpmJlZUlw4cPw8PDQ5PPytDdx3+rjawoY3kxpFOnjgbrZOl279q1azg6OjFx4nuatyCMXY/69+9HZOSHtGzZkosXL3D37j369HlV064VH+NXXnmFunVrk52dTceOHVm+fDnPPuvHjRs3eOIJe0aMGEH37t3LtAv67jMrqrx7TWP7XdqOHTt57bXXjc7t3r37S9SqZc333+8nObl0j1FZ5eWtNN1zFJ37Uipwr+vtrW5XS9eb0NA3tEa4lr6vMHatcnZ2xsPDgyFDhmBlZYlSmUnHjh20rj+l23qKrsmuri4G5/ynAsdk2LChREZG0rhxY9LTr+Pp6UGnTh11NwNAcnIy9+4V4O3dmrZt20LRVGOenp4880xbze+htm3bYmdnS3LyFYP3AJW596hIWesylO6jfO9h6PyuCvcehvah9LXc2LXocVWrljXZ2TlkZmZolimVGSgU5tSvX79MXCsrK27duklhYcknY7Ozs7CyqoW9ff0Kb89Ihz3E7UsivXge+25uOJHOpX3xJMcnk44jrj0ci+avV3LluPZoKuWVY8QW/Ts5TVlqRHUofi4KSEnkM03HZgpT4hIBFzyN9nBv5ViSEuz8mXZ4H5v/L5LgWwdY/tFWirpRK0Z5haPF6V++RmZ+SVDo064oSCednixZuJglCxfTyzQPJQrsGuuOnta/PzN6tcKn62ijo1tLK11mpaUkzdc8DKlo3gyXfwVcXs3py6Bo7E1o0ZsV6b98zRmlHS6BvjDOG1czSDo+H+iJe3HnveajoVvZnpAOmg5+tdL7UYavE3aoOHOoJE7ygm85ZnBwpf50w55rRfsBMzmmiXeFiwuKO4NjySg1S4TRstx8jItKsGs/jaPfbSIqsgdpscuYv7XoTItJJDkf3PsncOirT5kb4ciZTVNZFa+n87mbO046+8fWobRv3YEBs0p+HJR33BK3zmf+1ou0mbOYqC272T+uDXaAwqrUU71cJclF5VG8fqayeIurSU4HbGy0pvVJPjKr5Lzb9y2X0tE/lYreffiaM+lg7epXamolw2VezC88FH9HSIx6CZ9XZuo97x9N7tjXTSP9iPp/fq52KNJTymkHfPFpZI0qT0GvonNwycJwnFCCnRN+gF9zOxTKRA6U6ntPLpqyrJhT2FzGd2uE8mws27d+wfZDl1A1682UmQP1TtFkYmKiu0ijvLB/06pVq3nmGV+WLfs/3nlnID16qM84S0srqlUzJSVF/SCSotEqISG9NH+lR9uWx9u7NfXq1eXw4cMMGPAWvXv3ZeXKT9i3T/spnJ2dHRMmRGBhYcGSJUvZvv1rQkJC8PZ+isOHfyYoqCuBgc+zfv3n1KtnS0hIL3x8fHBxceHq1WtMmfIBAwa8xcyZs9i+/WtSU69qtv3rr78SEBBIx44BfP/991hb29C6tfqh3rBhI/D378yuXbvw9+/MlClTS+VK7eWXX6VHj2B27drFc8+11zvtQGlffLGVTp068/rr/UhJScbR0Qk/P1/eeKM/zZo149ixY5r9+fLLL6levbruJjR++OEHNmzYwIsvdqdfv/5FbzhY0batjyZOQUEBCxYsIjDwed57731u3bpFixbqOQRjYvbi6+vHlClTmTJlqlbHjXh0lXfMe/bsgYmJCbNmzaFLlxd4/fV+XLmSQseOHfT+QO/ZswdmZmbMm/cxXbq8QKdOARw/fhx7e3u9owwNuXo1lZCQlwkKelHzQceCggI+/3wD7dt3ZMCAt3j55ZdxcWnK7t3f0LFjAB07BhATE4OLiwsvv/yyZls3blynd+8+BAY+z6ZNmzA3V+Dh4cHChYs5ePAQAAcPHqJfv/5lPjR29OgxcnJyaNlSfVVu2bIlKpWKGjVq4O7uTqdOnbC3t+f33//g0qXfefHFILKzs5kwYQJBQV156623uHr1Gp06ddDqGE1MTOS559rTvXtwmQeZla3bTZo01ZtuUtIlGjdugpOT+ipT3nE2VpbG2l4vL09ycnL4+OOFDBw4iIkTJ/HFF19w/vw5rbyWpOVCTEyMJq0NGzZgYmJKmzYlwzkMHTcq2JapVCpmzJhJly4v8MUXX1CrVk1+/vlnOncOZPToMaSlpeHm5qKZn5miBzT9+vWnS5cXmDdP/VCqe/eXNOHFiq8nx48f1xyjxYuXYGlpQXBwyd1WeWVuzJEjR/jyy2307/8Gb7wRSlRUFADe3urrzYOW+ZYtX9CggQM9e/bk/fcnsmzZcvLy8jh37jwvvdSDDRs26G5Gi5WVFe+++y729nZ8+20Mv//+G9WqmQEmZaZ8y8+/h5mZKXXqlDyoK+bv34k33uhPZmYm0dHbtcJGjBjGyZMn+PLLrdSsacWSJcuIjf1BK05FVKasynP5cjJmZtWpV6+ebhAYOd69evWkUSNHrWNw6NAhg6Ns78fDbiMrytLSkpkzZ3D27BnN38yZM7C0LBm5UtG86DJUJ4vbvYyMDMaMGUNQUFcmTJhAdna25i0IY9ejpKQkvvlmD5MmTaZ379cYN24cf/75F82bN9d62+rEieN07BjAgAED+PPPK1hZWfLBBx8SGPg8X3+9Aysry6L72vLvM0tLSDjFkiVLyMjIICMjg6lTp7Jw4WJNuKF7zYrsd2UFBb2Ar68vf/11hS+++OK+8/YgDN3r9urVk4YNG2jVm7i4nwzWG2PXKore2oiL+0nrPGzUyJFevYoGhpZD332DUqku+/KOSbduL1JQUKA5F/v162/wDVuAEydOYGJigoeHB1ZWVjRv3pzMzEzq1KlLp06d8PLyonbt2pw6dQZA7z1AZe89KlvWj+u9R3nn979976FvH0pfy4uVV+aPK0PnqT5mZuaYmem/pwYwMzOr8PaMdtgTHcdFJTi59iS8eSNQJvFTdMlyR9c+BDRxhNwkjukfyKmHOZgBecqijzIWSVOiBBSGB/hoLO37OlM2x5OCHW1eCCX8/zax78cV2iN4H4DCDMAaJ3d39bQW7u64N4G0C5dIV2m/1mJwf/4mlcvb/UphR2IK1G3Es4GdcbFTkZw4lcQr6nMh2N0RRX4ix0r1QqpUJU+HAE4o7wAKFHW1FhuhQmX42qKXbrqVYbwsl/Nav6lsOXIFHLwJGhBO1JbvORRVNGrn0Gj6jV1OzIlMarv70Xd4JOu2JxA9Rc9oIlPua/9KODJowy8c2jKXkd18ca1bg8zEJNJ1o92HvPzSDxhOoMwFzEBRaikY2oei+IoaaL8MVD53OxvITeTArEo9ZqvSpu86z6/ngnHFEf9PzvPrufOse8ERXIL59dw2A99tcMPaChR1XEvOQXd33K2UJF24yBXA1brsD1C4Rqbm96r6bRPFqc8J6f42E6ZOZcKAQLptSMSufSjheqbC+uabPXz00TzN3/Ll/4evry+RkdP57DPDjxceFbofu6roR8kSE8+SkZHBc8+1JyZmD++9F8FPP/3I5s3qSZwAqlc3Z/DgQdSpU4dly5azYcNGAFq2bEH16uYUFhYyY8Z0Fi5cgKNjI/Lz87Czs+fo0aNcuZJMgwYOLF++nOXLl3Lnzh2ioqJITS2Zsz0p6TdycnIA/vbR5Xl5eZw9exaAixeTUKnuasKaNGmKmZkZJ06c1OTnf//7H7du6R+xn5OTw6pVqzl69BgffPABX321la5du2JmZqb1kVilUsmFC+eh6G2AvDztETji8WPomD/9dFsaNXIkNzeXNm28WbhwAcOGDeP27TtYWlpgb699VSmOn56exg8//A+KzruXX36Vnj17GR3hV9qff6Zy8WKS1rLS9QHA3d2dwsJCLCwsNG2JlVVNKHpoV6z0tpTKbAoKSkbTGLNv336uXUujYcMGBAW9gJOTEydOnOTOnTt4eHjQuvVTWFpacvZsIl5eHtjZ2fH7739ofggfP36Cc+fOUbt2bby8SjqASrcjuipbtw2l+8ILQbzxRqhmtKSh40wFytJY23v+/AVq1arF9OnTWL16FXZ2dqxdu67MMaQorfz8u/zyy1HNsqlTI2nfvoPm4QzlHLeKtmW3b98mPV19F1a8fnGbHRcXT1ZWNgpFDa35mY8ePa5J8/jxY9y4cZN69erx9NPqUY7Fiq8npY/Rjz/+SFpaOk5OTprOvvLK3JjNm7ewd28Mb74ZysaNG3jjjTdQKBSaTtAHLfPiMnB3r/yPeCsrK5YtW0Lbtm358ccfWb68/AfPhvj7d+LDDz/A2tqazZs3l+mM//XXi3z//fccO3aUunXrMnjwIL0PCo2pTFmVx8zMVHeRlvKOt4uLKyqVSusYHDx4iNu39YyauU//RhtJUbqHDv3I3r3faf4OHfqxUm2MIYbqZK9ewdjZ2ZGdnU2PHj1YuHABL7zwArm5t6lZsyadO/sbvR4dPvwza9asoWlTF6KiVjJ//nyeeOIJqlc304yuBkhLU7/5UXwflpeXpxl1efXqNQoL1SM2jd1nVoahe83i9t7QfjdqpB65XhnFo+u//XZvheqEobzdr/LudStbb4xdqwBu387VdLoDnD59hrt379K4cRPNssowdky6dAnE1tZW61y8eDGJo0cNvy104sQJbt26hZubG506dcLW1pb4+HhMTavRuvVTmgdqZ86cMXgPUNl7j8qWtaF0H/V7D0Pnd1W499C3D/qu5eWV+eMqOzuH6tVNteeXr2ZGQUEBKtUdnbhKcnPVx6G0atWqkZ9/l4yMmxXenvEOe1ZzLEkFDu4EOCrgSiKrSi1XNA7CvxHwx3Hm665q0F71KF8HV0o+Wwt9fV2xRklaRfrvnK1J2TGBzu1a0cylA6Ni0lE4+hFgYAr8ytqbkg6ouFg8rUWXQDoPGs2oQYGEvKf7QQYD+zNxMdOH+2uNZDa3KunIdTIz/PpPeSqXt/sXtzWRZBxxHe2CU9EHhdefuQSO7oS52cHlRFZdBrhImhKsG7UpNc2KI4OedATSSa7og5ykNJTFb3MUa9+GRgYf4BhId+Ziwl/z1TuqWFdFytLJKoUdEwLx8XwS5w6jiUlV4OQXoHk4VCv3GEte6YBniydx7r6axDxr2vjreYJ+Qc/+OQ9k+sJw+vrqvrWhTyi9fO3g7Hrae6qnXgrZkMZt3Wj3wbFJyceEcQ7F1Q5IT6HMrPIG9sG1IZCaUtQ2VMyqvq1wbvFyJdqNqu/blRGMj02D1FhmTIpg/KT5xKVD8t4IxofPN1A+69Xtx9VY3io+B7sE0nnQW7zVZShLgfVX0sHaHtfSbzRr1Q137OqAKuea1hssyX8pUWKDXfNSC/WoVasWX38dTWzsD/f9o/jfdOPGDfLz7+LqWvIq6YQJE3B2bsI77wzkxo0b3Lt3T2sdQ2Jjf2D8+AgOHz5M/foO9OvXj88/X8/q1SVHz9y8OjVr1sTMzIwOHTpofnRVq2aKqakpjo4NadGiBS1atMDZuTGXL6eQmZkJwOjR4/jiiy8pKCigS5cuzJ8/j927d1ZqyoB/UkFBIbm5Ja3MvXv3DH701c3NlZiYPSxatJDnn++MlZUVf/zxO3l5JT+MhCitenVTTExMsLKy0tSZFi1aACZcuvRbmdeki+Pn5eVrpsP4O5mamlKtWjVcXV00eatfvz6XLl16aD9OcnJyOH/+HDY2NrRt2xZr61qcO3euaISUG40bN+b27VyOHj2myY9Kpf3OZGZmJtWqmWJpWdIBZExl6rahdCvDWFkaa3snTZrMihUryci4Rfv2zxEZOZWdO78uM6q0OK3CwsJyRxeW5+9sy/LzS65FSUmXyMtTYWJiQvXq2h211aqZUliI1jEqjq/b2Xc/rKys+Pzz9Xz66Rp69OiBnZ0df/zxB3fulPxIfNAyVyozyctTlfnBaoyVlRWzZs2kQ4cO/PLLL4wYMUrTuZGbm0NBwT3q1dMeDWRlZUl+fj43btzQLPP2bs17772Hg0MD1q79TGsEb7Hvvvue8eMj6N37NTZt2kT9+k/Qr18/3WhGVaasytO4cWPy8lSkpBh8H9mIQu7cKTln7t69S6m38R86Y/X6YcnPzycmJkbrA6YxMTHk55e8anq/eTFcJ82oVq0aderU0bo+ZWdnc+XKnygU5kavR++++y67d+8iLGwQzZu7cevWDa5fV3fO34+K3Gc+qOJyNLTfutdlY4pH11+5ksIXX3ypG1wl6LZd5dUbY9cqgMJC9TaK3bp1i4KCe5ialv9AzhBjx6T4QZ/uuVj63NYVFxdPSkoydna2+Pn5YmpajZMnE1Aqs2jevDlNmjTm+vUb/PLLLwbvAe7n3qMyZW0o3cow1i4YO56Vadv1XQcroyrce+jbh/u9llcVhdmGe8vKC9N18+Z1bGzqaOaXNzExoWlTF3Jzc0lLK/l+B0VllpWVha2tHTVrqutHzZpWODg0JCsrk5s3b1Z4exXosIf5x5PA2h13O0g6UzLycv7xJKjrgqu19nLjUlgem4jK0ps3t0cSGtKD4IhPCfezg5Q4Pik9d7tew4mO2cS6/1vE9N7uOPn64udkDahQlp3Ot6iTEWzqhhLcrWIducnLYklUWeM3fBvTB/jjHxjK9EWb2HPwF9a9phvbwP4M6EFon57YAKxOJCUfnALnEjW8B6ERn7IxsCKdtGVVLm8GVKRMDqmnRnH1codf45kBJO9MJNnSHfeGpb9ZsJodv6SDoz9zo4YTHNKD0Dkr6NkSVMdjWK67XUOiDnBGWVJGwSHDiZrprz9vYDDdUf17MPhlb8NT75RitCxHb2Pflk+JWhRJXy9H/PyexdEGyMkkDfBbepA9a1awMmogfs7u+Ld3wd4SVDl6GurVX3MsvfT+hTJ35UhCQwbSu62eKXTKKBpRXd+N3r6OOPkONFI+Fado/SbRkaEEh4QyfVFv3C1VJP2i/U0KMLQPPXE3U3EsZplu7HI4Ev5VAr+e3q35WO3jIO6bndhY26BKPcv66J3siK6NtY2SK8d3suOb+LLlWWR5zHFULXuyaEoP9fH0CiVq40EO/biYIIAVsSSqXHhx2SSCnQHnHiyJLH3sVxN3QYW1dyhRYer67OQ7kKh+3ljnJhFn5KHZs8/6ERv7A7NmzdYNeiQcPHiIq1ev0rx5szIfsWvXrh3W1tZcvHhRs8zExIRatdRPO6ysrKhWTXsKoNzcO0ybNo2nnmrNK6+8yl9//YWnp4emUz03N4cPP4zkl1+O4OvbjunTpwFw7do18vPziY9Xv6qsfnXzbUaOHElYmPoDSTVrWrFtWzTPPvscTz3lzd6939GokWOFPvj4TysevdG0acmIIDe3Zgbnue7cuTNNmjThhx9+wNvbh65du3Hy5Kky5StEsYSEUyiVWWRnZzNt2jRNvRk7dix9+rxWZsqM4vh169YhMLCzZvmECREMGRKm+eCVsTpeUVeuXKGwsJDdu/do8jZ4cBiDB4fx/vsTdaPft+JRcM8805Z79wo4ceIkiYlnsbOzpWXLlly7lsa+ffu5evUqWVlZNGrUQPOqs/phx5OoVHe4dKnsiC99Klu3DaX74Ycf0L9//wp1HlekLMtre62trYmPj8ffvzPNm7dg/fr11K1bl2eeaaebFFeuXMHc3JyWLUtGg/Xp05upUz8o89Ffff7OtszFpeQDex06dKBOnToolVllpkq6dk39Y630MQoM7IytrS0ZGZllPupcWcVTHpw7dw5f32fp0uUFvvvue625Vh+0zL28vLCxsdF6g6wipk+fxksvdePw4Z8ZPDhMa7TmhQsXyM7OpkWLFpo5gd3cXPH0dCcrK4szZ9SjvtzcXJk1axZNmjRm1ao1zJs3T7MNij6a99VXX2g9LC8eqahQlHm/1KjKlJUhYWGDadmyBZcvX2bPnm91g426cuUKCkUNrdGuXl6e97U/FVWRev1Pud+8GKqTR44cJSsri+vXb/Dyy69otjlhwgR69Qph3br1Rq9HAQGdUKlUjB8fQadOnZkwYRJ3795/52NF7jMfVHF7b2i/Dxw4oLtKuV599VVq1bJm797vDD7YeFClz/Fq1SrUvaWRmpqKQqHQartatmxZbr0p71oFYG5uTrNmzTTxW7R4kurVzblypWTqzurVq2veZiruVDbE2DFZt249OTk5Zc7F0gOZ9Dl58hQWFhb4+PigVGYRFxdHcnIybm6u1K9fn8uXL3P8+AmD9wCVvfeobFkbSlfuPSrPUDune++hbx/u91pebMyYUSQknGTZsqVQ9BAvLu4ndu3aQZMmTWnSpCm7du0gLu4ngoJe0F39gd3eHqe3Y74w+za3t1d8fpSEhONUr16dkJDeODs3JiCgC05OjUlKusD16+m0bu1NRMQUPD2forCwkNOnT2Jra0fPnn1p2NCJLl1eom7depw+ncDdu3lGt1fMcMtQ2vpLRR1NKSTtLNWxuD4RdfXUWV4BydOHMuObSyi8Qpm+cDFLhvtjnRbPqg+HVmAu6+WMWRRLspU3ofN2c2jLXPo2U5EUvYyZ0bpxgdWr2HNBhV1gJEvmh2P4u86lXJ7JkGkxJNXwJjTyU9atiSTUC5Kil/HBZt3I5ezPtNFF0+TMZN6GRJSmjgRFLGb6QFcu7YtHT7eucZXMm14VKpOd6nnoKfVA5tAWzqYAZimc3VzyY2HLOxNYdUSJU1A4SxYuZvpr7nBhJzPGlDNnfRmrmTA3hqR76jJasjCcNsl7iSunkAym+24FHxMYK8vFY5i3LwWFdyhzdx1k85zeuOdfYseyWewA4kZOZf0pFU5Bk9h8cDfrIvyxToln/eKZuikBWxnw3mqOKYv3L5K+zSApehZjyg760WM1n0QnorT2ZeSWgxzaMok2yccrUb6GJe2Lxea1SJYsjCTU25r0+KWMek/fj8Fy9kEzZ31FNMLJ3hqFtT21Db+l+khyt7fmWupP6v+0d8HO0vhbJskLxjAjOh23AYs5dPl3Lu+KJMgqkfUfjiaGovP041gymg9kycHfuXxwMX5/adeNpe9GsP6CDUETN3Ho8u8c2jKJoFpJrJ8wBvXl0bCYmL2PbGc9wO+//8aePTGYm5szceJ7rF69iuHDh7Fu3VpCQ9/g+vXrbNu2DYBLl5KoUaMGb775BgMGDGD58mU0aFDyeu97701g06YNzJkzGz8/X9q0aUPNmrXIy1NpOg0KC9XzB37yySekpaXRpcvz9O/fnx9+iOXq1Wu8+GJXwsPD6dLleaZPn8aePXuYM2c2/v6d2LJlM8uXL+GNN96gbdunadiwAffu5d/3aIxiAQEBdO3atUI3rxUVF/cTN2/eoFOnjkREjKd//36Ehr5BjRr6R1io33TIp2HDRrRr9wxvvPEGPXp0x8ysYnP0if+enJwcDh+Ox9bWlnffHUf37t0ZNGggn322ju+//w4fn5I5O0vHt7GxYejQIfTp05vJkyfx5puh9OnTmxo1LIzW8co4dOhHcnNv07dvbwYNGkj37t1ZuPBjvv9+LyNGDNONrte1a9fIy7uLrW09g3X05MkT3Lhxk5YtW/LXX3/yzTffcPr0GczNzXniCXsuXLhATk4OcXHxnDmTSMOGjZg06X1CQnoxY8Z03NyaceHCBfbt26+7ab0qW7cNpduvX3969uxu8PX30oyVZXltr41NbTZt2sCKFf/H2LGj8fHxwdlZ/eMzN7ds2ocO/UhOTi49enRnyJAwBgwYwPDhQ+nbtzdeXq10o5fxd7ZlHh6ezJkzhz59ejNw4NtYW1tz4sSJMmWovp5c1Rwjdfx3sLCw5NChkqkWjDF0bbh16yZ37tymbt26BAQEEBT0Am+++YamA6lJk6YPXOZ9+rzKvXv3OHDA+C+7YgsWfEzPnsGkp6dz/fp1zbQfs2fPwtu7NbGxP3DyZAINGrV+KRsAAA3dSURBVDgwadJE+vfvx+zZM3FycubEiZPs27cfNzdXli5dSvPmzTh79hwNGjhopkKIiFB/oDEvT0WbNj588MEHDBz4DmPGjKJv394UFhZw7Jj6AZqfny/du3fXPAg0pLJlVax+/Sc0+dq1awfh4eHk5+ezadPmMudDRRw69CNZWdmEhPRi3bq1rFr1CT179jL6XSIzMzOCgoI0eSldTsYYq9cVoduZc7/uNy+G6uSBA7GcOZNI06ZNWLx4EV26PE94eDgbN25gz57dWFtbG70eZWYqqVGjBp6ennh4ePD++xNo1Oj+BuyhaRcM32fqKp7Kwtxcgbu7e4U6DYvbe0P7baw+lNa9e3d8fHz0jq6/n7zpunTpEjdv3sLT04M5c+YwZswoXn45xOjUUqUdPXqU3NyStmvIkDC6d3/J4Gj48q5VxfXWzMyMXr16arb34osvkpuby7Fj6i/s/fHHH9StW5ehQ4cwYMAAxowZQ506dTRp6N43JCScKveYqM/Zk9SuXVtzLs6ZM8fodGQnTpwkL+8uzZq5cf78eRISTnHq1Cnq1KmDtbWNZhohQ/cAlb33qGxZG0pX7j0qz1A7p1uG+vbhfq7lpdnY1KZmTSvs7W0BsLW1xcbGmtq1bbC2rom1dU1q17bBxsYaW1t1nIcpL/4smRGryRi2VOsvM2I1efElU7wZc+bMKfbs2YWDgwOjRo2na9fuXLp0ke3btwLQoIEjtrZ2WBdNZXzwYCw//vgDnp5ejBs3gWeeeZajR39m3z71HBbGtlesYkf/8mjaO4/WXQqXJ9DZeYLuUkDP8tWv46nVaZXC+mGBrMcd/xAXFKkniNH3oc5iOusnR71N+yhwD+yBqyKdE+WMXoVYJnR5kglevvhlxqs70AOaoJ3D1bymnUGSNwyl84aKpmF8f2KnvoSn7vcBxxb/Q0+ZUXa/i5WfNz3bKrMdPWWix4532rJDa0k8Yc/pm38tlhmvtGWGsy9BbexQJe0ktvQDuzLpq63q20prmhD1fjni16011jeLy1DPuadRfrq62weYoHPsyy/LFFa904FVBo9rLFO6t2KKgfTL2DeTEJ+ZOPkG0dpBRVJ0bKkPJRs/bupzSJ0X9KSlu2+666MvDoByAp2brde73TJlWO4+6ImvN814RnV4iSivRBLLK69H0IQuperHoaG0Lz2NTZGyZZTC+rGBrB9r6DwrbvPUdUORUnyMStWNyzuZ0n0nU4rOVd3j+LibN28eGRm3CAsbTGBgZ55/PpDCwkIuX/6DRYuWaOatXb/+czw8PGnd+ik+/PADfv/9d86dO0+DBuofIEuXLqNZs2Z07NiBzZs3QdEN1Pr1G8qMQoiN/YFly5YzYUIEI0YM4/33J7JgwQLGjx/PiBHDMDExIT8/XzOH6cWLSWzYsIF33nmHGTPUo/JVKhXffhvDpk2bCQsL09p+Rfn5+TJ79kxUqjucP3/hoY1giouLZ+3adQwZMoThw4dRWFjI0aNHSE9Xz/2oa8+eb+natSsdO3bgiy+2kJ+fz+nTZ6hTp1IfMhH/MXPmfES9evV4/vkuLFu2BIrqnHoez5I5NPXF9/HxobCwkJSUZJYsWcrvv/9mtI5Xxq5du2jYsAFDhgxh8uRJUKrOrl37GS+80EV3lTJ27dpJly6BdO4cQOvWTxERMaHMj9uEhFOcP3+eRo0akpio/vHw448/MWjQ29jZ2XPkSEk5zJkzh5o1axIQ4K9p5xITE5k3b36ZH16GVLZuU0668+cv0I2ql7GyBAy2vd9++y3W1rUYPz6cMWPGMGbMGE3bummTOm5ppdN6//33AMjKymLz5i/4/PPP9b7KXtrf2ZYdPvwzXbsG8dprfbh37x7x8YdZuHCRbjSOHz+huZ4MGzYUExMTVCoVe/bs0Rtfn/KuDXFx8Rw4EMvLL4ewbNmSotFgpzWdEL///hsrV0Y9hDLfwtq1a3WjG+Tl5YWpqSkODg707Fnycd2cnByOHDnC8eMnmDNnDjVq1KBdu2fw8fHh3r17/PLLEebMmQOAp6cnTk6OVKumnou5deunNNu5eDGJjz6ax6xZ6vP5uefaM2XKZCia3mHDho0sWqQu32nTplG3bh0iIiaUO7KwsmVVzMXFBRcX9QhYlUrFmTNnWLRoEf/730HdqBWya9curKwsCAsLo23bp7lz5w4xMXvp0aPshwVLUygUZdqyixeTSEoyPmrWWL3W3a4+up0598tYXgwpr07qa/dSUpJZtWo1qampRq9HO3bsoFkzNwYNGsigQQO5cuVP/vzzL8zNDX+MsDyl2wV995n6fPttDIMHD2Ty5Ens2rWb3377XTdKGcb2u6J69gzG0tKSzZs36703vZ+8lZaQcIpt277inXfe4bXX+qBSqfjhh/9hY6P/bTF9Nm/ewpNPNqd371d5//33yM/P59ChQ9SqVUs3KlTwd0Jubi7nzp1j/PhwzMzMyM3N4bPPPueLL9QdcRs3bsTFpSlt2rShTZs2nDhxkpSUkt99+u4bjB2TlStX0qhRI55+2gcfHx8yMjI5fPhnnn32Wc12dX3zzTcMGzaEZs2ac/as+iOqR48epXfvVwE4fPiwJq6+9Ct771HZsqacdB/Fe49x48bprqKlKtx7GN6Hyl3LS4uMnEZkpPp3L8CGDRs1338r1r595b8d82/48ccf+Omn/2Fra4dSmak1XdM33+zgm29Kek4LCwvZuTOaPXt2UK+eLTduXC8zTVV52ytmUq+evYFZo4QQj72Bmzg9xZe0rU3oXLHBNP95Hh5PcebMSd3F/xmV3f96trbcuI/5Ojdt2oiHhzuHDh3ihx/+x5dffqUbxaBWrbxwcnLm6NGjlfphUZqDgwM+Pj7cuHH9vqYe8PPzpV49W4N5CAgIQKFQcPDgwQrf6BoSHNyDmTNncPjwzwwc+LA+vV7CysqKDh06kJmZUaGycHNz5cknW3D+/Dm9H2W6XxER43nqqafw9m7NJ5+sZsGCit2si/Ldbx192Cpb5yob/0E9aJ1t0eJJ8vPzH1qdcHNzpWXLlvzxxx9lHiZWVGXrNg8p3fLK0thxNda26iovLWMeZls2btw4hg4dQnT0dhYtWoSPjw/JyZcrVIaV3ediFbk2FJd3eXmpbPoPUuaV4eDggLe3N7/+euG+j4+hOvD0021ZunQRN27coFu37lrrlKeyZfWwOTmpJ0ss/hhjnz69+fDDDzh69DhvvBGqE/vh+qeOe0VUNi/G6oGxds9YuxUQEABQ6elkylOZc83KyoqWLd05cuQX3aByGdvvh+F+8/awGTsHdBk65ps2beSpp1oxefIULl269EC/R/TdNxg7Jg/jN1B5jKVfEZUtax5SuuW1C4aOZ7HK1DeMpGVMVbn3eJB9+KdUld8wfyfpsBfiv2zApxya4EdW9JO8qH7oLIyobIf146ay+3+/F9JNmzby7LPqz0lv2bKVCRPKvBciiowZ8//t3c9qXHUUwPGTSWwzSSPpzBAJQYaAqcQiPoG7urX72JWQrctasDv7DjWLopuEpou6rGDfoVgpfYYMiaSTmU6Y/HMhQrmgNq1ze3Lz+SzvySaE39w7Xy4n38Tq6mrcu/djpSP248e/xtLSRzEcHsTduz9U+nct05ueUeD1vfqluaz72Xm5N4zC9etfxp0738ejR7/EzZvl/L3e1t8rWXZ3d2N9fSMODw/jxo2VWFj40D0TSvJqsH/48OfiGEr1Lp49ytRotuKPnWp/h3m9HfZANf30dXy+LNaTz8rKV9FuL0a7vVjJB4z/09TUdOzsbMeTJ3/t3a2qa9e+iHZ7MZaWrggPwJkyHO5Hv9+P4XC/OBqZ83JvGIVGoxkvXnTj6dP/fgsxi83NB3H//mZMT0/HrVvfxu3b38Xly83Y2FiPtbW14o8DIzAYDKLf78fBwWFxBKV7F88eZTo6OoqJiTdbMXZWeMMe4BSuXv0snj//PY6Pj4ujyqvVarG8/Gk8e/ZbcfSPvL0LuTmjAADAWVKfmoyJ8fdib2+vOKoMb9gDnEKv143Z2bf/5y9n0exsI3q9bvEyAAAAQCkGL/ejNj4Rk/V6cVQZgj3AKXQ6WzE/vxCNRitqtfPxEVqr1aLRaMX8/EJ0OlvFMQAAAEBpenvduHhxMmZmZiq5HsdKHIBTqtenYm7ug7h06f0YGxsrjivn5OQker1udDpbMRi8LI7/lXUbkJszCgAAnFX1qcm4cKEe4+PjUaU8I9gDMDJiIOTmjAIAAORyPvY5AAAAAABAcoI9AAAAAAAkINgDAAAAAEACgj0AAAAAACQg2AMAAAAAQAKCPQAAAAAAJCDYAwAAAABAAoI9AAAAAAAkINgDAAAAAEACgj0AAAAAACQg2AMAAAAAQAKCPQAAAAAAJDB25eNPTooXAQAAAACAco01m3OCPQAj0Wy1Ymd7u3gZSMIZBQAAyMVKHAAAAAAASECwBwAAAACABAR7AAAAAABIQLAHAAAAAIAEBHsAAAAAAEhAsAcAAAAAgAQEewAAAAAASECwBwAAAACABAR7AAAAAABIQLAHAAAAAIAEBHsAAAAAAEhAsAcAAAAAgAQEewAAAAAASECwBwAAAACABAR7AAAAAABIQLAHAAAAAIAEBHsAAAAAAEhAsAcAAAAAgAQEewAAAAAASECwBwAAAACABAR7AAAAAABIQLAHAAAAAIAEBHsAAAAAAEhAsAcAAAAAgAQEewAAAAAASECwBwAAAACABP4EZptcaMywhdgAAAAASUVORK5CYII="
        }
      },
      "cell_type": "markdown",
      "metadata": {
        "id": "ciV73F9Q04w0"
      },
      "source": [
        "#### ❓ Question #3:\n",
        "\n",
        "How are the correct answers associated with the questions?\n",
        "\n",
        "![image.png](attachment:image.png)\n",
        "\n",
        "In the array the answers are just keywords that we are expecting, but the real answers coming from our models indicate that our models is not uptodate.\n",
        "\n",
        "> NOTE: Feel free to indicate if this is problematic or not"
      ]
    },
    {
      "cell_type": "markdown",
      "metadata": {
        "id": "-lRTXUrTtP9Y"
      },
      "source": [
        "### Task 2: Adding Evaluators\n",
        "\n",
        "Now we can add a custom evaluator to see if our responses contain the expected information.\n",
        "\n",
        "We'll be using a fairly naive exact-match process to determine if our response contains specific strings."
      ]
    },
    {
      "cell_type": "code",
      "execution_count": 33,
      "metadata": {
        "id": "QrAUXMFftlAY"
      },
      "outputs": [],
      "source": [
        "from langsmith.evaluation import EvaluationResult, run_evaluator\n",
        "\n",
        "@run_evaluator\n",
        "def must_mention(run, example) -> EvaluationResult:\n",
        "    prediction = run.outputs.get(\"output\") or \"\"\n",
        "    required = example.outputs.get(\"must_mention\") or []\n",
        "    score = all(phrase in prediction for phrase in required)\n",
        "    return EvaluationResult(key=\"must_mention\", score=score)"
      ]
    },
    {
      "cell_type": "markdown",
      "metadata": {
        "id": "PNtHORUh0jZY"
      },
      "source": [
        "#### ❓ Question #4:\n",
        "\n",
        "What are some ways you could improve this metric as-is?\n",
        "We can use difflib or fuzzywuzzy instead of using must_mention or we can use Semantic Similarity instead of Exact Matching \n",
        "\n",
        "> NOTE: Alternatively you can suggest where gaps exist in this method."
      ]
    },
    {
      "cell_type": "markdown",
      "metadata": {
        "id": "r1RJr349zhv7"
      },
      "source": [
        "Task 3: Evaluating\n",
        "\n",
        "All that is left to do is evaluate our agent's response!"
      ]
    },
    {
      "cell_type": "code",
      "execution_count": 31,
      "metadata": {
        "colab": {
          "base_uri": "https://localhost:8080/",
          "height": 118,
          "referenced_widgets": [
            "efcf57067cf743d8b4ce059a61cbe02e",
            "53e33aae3b97490c82aec7bbb0d6ebba",
            "ad84e0e971d3455db2efe7dd0d1f803e",
            "72adef9b70dd48198b7322b6c5b113cf",
            "8a61d045ffd44ac58f3f13eb10044836",
            "041e22a9b5514e36bd4d1dac01d5d398",
            "886d762f2a7c421382efb5502c6d42a1",
            "ab91fd625bbd43afbf8c6398193a88d0",
            "716557ad09874dcb989d75f7c74424cd",
            "77d4c0ebaae045b58efc4f789c9a2360",
            "0d622ccc56264fac8fd7508dbdbe6e29"
          ]
        },
        "id": "p5TeCUUkuGld",
        "outputId": "2f7d62a2-e78d-447a-d07b-f9e4d500fb79"
      },
      "outputs": [
        {
          "name": "stdout",
          "output_type": "stream",
          "text": [
            "View the evaluation results for experiment: 'RAG Pipeline - Evaluation - 82f9-adaa8ed7' at:\n",
            "https://smith.langchain.com/o/444579ff-06e3-4776-bce0-6c12b44e5fa1/datasets/dce11d42-edae-4178-8923-ff5127267b14/compare?selectedSessions=670d59ac-5124-4e71-8870-595c3f997f1f\n",
            "\n",
            "\n"
          ]
        },
        {
          "data": {
            "application/vnd.jupyter.widget-view+json": {
              "model_id": "1d174d378ed74cefb6a91f297b617cf6",
              "version_major": 2,
              "version_minor": 0
            },
            "text/plain": [
              "0it [00:00, ?it/s]"
            ]
          },
          "metadata": {},
          "output_type": "display_data"
        }
      ],
      "source": [
        "experiment_results = client.evaluate(\n",
        "    agent_chain,\n",
        "    data=dataset_name,\n",
        "    evaluators=[must_mention],\n",
        "    experiment_prefix=f\"RAG Pipeline - Evaluation - {uuid4().hex[0:4]}\",\n",
        "    metadata={\"version\": \"1.0.0\"},\n",
        ")"
      ]
    },
    {
      "cell_type": "code",
      "execution_count": 26,
      "metadata": {
        "colab": {
          "base_uri": "https://localhost:8080/",
          "height": 342
        },
        "id": "eeEqU7s05Byu",
        "outputId": "78395075-a05d-4ebd-c798-ed968b935318"
      },
      "outputs": [
        {
          "data": {
            "text/html": [
              "<ExperimentResults RAG Pipeline - Evaluation - d6b4-3bc69062>"
            ],
            "text/plain": [
              "<ExperimentResults RAG Pipeline - Evaluation - d6b4-3bc69062>"
            ]
          },
          "execution_count": 26,
          "metadata": {},
          "output_type": "execute_result"
        }
      ],
      "source": [
        "experiment_results"
      ]
    },
    {
      "cell_type": "markdown",
      "metadata": {
        "id": "jhTNe4kWrplB"
      },
      "source": [
        "## Part 2: LangGraph with Helpfulness:"
      ]
    },
    {
      "cell_type": "markdown",
      "metadata": {
        "id": "w1wKRddbIY_S"
      },
      "source": [
        "### Task 3: Adding Helpfulness Check and \"Loop\" Limits\n",
        "\n",
        "Now that we've done evaluation - let's see if we can add an extra step where we review the content we've generated to confirm if it fully answers the user's query!\n",
        "\n",
        "We're going to make a few key adjustments to account for this:\n",
        "\n",
        "1. We're going to add an artificial limit on how many \"loops\" the agent can go through - this will help us to avoid the potential situation where we never exit the loop.\n",
        "2. We'll add to our existing conditional edge to obtain the behaviour we desire."
      ]
    },
    {
      "cell_type": "markdown",
      "metadata": {
        "id": "npTYJ8ayR5B3"
      },
      "source": [
        "First, let's define our state again - we can check the length of the state object, so we don't need additional state for this."
      ]
    },
    {
      "cell_type": "code",
      "execution_count": 34,
      "metadata": {
        "id": "-LQ84YhyJG0w"
      },
      "outputs": [],
      "source": [
        "class AgentState(TypedDict):\n",
        "  messages: Annotated[list, add_messages]"
      ]
    },
    {
      "cell_type": "markdown",
      "metadata": {
        "id": "sD7EV0HqSQcb"
      },
      "source": [
        "Now we can set our graph up! This process will be almost entirely the same - with the inclusion of one additional node/conditional edge!"
      ]
    },
    {
      "cell_type": "markdown",
      "metadata": {
        "id": "oajBwLkFVi1N"
      },
      "source": [
        "####🏗️ Activity #5:\n",
        "\n",
        "Please write markdown for the following cells to explain what each is doing."
      ]
    },
    {
      "cell_type": "markdown",
      "metadata": {
        "id": "M6rN7feNVn9f"
      },
      "source": [
        "## YOUR MARKDOWN HERE\n",
        "After defining the class AgentState, we define a statful execution graph where the state is defined by this class and graph nodes are agent and action"
      ]
    },
    {
      "cell_type": "code",
      "execution_count": 35,
      "metadata": {
        "colab": {
          "base_uri": "https://localhost:8080/"
        },
        "id": "6r6XXA5FJbVf",
        "outputId": "ff713041-e498-4f0f-a875-a03502b87729"
      },
      "outputs": [
        {
          "data": {
            "text/plain": [
              "<langgraph.graph.state.StateGraph at 0x7fbdc0089d10>"
            ]
          },
          "execution_count": 35,
          "metadata": {},
          "output_type": "execute_result"
        }
      ],
      "source": [
        "graph_with_helpfulness_check = StateGraph(AgentState)\n",
        "\n",
        "graph_with_helpfulness_check.add_node(\"agent\", call_model)\n",
        "graph_with_helpfulness_check.add_node(\"action\", tool_node)"
      ]
    },
    {
      "cell_type": "markdown",
      "metadata": {
        "id": "XZ22o2mWVrfp"
      },
      "source": [
        "##### YOUR MARKDOWN HERE\n",
        "Then we define the entry point of our graph which in this case will be our agent"
      ]
    },
    {
      "cell_type": "code",
      "execution_count": 36,
      "metadata": {
        "colab": {
          "base_uri": "https://localhost:8080/"
        },
        "id": "HNWHwWxuRiLY",
        "outputId": "295f5a35-ceff-452a-ffb8-c52eada6a816"
      },
      "outputs": [
        {
          "data": {
            "text/plain": [
              "<langgraph.graph.state.StateGraph at 0x7fbdc0089d10>"
            ]
          },
          "execution_count": 36,
          "metadata": {},
          "output_type": "execute_result"
        }
      ],
      "source": [
        "graph_with_helpfulness_check.set_entry_point(\"agent\")"
      ]
    },
    {
      "cell_type": "markdown",
      "metadata": {
        "id": "rsXeF6xlaXOZ"
      },
      "source": [
        "##### YOUR MARKDOWN HERE\n",
        "The function tool call or helpful takes receives the state as parameter this state since its an instace of AgentState contains all the past messages exchanged between the agent and the user.\n",
        "\n",
        "We first extract the last message, if the last message contains tool_calls, it means that the model is requesting an external tool.\n",
        "\n",
        "then we extract the user promt and the last message.\n",
        "\n",
        "if the number of messages has exceeded 10 messages the function returns END and it will stop the execution\n",
        "\n",
        "we define the context for the next step which is evaluate if the final response is helpful or not, by attaching to the template the initial query and the last response.\n",
        "\n",
        "This new template is part of the initialization of helfulness_check_model from OpenAI  then we create our chain, we first pass our prompt template then our helfulness model and finally we parse the response from OpenAI.\n",
        "\n",
        "we execute the chain and we ask for Y, meaning that it was helpful if not we continue with the execution."
      ]
    },
    {
      "cell_type": "code",
      "execution_count": 46,
      "metadata": {
        "id": "z_Sq3A9SaV1O"
      },
      "outputs": [],
      "source": [
        "from langchain_core.prompts import PromptTemplate\n",
        "from langchain_core.output_parsers import StrOutputParser\n",
        "\n",
        "def tool_call_or_helpful(state):\n",
        "  last_message = state[\"messages\"][-1]\n",
        "\n",
        "  if last_message.tool_calls:\n",
        "    return \"action\"\n",
        "\n",
        "  initial_query = state[\"messages\"][0]\n",
        "  final_response = state[\"messages\"][-1]\n",
        "\n",
        "  if len(state[\"messages\"]) > 10:\n",
        "    return \"END\"\n",
        "\n",
        "  prompt_template = \"\"\"\\\n",
        "  Given an initial query and a final response, determine if the final response is extremely helpful or not. Please indicate helpfulness with a 'Y' and unhelpfulness as an 'N'.\n",
        "\n",
        "  Initial Query:\n",
        "  {initial_query}\n",
        "\n",
        "  Final Response:\n",
        "  {final_response}\"\"\"\n",
        "\n",
        "  prompt_template = PromptTemplate.from_template(prompt_template)\n",
        "\n",
        "  helpfulness_check_model = ChatOpenAI(model=\"gpt-4\")\n",
        "\n",
        "  helpfulness_chain = prompt_template | helpfulness_check_model | StrOutputParser()\n",
        "\n",
        "  helpfulness_response = helpfulness_chain.invoke({\"initial_query\" : initial_query.content, \"final_response\" : final_response.content})\n",
        "\n",
        "  if \"Y\" in helpfulness_response:\n",
        "    return \"end\"\n",
        "  else:\n",
        "    return \"continue\""
      ]
    },
    {
      "cell_type": "markdown",
      "metadata": {
        "id": "Fz1u9Vf4SHxJ"
      },
      "source": [
        "####🏗️ Activity #4:\n",
        "\n",
        "Please write what is happening in our `tool_call_or_helpful` function!"
      ]
    },
    {
      "cell_type": "markdown",
      "metadata": {
        "id": "6BhnBW2YVsJO"
      },
      "source": [
        "##### YOUR MARKDOWN HERE\n",
        "This section adds condition transitions to the state graph based on the output, add_conditional_edges(node, condition_function, mapping_dict)"
      ]
    },
    {
      "cell_type": "code",
      "execution_count": 47,
      "metadata": {
        "colab": {
          "base_uri": "https://localhost:8080/"
        },
        "id": "aVTKnWMbP_8T",
        "outputId": "7f729b1f-311c-4084-ceaf-0da437900c85"
      },
      "outputs": [
        {
          "name": "stderr",
          "output_type": "stream",
          "text": [
            "Adding an edge to a graph that has already been compiled. This will not be reflected in the compiled graph.\n"
          ]
        },
        {
          "ename": "ValueError",
          "evalue": "Branch with name `tool_call_or_helpful` already exists for node `agent`",
          "output_type": "error",
          "traceback": [
            "\u001b[0;31m---------------------------------------------------------------------------\u001b[0m",
            "\u001b[0;31mValueError\u001b[0m                                Traceback (most recent call last)",
            "Cell \u001b[0;32mIn[47], line 1\u001b[0m\n\u001b[0;32m----> 1\u001b[0m \u001b[43mgraph_with_helpfulness_check\u001b[49m\u001b[38;5;241;43m.\u001b[39;49m\u001b[43madd_conditional_edges\u001b[49m\u001b[43m(\u001b[49m\n\u001b[1;32m      2\u001b[0m \u001b[43m    \u001b[49m\u001b[38;5;124;43m\"\u001b[39;49m\u001b[38;5;124;43magent\u001b[39;49m\u001b[38;5;124;43m\"\u001b[39;49m\u001b[43m,\u001b[49m\n\u001b[1;32m      3\u001b[0m \u001b[43m    \u001b[49m\u001b[43mtool_call_or_helpful\u001b[49m\u001b[43m,\u001b[49m\n\u001b[1;32m      4\u001b[0m \u001b[43m    \u001b[49m\u001b[43m{\u001b[49m\n\u001b[1;32m      5\u001b[0m \u001b[43m        \u001b[49m\u001b[38;5;124;43m\"\u001b[39;49m\u001b[38;5;124;43mcontinue\u001b[39;49m\u001b[38;5;124;43m\"\u001b[39;49m\u001b[43m \u001b[49m\u001b[43m:\u001b[49m\u001b[43m \u001b[49m\u001b[38;5;124;43m\"\u001b[39;49m\u001b[38;5;124;43magent\u001b[39;49m\u001b[38;5;124;43m\"\u001b[39;49m\u001b[43m,\u001b[49m\n\u001b[1;32m      6\u001b[0m \u001b[43m        \u001b[49m\u001b[38;5;124;43m\"\u001b[39;49m\u001b[38;5;124;43maction\u001b[39;49m\u001b[38;5;124;43m\"\u001b[39;49m\u001b[43m \u001b[49m\u001b[43m:\u001b[49m\u001b[43m \u001b[49m\u001b[38;5;124;43m\"\u001b[39;49m\u001b[38;5;124;43maction\u001b[39;49m\u001b[38;5;124;43m\"\u001b[39;49m\u001b[43m,\u001b[49m\n\u001b[1;32m      7\u001b[0m \u001b[43m        \u001b[49m\u001b[38;5;124;43m\"\u001b[39;49m\u001b[38;5;124;43mend\u001b[39;49m\u001b[38;5;124;43m\"\u001b[39;49m\u001b[43m \u001b[49m\u001b[43m:\u001b[49m\u001b[43m \u001b[49m\u001b[43mEND\u001b[49m\n\u001b[1;32m      8\u001b[0m \u001b[43m    \u001b[49m\u001b[43m}\u001b[49m\n\u001b[1;32m      9\u001b[0m \u001b[43m)\u001b[49m\n",
            "File \u001b[0;32m~/Dev/AIE5/05_Our_First_Agent_with_LangGraph/.venv/lib/python3.13/site-packages/langgraph/graph/graph.py:295\u001b[0m, in \u001b[0;36mGraph.add_conditional_edges\u001b[0;34m(self, source, path, path_map, then)\u001b[0m\n\u001b[1;32m    293\u001b[0m \u001b[38;5;66;03m# validate the condition\u001b[39;00m\n\u001b[1;32m    294\u001b[0m \u001b[38;5;28;01mif\u001b[39;00m name \u001b[38;5;129;01min\u001b[39;00m \u001b[38;5;28mself\u001b[39m\u001b[38;5;241m.\u001b[39mbranches[source]:\n\u001b[0;32m--> 295\u001b[0m     \u001b[38;5;28;01mraise\u001b[39;00m \u001b[38;5;167;01mValueError\u001b[39;00m(\n\u001b[1;32m    296\u001b[0m         \u001b[38;5;124mf\u001b[39m\u001b[38;5;124m\"\u001b[39m\u001b[38;5;124mBranch with name `\u001b[39m\u001b[38;5;132;01m{\u001b[39;00mpath\u001b[38;5;241m.\u001b[39mname\u001b[38;5;132;01m}\u001b[39;00m\u001b[38;5;124m` already exists for node \u001b[39m\u001b[38;5;124m\"\u001b[39m \u001b[38;5;124mf\u001b[39m\u001b[38;5;124m\"\u001b[39m\u001b[38;5;124m`\u001b[39m\u001b[38;5;132;01m{\u001b[39;00msource\u001b[38;5;132;01m}\u001b[39;00m\u001b[38;5;124m`\u001b[39m\u001b[38;5;124m\"\u001b[39m\n\u001b[1;32m    297\u001b[0m     )\n\u001b[1;32m    298\u001b[0m \u001b[38;5;66;03m# save it\u001b[39;00m\n\u001b[1;32m    299\u001b[0m \u001b[38;5;28mself\u001b[39m\u001b[38;5;241m.\u001b[39mbranches[source][name] \u001b[38;5;241m=\u001b[39m Branch(path, path_map_, then)\n",
            "\u001b[0;31mValueError\u001b[0m: Branch with name `tool_call_or_helpful` already exists for node `agent`"
          ]
        }
      ],
      "source": [
        "graph_with_helpfulness_check.add_conditional_edges(\n",
        "    \"agent\",\n",
        "    tool_call_or_helpful,\n",
        "    {\n",
        "        \"continue\" : \"agent\",\n",
        "        \"action\" : \"action\",\n",
        "        \"end\" : END\n",
        "    }\n",
        ")"
      ]
    },
    {
      "cell_type": "markdown",
      "metadata": {
        "id": "ZGDLEWOIVtK0"
      },
      "source": [
        "##### YOUR MARKDOWN HERE\n",
        "This line adds a direct transition (edge) from the \"action\" node back to the \"agent\" node in the state graph. meaning that when action node, which runs tool_node, is completed the graph will return control back to the agent, this allows the agent to process the tools output and continue the conversation"
      ]
    },
    {
      "cell_type": "code",
      "execution_count": 40,
      "metadata": {
        "colab": {
          "base_uri": "https://localhost:8080/"
        },
        "id": "cbDK2MbuREgU",
        "outputId": "21a64c20-27a1-4e0e-afde-a639abaa8b55"
      },
      "outputs": [
        {
          "data": {
            "text/plain": [
              "<langgraph.graph.state.StateGraph at 0x7fbdc0089d10>"
            ]
          },
          "execution_count": 40,
          "metadata": {},
          "output_type": "execute_result"
        }
      ],
      "source": [
        "graph_with_helpfulness_check.add_edge(\"action\", \"agent\")"
      ]
    },
    {
      "cell_type": "markdown",
      "metadata": {
        "id": "rSI8AOaEVvT-"
      },
      "source": [
        "##### YOUR MARKDOWN HERE"
      ]
    },
    {
      "cell_type": "markdown",
      "metadata": {},
      "source": [
        "This line compiles the state graph into an executable agent. Now, instead of just defining nodes and transitions, the graph is ready for execution."
      ]
    },
    {
      "cell_type": "code",
      "execution_count": 41,
      "metadata": {
        "id": "oQldl8ERQ8lf"
      },
      "outputs": [],
      "source": [
        "agent_with_helpfulness_check = graph_with_helpfulness_check.compile()"
      ]
    },
    {
      "cell_type": "markdown",
      "metadata": {
        "id": "F67FGCMRVwGz"
      },
      "source": [
        "##### YOUR MARKDOWN HERE\n",
        "This code streams the execution of the compiled agent (agent_with_helpfulness_check) asynchronously, receiving incremental updates from different nodes."
      ]
    },
    {
      "cell_type": "code",
      "execution_count": 42,
      "metadata": {
        "colab": {
          "base_uri": "https://localhost:8080/"
        },
        "id": "B3oo8E-PRK1T",
        "outputId": "f152dea8-96ad-4d29-d8b2-a064c96a8bd3"
      },
      "outputs": [
        {
          "name": "stdout",
          "output_type": "stream",
          "text": [
            "Receiving update from node: 'agent'\n",
            "[AIMessage(content='', additional_kwargs={'tool_calls': [{'id': 'call_l4mvZpqrD8ajUEIPSzUDsgbv', 'function': {'arguments': '{\"query\": \"LoRA in machine learning\"}', 'name': 'tavily_search_results_json'}, 'type': 'function'}, {'id': 'call_6nIn4QMMIbx6w2MUmWdgD6JM', 'function': {'arguments': '{\"query\": \"Tim Dettmers\"}', 'name': 'tavily_search_results_json'}, 'type': 'function'}, {'id': 'call_MIVYwEsDUkulLHsHJNgR0Lvu', 'function': {'arguments': '{\"query\": \"Attention in machine learning\"}', 'name': 'tavily_search_results_json'}, 'type': 'function'}], 'refusal': None}, response_metadata={'token_usage': {'completion_tokens': 81, 'prompt_tokens': 177, 'total_tokens': 258, 'completion_tokens_details': {'accepted_prediction_tokens': 0, 'audio_tokens': 0, 'reasoning_tokens': 0, 'rejected_prediction_tokens': 0}, 'prompt_tokens_details': {'audio_tokens': 0, 'cached_tokens': 0}}, 'model_name': 'gpt-4o-2024-08-06', 'system_fingerprint': 'fp_50cad350e4', 'finish_reason': 'tool_calls', 'logprobs': None}, id='run-f6f0f621-1676-4b63-8d49-8a09d93f8ea0-0', tool_calls=[{'name': 'tavily_search_results_json', 'args': {'query': 'LoRA in machine learning'}, 'id': 'call_l4mvZpqrD8ajUEIPSzUDsgbv', 'type': 'tool_call'}, {'name': 'tavily_search_results_json', 'args': {'query': 'Tim Dettmers'}, 'id': 'call_6nIn4QMMIbx6w2MUmWdgD6JM', 'type': 'tool_call'}, {'name': 'tavily_search_results_json', 'args': {'query': 'Attention in machine learning'}, 'id': 'call_MIVYwEsDUkulLHsHJNgR0Lvu', 'type': 'tool_call'}], usage_metadata={'input_tokens': 177, 'output_tokens': 81, 'total_tokens': 258, 'input_token_details': {'audio': 0, 'cache_read': 0}, 'output_token_details': {'audio': 0, 'reasoning': 0}})]\n",
            "\n",
            "\n",
            "\n",
            "Receiving update from node: 'action'\n",
            "[ToolMessage(content='[{\"url\": \"https://www.cloudflare.com/learning/ai/what-is-lora/\", \"content\": \"Low-rank adaptation (LoRA) is a way to adapt a large machine learning model for specific uses without retraining the entire model. What is machine learning?Large language models (LLMs)Generative AIWhat is artificial intelligence (AI)?Vector database Low-rank adaptation (LoRA) is a technique for quickly adapting machine learning models to new contexts. LoRA helps make huge and complicated machine learning models much more suited for specific uses. What is a machine learning model? LoRA adds low-rank matrices to the frozen original machine learning model. Low-rank matrices are like those cheap adapters, with the outlets being the original machine learning models.\"}, {\"url\": \"https://www.ibm.com/think/topics/lora\", \"content\": \"LoRA leverages the concept of lower-rank matrices to make the model training process extremely efficient and fast. By leveraging smaller matrices, which are called low-rank matrices, LoRA adapts these models effectively. LoRA adds low-rank matrices to the frozen original machine learning model. This significantly reduces the trainable parameters of the model and the GPU memory requirement for the training process, which is another significant challenge when it comes to fine-tuning or training large models. To implement LoRA fine tuning with HuggingFace using Python and PyTorch, developers can use the parameter-efficient fine-tuning (PEFT) library to inject the LoRA adapters into the model and use them as the update matrices. Removing this resiliency can make models less accurate, so the rank of update matrices can be tuned as a part of the LoRA process.\"}, {\"url\": \"https://arxiv.org/abs/2106.09685\", \"content\": \"cs arXiv:2106.09685 LoRA: Low-Rank Adaptation of Large Language Models Hu, Yelong Shen, Phillip Wallis, Zeyuan Allen-Zhu, Yuanzhi Li, Shean Wang, Lu Wang, Weizhu Chen We propose Low-Rank Adaptation, or LoRA, which freezes the pre-trained model weights and injects trainable rank decomposition matrices into each layer of the Transformer architecture, greatly reducing the number of trainable parameters for downstream tasks. LoRA performs on-par or better than fine-tuning in model quality on RoBERTa, DeBERTa, GPT-2, and GPT-3, despite having fewer trainable parameters, a higher training throughput, and, unlike adapters, no additional inference latency. Subjects:   Computation and Language (cs.CL); Artificial Intelligence (cs.AI); Machine Learning (cs.LG) Cite as:    arXiv:2106.09685 [cs.CL] (or arXiv:2106.09685v2 [cs.CL] for this version) cs Bibliographic and Citation Tools Connected Papers Toggle\"}, {\"url\": \"https://www.datacamp.com/tutorial/mastering-low-rank-adaptation-lora-enhancing-large-language-models-for-efficient-adaptation\", \"content\": \"Natassha Selvaraj\\\\n8 min\\\\nWhat Fortune 1000 Executives Believe about Data & AI in 2024 with Randy Bean, Innovation Fellow, Data Strategy, Wavestone\\\\nRichie Cotton\\\\n46 min\\\\nData Security in the Age of AI with Bart Vandekerckhove, Co-founder at Raito\\\\nRichie Cotton\\\\n46 min\\\\nBuilding Trustworthy AI with Alexandra Ebert, Chief Trust Officer at MOSTLY AI\\\\nRichie Cotton\\\\n50 min\\\\nHow Transformers Work: A Detailed Exploration of Transformer Architecture\\\\nJosep Ferrer\\\\n15 min\\\\nCross-Entropy Loss Function in Machine Learning: Latest news about our products and team\\\\nDiscover content by tools and technology\\\\nDiscover content by data science topics\\\\nMastering Low-Rank Adaptation (LoRA): Enhancing Large Language Models for Efficient Adaptation\\\\nLoRA: Low-Rank Adaptation of Large Language Models\\\\nThe field of machine learning and natural language processing (NLP) has witnessed a remarkable advancement with the introduction of Large Language Models (LLMs) such as GPT, LLaMa, Claude 2, etc. Benefits of pre-fix tuning:\\\\nLoRA and prefix tuning can be combined within the PEFT (Parameter Efficient Fine-Tuning) framework:\\\\nExample of LoRA implementation using Loralib library in Python\\\\nTo implement LoRA, you can use the Loralib library by Microsoft. What Fortune 1000 Executives Believe about Data & AI in 2024 with Randy Bean, Innovation Fellow, Data Strategy, Wavestone\\\\nData Security in the Age of AI with Bart Vandekerckhove, Co-founder at Raito\\\\nBuilding Trustworthy AI with Alexandra Ebert, Chief Trust Officer at MOSTLY AI\\\\nHow Transformers Work: A Detailed Exploration of Transformer Architecture\\\\nCross-Entropy Loss Function in Machine Learning: Advantages of LoRA\\\\nThere are several advantages that come with using LoRA for fine-tuning:\\\\n1. Efficiency in training and deployment\\\\nLoRA reduces the computational burden, allowing faster adaptation of models.\"}, {\"url\": \"https://medium.com/data-science-at-microsoft/understanding-and-implementing-lora-theory-and-practical-code-for-efficient-fine-tuning-cffda1e9ff97\", \"content\": \"Understanding and implementing LoRA: Theory and practical code for efficient fine-tuning | by Yash Khasbage | Data Science at Microsoft | Dec, 2024 | Medium The key idea is that instead of updating all of a model’s parameters during fine-tuning, LoRA introduces low-rank trainable matrices to adjust only a small subset of weights. LoRA resolves this issue by freezing the pre-trained weights of the model and introducing a low-rank trainable approximation to fine-tune the model. When fine-tuning a pre-trained model with LoRA, a trainable low-rank matrix pair (B ⋅ A) is added to the frozen weight matrix W. In conclusion, LoRA enables the fine-tuning of large models in scenarios where computational resources are limited, making it a powerful tool in the era of massive, pre-trained models.\"}]', name='tavily_search_results_json', id='c8b974ee-082a-4a55-ad4f-be6575accc3d', tool_call_id='call_l4mvZpqrD8ajUEIPSzUDsgbv', artifact={'query': 'LoRA in machine learning', 'follow_up_questions': None, 'answer': None, 'images': [], 'results': [{'title': 'What is LoRA? | Low-rank adaptation - Cloudflare', 'url': 'https://www.cloudflare.com/learning/ai/what-is-lora/', 'content': 'Low-rank adaptation (LoRA) is a way to adapt a large machine learning model for specific uses without retraining the entire model. What is machine learning?Large language models (LLMs)Generative AIWhat is artificial intelligence (AI)?Vector database Low-rank adaptation (LoRA) is a technique for quickly adapting machine learning models to new contexts. LoRA helps make huge and complicated machine learning models much more suited for specific uses. What is a machine learning model? LoRA adds low-rank matrices to the frozen original machine learning model. Low-rank matrices are like those cheap adapters, with the outlets being the original machine learning models.', 'score': 0.9158166, 'raw_content': None}, {'title': 'What is LoRA (low-rank adaption)? - IBM', 'url': 'https://www.ibm.com/think/topics/lora', 'content': 'LoRA leverages the concept of lower-rank matrices to make the model training process extremely efficient and fast. By leveraging smaller matrices, which are called low-rank matrices, LoRA adapts these models effectively. LoRA adds low-rank matrices to the frozen original machine learning model. This significantly reduces the trainable parameters of the model and the GPU memory requirement for the training process, which is another significant challenge when it comes to fine-tuning or training large models. To implement LoRA fine tuning with HuggingFace using Python and PyTorch, developers can use the parameter-efficient fine-tuning (PEFT) library to inject the LoRA adapters into the model and use them as the update matrices. Removing this resiliency can make models less accurate, so the rank of update matrices can be tuned as a part of the LoRA process.', 'score': 0.902687, 'raw_content': None}, {'title': '[2106.09685] LoRA: Low-Rank Adaptation of Large Language Models - arXiv.org', 'url': 'https://arxiv.org/abs/2106.09685', 'content': 'cs arXiv:2106.09685 LoRA: Low-Rank Adaptation of Large Language Models Hu, Yelong Shen, Phillip Wallis, Zeyuan Allen-Zhu, Yuanzhi Li, Shean Wang, Lu Wang, Weizhu Chen We propose Low-Rank Adaptation, or LoRA, which freezes the pre-trained model weights and injects trainable rank decomposition matrices into each layer of the Transformer architecture, greatly reducing the number of trainable parameters for downstream tasks. LoRA performs on-par or better than fine-tuning in model quality on RoBERTa, DeBERTa, GPT-2, and GPT-3, despite having fewer trainable parameters, a higher training throughput, and, unlike adapters, no additional inference latency. Subjects:   Computation and Language (cs.CL); Artificial Intelligence (cs.AI); Machine Learning (cs.LG) Cite as:    arXiv:2106.09685 [cs.CL] (or arXiv:2106.09685v2 [cs.CL] for this version) cs Bibliographic and Citation Tools Connected Papers Toggle', 'score': 0.84948516, 'raw_content': None}, {'title': 'Mastering Low-Rank Adaptation (LoRA): Enhancing Large ... - DataCamp', 'url': 'https://www.datacamp.com/tutorial/mastering-low-rank-adaptation-lora-enhancing-large-language-models-for-efficient-adaptation', 'content': 'Natassha Selvaraj\\n8 min\\nWhat Fortune 1000 Executives Believe about Data & AI in 2024 with Randy Bean, Innovation Fellow, Data Strategy, Wavestone\\nRichie Cotton\\n46 min\\nData Security in the Age of AI with Bart Vandekerckhove, Co-founder at Raito\\nRichie Cotton\\n46 min\\nBuilding Trustworthy AI with Alexandra Ebert, Chief Trust Officer at MOSTLY AI\\nRichie Cotton\\n50 min\\nHow Transformers Work: A Detailed Exploration of Transformer Architecture\\nJosep Ferrer\\n15 min\\nCross-Entropy Loss Function in Machine Learning: Latest news about our products and team\\nDiscover content by tools and technology\\nDiscover content by data science topics\\nMastering Low-Rank Adaptation (LoRA): Enhancing Large Language Models for Efficient Adaptation\\nLoRA: Low-Rank Adaptation of Large Language Models\\nThe field of machine learning and natural language processing (NLP) has witnessed a remarkable advancement with the introduction of Large Language Models (LLMs) such as GPT, LLaMa, Claude 2, etc. Benefits of pre-fix tuning:\\nLoRA and prefix tuning can be combined within the PEFT (Parameter Efficient Fine-Tuning) framework:\\nExample of LoRA implementation using Loralib library in Python\\nTo implement LoRA, you can use the Loralib library by Microsoft. What Fortune 1000 Executives Believe about Data & AI in 2024 with Randy Bean, Innovation Fellow, Data Strategy, Wavestone\\nData Security in the Age of AI with Bart Vandekerckhove, Co-founder at Raito\\nBuilding Trustworthy AI with Alexandra Ebert, Chief Trust Officer at MOSTLY AI\\nHow Transformers Work: A Detailed Exploration of Transformer Architecture\\nCross-Entropy Loss Function in Machine Learning: Advantages of LoRA\\nThere are several advantages that come with using LoRA for fine-tuning:\\n1. Efficiency in training and deployment\\nLoRA reduces the computational burden, allowing faster adaptation of models.', 'score': 0.8127637, 'raw_content': None}, {'title': 'Understanding and implementing LoRA: Theory and practical code ... - Medium', 'url': 'https://medium.com/data-science-at-microsoft/understanding-and-implementing-lora-theory-and-practical-code-for-efficient-fine-tuning-cffda1e9ff97', 'content': 'Understanding and implementing LoRA: Theory and practical code for efficient fine-tuning | by Yash Khasbage | Data Science at Microsoft | Dec, 2024 | Medium The key idea is that instead of updating all of a model’s parameters during fine-tuning, LoRA introduces low-rank trainable matrices to adjust only a small subset of weights. LoRA resolves this issue by freezing the pre-trained weights of the model and introducing a low-rank trainable approximation to fine-tune the model. When fine-tuning a pre-trained model with LoRA, a trainable low-rank matrix pair (B ⋅ A) is added to the frozen weight matrix W. In conclusion, LoRA enables the fine-tuning of large models in scenarios where computational resources are limited, making it a powerful tool in the era of massive, pre-trained models.', 'score': 0.8124067, 'raw_content': None}], 'response_time': 1.74}), ToolMessage(content='[{\"url\": \"https://timdettmers.com/about/\", \"content\": \"Tim Dettmers is a research scientist at Ai2 and an incoming assistant professor at CMU. He works on efficient deep learning methods, such as quantization, sparsity, and low-bit inference.\"}, {\"url\": \"https://timdettmers.com/\", \"content\": \"Tim Dettmers is a researcher and teacher in deep learning and natural language processing. His blog covers topics such as hardware, quantization, sparse networks, creativity, and grad school choices.\"}, {\"url\": \"https://ai2050.schmidtsciences.org/fellow/tim-dettmers/\", \"content\": \"Tim Dettmers is an Assistant Professor at Carnegie Mellon University and a Research Scientist at the Allen Institute for AI, and his research focuses on making foundation models, such as ChatGPT, accessible to researchers and practitioners by reducing their resource requirements. AI models like ChatGPT work well for general use but fail in specialized expert domains, such as the medical sciences. To make AI models work in expert domains, one must adapt them, which is costly and requires significant AI expertise. This project overcomes these cost and expertise barriers through two new approaches: (1) use AI models themselves to perform the AI model adaptation process automatically; (2) make the adaptation process cheap so it can be run on regular consumer hardware.\"}, {\"url\": \"https://arxiv.org/abs/2208.07339\", \"content\": \"Tim Dettmers is one of the authors of a paper titled LLM.int8, which proposes a method for 8-bit matrix multiplication for transformers at scale. The paper was published at NeurIPS 2022 and shows how to reduce GPU memory for inference in large language models.\"}, {\"url\": \"https://scholar.google.com/citations?user=lHI3w5kAAAAJ&hl=en\", \"content\": \"Tim Dettmers. Allen Institute for AI; Carnegie Mellon University. Verified email at allenai.org - Homepage. ... T Dettmers, R Svirschevski, V Egiazarian, D Kuznedelev, E Frantar, ... arXiv preprint arXiv:2306.03078, 2023. 193: 2023: The case for 4-bit precision: k-bit inference scaling laws.\"}]', name='tavily_search_results_json', id='a5031d04-024a-463b-8d6a-1c78bd617402', tool_call_id='call_6nIn4QMMIbx6w2MUmWdgD6JM', artifact={'query': 'Tim Dettmers', 'follow_up_questions': None, 'answer': None, 'images': [], 'results': [{'title': 'About Me — Tim Dettmers', 'url': 'https://timdettmers.com/about/', 'content': 'Tim Dettmers is a research scientist at Ai2 and an incoming assistant professor at CMU. He works on efficient deep learning methods, such as quantization, sparsity, and low-bit inference.', 'score': 0.9407083, 'raw_content': None}, {'title': 'Tim Dettmers — Making deep learning accessible.', 'url': 'https://timdettmers.com/', 'content': 'Tim Dettmers is a researcher and teacher in deep learning and natural language processing. His blog covers topics such as hardware, quantization, sparse networks, creativity, and grad school choices.', 'score': 0.9405774, 'raw_content': None}, {'title': 'Tim Dettmers - AI2050', 'url': 'https://ai2050.schmidtsciences.org/fellow/tim-dettmers/', 'content': 'Tim Dettmers is an Assistant Professor at Carnegie Mellon University and a Research Scientist at the Allen Institute for AI, and his research focuses on making foundation models, such as ChatGPT, accessible to researchers and practitioners by reducing their resource requirements. AI models like ChatGPT work well for general use but fail in specialized expert domains, such as the medical sciences. To make AI models work in expert domains, one must adapt them, which is costly and requires significant AI expertise. This project overcomes these cost and expertise barriers through two new approaches: (1) use AI models themselves to perform the AI model adaptation process automatically; (2) make the adaptation process cheap so it can be run on regular consumer hardware.', 'score': 0.9263638, 'raw_content': None}, {'title': 'LLM.int8(): 8-bit Matrix Multiplication for Transformers at Scale', 'url': 'https://arxiv.org/abs/2208.07339', 'content': 'Tim Dettmers is one of the authors of a paper titled LLM.int8, which proposes a method for 8-bit matrix multiplication for transformers at scale. The paper was published at NeurIPS 2022 and shows how to reduce GPU memory for inference in large language models.', 'score': 0.8638634, 'raw_content': None}, {'title': '\\u202aTim Dettmers\\u202c - \\u202aGoogle Scholar\\u202c', 'url': 'https://scholar.google.com/citations?user=lHI3w5kAAAAJ&hl=en', 'content': 'Tim Dettmers. Allen Institute for AI; Carnegie Mellon University. Verified email at allenai.org - Homepage. ... T Dettmers, R Svirschevski, V Egiazarian, D Kuznedelev, E Frantar, ... arXiv preprint arXiv:2306.03078, 2023. 193: 2023: The case for 4-bit precision: k-bit inference scaling laws.', 'score': 0.66464967, 'raw_content': None}], 'response_time': 1.69}), ToolMessage(content='[{\"url\": \"https://www.clrn.org/what-is-attention-in-machine-learning/\", \"content\": \"This type of attention is particularly useful for tasks such as language translation, where the model needs to understand the relationships between different words in a sentence. Improved Performance: Attention can significantly improve the performance of machine learning models, particularly in tasks that require understanding complex relationships between different elements. In conclusion, attention is a powerful mechanism that allows machine learning models to focus on specific parts of the input data that are relevant to the task at hand. By understanding the basics of attention, developers can create more effective and efficient machine learning models that are capable of processing complex relationships between different elements. Save my name, email, and website in this browser for the next time I comment.\"}, {\"url\": \"https://machinelearningmastery.com/what-is-attention/\", \"content\": \"The human brain does so by relying on attention, such that it dynamically stores in memory the information that the human subject most pays attention to.\\\\nAttention in Machine Learning\\\\nImplementing the attention mechanism in artificial neural networks does not necessarily track the biological and psychological mechanisms of the human brain. A list of these vectors (the second component of the attention-based system above), together with the decoder’s previous hidden states, will be exploited by the attention mechanism to dynamically highlight which of the input information will be used to generate the output.\\\\n LinkedIn |\\\\nTwitter |\\\\nFacebook |\\\\nNewsletter |\\\\nRSS\\\\nPrivacy |\\\\nDisclaimer |\\\\nTerms |\\\\nContact |\\\\nSitemap |\\\\nSearch Instead, it is the ability to dynamically highlight and use the salient parts of the information at hand—in a similar manner as it does in the human brain—that makes attention such an attractive concept in machine learning.\\\\n At each time step, the attention mechanism then takes the previous hidden state of the decoder and the list of encoded vectors, using them to generate unnormalized score values that indicate how well the elements of the input sequence align with the current output.\"}, {\"url\": \"https://pmc.ncbi.nlm.nih.gov/articles/PMC7177153/\", \"content\": \"Modeling work has shown that many of the neural effects of selective attention can be captured by assuming that top-down connections provide targeted synaptic inputs to cells in these circuits (Lindsay et al., 2019). In addition, once attention is applied to a visual object, it is believed to activate feature-based attention for the different features of that object across the visual field (O\\'Craven et al., 1999). Attention mechanisms in machine learning allow a single trained artificial neural network to perform well on multiple tasks or tasks with inputs of variable length, size, or structure. An early application of the this form of attention in artificial neural networks was to the task of translation (Bahdanau et al., 2014) (Figure 3). Recurrent models of visual attention, in Advances in Neural Information Processing Systems (Montreal, QC: ), 2204–2212.\"}, {\"url\": \"https://www.freecodecamp.org/news/what-are-attention-mechanisms-in-deep-learning/\", \"content\": \"Attention mechanism is a fundamental invention in artificial intelligence and machine learning, redefining the capabilities of deep learning models. This mechanism, inspired by the human mental process of selective focus, has emerged as a pillar in a variety of applications, accelerating developments in natural language processing, computer\"}, {\"url\": \"https://pmc.ncbi.nlm.nih.gov/articles/PMC7996841/\", \"content\": \"Keywords: attention, deep learning, complex and dynamical systems, self-attention, neural networks, sequential reasoning The combination of deep neural networks and the computational capabilities of Graphics Processing Units (GPUs) [1] has brought a breakthrough to the field of machine learning, improving the performance of several tasks such as image recognition, machine translation, language modelling, time series prediction, etc. Here, as shown in Table 1, we describe the evolution of machine learning techniques and demonstrate how attention mechanisms, in combination with classic models, allow modeling certain important characteristics of complex systems, e.g., sequential reasoning, integration of different parts and long term dependencies.\"}]', name='tavily_search_results_json', id='60d1702e-a396-4799-8a23-b38d4f15ef7d', tool_call_id='call_MIVYwEsDUkulLHsHJNgR0Lvu', artifact={'query': 'Attention in machine learning', 'follow_up_questions': None, 'answer': None, 'images': [], 'results': [{'title': 'What is attention in machine learning? - California Learning Resource ...', 'url': 'https://www.clrn.org/what-is-attention-in-machine-learning/', 'content': 'This type of attention is particularly useful for tasks such as language translation, where the model needs to understand the relationships between different words in a sentence. Improved Performance: Attention can significantly improve the performance of machine learning models, particularly in tasks that require understanding complex relationships between different elements. In conclusion, attention is a powerful mechanism that allows machine learning models to focus on specific parts of the input data that are relevant to the task at hand. By understanding the basics of attention, developers can create more effective and efficient machine learning models that are capable of processing complex relationships between different elements. Save my name, email, and website in this browser for the next time I comment.', 'score': 0.9075175, 'raw_content': None}, {'title': 'What Is Attention? - MachineLearningMastery.com', 'url': 'https://machinelearningmastery.com/what-is-attention/', 'content': 'The human brain does so by relying on attention, such that it dynamically stores in memory the information that the human subject most pays attention to.\\nAttention in Machine Learning\\nImplementing the attention mechanism in artificial neural networks does not necessarily track the biological and psychological mechanisms of the human brain. A list of these vectors (the second component of the attention-based system above), together with the decoder’s previous hidden states, will be exploited by the attention mechanism to dynamically highlight which of the input information will be used to generate the output.\\n LinkedIn |\\nTwitter |\\nFacebook |\\nNewsletter |\\nRSS\\nPrivacy |\\nDisclaimer |\\nTerms |\\nContact |\\nSitemap |\\nSearch Instead, it is the ability to dynamically highlight and use the salient parts of the information at hand—in a similar manner as it does in the human brain—that makes attention such an attractive concept in machine learning.\\n At each time step, the attention mechanism then takes the previous hidden state of the decoder and the list of encoded vectors, using them to generate unnormalized score values that indicate how well the elements of the input sequence align with the current output.', 'score': 0.902481, 'raw_content': None}, {'title': 'Attention in Psychology, Neuroscience, and Machine Learning', 'url': 'https://pmc.ncbi.nlm.nih.gov/articles/PMC7177153/', 'content': \"Modeling work has shown that many of the neural effects of selective attention can be captured by assuming that top-down connections provide targeted synaptic inputs to cells in these circuits (Lindsay et al., 2019). In addition, once attention is applied to a visual object, it is believed to activate feature-based attention for the different features of that object across the visual field (O'Craven et al., 1999). Attention mechanisms in machine learning allow a single trained artificial neural network to perform well on multiple tasks or tasks with inputs of variable length, size, or structure. An early application of the this form of attention in artificial neural networks was to the task of translation (Bahdanau et al., 2014) (Figure 3). Recurrent models of visual attention, in Advances in Neural Information Processing Systems (Montreal, QC: ), 2204–2212.\", 'score': 0.8800674, 'raw_content': None}, {'title': 'What are Attention Mechanisms in Deep Learning? - freeCodeCamp.org', 'url': 'https://www.freecodecamp.org/news/what-are-attention-mechanisms-in-deep-learning/', 'content': 'Attention mechanism is a fundamental invention in artificial intelligence and machine learning, redefining the capabilities of deep learning models. This mechanism, inspired by the human mental process of selective focus, has emerged as a pillar in a variety of applications, accelerating developments in natural language processing, computer', 'score': 0.8674071, 'raw_content': None}, {'title': 'Attention Mechanisms and Their Applications to Complex Systems', 'url': 'https://pmc.ncbi.nlm.nih.gov/articles/PMC7996841/', 'content': 'Keywords: attention, deep learning, complex and dynamical systems, self-attention, neural networks, sequential reasoning The combination of deep neural networks and the computational capabilities of Graphics Processing Units (GPUs) [1] has brought a breakthrough to the field of machine learning, improving the performance of several tasks such as image recognition, machine translation, language modelling, time series prediction, etc. Here, as shown in Table 1, we describe the evolution of machine learning techniques and demonstrate how attention mechanisms, in combination with classic models, allow modeling certain important characteristics of complex systems, e.g., sequential reasoning, integration of different parts and long term dependencies.', 'score': 0.84767824, 'raw_content': None}], 'response_time': 1.7})]\n",
            "\n",
            "\n",
            "\n",
            "Receiving update from node: 'agent'\n",
            "[AIMessage(content=\"### LoRA in Machine Learning\\nLoRA, or Low-Rank Adaptation, is a technique used to adapt large machine learning models for specific tasks without retraining the entire model. It involves adding low-rank matrices to the frozen original model, which significantly reduces the number of trainable parameters and the GPU memory required for training. This method is particularly useful for fine-tuning large language models like RoBERTa, DeBERTa, GPT-2, and GPT-3, allowing them to perform efficiently on downstream tasks with fewer resources. LoRA is implemented by injecting trainable rank decomposition matrices into each layer of the Transformer architecture, maintaining model quality while enhancing training throughput and reducing computational burden.\\n\\n### Tim Dettmers\\nTim Dettmers is a research scientist at the Allen Institute for AI and an incoming assistant professor at Carnegie Mellon University. His work focuses on efficient deep learning methods, including quantization, sparsity, and low-bit inference. Dettmers is known for his research on making large AI models, such as ChatGPT, more accessible by reducing their resource requirements. He has contributed to methods like 8-bit matrix multiplication for transformers, which help in reducing GPU memory usage during inference.\\n\\n### Attention in Machine Learning\\nAttention mechanisms in machine learning allow models to focus on specific parts of the input data that are most relevant to the task at hand. This concept is inspired by the human brain's ability to selectively focus on important information. In machine learning, attention is used to dynamically highlight and utilize salient parts of the input, improving model performance on tasks like language translation, image recognition, and more. The attention mechanism is a key component in many deep learning models, enabling them to handle complex relationships and dependencies within data.\", additional_kwargs={'refusal': None}, response_metadata={'token_usage': {'completion_tokens': 352, 'prompt_tokens': 2899, 'total_tokens': 3251, 'completion_tokens_details': {'accepted_prediction_tokens': 0, 'audio_tokens': 0, 'reasoning_tokens': 0, 'rejected_prediction_tokens': 0}, 'prompt_tokens_details': {'audio_tokens': 0, 'cached_tokens': 0}}, 'model_name': 'gpt-4o-2024-08-06', 'system_fingerprint': 'fp_50cad350e4', 'finish_reason': 'stop', 'logprobs': None}, id='run-63792f6f-6204-400f-8b55-d85a8d0665e2-0', usage_metadata={'input_tokens': 2899, 'output_tokens': 352, 'total_tokens': 3251, 'input_token_details': {'audio': 0, 'cache_read': 0}, 'output_token_details': {'audio': 0, 'reasoning': 0}})]\n",
            "\n",
            "\n",
            "\n"
          ]
        }
      ],
      "source": [
        "inputs = {\"messages\" : [HumanMessage(content=\"Related to machine learning, what is LoRA? Also, who is Tim Dettmers? Also, what is Attention?\")]}\n",
        "\n",
        "async for chunk in agent_with_helpfulness_check.astream(inputs, stream_mode=\"updates\"):\n",
        "    for node, values in chunk.items():\n",
        "        print(f\"Receiving update from node: '{node}'\")\n",
        "        print(values[\"messages\"])\n",
        "        print(\"\\n\\n\")"
      ]
    },
    {
      "cell_type": "markdown",
      "metadata": {
        "id": "yVmZPs6lnpsM"
      },
      "source": [
        "### Task 4: LangGraph for the \"Patterns\" of GenAI\n",
        "\n",
        "Let's ask our system about the 4 patterns of Generative AI:\n",
        "\n",
        "1. Prompt Engineering\n",
        "2. RAG\n",
        "3. Fine-tuning\n",
        "4. Agents"
      ]
    },
    {
      "cell_type": "code",
      "execution_count": 43,
      "metadata": {
        "id": "ZoLl7GlXoae-"
      },
      "outputs": [],
      "source": [
        "patterns = [\"prompt engineering\", \"RAG\", \"fine-tuning\", \"LLM-based agents\"]"
      ]
    },
    {
      "cell_type": "code",
      "execution_count": 44,
      "metadata": {
        "colab": {
          "base_uri": "https://localhost:8080/"
        },
        "id": "Zkh0YJuCp3Zl",
        "outputId": "d847426e-71b3-47e6-b1ae-351a78d68d1e"
      },
      "outputs": [
        {
          "name": "stdout",
          "output_type": "stream",
          "text": [
            "**Prompt Engineering: Definition and History**\n",
            "\n",
            "**Definition:**\n",
            "Prompt engineering is the process of designing inputs for generative artificial intelligence (AI) models to deliver useful, accurate, and relevant responses. It is particularly used with large language models (LLMs) like OpenAI's ChatGPT and Google Gemini. The goal is to optimize the output from these models by crafting well-engineered prompts, which can lead to improved results and efficiency. This practice is crucial in various applications, including customer support, content generation, and data analysis. It involves creating prompts that guide AI models in generating accurate and relevant responses, minimizing bias, and enhancing the interaction between AI tools and users.\n",
            "\n",
            "**History:**\n",
            "The history of prompt engineering can be traced back to the early days of code generation tools like CodeSmith and MyGeneration, which were designed to automate the process of generating boilerplate code for common programming tasks. As AI and natural language processing (NLP) evolved, prompt engineering became more sophisticated, especially with the development of large language models (LLMs) like GPT-3. Initially, prompts were simple, but as LLMs became more complex, prompt engineering followed suit. The field has seen significant advancements with the introduction of reinforcement learning techniques, which have improved the controllability and adaptability of language models for a wide range of NLP applications.\n",
            "\n",
            "\n",
            "\n",
            "Retrieval-Augmented Generation (RAG) is a technology that enhances generative models by integrating retrieval-based methods. This approach allows AI systems to access external information sources, improving the quality and relevance of generated content. RAG modifies interactions with large language models (LLMs) so that they can respond to user queries by referencing a specified set of documents, augmenting the information drawn from their static training data.\n",
            "\n",
            "The concept of RAG was popularized by a 2020 paper authored by Patrick Lewis and colleagues from Facebook AI Research (now Meta AI), University College London, and New York University. The paper described RAG as a \"general-purpose fine-tuning recipe\" that can be used by nearly any LLM to connect with external resources. This innovation was inspired by earlier methods and a paper from Google researchers, aiming to create a system that could learn and generate any text output by incorporating a retrieval index.\n",
            "\n",
            "RAG has since evolved, with advancements such as the Modular RAG framework, which decomposes complex RAG systems into independent modules, and the AutoRAG framework, which optimizes the RAG pipeline for specific datasets. These developments highlight the growing complexity and capabilities of RAG systems, which are now being used in various applications, including personalized learning, literature reviews, and recommendation systems.\n",
            "\n",
            "\n",
            "\n",
            "Fine-tuning in machine learning is a process where a pre-trained model is adapted for specific tasks or use cases. This involves adjusting the model's parameters using a new, task-specific dataset, allowing the model to specialize its learned representations for a new or related task. Fine-tuning is a technique within the broader category of transfer learning, where the general knowledge encoded in pre-trained models is refined to focus on the nuances of a specific task or domain.\n",
            "\n",
            "The concept of fine-tuning has been around for some time, but it gained significant attention with the rise of deep learning and transfer learning techniques. It allows models to leverage existing knowledge and adapt to new tasks with relatively less data and computational resources compared to training a model from scratch.\n",
            "\n",
            "Here are some key points about fine-tuning:\n",
            "\n",
            "1. **Transfer Learning**: Fine-tuning is a form of transfer learning where a model pre-trained on a large dataset is adapted to a smaller, task-specific dataset.\n",
            "\n",
            "2. **Selective Training**: Fine-tuning can involve training the entire model or just a subset of its layers, with the rest being \"frozen\" (i.e., not updated during training).\n",
            "\n",
            "3. **Applications**: It is widely used in various applications, including natural language processing, computer vision, and reinforcement learning, to improve model performance on specific tasks.\n",
            "\n",
            "4. **Challenges**: While fine-tuning can enhance model performance, it also comes with challenges such as the risk of overfitting to the new dataset and the need for careful selection of hyperparameters.\n",
            "\n",
            "5. **Recent Research**: Recent studies have explored different aspects of fine-tuning, such as its application in differentially private machine learning and reinforcement learning, highlighting its evolving nature and the ongoing research to optimize its effectiveness.\n",
            "\n",
            "For more detailed insights, you can explore the following resources:\n",
            "\n",
            "- [IBM on Fine-Tuning](https://www.ibm.com/think/topics/fine-tuning)\n",
            "- [Wikipedia on Fine-Tuning in Deep Learning](https://en.wikipedia.org/wiki/Fine-tuning_(deep_learning))\n",
            "- [DigitalOcean on Fine-Tuning](https://www.digitalocean.com/resources/articles/fine-tuning)\n",
            "- [Medium on Fine-Tuning and Transfer Learning](https://medium.com/artificial-intelligence-blocbelt/mastering-model-optimization-in-depth-guide-to-fine-tuning-and-transfer-learning-in-machine-bc47ae4def92)\n",
            "- [TechTarget on Fine-Tuning](https://www.techtarget.com/searchEnterpriseAI/definition/fine-tuning)\n",
            "\n",
            "Additionally, recent academic papers have explored various aspects of fine-tuning, such as its application in reinforcement learning and differentially private machine learning, providing theoretical insights and empirical evaluations.\n",
            "\n",
            "\n",
            "\n",
            "LLM-based agents, or Large Language Model-based agents, are intelligent systems that utilize large language models to interact with environments, whether physical, digital, or human. These agents have evolved from earlier AI systems, such as symbolic AI agents like ELIZA in 1966, to modern LLM-based reasoning agents. They are known for their versatility in text-based interactions and their ability to perform few-shot learning, which allows them to generalize across different domains without task-specific design and engineering.\n",
            "\n",
            "The development of LLM-based agents marks a significant advancement in AI, as they outperform earlier rule-based or reinforcement learning agents due to their generality and flexibility in problem-solving. They have been applied in various fields, including software engineering, scientific discovery, and web automation.\n",
            "\n",
            "The concept of LLM-based agents began gaining traction with the rise of large language models, which have been trained on vast amounts of text data, enabling them to perform complex reasoning and decision-making tasks.\n",
            "\n",
            "\n",
            "\n"
          ]
        }
      ],
      "source": [
        "for pattern in patterns:\n",
        "  what_is_string = f\"What is {pattern} and when did it break onto the scene??\"\n",
        "  inputs = {\"messages\" : [HumanMessage(content=what_is_string)]}\n",
        "  messages = agent_with_helpfulness_check.invoke(inputs)\n",
        "  print(messages[\"messages\"][-1].content)\n",
        "  print(\"\\n\\n\")"
      ]
    }
  ],
>>>>>>> 5319aac2 (Initial commit - reset history)
  "metadata": {
    "colab": {
      "provenance": []
    },
    "kernelspec": {
<<<<<<< HEAD
      "name": "python3",
      "display_name": "Python 3"
    },
    "language_info": {
      "name": "python"
    },
    "widgets": {
      "application/vnd.jupyter.widget-state+json": {
        "efcf57067cf743d8b4ce059a61cbe02e": {
          "model_module": "@jupyter-widgets/controls",
          "model_name": "HBoxModel",
          "model_module_version": "1.5.0",
          "state": {
            "_dom_classes": [],
            "_model_module": "@jupyter-widgets/controls",
            "_model_module_version": "1.5.0",
            "_model_name": "HBoxModel",
            "_view_count": null,
            "_view_module": "@jupyter-widgets/controls",
            "_view_module_version": "1.5.0",
            "_view_name": "HBoxView",
            "box_style": "",
            "children": [
              "IPY_MODEL_53e33aae3b97490c82aec7bbb0d6ebba",
              "IPY_MODEL_ad84e0e971d3455db2efe7dd0d1f803e",
              "IPY_MODEL_72adef9b70dd48198b7322b6c5b113cf"
            ],
            "layout": "IPY_MODEL_8a61d045ffd44ac58f3f13eb10044836"
          }
        },
        "53e33aae3b97490c82aec7bbb0d6ebba": {
          "model_module": "@jupyter-widgets/controls",
          "model_name": "HTMLModel",
          "model_module_version": "1.5.0",
          "state": {
            "_dom_classes": [],
            "_model_module": "@jupyter-widgets/controls",
            "_model_module_version": "1.5.0",
            "_model_name": "HTMLModel",
            "_view_count": null,
            "_view_module": "@jupyter-widgets/controls",
            "_view_module_version": "1.5.0",
            "_view_name": "HTMLView",
            "description": "",
            "description_tooltip": null,
            "layout": "IPY_MODEL_041e22a9b5514e36bd4d1dac01d5d398",
            "placeholder": "​",
            "style": "IPY_MODEL_886d762f2a7c421382efb5502c6d42a1",
            "value": ""
          }
        },
        "ad84e0e971d3455db2efe7dd0d1f803e": {
          "model_module": "@jupyter-widgets/controls",
          "model_name": "FloatProgressModel",
          "model_module_version": "1.5.0",
          "state": {
            "_dom_classes": [],
            "_model_module": "@jupyter-widgets/controls",
            "_model_module_version": "1.5.0",
            "_model_name": "FloatProgressModel",
            "_view_count": null,
            "_view_module": "@jupyter-widgets/controls",
            "_view_module_version": "1.5.0",
            "_view_name": "ProgressView",
            "bar_style": "success",
            "description": "",
            "description_tooltip": null,
            "layout": "IPY_MODEL_ab91fd625bbd43afbf8c6398193a88d0",
            "max": 1,
            "min": 0,
            "orientation": "horizontal",
            "style": "IPY_MODEL_716557ad09874dcb989d75f7c74424cd",
            "value": 1
          }
        },
        "72adef9b70dd48198b7322b6c5b113cf": {
          "model_module": "@jupyter-widgets/controls",
          "model_name": "HTMLModel",
          "model_module_version": "1.5.0",
          "state": {
            "_dom_classes": [],
            "_model_module": "@jupyter-widgets/controls",
            "_model_module_version": "1.5.0",
            "_model_name": "HTMLModel",
            "_view_count": null,
            "_view_module": "@jupyter-widgets/controls",
            "_view_module_version": "1.5.0",
            "_view_name": "HTMLView",
            "description": "",
            "description_tooltip": null,
            "layout": "IPY_MODEL_77d4c0ebaae045b58efc4f789c9a2360",
            "placeholder": "​",
            "style": "IPY_MODEL_0d622ccc56264fac8fd7508dbdbe6e29",
            "value": " 6/? [00:36&lt;00:00,  5.78s/it]"
          }
        },
        "8a61d045ffd44ac58f3f13eb10044836": {
          "model_module": "@jupyter-widgets/base",
          "model_name": "LayoutModel",
          "model_module_version": "1.2.0",
          "state": {
            "_model_module": "@jupyter-widgets/base",
            "_model_module_version": "1.2.0",
            "_model_name": "LayoutModel",
            "_view_count": null,
            "_view_module": "@jupyter-widgets/base",
            "_view_module_version": "1.2.0",
            "_view_name": "LayoutView",
            "align_content": null,
            "align_items": null,
            "align_self": null,
            "border": null,
            "bottom": null,
            "display": null,
            "flex": null,
            "flex_flow": null,
            "grid_area": null,
            "grid_auto_columns": null,
            "grid_auto_flow": null,
            "grid_auto_rows": null,
            "grid_column": null,
            "grid_gap": null,
            "grid_row": null,
            "grid_template_areas": null,
            "grid_template_columns": null,
            "grid_template_rows": null,
            "height": null,
            "justify_content": null,
            "justify_items": null,
            "left": null,
            "margin": null,
            "max_height": null,
            "max_width": null,
            "min_height": null,
            "min_width": null,
            "object_fit": null,
            "object_position": null,
            "order": null,
            "overflow": null,
            "overflow_x": null,
            "overflow_y": null,
            "padding": null,
            "right": null,
            "top": null,
            "visibility": null,
            "width": null
          }
        },
        "041e22a9b5514e36bd4d1dac01d5d398": {
          "model_module": "@jupyter-widgets/base",
          "model_name": "LayoutModel",
          "model_module_version": "1.2.0",
          "state": {
            "_model_module": "@jupyter-widgets/base",
            "_model_module_version": "1.2.0",
            "_model_name": "LayoutModel",
            "_view_count": null,
            "_view_module": "@jupyter-widgets/base",
            "_view_module_version": "1.2.0",
            "_view_name": "LayoutView",
            "align_content": null,
            "align_items": null,
            "align_self": null,
            "border": null,
            "bottom": null,
            "display": null,
            "flex": null,
            "flex_flow": null,
            "grid_area": null,
            "grid_auto_columns": null,
            "grid_auto_flow": null,
            "grid_auto_rows": null,
            "grid_column": null,
            "grid_gap": null,
            "grid_row": null,
            "grid_template_areas": null,
            "grid_template_columns": null,
            "grid_template_rows": null,
            "height": null,
            "justify_content": null,
            "justify_items": null,
            "left": null,
            "margin": null,
            "max_height": null,
            "max_width": null,
            "min_height": null,
            "min_width": null,
            "object_fit": null,
            "object_position": null,
            "order": null,
            "overflow": null,
            "overflow_x": null,
            "overflow_y": null,
            "padding": null,
            "right": null,
            "top": null,
            "visibility": null,
            "width": null
          }
        },
        "886d762f2a7c421382efb5502c6d42a1": {
          "model_module": "@jupyter-widgets/controls",
          "model_name": "DescriptionStyleModel",
          "model_module_version": "1.5.0",
          "state": {
            "_model_module": "@jupyter-widgets/controls",
            "_model_module_version": "1.5.0",
            "_model_name": "DescriptionStyleModel",
            "_view_count": null,
            "_view_module": "@jupyter-widgets/base",
            "_view_module_version": "1.2.0",
            "_view_name": "StyleView",
            "description_width": ""
          }
        },
        "ab91fd625bbd43afbf8c6398193a88d0": {
          "model_module": "@jupyter-widgets/base",
          "model_name": "LayoutModel",
          "model_module_version": "1.2.0",
          "state": {
            "_model_module": "@jupyter-widgets/base",
            "_model_module_version": "1.2.0",
            "_model_name": "LayoutModel",
            "_view_count": null,
            "_view_module": "@jupyter-widgets/base",
            "_view_module_version": "1.2.0",
            "_view_name": "LayoutView",
            "align_content": null,
            "align_items": null,
            "align_self": null,
            "border": null,
            "bottom": null,
            "display": null,
            "flex": null,
            "flex_flow": null,
            "grid_area": null,
            "grid_auto_columns": null,
            "grid_auto_flow": null,
            "grid_auto_rows": null,
            "grid_column": null,
            "grid_gap": null,
            "grid_row": null,
            "grid_template_areas": null,
            "grid_template_columns": null,
            "grid_template_rows": null,
            "height": null,
            "justify_content": null,
            "justify_items": null,
            "left": null,
            "margin": null,
            "max_height": null,
            "max_width": null,
            "min_height": null,
            "min_width": null,
            "object_fit": null,
            "object_position": null,
            "order": null,
            "overflow": null,
            "overflow_x": null,
            "overflow_y": null,
            "padding": null,
            "right": null,
            "top": null,
            "visibility": null,
            "width": "20px"
          }
        },
        "716557ad09874dcb989d75f7c74424cd": {
          "model_module": "@jupyter-widgets/controls",
          "model_name": "ProgressStyleModel",
          "model_module_version": "1.5.0",
          "state": {
            "_model_module": "@jupyter-widgets/controls",
            "_model_module_version": "1.5.0",
            "_model_name": "ProgressStyleModel",
            "_view_count": null,
            "_view_module": "@jupyter-widgets/base",
            "_view_module_version": "1.2.0",
            "_view_name": "StyleView",
            "bar_color": null,
            "description_width": ""
          }
        },
        "77d4c0ebaae045b58efc4f789c9a2360": {
          "model_module": "@jupyter-widgets/base",
          "model_name": "LayoutModel",
          "model_module_version": "1.2.0",
=======
      "display_name": ".venv",
      "language": "python",
      "name": "python3"
    },
    "language_info": {
      "codemirror_mode": {
        "name": "ipython",
        "version": 3
      },
      "file_extension": ".py",
      "mimetype": "text/x-python",
      "name": "python",
      "nbconvert_exporter": "python",
      "pygments_lexer": "ipython3",
      "version": "3.13.1"
    },
    "widgets": {
      "application/vnd.jupyter.widget-state+json": {
        "041e22a9b5514e36bd4d1dac01d5d398": {
          "model_module": "@jupyter-widgets/base",
          "model_module_version": "1.2.0",
          "model_name": "LayoutModel",
>>>>>>> 5319aac2 (Initial commit - reset history)
          "state": {
            "_model_module": "@jupyter-widgets/base",
            "_model_module_version": "1.2.0",
            "_model_name": "LayoutModel",
            "_view_count": null,
            "_view_module": "@jupyter-widgets/base",
            "_view_module_version": "1.2.0",
            "_view_name": "LayoutView",
            "align_content": null,
            "align_items": null,
            "align_self": null,
            "border": null,
            "bottom": null,
            "display": null,
            "flex": null,
            "flex_flow": null,
            "grid_area": null,
            "grid_auto_columns": null,
            "grid_auto_flow": null,
            "grid_auto_rows": null,
            "grid_column": null,
            "grid_gap": null,
            "grid_row": null,
            "grid_template_areas": null,
            "grid_template_columns": null,
            "grid_template_rows": null,
            "height": null,
            "justify_content": null,
            "justify_items": null,
            "left": null,
            "margin": null,
            "max_height": null,
            "max_width": null,
            "min_height": null,
            "min_width": null,
            "object_fit": null,
            "object_position": null,
            "order": null,
            "overflow": null,
            "overflow_x": null,
            "overflow_y": null,
            "padding": null,
            "right": null,
            "top": null,
            "visibility": null,
            "width": null
          }
        },
        "0d622ccc56264fac8fd7508dbdbe6e29": {
          "model_module": "@jupyter-widgets/controls",
<<<<<<< HEAD
          "model_name": "DescriptionStyleModel",
          "model_module_version": "1.5.0",
=======
          "model_module_version": "1.5.0",
          "model_name": "DescriptionStyleModel",
>>>>>>> 5319aac2 (Initial commit - reset history)
          "state": {
            "_model_module": "@jupyter-widgets/controls",
            "_model_module_version": "1.5.0",
            "_model_name": "DescriptionStyleModel",
            "_view_count": null,
            "_view_module": "@jupyter-widgets/base",
            "_view_module_version": "1.2.0",
            "_view_name": "StyleView",
            "description_width": ""
          }
<<<<<<< HEAD
=======
        },
        "53e33aae3b97490c82aec7bbb0d6ebba": {
          "model_module": "@jupyter-widgets/controls",
          "model_module_version": "1.5.0",
          "model_name": "HTMLModel",
          "state": {
            "_dom_classes": [],
            "_model_module": "@jupyter-widgets/controls",
            "_model_module_version": "1.5.0",
            "_model_name": "HTMLModel",
            "_view_count": null,
            "_view_module": "@jupyter-widgets/controls",
            "_view_module_version": "1.5.0",
            "_view_name": "HTMLView",
            "description": "",
            "description_tooltip": null,
            "layout": "IPY_MODEL_041e22a9b5514e36bd4d1dac01d5d398",
            "placeholder": "​",
            "style": "IPY_MODEL_886d762f2a7c421382efb5502c6d42a1",
            "value": ""
          }
        },
        "716557ad09874dcb989d75f7c74424cd": {
          "model_module": "@jupyter-widgets/controls",
          "model_module_version": "1.5.0",
          "model_name": "ProgressStyleModel",
          "state": {
            "_model_module": "@jupyter-widgets/controls",
            "_model_module_version": "1.5.0",
            "_model_name": "ProgressStyleModel",
            "_view_count": null,
            "_view_module": "@jupyter-widgets/base",
            "_view_module_version": "1.2.0",
            "_view_name": "StyleView",
            "bar_color": null,
            "description_width": ""
          }
        },
        "72adef9b70dd48198b7322b6c5b113cf": {
          "model_module": "@jupyter-widgets/controls",
          "model_module_version": "1.5.0",
          "model_name": "HTMLModel",
          "state": {
            "_dom_classes": [],
            "_model_module": "@jupyter-widgets/controls",
            "_model_module_version": "1.5.0",
            "_model_name": "HTMLModel",
            "_view_count": null,
            "_view_module": "@jupyter-widgets/controls",
            "_view_module_version": "1.5.0",
            "_view_name": "HTMLView",
            "description": "",
            "description_tooltip": null,
            "layout": "IPY_MODEL_77d4c0ebaae045b58efc4f789c9a2360",
            "placeholder": "​",
            "style": "IPY_MODEL_0d622ccc56264fac8fd7508dbdbe6e29",
            "value": " 6/? [00:36&lt;00:00,  5.78s/it]"
          }
        },
        "77d4c0ebaae045b58efc4f789c9a2360": {
          "model_module": "@jupyter-widgets/base",
          "model_module_version": "1.2.0",
          "model_name": "LayoutModel",
          "state": {
            "_model_module": "@jupyter-widgets/base",
            "_model_module_version": "1.2.0",
            "_model_name": "LayoutModel",
            "_view_count": null,
            "_view_module": "@jupyter-widgets/base",
            "_view_module_version": "1.2.0",
            "_view_name": "LayoutView",
            "align_content": null,
            "align_items": null,
            "align_self": null,
            "border": null,
            "bottom": null,
            "display": null,
            "flex": null,
            "flex_flow": null,
            "grid_area": null,
            "grid_auto_columns": null,
            "grid_auto_flow": null,
            "grid_auto_rows": null,
            "grid_column": null,
            "grid_gap": null,
            "grid_row": null,
            "grid_template_areas": null,
            "grid_template_columns": null,
            "grid_template_rows": null,
            "height": null,
            "justify_content": null,
            "justify_items": null,
            "left": null,
            "margin": null,
            "max_height": null,
            "max_width": null,
            "min_height": null,
            "min_width": null,
            "object_fit": null,
            "object_position": null,
            "order": null,
            "overflow": null,
            "overflow_x": null,
            "overflow_y": null,
            "padding": null,
            "right": null,
            "top": null,
            "visibility": null,
            "width": null
          }
        },
        "886d762f2a7c421382efb5502c6d42a1": {
          "model_module": "@jupyter-widgets/controls",
          "model_module_version": "1.5.0",
          "model_name": "DescriptionStyleModel",
          "state": {
            "_model_module": "@jupyter-widgets/controls",
            "_model_module_version": "1.5.0",
            "_model_name": "DescriptionStyleModel",
            "_view_count": null,
            "_view_module": "@jupyter-widgets/base",
            "_view_module_version": "1.2.0",
            "_view_name": "StyleView",
            "description_width": ""
          }
        },
        "8a61d045ffd44ac58f3f13eb10044836": {
          "model_module": "@jupyter-widgets/base",
          "model_module_version": "1.2.0",
          "model_name": "LayoutModel",
          "state": {
            "_model_module": "@jupyter-widgets/base",
            "_model_module_version": "1.2.0",
            "_model_name": "LayoutModel",
            "_view_count": null,
            "_view_module": "@jupyter-widgets/base",
            "_view_module_version": "1.2.0",
            "_view_name": "LayoutView",
            "align_content": null,
            "align_items": null,
            "align_self": null,
            "border": null,
            "bottom": null,
            "display": null,
            "flex": null,
            "flex_flow": null,
            "grid_area": null,
            "grid_auto_columns": null,
            "grid_auto_flow": null,
            "grid_auto_rows": null,
            "grid_column": null,
            "grid_gap": null,
            "grid_row": null,
            "grid_template_areas": null,
            "grid_template_columns": null,
            "grid_template_rows": null,
            "height": null,
            "justify_content": null,
            "justify_items": null,
            "left": null,
            "margin": null,
            "max_height": null,
            "max_width": null,
            "min_height": null,
            "min_width": null,
            "object_fit": null,
            "object_position": null,
            "order": null,
            "overflow": null,
            "overflow_x": null,
            "overflow_y": null,
            "padding": null,
            "right": null,
            "top": null,
            "visibility": null,
            "width": null
          }
        },
        "ab91fd625bbd43afbf8c6398193a88d0": {
          "model_module": "@jupyter-widgets/base",
          "model_module_version": "1.2.0",
          "model_name": "LayoutModel",
          "state": {
            "_model_module": "@jupyter-widgets/base",
            "_model_module_version": "1.2.0",
            "_model_name": "LayoutModel",
            "_view_count": null,
            "_view_module": "@jupyter-widgets/base",
            "_view_module_version": "1.2.0",
            "_view_name": "LayoutView",
            "align_content": null,
            "align_items": null,
            "align_self": null,
            "border": null,
            "bottom": null,
            "display": null,
            "flex": null,
            "flex_flow": null,
            "grid_area": null,
            "grid_auto_columns": null,
            "grid_auto_flow": null,
            "grid_auto_rows": null,
            "grid_column": null,
            "grid_gap": null,
            "grid_row": null,
            "grid_template_areas": null,
            "grid_template_columns": null,
            "grid_template_rows": null,
            "height": null,
            "justify_content": null,
            "justify_items": null,
            "left": null,
            "margin": null,
            "max_height": null,
            "max_width": null,
            "min_height": null,
            "min_width": null,
            "object_fit": null,
            "object_position": null,
            "order": null,
            "overflow": null,
            "overflow_x": null,
            "overflow_y": null,
            "padding": null,
            "right": null,
            "top": null,
            "visibility": null,
            "width": "20px"
          }
        },
        "ad84e0e971d3455db2efe7dd0d1f803e": {
          "model_module": "@jupyter-widgets/controls",
          "model_module_version": "1.5.0",
          "model_name": "FloatProgressModel",
          "state": {
            "_dom_classes": [],
            "_model_module": "@jupyter-widgets/controls",
            "_model_module_version": "1.5.0",
            "_model_name": "FloatProgressModel",
            "_view_count": null,
            "_view_module": "@jupyter-widgets/controls",
            "_view_module_version": "1.5.0",
            "_view_name": "ProgressView",
            "bar_style": "success",
            "description": "",
            "description_tooltip": null,
            "layout": "IPY_MODEL_ab91fd625bbd43afbf8c6398193a88d0",
            "max": 1,
            "min": 0,
            "orientation": "horizontal",
            "style": "IPY_MODEL_716557ad09874dcb989d75f7c74424cd",
            "value": 1
          }
        },
        "efcf57067cf743d8b4ce059a61cbe02e": {
          "model_module": "@jupyter-widgets/controls",
          "model_module_version": "1.5.0",
          "model_name": "HBoxModel",
          "state": {
            "_dom_classes": [],
            "_model_module": "@jupyter-widgets/controls",
            "_model_module_version": "1.5.0",
            "_model_name": "HBoxModel",
            "_view_count": null,
            "_view_module": "@jupyter-widgets/controls",
            "_view_module_version": "1.5.0",
            "_view_name": "HBoxView",
            "box_style": "",
            "children": [
              "IPY_MODEL_53e33aae3b97490c82aec7bbb0d6ebba",
              "IPY_MODEL_ad84e0e971d3455db2efe7dd0d1f803e",
              "IPY_MODEL_72adef9b70dd48198b7322b6c5b113cf"
            ],
            "layout": "IPY_MODEL_8a61d045ffd44ac58f3f13eb10044836"
          }
>>>>>>> 5319aac2 (Initial commit - reset history)
        }
      }
    }
  },
<<<<<<< HEAD
  "cells": [
    {
      "cell_type": "markdown",
      "source": [
        "# LangGraph and LangSmith - Agentic RAG Powered by LangChain\n",
        "\n",
        "In the following notebook we'll complete the following tasks:\n",
        "\n",
        "- 🤝 Breakout Room #1:\n",
        "  1. Install required libraries\n",
        "  2. Set Environment Variables\n",
        "  3. Creating our Tool Belt\n",
        "  4. Creating Our State\n",
        "  5. Creating and Compiling A Graph!\n",
        "\n",
        "  - 🤝 Breakout Room #2:\n",
        "  1. Evaluating the LangGraph Application with LangSmith\n",
        "  2. Adding Helpfulness Check and \"Loop\" Limits\n",
        "  3. LangGraph for the \"Patterns\" of GenAI"
      ],
      "metadata": {
        "id": "gJXW_DgiSebM"
      }
    },
    {
      "cell_type": "markdown",
      "source": [
        "# 🤝 Breakout Room #1"
      ],
      "metadata": {
        "id": "djQ3nRAgoF67"
      }
    },
    {
      "cell_type": "markdown",
      "source": [
        "## Part 1: LangGraph - Building Cyclic Applications with LangChain\n",
        "\n",
        "LangGraph is a tool that leverages LangChain Expression Language to build coordinated multi-actor and stateful applications that includes cyclic behaviour.\n",
        "\n",
        "### Why Cycles?\n",
        "\n",
        "In essence, we can think of a cycle in our graph as a more robust and customizable loop. It allows us to keep our application agent-forward while still giving the powerful functionality of traditional loops.\n",
        "\n",
        "Due to the inclusion of cycles over loops, we can also compose rather complex flows through our graph in a much more readable and natural fashion. Effectively allowing us to recreate application flowcharts in code in an almost 1-to-1 fashion.\n",
        "\n",
        "### Why LangGraph?\n",
        "\n",
        "Beyond the agent-forward approach - we can easily compose and combine traditional \"DAG\" (directed acyclic graph) chains with powerful cyclic behaviour due to the tight integration with LCEL. This means it's a natural extension to LangChain's core offerings!"
      ],
      "metadata": {
        "id": "e7pQDUhUnIo8"
      }
    },
    {
      "cell_type": "markdown",
      "source": [
        "## Task 1:  Dependencies\n",
        "\n",
        "We'll first install all our required libraries.\n",
        "\n",
        "> NOTE: If you're running this locally - please skip this step."
      ],
      "metadata": {
        "id": "3_fLDElOVoop"
      }
    },
    {
      "cell_type": "code",
      "execution_count": 1,
      "metadata": {
        "id": "KaVwN269EttM",
        "colab": {
          "base_uri": "https://localhost:8080/"
        },
        "outputId": "ba50f775-3957-4d88-9a88-43acc6966dda"
      },
      "outputs": [
        {
          "output_type": "stream",
          "name": "stdout",
          "text": [
            "  Preparing metadata (setup.py) ... \u001b[?25l\u001b[?25hdone\n",
            "\u001b[2K   \u001b[90m━━━━━━━━━━━━━━━━━━━━━━━━━━━━━━━━━━━━━━━━\u001b[0m \u001b[32m1.0/1.0 MB\u001b[0m \u001b[31m12.9 MB/s\u001b[0m eta \u001b[36m0:00:00\u001b[0m\n",
            "\u001b[2K   \u001b[90m━━━━━━━━━━━━━━━━━━━━━━━━━━━━━━━━━━━━━━━━\u001b[0m \u001b[32m54.4/54.4 kB\u001b[0m \u001b[31m3.4 MB/s\u001b[0m eta \u001b[36m0:00:00\u001b[0m\n",
            "\u001b[2K   \u001b[90m━━━━━━━━━━━━━━━━━━━━━━━━━━━━━━━━━━━━━━━━\u001b[0m \u001b[32m2.5/2.5 MB\u001b[0m \u001b[31m47.3 MB/s\u001b[0m eta \u001b[36m0:00:00\u001b[0m\n",
            "\u001b[2K   \u001b[90m━━━━━━━━━━━━━━━━━━━━━━━━━━━━━━━━━━━━━━━━\u001b[0m \u001b[32m145.8/145.8 kB\u001b[0m \u001b[31m9.1 MB/s\u001b[0m eta \u001b[36m0:00:00\u001b[0m\n",
            "\u001b[2K   \u001b[90m━━━━━━━━━━━━━━━━━━━━━━━━━━━━━━━━━━━━━━━━\u001b[0m \u001b[32m81.3/81.3 kB\u001b[0m \u001b[31m3.3 MB/s\u001b[0m eta \u001b[36m0:00:00\u001b[0m\n",
            "\u001b[2K   \u001b[90m━━━━━━━━━━━━━━━━━━━━━━━━━━━━━━━━━━━━━━━━\u001b[0m \u001b[32m412.4/412.4 kB\u001b[0m \u001b[31m12.1 MB/s\u001b[0m eta \u001b[36m0:00:00\u001b[0m\n",
            "\u001b[2K   \u001b[90m━━━━━━━━━━━━━━━━━━━━━━━━━━━━━━━━━━━━━━━━\u001b[0m \u001b[32m44.7/44.7 kB\u001b[0m \u001b[31m2.7 MB/s\u001b[0m eta \u001b[36m0:00:00\u001b[0m\n",
            "\u001b[2K   \u001b[90m━━━━━━━━━━━━━━━━━━━━━━━━━━━━━━━━━━━━━━━━\u001b[0m \u001b[32m1.2/1.2 MB\u001b[0m \u001b[31m19.5 MB/s\u001b[0m eta \u001b[36m0:00:00\u001b[0m\n",
            "\u001b[2K   \u001b[90m━━━━━━━━━━━━━━━━━━━━━━━━━━━━━━━━━━━━━━━━\u001b[0m \u001b[32m50.8/50.8 kB\u001b[0m \u001b[31m3.1 MB/s\u001b[0m eta \u001b[36m0:00:00\u001b[0m\n",
            "\u001b[?25h  Building wheel for sgmllib3k (setup.py) ... \u001b[?25l\u001b[?25hdone\n"
          ]
        }
      ],
      "source": [
        "!pip install -qU langchain langchain_openai langchain-community langgraph arxiv"
      ]
    },
    {
      "cell_type": "markdown",
      "source": [
        "## Task 2: Environment Variables\n",
        "\n",
        "We'll want to set both our OpenAI API key and our LangSmith environment variables."
      ],
      "metadata": {
        "id": "wujPjGJuoPwg"
      }
    },
    {
      "cell_type": "code",
      "source": [
        "import os\n",
        "import getpass\n",
        "\n",
        "os.environ[\"OPENAI_API_KEY\"] = getpass.getpass(\"OpenAI API Key:\")"
      ],
      "metadata": {
        "colab": {
          "base_uri": "https://localhost:8080/"
        },
        "id": "Jdh8CoVWHRvs",
        "outputId": "3fa78560-393c-4ee5-b871-9886bf0d70f4"
      },
      "execution_count": 2,
      "outputs": [
        {
          "name": "stdout",
          "output_type": "stream",
          "text": [
            "OpenAI API Key:··········\n"
          ]
        }
      ]
    },
    {
      "cell_type": "markdown",
      "source": [],
      "metadata": {
        "id": "BLmneW40276B"
      }
    },
    {
      "cell_type": "code",
      "source": [
        "os.environ[\"TAVILY_API_KEY\"] = getpass.getpass(\"TAVILY_API_KEY\")"
      ],
      "metadata": {
        "colab": {
          "base_uri": "https://localhost:8080/"
        },
        "id": "Jkla2fpx28QK",
        "outputId": "52d7ad22-fcb1-4abe-853b-216c55a12650"
      },
      "execution_count": 3,
      "outputs": [
        {
          "name": "stdout",
          "output_type": "stream",
          "text": [
            "TAVILY_API_KEY··········\n"
          ]
        }
      ]
    },
    {
      "cell_type": "code",
      "source": [
        "from uuid import uuid4\n",
        "\n",
        "os.environ[\"LANGCHAIN_TRACING_V2\"] = \"true\"\n",
        "os.environ[\"LANGCHAIN_PROJECT\"] = f\"AIE5 - LangGraph - {uuid4().hex[0:8]}\"\n",
        "os.environ[\"LANGCHAIN_API_KEY\"] = getpass.getpass(\"LangSmith API Key: \")"
      ],
      "metadata": {
        "colab": {
          "base_uri": "https://localhost:8080/"
        },
        "id": "Nv0glIDyHmRt",
        "outputId": "b69df90a-b4e1-4ddb-9de0-882d98b68ab2"
      },
      "execution_count": 4,
      "outputs": [
        {
          "name": "stdout",
          "output_type": "stream",
          "text": [
            "LangSmith API Key: ··········\n"
          ]
        }
      ]
    },
    {
      "cell_type": "markdown",
      "source": [
        "## Task 3: Creating our Tool Belt\n",
        "\n",
        "As is usually the case, we'll want to equip our agent with a toolbelt to help answer questions and add external knowledge.\n",
        "\n",
        "There's a tonne of tools in the [LangChain Community Repo](https://github.com/langchain-ai/langchain/tree/master/libs/community/langchain_community/tools) but we'll stick to a couple just so we can observe the cyclic nature of LangGraph in action!\n",
        "\n",
        "We'll leverage:\n",
        "\n",
        "- [Tavily Search Results](https://github.com/langchain-ai/langchain/blob/master/libs/community/langchain_community/tools/tavily_search/tool.py)\n",
        "- [Arxiv](https://github.com/langchain-ai/langchain/tree/master/libs/community/langchain_community/tools/arxiv)"
      ],
      "metadata": {
        "id": "sBRyQmEAVzua"
      }
    },
    {
      "cell_type": "markdown",
      "source": [
        "####🏗️ Activity #1:\n",
        "\n",
        "Please add the tools to use into our toolbelt.\n",
        "\n",
        "> NOTE: Each tool in our toolbelt should be a method."
      ],
      "metadata": {
        "id": "2k6n_Dob2F46"
      }
    },
    {
      "cell_type": "code",
      "source": [
        "from langchain_community.tools.tavily_search import TavilySearchResults\n",
        "from langchain_community.tools.arxiv.tool import ArxivQueryRun\n",
        "\n",
        "tavily_tool = TavilySearchResults(max_results=5)\n",
        "\n",
        "tool_belt = [\n",
        "    tavily_tool,\n",
        "    ArxivQueryRun(),\n",
        "]"
      ],
      "metadata": {
        "id": "lAxaSvlfIeOg"
      },
      "execution_count": 5,
      "outputs": []
    },
    {
      "cell_type": "markdown",
      "source": [
        "### Model\n",
        "\n",
        "Now we can set-up our model! We'll leverage the familiar OpenAI model suite for this example - but it's not *necessary* to use with LangGraph. LangGraph supports all models - though you might not find success with smaller models - as such, they recommend you stick with:\n",
        "\n",
        "- OpenAI's GPT-3.5 and GPT-4\n",
        "- Anthropic's Claude\n",
        "- Google's Gemini\n",
        "\n",
        "> NOTE: Because we're leveraging the OpenAI function calling API - we'll need to use OpenAI *for this specific example* (or any other service that exposes an OpenAI-style function calling API."
      ],
      "metadata": {
        "id": "VI-C669ZYVI5"
      }
    },
    {
      "cell_type": "code",
      "source": [
        "from langchain_openai import ChatOpenAI\n",
        "\n",
        "model = ChatOpenAI(model=\"gpt-4o\", temperature=0)"
      ],
      "metadata": {
        "id": "QkNS8rNZJs4z"
      },
      "execution_count": 6,
      "outputs": []
    },
    {
      "cell_type": "markdown",
      "source": [
        "Now that we have our model set-up, let's \"put on the tool belt\", which is to say: We'll bind our LangChain formatted tools to the model in an OpenAI function calling format."
      ],
      "metadata": {
        "id": "Ugkj3GzuZpQv"
      }
    },
    {
      "cell_type": "code",
      "source": [
        "model = model.bind_tools(tool_belt)"
      ],
      "metadata": {
        "id": "4OdMqFafZ_0V"
      },
      "execution_count": 7,
      "outputs": []
    },
    {
      "cell_type": "markdown",
      "source": [
        "#### ❓ Question #1:\n",
        "\n",
        "How does the model determine which tool to use?"
      ],
      "metadata": {
        "id": "ERzuGo6W18Lr"
      }
    },
    {
      "cell_type": "markdown",
      "source": [
        "## Task 4: Putting the State in Stateful\n",
        "\n",
        "Earlier we used this phrasing:\n",
        "\n",
        "`coordinated multi-actor and stateful applications`\n",
        "\n",
        "So what does that \"stateful\" mean?\n",
        "\n",
        "To put it simply - we want to have some kind of object which we can pass around our application that holds information about what the current situation (state) is. Since our system will be constructed of many parts moving in a coordinated fashion - we want to be able to ensure we have some commonly understood idea of that state.\n",
        "\n",
        "LangGraph leverages a `StatefulGraph` which uses an `AgentState` object to pass information between the various nodes of the graph.\n",
        "\n",
        "There are more options than what we'll see below - but this `AgentState` object is one that is stored in a `TypedDict` with the key `messages` and the value is a `Sequence` of `BaseMessages` that will be appended to whenever the state changes.\n",
        "\n",
        "Let's think about a simple example to help understand exactly what this means (we'll simplify a great deal to try and clearly communicate what state is doing):\n",
        "\n",
        "1. We initialize our state object:\n",
        "  - `{\"messages\" : []}`\n",
        "2. Our user submits a query to our application.\n",
        "  - New State: `HumanMessage(#1)`\n",
        "  - `{\"messages\" : [HumanMessage(#1)}`\n",
        "3. We pass our state object to an Agent node which is able to read the current state. It will use the last `HumanMessage` as input. It gets some kind of output which it will add to the state.\n",
        "  - New State: `AgentMessage(#1, additional_kwargs {\"function_call\" : \"WebSearchTool\"})`\n",
        "  - `{\"messages\" : [HumanMessage(#1), AgentMessage(#1, ...)]}`\n",
        "4. We pass our state object to a \"conditional node\" (more on this later) which reads the last state to determine if we need to use a tool - which it can determine properly because of our provided object!"
      ],
      "metadata": {
        "id": "_296Ub96Z_H8"
      }
    },
    {
      "cell_type": "code",
      "source": [
        "from typing import TypedDict, Annotated\n",
        "from langgraph.graph.message import add_messages\n",
        "import operator\n",
        "from langchain_core.messages import BaseMessage\n",
        "\n",
        "class AgentState(TypedDict):\n",
        "  messages: Annotated[list, add_messages]"
      ],
      "metadata": {
        "id": "mxL9b_NZKUdL"
      },
      "execution_count": 8,
      "outputs": []
    },
    {
      "cell_type": "markdown",
      "source": [
        "## Task 5: It's Graphing Time!\n",
        "\n",
        "Now that we have state, and we have tools, and we have an LLM - we can finally start making our graph!\n",
        "\n",
        "Let's take a second to refresh ourselves about what a graph is in this context.\n",
        "\n",
        "Graphs, also called networks in some circles, are a collection of connected objects.\n",
        "\n",
        "The objects in question are typically called nodes, or vertices, and the connections are called edges.\n",
        "\n",
        "Let's look at a simple graph.\n",
        "\n",
        "![image](https://i.imgur.com/2NFLnIc.png)\n",
        "\n",
        "Here, we're using the coloured circles to represent the nodes and the yellow lines to represent the edges. In this case, we're looking at a fully connected graph - where each node is connected by an edge to each other node.\n",
        "\n",
        "If we were to think about nodes in the context of LangGraph - we would think of a function, or an LCEL runnable.\n",
        "\n",
        "If we were to think about edges in the context of LangGraph - we might think of them as \"paths to take\" or \"where to pass our state object next\".\n",
        "\n",
        "Let's create some nodes and expand on our diagram.\n",
        "\n",
        "> NOTE: Due to the tight integration with LCEL - we can comfortably create our nodes in an async fashion!"
      ],
      "metadata": {
        "id": "vWsMhfO9grLu"
      }
    },
    {
      "cell_type": "code",
      "source": [
        "from langgraph.prebuilt import ToolNode\n",
        "\n",
        "def call_model(state):\n",
        "  messages = state[\"messages\"]\n",
        "  response = model.invoke(messages)\n",
        "  return {\"messages\" : [response]}\n",
        "\n",
        "tool_node = ToolNode(tool_belt)"
      ],
      "metadata": {
        "id": "91flJWtZLUrl"
      },
      "execution_count": 9,
      "outputs": []
    },
    {
      "cell_type": "markdown",
      "source": [
        "Now we have two total nodes. We have:\n",
        "\n",
        "- `call_model` is a node that will...well...call the model\n",
        "- `tool_node` is a node which can call a tool\n",
        "\n",
        "Let's start adding nodes! We'll update our diagram along the way to keep track of what this looks like!\n"
      ],
      "metadata": {
        "id": "2bwR7MgWj3Wg"
      }
    },
    {
      "cell_type": "code",
      "source": [
        "from langgraph.graph import StateGraph, END\n",
        "\n",
        "uncompiled_graph = StateGraph(AgentState)\n",
        "\n",
        "uncompiled_graph.add_node(\"agent\", call_model)\n",
        "uncompiled_graph.add_node(\"action\", tool_node)"
      ],
      "metadata": {
        "id": "_vF4_lgtmQNo",
        "colab": {
          "base_uri": "https://localhost:8080/"
        },
        "outputId": "a4384377-8f7a-415f-be1b-fee6169cb101"
      },
      "execution_count": 10,
      "outputs": [
        {
          "output_type": "execute_result",
          "data": {
            "text/plain": [
              "<langgraph.graph.state.StateGraph at 0x7cff8d3ecb50>"
            ]
          },
          "metadata": {},
          "execution_count": 10
        }
      ]
    },
    {
      "cell_type": "markdown",
      "source": [
        "Let's look at what we have so far:\n",
        "\n",
        "![image](https://i.imgur.com/md7inqG.png)"
      ],
      "metadata": {
        "id": "b8CjRlbVmRpW"
      }
    },
    {
      "cell_type": "markdown",
      "source": [
        "Next, we'll add our entrypoint. All our entrypoint does is indicate which node is called first."
      ],
      "metadata": {
        "id": "uaXHpPeSnOWC"
      }
    },
    {
      "cell_type": "code",
      "source": [
        "uncompiled_graph.set_entry_point(\"agent\")"
      ],
      "metadata": {
        "id": "YGCbaYqRnmiw",
        "colab": {
          "base_uri": "https://localhost:8080/"
        },
        "outputId": "5351807c-2ac7-4316-a3a3-878abeacd114"
      },
      "execution_count": 11,
      "outputs": [
        {
          "output_type": "execute_result",
          "data": {
            "text/plain": [
              "<langgraph.graph.state.StateGraph at 0x7cff8d3ecb50>"
            ]
          },
          "metadata": {},
          "execution_count": 11
        }
      ]
    },
    {
      "cell_type": "markdown",
      "source": [
        "![image](https://i.imgur.com/wNixpJe.png)"
      ],
      "metadata": {
        "id": "BUsfGoSpoF9U"
      }
    },
    {
      "cell_type": "markdown",
      "source": [
        "Now we want to build a \"conditional edge\" which will use the output state of a node to determine which path to follow.\n",
        "\n",
        "We can help conceptualize this by thinking of our conditional edge as a conditional in a flowchart!\n",
        "\n",
        "Notice how our function simply checks if there is a \"function_call\" kwarg present.\n",
        "\n",
        "Then we create an edge where the origin node is our agent node and our destination node is *either* the action node or the END (finish the graph).\n",
        "\n",
        "It's important to highlight that the dictionary passed in as the third parameter (the mapping) should be created with the possible outputs of our conditional function in mind. In this case `should_continue` outputs either `\"end\"` or `\"continue\"` which are subsequently mapped to the action node or the END node."
      ],
      "metadata": {
        "id": "0Q_pQgHmoW0M"
      }
    },
    {
      "cell_type": "code",
      "source": [
        "def should_continue(state):\n",
        "  last_message = state[\"messages\"][-1]\n",
        "\n",
        "  if last_message.tool_calls:\n",
        "    return \"action\"\n",
        "\n",
        "  return END\n",
        "\n",
        "uncompiled_graph.add_conditional_edges(\n",
        "    \"agent\",\n",
        "    should_continue\n",
        ")"
      ],
      "metadata": {
        "id": "1BZgb81VQf9o",
        "colab": {
          "base_uri": "https://localhost:8080/"
        },
        "outputId": "73a07c15-5f0b-40f2-b033-38b57d056dd8"
      },
      "execution_count": 12,
      "outputs": [
        {
          "output_type": "execute_result",
          "data": {
            "text/plain": [
              "<langgraph.graph.state.StateGraph at 0x7cff8d3ecb50>"
            ]
          },
          "metadata": {},
          "execution_count": 12
        }
      ]
    },
    {
      "cell_type": "markdown",
      "source": [
        "Let's visualize what this looks like.\n",
        "\n",
        "![image](https://i.imgur.com/8ZNwKI5.png)"
      ],
      "metadata": {
        "id": "-Cvhcf4jp0Ce"
      }
    },
    {
      "cell_type": "markdown",
      "source": [
        "Finally, we can add our last edge which will connect our action node to our agent node. This is because we *always* want our action node (which is used to call our tools) to return its output to our agent!"
      ],
      "metadata": {
        "id": "yKCjWJCkrJb9"
      }
    },
    {
      "cell_type": "code",
      "source": [
        "uncompiled_graph.add_edge(\"action\", \"agent\")"
      ],
      "metadata": {
        "id": "UvcgbHf1rIXZ",
        "colab": {
          "base_uri": "https://localhost:8080/"
        },
        "outputId": "45d4bdd6-d6bb-4a1d-bb79-cad43c130bf2"
      },
      "execution_count": 13,
      "outputs": [
        {
          "output_type": "execute_result",
          "data": {
            "text/plain": [
              "<langgraph.graph.state.StateGraph at 0x7cff8d3ecb50>"
            ]
          },
          "metadata": {},
          "execution_count": 13
        }
      ]
    },
    {
      "cell_type": "markdown",
      "source": [
        "Let's look at the final visualization.\n",
        "\n",
        "![image](https://i.imgur.com/NWO7usO.png)"
      ],
      "metadata": {
        "id": "EiWDwBQtrw7Z"
      }
    },
    {
      "cell_type": "markdown",
      "source": [
        "All that's left to do now is to compile our workflow - and we're off!"
      ],
      "metadata": {
        "id": "KYqDpErlsCsu"
      }
    },
    {
      "cell_type": "code",
      "source": [
        "compiled_graph = uncompiled_graph.compile()"
      ],
      "metadata": {
        "id": "zt9-KS8DpzNx"
      },
      "execution_count": 14,
      "outputs": []
    },
    {
      "cell_type": "markdown",
      "source": [
        "#### ❓ Question #2:\n",
        "\n",
        "Is there any specific limit to how many times we can cycle?\n",
        "\n",
        "If not, how could we impose a limit to the number of cycles?"
      ],
      "metadata": {
        "id": "xhNWIwBL1W4Q"
      }
    },
    {
      "cell_type": "markdown",
      "source": [
        "## Using Our Graph\n",
        "\n",
        "Now that we've created and compiled our graph - we can call it *just as we'd call any other* `Runnable`!\n",
        "\n",
        "Let's try out a few examples to see how it fairs:"
      ],
      "metadata": {
        "id": "VEYcTShCsPaa"
      }
    },
    {
      "cell_type": "code",
      "source": [
        "from langchain_core.messages import HumanMessage\n",
        "\n",
        "inputs = {\"messages\" : [HumanMessage(content=\"Who is the current captain of the Winnipeg Jets?\")]}\n",
        "\n",
        "async for chunk in compiled_graph.astream(inputs, stream_mode=\"updates\"):\n",
        "    for node, values in chunk.items():\n",
        "        print(f\"Receiving update from node: '{node}'\")\n",
        "        print(values[\"messages\"])\n",
        "        print(\"\\n\\n\")"
      ],
      "metadata": {
        "colab": {
          "base_uri": "https://localhost:8080/"
        },
        "id": "Qn4n37PQRPII",
        "outputId": "5eeedfae-089d-496e-e71f-071939fa5832"
      },
      "execution_count": 15,
      "outputs": [
        {
          "output_type": "stream",
          "name": "stdout",
          "text": [
            "Receiving update from node: 'agent'\n",
            "[AIMessage(content='', additional_kwargs={'tool_calls': [{'id': 'call_GTx9br1H4vQFpr8Th9QTTfMf', 'function': {'arguments': '{\"query\":\"current captain of the Winnipeg Jets 2023\"}', 'name': 'tavily_search_results_json'}, 'type': 'function'}], 'refusal': None}, response_metadata={'token_usage': {'completion_tokens': 27, 'prompt_tokens': 162, 'total_tokens': 189, 'completion_tokens_details': {'accepted_prediction_tokens': 0, 'audio_tokens': 0, 'reasoning_tokens': 0, 'rejected_prediction_tokens': 0}, 'prompt_tokens_details': {'audio_tokens': 0, 'cached_tokens': 0}}, 'model_name': 'gpt-4o-2024-08-06', 'system_fingerprint': 'fp_50cad350e4', 'finish_reason': 'tool_calls', 'logprobs': None}, id='run-c2ddb570-a972-4966-bbde-2e7f694d1b50-0', tool_calls=[{'name': 'tavily_search_results_json', 'args': {'query': 'current captain of the Winnipeg Jets 2023'}, 'id': 'call_GTx9br1H4vQFpr8Th9QTTfMf', 'type': 'tool_call'}], usage_metadata={'input_tokens': 162, 'output_tokens': 27, 'total_tokens': 189, 'input_token_details': {'audio': 0, 'cache_read': 0}, 'output_token_details': {'audio': 0, 'reasoning': 0}})]\n",
            "\n",
            "\n",
            "\n",
            "Receiving update from node: 'action'\n",
            "[ToolMessage(content='[{\"url\": \"https://thehockeynews.com/nhl/winnipeg-jets/news/jets-name-adam-lowry-as-team-captain\", \"content\": \"Jets Name Adam Lowry as Team Captain - The Hockey News Winnipeg Jets News, Analysis and More My Account Subscriptions Jets Name Adam Lowry as Team Captain The Winnipeg Jets will have a captain for the 2023-24 season. After going captain-less in 2022-23, the Winnipeg Jets unveiled Adam Lowry as the club\\'s new captain on Tuesday morning. Having stripped Wheeler of the \\'C\\' upon joining the Jets last season, head coach Rick Bowness rolled with three alternates in 2022-23, as Lowry, Josh Morrissey and Mark Scheifele each served in leadership roles with the club. Although it will be his first time serving as a team captain since his final year with the Swift Current Broncos in 2012-13, Lowry won\\'t need to look far for leadership examples.\"}, {\"url\": \"https://www.nytimes.com/athletic/4855976/2023/09/12/adam-lowry-jets-captain/\", \"content\": \"Jets name Adam Lowry as captain ahead of 2023-24 season: Why Winnipeg chose him - The Athletic Jets name Adam Lowry as captain ahead of 2023-24 season: Why Winnipeg chose him The team gave forward Adam Lowry the honor Tuesday, making him the third captain in franchise history since the Jets moved from Atlanta. Lowry did exactly that, stitched an “A” on his sweater for the first time in 2022-23, and is now captain of the Winnipeg Jets. Morrissey would have been a worthy choice as captain and is more of an impact player at his position than Lowry is. Lowry served as an assistant captain for the first time last season with Morrissey and Scheifele.\"}, {\"url\": \"https://www.tsn.ca/nhl/winnipeg-jets-name-adam-lowry-captain-1.2006649\", \"content\": \"Winnipeg Jets name Adam Lowry captain | TSN TSN+ TSN+ TSN+ What is TSN+ Jets name Lowry captain ahead of his 10th season with team ![Image 70: Adam Lowry Winnipeg Jets](https://www.tsn.ca/content/dam/tsn/en/home/images/2023/4/22/adam-lowry-1-1950014-1682371533274.jpeg)Adam Lowry - Getty Images WINNIPEG — The pride in Adam Lowry\\'s voice was evident after being named captain of the Winnipeg Jets on Tuesday. “Now the organization is being led by someone that was a true Winnipeg Jet from day one,” said Jets general manager Kevin Cheveldayoff, who drafted the forward in 2011. \\\\\"We believe the time is right for Adam Lowry to assume this role and set the standard for the way the Winnipeg Jets will move forward with new leadership and new purpose.”\"}, {\"url\": \"https://globalnews.ca/news/9954570/winnipeg-jets-adam-lowry-captain/\", \"content\": \"Lowry, 30, becomes the third captain in Jets 2.0 history, following in the footsteps of Andrew Ladd, who announced his retirement from hockey on Sunday, and Blake Wheeler.\"}, {\"url\": \"https://winnipeg.citynews.ca/2023/09/12/winnipeg-jets-adam-lowry-captain/\", \"content\": \"Winnipeg Jets name Adam Lowry captain | CityNews Winnipeg Jets make Adam Lowry new captain, third to wear ‘C’ in Winnipeg history Winnipeg Jets centre Adam Lowry. Centre Adam Lowry was named the Winnipeg Jets new captain on Tuesday. Lowry is the third Jets captain since the team moved from Atlanta to Winnipeg in 2011. Watch CityNews Winnipeg, and get up-to-the-minute breaking-news alerts, traffic, weather and video from CityNews anywhere you are – across all Android and iOS devices. These cookies and data are essential for browsing our website and allowing services. These cookies and data enable the website to provide enhanced functionality and personalized content. These cookies may track data across websites for marketing and interest-based advertising to provide personalized content, offers, and advertisements.\"}]', name='tavily_search_results_json', id='e1ca9e71-b384-4c58-bd3e-8727bbaa5107', tool_call_id='call_GTx9br1H4vQFpr8Th9QTTfMf', artifact={'query': 'current captain of the Winnipeg Jets 2023', 'follow_up_questions': None, 'answer': None, 'images': [], 'results': [{'title': 'Jets Name Adam Lowry as Team Captain - The Hockey News', 'url': 'https://thehockeynews.com/nhl/winnipeg-jets/news/jets-name-adam-lowry-as-team-captain', 'content': \"Jets Name Adam Lowry as Team Captain - The Hockey News Winnipeg Jets News, Analysis and More My Account Subscriptions Jets Name Adam Lowry as Team Captain The Winnipeg Jets will have a captain for the 2023-24 season. After going captain-less in 2022-23, the Winnipeg Jets unveiled Adam Lowry as the club's new captain on Tuesday morning. Having stripped Wheeler of the 'C' upon joining the Jets last season, head coach Rick Bowness rolled with three alternates in 2022-23, as Lowry, Josh Morrissey and Mark Scheifele each served in leadership roles with the club. Although it will be his first time serving as a team captain since his final year with the Swift Current Broncos in 2012-13, Lowry won't need to look far for leadership examples.\", 'score': 0.9227683, 'raw_content': None}, {'title': 'Jets name Adam Lowry as captain ahead of 2023-24 season: Why Winnipeg ...', 'url': 'https://www.nytimes.com/athletic/4855976/2023/09/12/adam-lowry-jets-captain/', 'content': 'Jets name Adam Lowry as captain ahead of 2023-24 season: Why Winnipeg chose him - The Athletic Jets name Adam Lowry as captain ahead of 2023-24 season: Why Winnipeg chose him The team gave forward Adam Lowry the honor Tuesday, making him the third captain in franchise history since the Jets moved from Atlanta. Lowry did exactly that, stitched an “A” on his sweater for the first time in 2022-23, and is now captain of the Winnipeg Jets. Morrissey would have been a worthy choice as captain and is more of an impact player at his position than Lowry is. Lowry served as an assistant captain for the first time last season with Morrissey and Scheifele.', 'score': 0.8991304, 'raw_content': None}, {'title': 'Winnipeg Jets name Adam Lowry captain | TSN', 'url': 'https://www.tsn.ca/nhl/winnipeg-jets-name-adam-lowry-captain-1.2006649', 'content': 'Winnipeg Jets name Adam Lowry captain | TSN TSN+ TSN+ TSN+ What is TSN+ Jets name Lowry captain ahead of his 10th season with team ![Image 70: Adam Lowry Winnipeg Jets](https://www.tsn.ca/content/dam/tsn/en/home/images/2023/4/22/adam-lowry-1-1950014-1682371533274.jpeg)Adam Lowry - Getty Images WINNIPEG — The pride in Adam Lowry\\'s voice was evident after being named captain of the Winnipeg Jets on Tuesday. “Now the organization is being led by someone that was a true Winnipeg Jet from day one,” said Jets general manager Kevin Cheveldayoff, who drafted the forward in 2011. \"We believe the time is right for Adam Lowry to assume this role and set the standard for the way the Winnipeg Jets will move forward with new leadership and new purpose.”', 'score': 0.8682137, 'raw_content': None}, {'title': 'Winnipeg Jets announce Adam Lowry as new captain', 'url': 'https://globalnews.ca/news/9954570/winnipeg-jets-adam-lowry-captain/', 'content': 'Lowry, 30, becomes the third captain in Jets 2.0 history, following in the footsteps of Andrew Ladd, who announced his retirement from hockey on Sunday, and Blake Wheeler.', 'score': 0.7769112, 'raw_content': None}, {'title': 'Winnipeg Jets name Adam Lowry captain | CityNews Winnipeg', 'url': 'https://winnipeg.citynews.ca/2023/09/12/winnipeg-jets-adam-lowry-captain/', 'content': 'Winnipeg Jets name Adam Lowry captain | CityNews Winnipeg Jets make Adam Lowry new captain, third to wear ‘C’ in Winnipeg history Winnipeg Jets centre Adam Lowry. Centre Adam Lowry was named the Winnipeg Jets new captain on Tuesday. Lowry is the third Jets captain since the team moved from Atlanta to Winnipeg in 2011. Watch CityNews Winnipeg, and get up-to-the-minute breaking-news alerts, traffic, weather and video from CityNews anywhere you are – across all Android and iOS devices. These cookies and data are essential for browsing our website and allowing services. These cookies and data enable the website to provide enhanced functionality and personalized content. These cookies may track data across websites for marketing and interest-based advertising to provide personalized content, offers, and advertisements.', 'score': 0.75723875, 'raw_content': None}], 'response_time': 1.75})]\n",
            "\n",
            "\n",
            "\n",
            "Receiving update from node: 'agent'\n",
            "[AIMessage(content='The current captain of the Winnipeg Jets is Adam Lowry.', additional_kwargs={'refusal': None}, response_metadata={'token_usage': {'completion_tokens': 14, 'prompt_tokens': 1097, 'total_tokens': 1111, 'completion_tokens_details': {'accepted_prediction_tokens': 0, 'audio_tokens': 0, 'reasoning_tokens': 0, 'rejected_prediction_tokens': 0}, 'prompt_tokens_details': {'audio_tokens': 0, 'cached_tokens': 0}}, 'model_name': 'gpt-4o-2024-08-06', 'system_fingerprint': 'fp_50cad350e4', 'finish_reason': 'stop', 'logprobs': None}, id='run-8a41a5fc-fe35-42e1-9cd9-4a498f0ae6bb-0', usage_metadata={'input_tokens': 1097, 'output_tokens': 14, 'total_tokens': 1111, 'input_token_details': {'audio': 0, 'cache_read': 0}, 'output_token_details': {'audio': 0, 'reasoning': 0}})]\n",
            "\n",
            "\n",
            "\n"
          ]
        }
      ]
    },
    {
      "cell_type": "markdown",
      "source": [
        "Let's look at what happened:\n",
        "\n",
        "1. Our state object was populated with our request\n",
        "2. The state object was passed into our entry point (agent node) and the agent node added an `AIMessage` to the state object and passed it along the conditional edge\n",
        "3. The conditional edge received the state object, found the \"tool_calls\" `additional_kwarg`, and sent the state object to the action node\n",
        "4. The action node added the response from the OpenAI function calling endpoint to the state object and passed it along the edge to the agent node\n",
        "5. The agent node added a response to the state object and passed it along the conditional edge\n",
        "6. The conditional edge received the state object, could not find the \"tool_calls\" `additional_kwarg` and passed the state object to END where we see it output in the cell above!\n",
        "\n",
        "Now let's look at an example that shows a multiple tool usage - all with the same flow!"
      ],
      "metadata": {
        "id": "DBHnUtLSscRr"
      }
    },
    {
      "cell_type": "code",
      "source": [
        "inputs = {\"messages\" : [HumanMessage(content=\"Search Arxiv for the QLoRA paper, then search each of the authors to find out their latest Tweet using Tavily!\")]}\n",
        "\n",
        "async for chunk in compiled_graph.astream(inputs, stream_mode=\"updates\"):\n",
        "    for node, values in chunk.items():\n",
        "        print(f\"Receiving update from node: '{node}'\")\n",
        "        if node == \"action\":\n",
        "          print(f\"Tool Used: {values['messages'][0].name}\")\n",
        "        print(values[\"messages\"])\n",
        "\n",
        "        print(\"\\n\\n\")"
      ],
      "metadata": {
        "colab": {
          "base_uri": "https://localhost:8080/"
        },
        "id": "afv2BuEsV5JG",
        "outputId": "ff009536-d281-4a56-c126-9cd245352bfe"
      },
      "execution_count": 16,
      "outputs": [
        {
          "output_type": "stream",
          "name": "stdout",
          "text": [
            "Receiving update from node: 'agent'\n",
            "[AIMessage(content='', additional_kwargs={'tool_calls': [{'id': 'call_imT1YzDUor9QhOKD4Ul3JbES', 'function': {'arguments': '{\"query\":\"QLoRA\"}', 'name': 'arxiv'}, 'type': 'function'}], 'refusal': None}, response_metadata={'token_usage': {'completion_tokens': 17, 'prompt_tokens': 178, 'total_tokens': 195, 'completion_tokens_details': {'accepted_prediction_tokens': 0, 'audio_tokens': 0, 'reasoning_tokens': 0, 'rejected_prediction_tokens': 0}, 'prompt_tokens_details': {'audio_tokens': 0, 'cached_tokens': 0}}, 'model_name': 'gpt-4o-2024-08-06', 'system_fingerprint': 'fp_50cad350e4', 'finish_reason': 'tool_calls', 'logprobs': None}, id='run-8b6c33ff-bcc4-4446-a36d-10db35411f27-0', tool_calls=[{'name': 'arxiv', 'args': {'query': 'QLoRA'}, 'id': 'call_imT1YzDUor9QhOKD4Ul3JbES', 'type': 'tool_call'}], usage_metadata={'input_tokens': 178, 'output_tokens': 17, 'total_tokens': 195, 'input_token_details': {'audio': 0, 'cache_read': 0}, 'output_token_details': {'audio': 0, 'reasoning': 0}})]\n",
            "\n",
            "\n",
            "\n",
            "Receiving update from node: 'action'\n",
            "Tool Used: arxiv\n",
            "[ToolMessage(content='Published: 2023-05-23\\nTitle: QLoRA: Efficient Finetuning of Quantized LLMs\\nAuthors: Tim Dettmers, Artidoro Pagnoni, Ari Holtzman, Luke Zettlemoyer\\nSummary: We present QLoRA, an efficient finetuning approach that reduces memory usage\\nenough to finetune a 65B parameter model on a single 48GB GPU while preserving\\nfull 16-bit finetuning task performance. QLoRA backpropagates gradients through\\na frozen, 4-bit quantized pretrained language model into Low Rank\\nAdapters~(LoRA). Our best model family, which we name Guanaco, outperforms all\\nprevious openly released models on the Vicuna benchmark, reaching 99.3% of the\\nperformance level of ChatGPT while only requiring 24 hours of finetuning on a\\nsingle GPU. QLoRA introduces a number of innovations to save memory without\\nsacrificing performance: (a) 4-bit NormalFloat (NF4), a new data type that is\\ninformation theoretically optimal for normally distributed weights (b) double\\nquantization to reduce the average memory footprint by quantizing the\\nquantization constants, and (c) paged optimziers to manage memory spikes. We\\nuse QLoRA to finetune more than 1,000 models, providing a detailed analysis of\\ninstruction following and chatbot performance across 8 instruction datasets,\\nmultiple model types (LLaMA, T5), and model scales that would be infeasible to\\nrun with regular finetuning (e.g. 33B and 65B parameter models). Our results\\nshow that QLoRA finetuning on a small high-quality dataset leads to\\nstate-of-the-art results, even when using smaller models than the previous\\nSoTA. We provide a detailed analysis of chatbot performance based on both human\\nand GPT-4 evaluations showing that GPT-4 evaluations are a cheap and reasonable\\nalternative to human evaluation. Furthermore, we find that current chatbot\\nbenchmarks are not trustworthy to accurately evaluate the performance levels of\\nchatbots. A lemon-picked analysis demonstrates where Guanaco fails compared to\\nChatGPT. We release all of our models and code, including CUDA kernels for\\n4-bit training.\\n\\nPublished: 2024-05-27\\nTitle: Accurate LoRA-Finetuning Quantization of LLMs via Information Retention\\nAuthors: Haotong Qin, Xudong Ma, Xingyu Zheng, Xiaoyang Li, Yang Zhang, Shouda Liu, Jie Luo, Xianglong Liu, Michele Magno\\nSummary: The LoRA-finetuning quantization of LLMs has been extensively studied to\\nobtain accurate yet compact LLMs for deployment on resource-constrained\\nhardware. However, existing methods cause the quantized LLM to severely degrade\\nand even fail to benefit from the finetuning of LoRA. This paper proposes a\\nnovel IR-QLoRA for pushing quantized LLMs with LoRA to be highly accurate\\nthrough information retention. The proposed IR-QLoRA mainly relies on two\\ntechnologies derived from the perspective of unified information: (1)\\nstatistics-based Information Calibration Quantization allows the quantized\\nparameters of LLM to retain original information accurately; (2)\\nfinetuning-based Information Elastic Connection makes LoRA utilizes elastic\\nrepresentation transformation with diverse information. Comprehensive\\nexperiments show that IR-QLoRA can significantly improve accuracy across LLaMA\\nand LLaMA2 families under 2-4 bit-widths, e.g., 4- bit LLaMA-7B achieves 1.4%\\nimprovement on MMLU compared with the state-of-the-art methods. The significant\\nperformance gain requires only a tiny 0.31% additional time consumption,\\nrevealing the satisfactory efficiency of our IR-QLoRA. We highlight that\\nIR-QLoRA enjoys excellent versatility, compatible with various frameworks\\n(e.g., NormalFloat and Integer quantization) and brings general accuracy gains.\\nThe code is available at https://github.com/htqin/ir-qlora.\\n\\nPublished: 2024-06-12\\nTitle: Exploring Fact Memorization and Style Imitation in LLMs Using QLoRA: An Experimental Study and Quality Assessment Methods\\nAuthors: Eugene Vyborov, Oleksiy Osypenko, Serge Sotnyk\\nSummary: There are various methods for adapting LLMs to different domains. The most\\ncommon methods are prompting, finetuning, and RAG. In this w', name='arxiv', id='5557c42d-34fa-4531-b88b-4779d3031ffb', tool_call_id='call_imT1YzDUor9QhOKD4Ul3JbES')]\n",
            "\n",
            "\n",
            "\n",
            "Receiving update from node: 'agent'\n",
            "[AIMessage(content='', additional_kwargs={'tool_calls': [{'id': 'call_yfD0DWQl59mpqOYn7lYQdS3X', 'function': {'arguments': '{\"query\": \"Tim Dettmers latest tweet\"}', 'name': 'tavily_search_results_json'}, 'type': 'function'}, {'id': 'call_fSVDN4W49ik7toB9R74xeMd9', 'function': {'arguments': '{\"query\": \"Artidoro Pagnoni latest tweet\"}', 'name': 'tavily_search_results_json'}, 'type': 'function'}, {'id': 'call_go96zufqGI87ceK65THR5o5B', 'function': {'arguments': '{\"query\": \"Ari Holtzman latest tweet\"}', 'name': 'tavily_search_results_json'}, 'type': 'function'}, {'id': 'call_JVQ23J0xSa4TjPumCGd08kaI', 'function': {'arguments': '{\"query\": \"Luke Zettlemoyer latest tweet\"}', 'name': 'tavily_search_results_json'}, 'type': 'function'}], 'refusal': None}, response_metadata={'token_usage': {'completion_tokens': 113, 'prompt_tokens': 1157, 'total_tokens': 1270, 'completion_tokens_details': {'accepted_prediction_tokens': 0, 'audio_tokens': 0, 'reasoning_tokens': 0, 'rejected_prediction_tokens': 0}, 'prompt_tokens_details': {'audio_tokens': 0, 'cached_tokens': 1024}}, 'model_name': 'gpt-4o-2024-08-06', 'system_fingerprint': 'fp_50cad350e4', 'finish_reason': 'tool_calls', 'logprobs': None}, id='run-8e574da0-30b0-465b-b70d-d531f4884e94-0', tool_calls=[{'name': 'tavily_search_results_json', 'args': {'query': 'Tim Dettmers latest tweet'}, 'id': 'call_yfD0DWQl59mpqOYn7lYQdS3X', 'type': 'tool_call'}, {'name': 'tavily_search_results_json', 'args': {'query': 'Artidoro Pagnoni latest tweet'}, 'id': 'call_fSVDN4W49ik7toB9R74xeMd9', 'type': 'tool_call'}, {'name': 'tavily_search_results_json', 'args': {'query': 'Ari Holtzman latest tweet'}, 'id': 'call_go96zufqGI87ceK65THR5o5B', 'type': 'tool_call'}, {'name': 'tavily_search_results_json', 'args': {'query': 'Luke Zettlemoyer latest tweet'}, 'id': 'call_JVQ23J0xSa4TjPumCGd08kaI', 'type': 'tool_call'}], usage_metadata={'input_tokens': 1157, 'output_tokens': 113, 'total_tokens': 1270, 'input_token_details': {'audio': 0, 'cache_read': 1024}, 'output_token_details': {'audio': 0, 'reasoning': 0}})]\n",
            "\n",
            "\n",
            "\n",
            "Receiving update from node: 'action'\n",
            "Tool Used: tavily_search_results_json\n",
            "[ToolMessage(content='[{\"url\": \"https://twitter.com/Tim_Dettmers/status/1683118705956491264\", \"content\": \"See new Tweets. Conversation. Tim Dettmers @ ICML23 @Tim_Dettmers. ... @Tim_Dettmers. The latest release of bitsandbytes has an improved CUDA setup and A100 4-bit inference. I thought that A40 and A100 GPUs were close enough, and optimized for A40s, but they are very different. A100 performance is now 40% faster with a small hit for other GPUs.\"}, {\"url\": \"https://timdettmers.com/about/twitter_400x400/\", \"content\": \"twitter_400x400 — Tim Dettmers Skip links Skip to primary navigation Skip to content Skip to primary sidebar Tim Dettmers Making deep learning accessible. Header Right Blog Posts Topics Academia (4) PhD Life (3) Deep Learning (7) Hardware (8) Science (4) Main navigation Blog Deep Learning Hardware twitter_400x400 2021-11-28 by Tim Dettmers Leave a Comment Primary Sidebar Recent Posts Which GPU(s) to Get for Deep Learning: My Experience and Advice for Using GPUs in Deep Learning 2023-01-30 On Creativity in Academia 2019-09-03 A Full Hardware Guide to Deep Learning 2018-12-16 Machine Learning PhD Applications — Everything You Need to Know 2018-11-26 TPUs vs GPUs for Transformers (BERT) 2018-10-17 Deep Learning Hardware Limbo 2017-12-21 Credit Assignment in Deep Learning 2017-09-16 Secondary Sidebar\"}, {\"url\": \"https://twitter.com/Tim_Dettmers/status/1654917326381228033\", \"content\": \"See new Tweets. Conversation. Andrej Karpathy ... Tim Dettmers @Tim_Dettmers. Super excited to push this even further: - Next week: bitsandbytes 4-bit closed beta that allows you to finetune 30B/65B LLaMA models on a single 24/48 GB GPU (no degradation vs full fine-tuning in 16-bit) - Two weeks: Full release of code, paper, and a collection of\"}, {\"url\": \"https://twitter.com/Tim_Dettmers/status/1678760495262879755\", \"content\": \"\\\\\"The result of long days of CUDA optimizations: the new bitsandbytes release includes 4-bit inference, which is up to 4.2x faster than 16-bit inference (bsz=1). Full HF integration for all models. No code change needed. Bnb is growing rapidly, just shy of 1M installs/month🧵\\\\\"\"}, {\"url\": \"https://twitter.com/Tim_Dettmers/status/1559892907816939520\", \"content\": \"\\\\\"In terms of software, LLM.int8() means that you can reduce the memory footprint of a large model by 2x. There are now some models that can now be used on Google\"}]', name='tavily_search_results_json', id='482dfb21-d738-45f0-bd78-64ed05ee8371', tool_call_id='call_yfD0DWQl59mpqOYn7lYQdS3X', artifact={'query': 'Tim Dettmers latest tweet', 'follow_up_questions': None, 'answer': None, 'images': [], 'results': [{'title': 'Tim Dettmers @ ICML23 on Twitter: \"The latest release of bitsandbytes ...', 'url': 'https://twitter.com/Tim_Dettmers/status/1683118705956491264', 'content': 'See new Tweets. Conversation. Tim Dettmers @ ICML23 @Tim_Dettmers. ... @Tim_Dettmers. The latest release of bitsandbytes has an improved CUDA setup and A100 4-bit inference. I thought that A40 and A100 GPUs were close enough, and optimized for A40s, but they are very different. A100 performance is now 40% faster with a small hit for other GPUs.', 'score': 0.85157084, 'raw_content': None}, {'title': 'twitter_400x400 — Tim Dettmers', 'url': 'https://timdettmers.com/about/twitter_400x400/', 'content': 'twitter_400x400 — Tim Dettmers Skip links Skip to primary navigation Skip to content Skip to primary sidebar Tim Dettmers Making deep learning accessible. Header Right Blog Posts Topics Academia (4) PhD Life (3) Deep Learning (7) Hardware (8) Science (4) Main navigation Blog Deep Learning Hardware twitter_400x400 2021-11-28 by Tim Dettmers Leave a Comment Primary Sidebar Recent Posts Which GPU(s) to Get for Deep Learning: My Experience and Advice for Using GPUs in Deep Learning 2023-01-30 On Creativity in Academia 2019-09-03 A Full Hardware Guide to Deep Learning 2018-12-16 Machine Learning PhD Applications — Everything You Need to Know 2018-11-26 TPUs vs GPUs for Transformers (BERT) 2018-10-17 Deep Learning Hardware Limbo 2017-12-21 Credit Assignment in Deep Learning 2017-09-16 Secondary Sidebar', 'score': 0.78552294, 'raw_content': None}, {'title': 'Tim Dettmers on Twitter', 'url': 'https://twitter.com/Tim_Dettmers/status/1654917326381228033', 'content': 'See new Tweets. Conversation. Andrej Karpathy ... Tim Dettmers @Tim_Dettmers. Super excited to push this even further: - Next week: bitsandbytes 4-bit closed beta that allows you to finetune 30B/65B LLaMA models on a single 24/48 GB GPU (no degradation vs full fine-tuning in 16-bit) - Two weeks: Full release of code, paper, and a collection of', 'score': 0.7327644, 'raw_content': None}, {'title': 'Tim Dettmers on Twitter', 'url': 'https://twitter.com/Tim_Dettmers/status/1678760495262879755', 'content': '\"The result of long days of CUDA optimizations: the new bitsandbytes release includes 4-bit inference, which is up to 4.2x faster than 16-bit inference (bsz=1). Full HF integration for all models. No code change needed. Bnb is growing rapidly, just shy of 1M installs/month🧵\"', 'score': 0.70750624, 'raw_content': None}, {'title': 'Tim Dettmers on Twitter', 'url': 'https://twitter.com/Tim_Dettmers/status/1559892907816939520', 'content': '\"In terms of software, LLM.int8() means that you can reduce the memory footprint of a large model by 2x. There are now some models that can now be used on Google', 'score': 0.57723385, 'raw_content': None}], 'response_time': 1.67}), ToolMessage(content='[{\"url\": \"https://twitter.com/ArtidoroPagnoni/status/1661438274894966784\", \"content\": \"Thank you to @Tim_Dettmers @universeinanegg @LukeZettlemoyer and the many people who made this project possible! In particular, @younesbelkada and the @huggingface team.\"}, {\"url\": \"https://twitter.com/ArtidoroPagnoni/status/1657036977814794242\", \"content\": \"We are excited to announce QLoRA, a new method for LLM fine-tuning that uses only a fraction of the memory footprint. Please consider joining our private beta to gain early access to QLoRA!\"}, {\"url\": \"https://artidoro.github.io/\", \"content\": \"Ciao! I am a second-year PhD student in Computer Science at the University of Washington. I am advised by Luke Zettlemoyer and work on various topics in NLP. Before UW, I was a master student at the Language and Technologies Institute (LTI) at CMU with Yulia Tsvetkov.In 2018, I worked at Microsoft AI Frameworks for a year.\"}, {\"url\": \"https://twitter.com/ArtidoroPagnoni/status/1661438253113942016\", \"content\": \"QLoRA uses a frozen 4-bit base model with adapters. We backpropagate through the 4-bit weights into the adapters. QLoRA incorporates the NF4 datatype, double-quantization, and paged optimizers.\"}, {\"url\": \"https://www.linkedin.com/in/artidoro-pagnoni\", \"content\": \"Artidoro Pagnoni\\\\nUW NLP PhD, FAIR Visiting Researcher\\\\nSeattle, United States of America\\\\n500 connections, 1066 followers\\\\n\\\\n\\\\nAbout:\\\\nPhD student in NLP at UW with Luke Zettlemoyer. MS at CMU. Software Engineer at Microsoft AI Frameworks. Harvard BA/MS in Physics and Computer Science.\\\\n\\\\n\\\\nExperience:\\\\nVisiting Researcher at Meta (https://www.linkedin.com/company/meta/)\\\\nSep 2023 - Present\\\\nSeattle, Washington, United States\\\\n\\\\n\\\\nEducation:\\\\nUniversity of Washington\\\\nDoctor of Philosophy - PhD, Computer Science\\\\nSep 2021 - Aug 2025\\\\nGrade: N/A\\\\nActivities and societies: N/A\"}]', name='tavily_search_results_json', id='21781990-44cf-4bfd-ba85-0d53cc792fab', tool_call_id='call_fSVDN4W49ik7toB9R74xeMd9', artifact={'query': 'Artidoro Pagnoni latest tweet', 'follow_up_questions': None, 'answer': None, 'images': [], 'results': [{'title': 'Artidoro Pagnoni on Twitter: \"Thank you to @Tim_Dettmers ...', 'url': 'https://twitter.com/ArtidoroPagnoni/status/1661438274894966784', 'content': 'Thank you to @Tim_Dettmers @universeinanegg @LukeZettlemoyer and the many people who made this project possible! In particular, @younesbelkada and the @huggingface team.', 'score': 0.7715858, 'raw_content': None}, {'title': 'Artidoro Pagnoni on Twitter: \"We are excited to announce QLoRA, a new ...', 'url': 'https://twitter.com/ArtidoroPagnoni/status/1657036977814794242', 'content': 'We are excited to announce QLoRA, a new method for LLM fine-tuning that uses only a fraction of the memory footprint. Please consider joining our private beta to gain early access to QLoRA!', 'score': 0.75268626, 'raw_content': None}, {'title': 'Ciao! - Artidoro Pagnoni', 'url': 'https://artidoro.github.io/', 'content': 'Ciao! I am a second-year PhD student in Computer Science at the University of Washington. I am advised by Luke Zettlemoyer and work on various topics in NLP. Before UW, I was a master student at the Language and Technologies Institute (LTI) at CMU with Yulia Tsvetkov.In 2018, I worked at Microsoft AI Frameworks for a year.', 'score': 0.7413937, 'raw_content': None}, {'title': 'Artidoro Pagnoni on Twitter: \"QLoRA uses a frozen 4-bit base model with ...', 'url': 'https://twitter.com/ArtidoroPagnoni/status/1661438253113942016', 'content': 'QLoRA uses a frozen 4-bit base model with adapters. We backpropagate through the 4-bit weights into the adapters. QLoRA incorporates the NF4 datatype, double-quantization, and paged optimizers.', 'score': 0.68090034, 'raw_content': None}, {'title': 'Artidoro Pagnoni - Meta | LinkedIn', 'url': 'https://www.linkedin.com/in/artidoro-pagnoni', 'content': 'Artidoro Pagnoni\\nUW NLP PhD, FAIR Visiting Researcher\\nSeattle, United States of America\\n500 connections, 1066 followers\\n\\n\\nAbout:\\nPhD student in NLP at UW with Luke Zettlemoyer. MS at CMU. Software Engineer at Microsoft AI Frameworks. Harvard BA/MS in Physics and Computer Science.\\n\\n\\nExperience:\\nVisiting Researcher at Meta (https://www.linkedin.com/company/meta/)\\nSep 2023 - Present\\nSeattle, Washington, United States\\n\\n\\nEducation:\\nUniversity of Washington\\nDoctor of Philosophy - PhD, Computer Science\\nSep 2021 - Aug 2025\\nGrade: N/A\\nActivities and societies: N/A', 'score': 0.5815176, 'raw_content': None}], 'response_time': 1.7}), ToolMessage(content='[{\"url\": \"https://twitter.com/universeinanegg/status/1557439705284653056\", \"content\": \"Ari Holtzman on X: \\\\\"I think the most important thing for figuring out the right hypotheses to explain LM behavior is just giving people access to these models, so they can poke at them on their own, for free. What will we find?\\\\\" / X People on X are the first to know. Sign up I think the most important thing for figuring out the right hypotheses to explain LM behavior is just giving people access to these models, so they can poke at them on their own, for free. Aug 10, 2022 You can try it here: https://docs.google.com/document/d/1JxSo4lQgMDBdnd19VBEoaG-mMfQupQ3XvOrgmRAVtpU/edit?usp=sharing… 1/n New to X? Sign up now to get your own personalized timeline! Sign up with Apple Try reloading.\"}, {\"url\": \"https://twitter.com/universeinanegg/status/1678462929669062656\", \"content\": \"\\\\\"I\\'m around today and talking to folks about what the future of studying generative models might look like, how to meaningfully decompose language model behavior into useful categories, and how to do science as generalization becomes difficult to assess! If you see me say hello!\\\\\"\"}, {\"url\": \"https://twitter.com/universeinanegg/status/1678412348892094467\", \"content\": \"\\\\\"Hinton\\'s talk reminded me that powerpoints are dominated by provocative examples that feel important but systems are justified by ways you can use them.\\\\\"\"}, {\"url\": \"https://twitter.com/universeinanegg/status/1383128271651446787\", \"content\": \"\\\\\"Co-authored with the awesome, brilliant, and kind @VeredShwartz, @YejinChoinka, and @LukeZettlemoyer!\\\\\"\"}, {\"url\": \"https://www.linkedin.com/in/ari-holtzman-1b620a149\", \"content\": \"Incoming Assistant Professor of Computer Science (2024) · Incoming Assistant Professor@UChicago CS & @DSI UChicago (2024) Post-doc @MetaFocused on generative models, behavioral\"}]', name='tavily_search_results_json', id='216858d2-7835-4c5a-8244-7f70e2eabafa', tool_call_id='call_go96zufqGI87ceK65THR5o5B', artifact={'query': 'Ari Holtzman latest tweet', 'follow_up_questions': None, 'answer': None, 'images': [], 'results': [{'title': 'Ari Holtzman on Twitter', 'url': 'https://twitter.com/universeinanegg/status/1557439705284653056', 'content': 'Ari Holtzman on X: \"I think the most important thing for figuring out the right hypotheses to explain LM behavior is just giving people access to these models, so they can poke at them on their own, for free. What will we find?\" / X People on X are the first to know. Sign up I think the most important thing for figuring out the right hypotheses to explain LM behavior is just giving people access to these models, so they can poke at them on their own, for free. Aug 10, 2022 You can try it here: https://docs.google.com/document/d/1JxSo4lQgMDBdnd19VBEoaG-mMfQupQ3XvOrgmRAVtpU/edit?usp=sharing… 1/n New to X? Sign up now to get your own personalized timeline! Sign up with Apple Try reloading.', 'score': 0.767847, 'raw_content': None}, {'title': 'Ari Holtzman @ ACL on Twitter', 'url': 'https://twitter.com/universeinanegg/status/1678462929669062656', 'content': '\"I\\'m around today and talking to folks about what the future of studying generative models might look like, how to meaningfully decompose language model behavior into useful categories, and how to do science as generalization becomes difficult to assess! If you see me say hello!\"', 'score': 0.741169, 'raw_content': None}, {'title': 'Ari Holtzman @ ACL on Twitter: \"Hinton\\'s talk reminded me that ...', 'url': 'https://twitter.com/universeinanegg/status/1678412348892094467', 'content': '\"Hinton\\'s talk reminded me that powerpoints are dominated by provocative examples that feel important but systems are justified by ways you can use them.\"', 'score': 0.6954834, 'raw_content': None}, {'title': 'Ari Holtzman on Twitter', 'url': 'https://twitter.com/universeinanegg/status/1383128271651446787', 'content': '\"Co-authored with the awesome, brilliant, and kind @VeredShwartz, @YejinChoinka, and @LukeZettlemoyer!\"', 'score': 0.61668247, 'raw_content': None}, {'title': 'Ari Holtzman - Postdoctoral Researcher - Meta | LinkedIn', 'url': 'https://www.linkedin.com/in/ari-holtzman-1b620a149', 'content': 'Incoming Assistant Professor of Computer Science (2024) · Incoming Assistant Professor@UChicago CS & @DSI UChicago (2024) Post-doc @MetaFocused on generative models, behavioral', 'score': 0.52042377, 'raw_content': None}], 'response_time': 1.59}), ToolMessage(content='[{\"url\": \"https://twitter.com/LukeZettlemoyer/status/1580346811155648512\", \"content\": \"RT @hllo_wrld: Our latest reading to learn paper Language Dynamics Distillation will appear at #NeurIPS2022! In LDD, we pretrain the agent to read to model env dynamics.\"}, {\"url\": \"https://twitter.com/LukeZettlemoyer/status/1679870456608985088\", \"content\": \"RT @ArmenAgha: I\\'m excited to release our most recent work setting a new SOTA FID of 4.88 on text-to-image generation we call CM3Leon (pronounced chameleon)! https\"}, {\"url\": \"https://twitter.com/LukeZettlemoyer/status/1679513235010252800\", \"content\": \"RT @MetaAI: We\\'re honored to share that Meta AI researchers received four different publication awards at ACL this week — including three outstanding paper recognitions! 4️⃣ more, award-winning papers to read from Meta AI at #ACL2023NLP 🧵\"}, {\"url\": \"https://twitter.com/lukezettlemoyer\", \"content\": \"The latest posts from @lukezettlemoyer\"}, {\"url\": \"https://ai.meta.com/people/luke-zettlemoyer/\", \"content\": \"Luke Zettlemoyer - AI at Meta Luke Zettlemoyer is a research manager and site lead for FAIR Seattle. His research is in empirical computational semantics, where the goal is to build models that recover representations of the meaning of natural language text. Recent work has focused on language modeling pretraining, multi-lingual NLP, semantic parsing, question answering, and information extraction. Text Quality-Based Pruning for Efficient Training of Language Models Retrieval-Augmented Multimodal Language Modeling Scaling Autoregressive Multi-Modal Models: Pretraining and Instruction Tuning Memorization Without Overfitting: Analyzing the Training Dynamics of Large Language Models Quantifying Adaptability in Pre-trained Language Models with 500 Tasks Emerging Cross-lingual Structure in Pretrained Language Models Generalization through Memorization: Nearest Neighbor Language Models Mask-Predict: Parallel Decoding of Conditional Masked Language Models\"}]', name='tavily_search_results_json', id='45ef714f-0df5-4c52-bc5b-d97f635a6e2a', tool_call_id='call_JVQ23J0xSa4TjPumCGd08kaI', artifact={'query': 'Luke Zettlemoyer latest tweet', 'follow_up_questions': None, 'answer': None, 'images': [], 'results': [{'title': 'Luke Zettlemoyer on Twitter: \"RT @hllo_wrld: Our latest reading to ...', 'url': 'https://twitter.com/LukeZettlemoyer/status/1580346811155648512', 'content': 'RT @hllo_wrld: Our latest reading to learn paper Language Dynamics Distillation will appear at #NeurIPS2022! In LDD, we pretrain the agent to read to model env dynamics.', 'score': 0.79939574, 'raw_content': None}, {'title': 'Luke Zettlemoyer on Twitter: \"RT @ArmenAgha: I\\'m excited to release our ...', 'url': 'https://twitter.com/LukeZettlemoyer/status/1679870456608985088', 'content': \"RT @ArmenAgha: I'm excited to release our most recent work setting a new SOTA FID of 4.88 on text-to-image generation we call CM3Leon (pronounced chameleon)! https\", 'score': 0.7672197, 'raw_content': None}, {'title': 'Luke Zettlemoyer on Twitter: \"RT @MetaAI: We\\'re honored to share that ...', 'url': 'https://twitter.com/LukeZettlemoyer/status/1679513235010252800', 'content': \"RT @MetaAI: We're honored to share that Meta AI researchers received four different publication awards at ACL this week — including three outstanding paper recognitions! 4️⃣ more, award-winning papers to read from Meta AI at #ACL2023NLP 🧵\", 'score': 0.7520312, 'raw_content': None}, {'title': '@lukezettlemoyer | X', 'url': 'https://twitter.com/lukezettlemoyer', 'content': 'The latest posts from @lukezettlemoyer', 'score': 0.5614318, 'raw_content': None}, {'title': 'Luke Zettlemoyer - AI at Meta', 'url': 'https://ai.meta.com/people/luke-zettlemoyer/', 'content': 'Luke Zettlemoyer - AI at Meta Luke Zettlemoyer is a research manager and site lead for FAIR Seattle. His research is in empirical computational semantics, where the goal is to build models that recover representations of the meaning of natural language text. Recent work has focused on language modeling pretraining, multi-lingual NLP, semantic parsing, question answering, and information extraction. Text Quality-Based Pruning for Efficient Training of Language Models Retrieval-Augmented Multimodal Language Modeling Scaling Autoregressive Multi-Modal Models: Pretraining and Instruction Tuning Memorization Without Overfitting: Analyzing the Training Dynamics of Large Language Models Quantifying Adaptability in Pre-trained Language Models with 500 Tasks Emerging Cross-lingual Structure in Pretrained Language Models Generalization through Memorization: Nearest Neighbor Language Models Mask-Predict: Parallel Decoding of Conditional Masked Language Models', 'score': 0.39068562, 'raw_content': None}], 'response_time': 2.63})]\n",
            "\n",
            "\n",
            "\n",
            "Receiving update from node: 'agent'\n",
            "[AIMessage(content='Here are the latest tweets from the authors of the QLoRA paper:\\n\\n1. **Tim Dettmers**:\\n   - [Tweet](https://twitter.com/Tim_Dettmers/status/1683118705956491264): \"The latest release of bitsandbytes has an improved CUDA setup and A100 4-bit inference. I thought that A40 and A100 GPUs were close enough, and optimized for A40s, but they are very different. A100 performance is now 40% faster with a small hit for other GPUs.\"\\n\\n2. **Artidoro Pagnoni**:\\n   - [Tweet](https://twitter.com/ArtidoroPagnoni/status/1661438274894966784): \"Thank you to @Tim_Dettmers @universeinanegg @LukeZettlemoyer and the many people who made this project possible! In particular, @younesbelkada and the @huggingface team.\"\\n\\n3. **Ari Holtzman**:\\n   - [Tweet](https://twitter.com/universeinanegg/status/1678462929669062656): \"I\\'m around today and talking to folks about what the future of studying generative models might look like, how to meaningfully decompose language model behavior into useful categories, and how to do science as generalization becomes difficult to assess! If you see me say hello!\"\\n\\n4. **Luke Zettlemoyer**:\\n   - [Tweet](https://twitter.com/LukeZettlemoyer/status/1679870456608985088): \"RT @ArmenAgha: I\\'m excited to release our most recent work setting a new SOTA FID of 4.88 on text-to-image generation we call CM3Leon (pronounced chameleon)!\"', additional_kwargs={'refusal': None}, response_metadata={'token_usage': {'completion_tokens': 366, 'prompt_tokens': 3380, 'total_tokens': 3746, 'completion_tokens_details': {'accepted_prediction_tokens': 0, 'audio_tokens': 0, 'reasoning_tokens': 0, 'rejected_prediction_tokens': 0}, 'prompt_tokens_details': {'audio_tokens': 0, 'cached_tokens': 1152}}, 'model_name': 'gpt-4o-2024-08-06', 'system_fingerprint': 'fp_50cad350e4', 'finish_reason': 'stop', 'logprobs': None}, id='run-ef6479df-6091-4482-91d2-955cfca1e622-0', usage_metadata={'input_tokens': 3380, 'output_tokens': 366, 'total_tokens': 3746, 'input_token_details': {'audio': 0, 'cache_read': 1152}, 'output_token_details': {'audio': 0, 'reasoning': 0}})]\n",
            "\n",
            "\n",
            "\n"
          ]
        }
      ]
    },
    {
      "cell_type": "markdown",
      "source": [
        "####🏗️ Activity #2:\n",
        "\n",
        "Please write out the steps the agent took to arrive at the correct answer."
      ],
      "metadata": {
        "id": "CXzDlZVz1Hnf"
      }
    },
    {
      "cell_type": "markdown",
      "source": [
        "## Part 1: LangSmith Evaluator"
      ],
      "metadata": {
        "id": "v7c8-Uyarh1v"
      }
    },
    {
      "cell_type": "markdown",
      "source": [
        "### Pre-processing for LangSmith"
      ],
      "metadata": {
        "id": "pV3XeFOT1Sar"
      }
    },
    {
      "cell_type": "markdown",
      "source": [
        "To do a little bit more preprocessing, let's wrap our LangGraph agent in a simple chain."
      ],
      "metadata": {
        "id": "wruQCuzewUuO"
      }
    },
    {
      "cell_type": "code",
      "source": [
        "def convert_inputs(input_object):\n",
        "  return {\"messages\" : [HumanMessage(content=input_object[\"question\"])]}\n",
        "\n",
        "def parse_output(input_state):\n",
        "  return input_state[\"messages\"][-1].content\n",
        "\n",
        "agent_chain = convert_inputs | compiled_graph | parse_output"
      ],
      "metadata": {
        "id": "oeXdQgbxwhTv"
      },
      "execution_count": 17,
      "outputs": []
    },
    {
      "cell_type": "code",
      "source": [
        "agent_chain.invoke({\"question\" : \"What is RAG?\"})"
      ],
      "metadata": {
        "colab": {
          "base_uri": "https://localhost:8080/",
          "height": 105
        },
        "id": "orYxBZXSxJjZ",
        "outputId": "76be837b-6424-4516-8f63-07fbd8c25bf5"
      },
      "execution_count": 18,
      "outputs": [
        {
          "output_type": "execute_result",
          "data": {
            "text/plain": [
              "\"RAG stands for Retrieval-Augmented Generation. It is a technique used in natural language processing (NLP) that combines retrieval-based methods with generative models to improve the quality and accuracy of generated text. Here's a brief overview of how it works:\\n\\n1. **Retrieval**: In the first step, relevant documents or pieces of information are retrieved from a large corpus or database. This is typically done using a retrieval model that identifies the most relevant documents based on the input query or context.\\n\\n2. **Augmentation**: The retrieved documents are then used to augment the input to a generative model. This means that the generative model has access to additional context or information that can help it produce more accurate and contextually relevant responses.\\n\\n3. **Generation**: Finally, a generative model, such as a transformer-based language model, uses the augmented input to generate a response or piece of text. The additional context provided by the retrieved documents helps the model generate more informed and accurate outputs.\\n\\nRAG is particularly useful in scenarios where the model needs to generate text based on specific, up-to-date, or detailed information that may not be fully captured in the model's pre-trained parameters. It is commonly used in applications like question answering, conversational agents, and other NLP tasks that require a combination of retrieval and generation capabilities.\""
            ],
            "application/vnd.google.colaboratory.intrinsic+json": {
              "type": "string"
            }
          },
          "metadata": {},
          "execution_count": 18
        }
      ]
    },
    {
      "cell_type": "markdown",
      "source": [
        "### Task 1: Creating An Evaluation Dataset\n",
        "\n",
        "Just as we saw last week, we'll want to create a dataset to test our Agent's ability to answer questions.\n",
        "\n",
        "In order to do this - we'll want to provide some questions and some answers. Let's look at how we can create such a dataset below.\n",
        "\n",
        "```python\n",
        "questions = [\n",
        "    \"What optimizer is used in QLoRA?\",\n",
        "    \"What data type was created in the QLoRA paper?\",\n",
        "    \"What is a Retrieval Augmented Generation system?\",\n",
        "    \"Who authored the QLoRA paper?\",\n",
        "    \"What is the most popular deep learning framework?\",\n",
        "    \"What significant improvements does the LoRA system make?\"\n",
        "]\n",
        "\n",
        "answers = [\n",
        "    {\"must_mention\" : [\"paged\", \"optimizer\"]},\n",
        "    {\"must_mention\" : [\"NF4\", \"NormalFloat\"]},\n",
        "    {\"must_mention\" : [\"ground\", \"context\"]},\n",
        "    {\"must_mention\" : [\"Tim\", \"Dettmers\"]},\n",
        "    {\"must_mention\" : [\"PyTorch\", \"TensorFlow\"]},\n",
        "    {\"must_mention\" : [\"reduce\", \"parameters\"]},\n",
        "]\n",
        "```"
      ],
      "metadata": {
        "id": "f9UkCIqkpyZu"
      }
    },
    {
      "cell_type": "markdown",
      "source": [
        "####🏗️ Activity #3:\n",
        "\n",
        "Please create a dataset in the above format with at least 5 questions."
      ],
      "metadata": {
        "id": "VfMXF2KAsQxs"
      }
    },
    {
      "cell_type": "code",
      "source": [
        "questions = [\n",
        "    ### YOUR CODE HERE\n",
        "]\n",
        "\n",
        "answers = [\n",
        "    ### YOUR CODE HERE\n",
        "]"
      ],
      "metadata": {
        "id": "CbagRuJop83E"
      },
      "execution_count": 20,
      "outputs": []
    },
    {
      "cell_type": "markdown",
      "source": [
        "Now we can add our dataset to our LangSmith project using the following code which we saw last Thursday!"
      ],
      "metadata": {
        "id": "z7QVFuAmsh7L"
      }
    },
    {
      "cell_type": "code",
      "source": [
        "from langsmith import Client\n",
        "\n",
        "client = Client()\n",
        "\n",
        "dataset_name = f\"Retrieval Augmented Generation - Evaluation Dataset - {uuid4().hex[0:8]}\"\n",
        "\n",
        "dataset = client.create_dataset(\n",
        "    dataset_name=dataset_name,\n",
        "    description=\"Questions about the QLoRA Paper to Evaluate RAG over the same paper.\"\n",
        ")\n",
        "\n",
        "client.create_examples(\n",
        "    inputs=[{\"question\" : q} for q in questions],\n",
        "    outputs=answers,\n",
        "    dataset_id=dataset.id,\n",
        ")"
      ],
      "metadata": {
        "id": "RLfrZrgSsn85"
      },
      "execution_count": 21,
      "outputs": []
    },
    {
      "cell_type": "markdown",
      "source": [
        "#### ❓ Question #3:\n",
        "\n",
        "How are the correct answers associated with the questions?\n",
        "\n",
        "> NOTE: Feel free to indicate if this is problematic or not"
      ],
      "metadata": {
        "id": "ciV73F9Q04w0"
      }
    },
    {
      "cell_type": "markdown",
      "source": [
        "### Task 2: Adding Evaluators\n",
        "\n",
        "Now we can add a custom evaluator to see if our responses contain the expected information.\n",
        "\n",
        "We'll be using a fairly naive exact-match process to determine if our response contains specific strings."
      ],
      "metadata": {
        "id": "-lRTXUrTtP9Y"
      }
    },
    {
      "cell_type": "code",
      "source": [
        "from langsmith.evaluation import EvaluationResult, run_evaluator\n",
        "\n",
        "@run_evaluator\n",
        "def must_mention(run, example) -> EvaluationResult:\n",
        "    prediction = run.outputs.get(\"output\") or \"\"\n",
        "    required = example.outputs.get(\"must_mention\") or []\n",
        "    score = all(phrase in prediction for phrase in required)\n",
        "    return EvaluationResult(key=\"must_mention\", score=score)"
      ],
      "metadata": {
        "id": "QrAUXMFftlAY"
      },
      "execution_count": 22,
      "outputs": []
    },
    {
      "cell_type": "markdown",
      "source": [
        "#### ❓ Question #4:\n",
        "\n",
        "What are some ways you could improve this metric as-is?\n",
        "\n",
        "> NOTE: Alternatively you can suggest where gaps exist in this method."
      ],
      "metadata": {
        "id": "PNtHORUh0jZY"
      }
    },
    {
      "cell_type": "markdown",
      "source": [
        "Task 3: Evaluating\n",
        "\n",
        "All that is left to do is evaluate our agent's response!"
      ],
      "metadata": {
        "id": "r1RJr349zhv7"
      }
    },
    {
      "cell_type": "code",
      "source": [
        "experiment_results = client.evaluate(\n",
        "    agent_chain,\n",
        "    data=dataset_name,\n",
        "    evaluators=[must_mention],\n",
        "    experiment_prefix=f\"RAG Pipeline - Evaluation - {uuid4().hex[0:4]}\",\n",
        "    metadata={\"version\": \"1.0.0\"},\n",
        ")"
      ],
      "metadata": {
        "colab": {
          "base_uri": "https://localhost:8080/",
          "height": 118,
          "referenced_widgets": [
            "efcf57067cf743d8b4ce059a61cbe02e",
            "53e33aae3b97490c82aec7bbb0d6ebba",
            "ad84e0e971d3455db2efe7dd0d1f803e",
            "72adef9b70dd48198b7322b6c5b113cf",
            "8a61d045ffd44ac58f3f13eb10044836",
            "041e22a9b5514e36bd4d1dac01d5d398",
            "886d762f2a7c421382efb5502c6d42a1",
            "ab91fd625bbd43afbf8c6398193a88d0",
            "716557ad09874dcb989d75f7c74424cd",
            "77d4c0ebaae045b58efc4f789c9a2360",
            "0d622ccc56264fac8fd7508dbdbe6e29"
          ]
        },
        "id": "p5TeCUUkuGld",
        "outputId": "2f7d62a2-e78d-447a-d07b-f9e4d500fb79"
      },
      "execution_count": 23,
      "outputs": [
        {
          "output_type": "stream",
          "name": "stdout",
          "text": [
            "View the evaluation results for experiment: 'RAG Pipeline - Evaluation - 1da2-0787318b' at:\n",
            "https://smith.langchain.com/o/117cfda3-8a09-4ba4-9922-07b45fd73803/datasets/dd6288a8-c169-4e13-9060-da725bdba9db/compare?selectedSessions=6bc9839d-36f3-421c-806e-2cb25eb552c5\n",
            "\n",
            "\n"
          ]
        },
        {
          "output_type": "display_data",
          "data": {
            "text/plain": [
              "0it [00:00, ?it/s]"
            ],
            "application/vnd.jupyter.widget-view+json": {
              "version_major": 2,
              "version_minor": 0,
              "model_id": "efcf57067cf743d8b4ce059a61cbe02e"
            }
          },
          "metadata": {}
        }
      ]
    },
    {
      "cell_type": "code",
      "source": [
        "experiment_results"
      ],
      "metadata": {
        "colab": {
          "base_uri": "https://localhost:8080/",
          "height": 342
        },
        "id": "eeEqU7s05Byu",
        "outputId": "78395075-a05d-4ebd-c798-ed968b935318"
      },
      "execution_count": 24,
      "outputs": [
        {
          "output_type": "execute_result",
          "data": {
            "text/plain": [
              "<ExperimentResults RAG Pipeline - Evaluation - 1da2-0787318b>"
            ],
            "text/html": [
              "<div>\n",
              "<style scoped>\n",
              "    .dataframe tbody tr th:only-of-type {\n",
              "        vertical-align: middle;\n",
              "    }\n",
              "\n",
              "    .dataframe tbody tr th {\n",
              "        vertical-align: top;\n",
              "    }\n",
              "\n",
              "    .dataframe thead th {\n",
              "        text-align: right;\n",
              "    }\n",
              "</style>\n",
              "<table border=\"1\" class=\"dataframe\">\n",
              "  <thead>\n",
              "    <tr style=\"text-align: right;\">\n",
              "      <th></th>\n",
              "      <th>inputs.question</th>\n",
              "      <th>outputs.output</th>\n",
              "      <th>error</th>\n",
              "      <th>reference.must_mention</th>\n",
              "      <th>feedback.must_mention</th>\n",
              "      <th>execution_time</th>\n",
              "      <th>example_id</th>\n",
              "      <th>id</th>\n",
              "    </tr>\n",
              "  </thead>\n",
              "  <tbody>\n",
              "    <tr>\n",
              "      <th>0</th>\n",
              "      <td>What significant improvements does the LoRA sy...</td>\n",
              "      <td>The LoRA (Low-Rank Adaptation) system has made...</td>\n",
              "      <td>None</td>\n",
              "      <td>[reduce, parameters]</td>\n",
              "      <td>False</td>\n",
              "      <td>10.351338</td>\n",
              "      <td>57157f9e-abf5-4b41-9109-319c533545f2</td>\n",
              "      <td>5c1f65e2-d06a-407b-bbc1-ba10ef613ee0</td>\n",
              "    </tr>\n",
              "    <tr>\n",
              "      <th>1</th>\n",
              "      <td>What is the most popular deep learning framework?</td>\n",
              "      <td>The most popular deep learning framework in 20...</td>\n",
              "      <td>None</td>\n",
              "      <td>[PyTorch, TensorFlow]</td>\n",
              "      <td>False</td>\n",
              "      <td>4.420087</td>\n",
              "      <td>129c278c-c295-4801-9c07-8fb71a12856d</td>\n",
              "      <td>d2638945-8c63-4c20-a7b0-ff14ed21af85</td>\n",
              "    </tr>\n",
              "    <tr>\n",
              "      <th>2</th>\n",
              "      <td>Who authored the QLoRA paper?</td>\n",
              "      <td>The QLoRA paper titled \"Accurate LoRA-Finetuni...</td>\n",
              "      <td>None</td>\n",
              "      <td>[Tim, Dettmers]</td>\n",
              "      <td>False</td>\n",
              "      <td>4.345255</td>\n",
              "      <td>0a888859-b404-4cdd-91bd-2037aa802711</td>\n",
              "      <td>fed88a30-0d8f-47a3-8cb1-4d0f0547d76c</td>\n",
              "    </tr>\n",
              "    <tr>\n",
              "      <th>3</th>\n",
              "      <td>What is a Retrieval Augmented Generation system?</td>\n",
              "      <td>A Retrieval Augmented Generation (RAG) system ...</td>\n",
              "      <td>None</td>\n",
              "      <td>[ground, context]</td>\n",
              "      <td>False</td>\n",
              "      <td>6.487132</td>\n",
              "      <td>5e58dfe6-8722-4466-b819-adc52904644d</td>\n",
              "      <td>8526f737-4e13-48f0-8785-77e5ed5c236a</td>\n",
              "    </tr>\n",
              "    <tr>\n",
              "      <th>4</th>\n",
              "      <td>What data type was created in the QLoRA paper?</td>\n",
              "      <td>In the QLoRA paper, a new data type called \"4-...</td>\n",
              "      <td>None</td>\n",
              "      <td>[NF4, NormalFloat]</td>\n",
              "      <td>True</td>\n",
              "      <td>4.288050</td>\n",
              "      <td>0be0e226-1730-4e52-a4dc-0691ad798afb</td>\n",
              "      <td>d218bcc7-8952-4799-963c-a5a9264a6916</td>\n",
              "    </tr>\n",
              "    <tr>\n",
              "      <th>5</th>\n",
              "      <td>What optimizer is used in QLoRA?</td>\n",
              "      <td>QLoRA uses \"paged optimizers\" to manage memory...</td>\n",
              "      <td>None</td>\n",
              "      <td>[paged, optimizer]</td>\n",
              "      <td>True</td>\n",
              "      <td>6.513946</td>\n",
              "      <td>02d4d334-e7cf-417e-bcae-7e248395aa0a</td>\n",
              "      <td>6cb3cd88-dc0d-4d2c-905e-44819cb751e5</td>\n",
              "    </tr>\n",
              "  </tbody>\n",
              "</table>\n",
              "</div>"
            ]
          },
          "metadata": {},
          "execution_count": 24
        }
      ]
    },
    {
      "cell_type": "markdown",
      "source": [
        "## Part 2: LangGraph with Helpfulness:"
      ],
      "metadata": {
        "id": "jhTNe4kWrplB"
      }
    },
    {
      "cell_type": "markdown",
      "source": [
        "### Task 3: Adding Helpfulness Check and \"Loop\" Limits\n",
        "\n",
        "Now that we've done evaluation - let's see if we can add an extra step where we review the content we've generated to confirm if it fully answers the user's query!\n",
        "\n",
        "We're going to make a few key adjustments to account for this:\n",
        "\n",
        "1. We're going to add an artificial limit on how many \"loops\" the agent can go through - this will help us to avoid the potential situation where we never exit the loop.\n",
        "2. We'll add to our existing conditional edge to obtain the behaviour we desire."
      ],
      "metadata": {
        "id": "w1wKRddbIY_S"
      }
    },
    {
      "cell_type": "markdown",
      "source": [
        "First, let's define our state again - we can check the length of the state object, so we don't need additional state for this."
      ],
      "metadata": {
        "id": "npTYJ8ayR5B3"
      }
    },
    {
      "cell_type": "code",
      "source": [
        "class AgentState(TypedDict):\n",
        "  messages: Annotated[list, add_messages]"
      ],
      "metadata": {
        "id": "-LQ84YhyJG0w"
      },
      "execution_count": 25,
      "outputs": []
    },
    {
      "cell_type": "markdown",
      "source": [
        "Now we can set our graph up! This process will be almost entirely the same - with the inclusion of one additional node/conditional edge!"
      ],
      "metadata": {
        "id": "sD7EV0HqSQcb"
      }
    },
    {
      "cell_type": "markdown",
      "source": [
        "####🏗️ Activity #5:\n",
        "\n",
        "Please write markdown for the following cells to explain what each is doing."
      ],
      "metadata": {
        "id": "oajBwLkFVi1N"
      }
    },
    {
      "cell_type": "markdown",
      "source": [
        "##### YOUR MARKDOWN HERE"
      ],
      "metadata": {
        "id": "M6rN7feNVn9f"
      }
    },
    {
      "cell_type": "code",
      "source": [
        "graph_with_helpfulness_check = StateGraph(AgentState)\n",
        "\n",
        "graph_with_helpfulness_check.add_node(\"agent\", call_model)\n",
        "graph_with_helpfulness_check.add_node(\"action\", tool_node)"
      ],
      "metadata": {
        "id": "6r6XXA5FJbVf",
        "colab": {
          "base_uri": "https://localhost:8080/"
        },
        "outputId": "ff713041-e498-4f0f-a875-a03502b87729"
      },
      "execution_count": 26,
      "outputs": [
        {
          "output_type": "execute_result",
          "data": {
            "text/plain": [
              "<langgraph.graph.state.StateGraph at 0x7cff65caab50>"
            ]
          },
          "metadata": {},
          "execution_count": 26
        }
      ]
    },
    {
      "cell_type": "markdown",
      "source": [
        "##### YOUR MARKDOWN HERE"
      ],
      "metadata": {
        "id": "XZ22o2mWVrfp"
      }
    },
    {
      "cell_type": "code",
      "source": [
        "graph_with_helpfulness_check.set_entry_point(\"agent\")"
      ],
      "metadata": {
        "id": "HNWHwWxuRiLY",
        "colab": {
          "base_uri": "https://localhost:8080/"
        },
        "outputId": "295f5a35-ceff-452a-ffb8-c52eada6a816"
      },
      "execution_count": 27,
      "outputs": [
        {
          "output_type": "execute_result",
          "data": {
            "text/plain": [
              "<langgraph.graph.state.StateGraph at 0x7cff65caab50>"
            ]
          },
          "metadata": {},
          "execution_count": 27
        }
      ]
    },
    {
      "cell_type": "markdown",
      "source": [
        "##### YOUR MARKDOWN HERE"
      ],
      "metadata": {
        "id": "rsXeF6xlaXOZ"
      }
    },
    {
      "cell_type": "code",
      "source": [
        "from langchain_core.prompts import PromptTemplate\n",
        "from langchain_core.output_parsers import StrOutputParser\n",
        "\n",
        "def tool_call_or_helpful(state):\n",
        "  last_message = state[\"messages\"][-1]\n",
        "\n",
        "  if last_message.tool_calls:\n",
        "    return \"action\"\n",
        "\n",
        "  initial_query = state[\"messages\"][0]\n",
        "  final_response = state[\"messages\"][-1]\n",
        "\n",
        "  if len(state[\"messages\"]) > 10:\n",
        "    return \"END\"\n",
        "\n",
        "  prompt_template = \"\"\"\\\n",
        "  Given an initial query and a final response, determine if the final response is extremely helpful or not. Please indicate helpfulness with a 'Y' and unhelpfulness as an 'N'.\n",
        "\n",
        "  Initial Query:\n",
        "  {initial_query}\n",
        "\n",
        "  Final Response:\n",
        "  {final_response}\"\"\"\n",
        "\n",
        "  prompt_template = PromptTemplate.from_template(prompt_template)\n",
        "\n",
        "  helpfulness_check_model = ChatOpenAI(model=\"gpt-4\")\n",
        "\n",
        "  helpfulness_chain = prompt_template | helpfulness_check_model | StrOutputParser()\n",
        "\n",
        "  helpfulness_response = helpfulness_chain.invoke({\"initial_query\" : initial_query.content, \"final_response\" : final_response.content})\n",
        "\n",
        "  if \"Y\" in helpfulness_response:\n",
        "    return \"end\"\n",
        "  else:\n",
        "    return \"continue\""
      ],
      "metadata": {
        "id": "z_Sq3A9SaV1O"
      },
      "execution_count": 28,
      "outputs": []
    },
    {
      "cell_type": "markdown",
      "source": [
        "####🏗️ Activity #4:\n",
        "\n",
        "Please write what is happening in our `tool_call_or_helpful` function!"
      ],
      "metadata": {
        "id": "Fz1u9Vf4SHxJ"
      }
    },
    {
      "cell_type": "markdown",
      "source": [
        "##### YOUR MARKDOWN HERE"
      ],
      "metadata": {
        "id": "6BhnBW2YVsJO"
      }
    },
    {
      "cell_type": "code",
      "source": [
        "graph_with_helpfulness_check.add_conditional_edges(\n",
        "    \"agent\",\n",
        "    tool_call_or_helpful,\n",
        "    {\n",
        "        \"continue\" : \"agent\",\n",
        "        \"action\" : \"action\",\n",
        "        \"end\" : END\n",
        "    }\n",
        ")"
      ],
      "metadata": {
        "id": "aVTKnWMbP_8T",
        "colab": {
          "base_uri": "https://localhost:8080/"
        },
        "outputId": "7f729b1f-311c-4084-ceaf-0da437900c85"
      },
      "execution_count": 29,
      "outputs": [
        {
          "output_type": "execute_result",
          "data": {
            "text/plain": [
              "<langgraph.graph.state.StateGraph at 0x7cff65caab50>"
            ]
          },
          "metadata": {},
          "execution_count": 29
        }
      ]
    },
    {
      "cell_type": "markdown",
      "source": [
        "##### YOUR MARKDOWN HERE"
      ],
      "metadata": {
        "id": "ZGDLEWOIVtK0"
      }
    },
    {
      "cell_type": "code",
      "source": [
        "graph_with_helpfulness_check.add_edge(\"action\", \"agent\")"
      ],
      "metadata": {
        "id": "cbDK2MbuREgU",
        "colab": {
          "base_uri": "https://localhost:8080/"
        },
        "outputId": "21a64c20-27a1-4e0e-afde-a639abaa8b55"
      },
      "execution_count": 30,
      "outputs": [
        {
          "output_type": "execute_result",
          "data": {
            "text/plain": [
              "<langgraph.graph.state.StateGraph at 0x7cff65caab50>"
            ]
          },
          "metadata": {},
          "execution_count": 30
        }
      ]
    },
    {
      "cell_type": "markdown",
      "source": [
        "##### YOUR MARKDOWN HERE"
      ],
      "metadata": {
        "id": "rSI8AOaEVvT-"
      }
    },
    {
      "cell_type": "code",
      "source": [
        "agent_with_helpfulness_check = graph_with_helpfulness_check.compile()"
      ],
      "metadata": {
        "id": "oQldl8ERQ8lf"
      },
      "execution_count": 31,
      "outputs": []
    },
    {
      "cell_type": "markdown",
      "source": [
        "##### YOUR MARKDOWN HERE"
      ],
      "metadata": {
        "id": "F67FGCMRVwGz"
      }
    },
    {
      "cell_type": "code",
      "source": [
        "inputs = {\"messages\" : [HumanMessage(content=\"Related to machine learning, what is LoRA? Also, who is Tim Dettmers? Also, what is Attention?\")]}\n",
        "\n",
        "async for chunk in agent_with_helpfulness_check.astream(inputs, stream_mode=\"updates\"):\n",
        "    for node, values in chunk.items():\n",
        "        print(f\"Receiving update from node: '{node}'\")\n",
        "        print(values[\"messages\"])\n",
        "        print(\"\\n\\n\")"
      ],
      "metadata": {
        "colab": {
          "base_uri": "https://localhost:8080/"
        },
        "id": "B3oo8E-PRK1T",
        "outputId": "f152dea8-96ad-4d29-d8b2-a064c96a8bd3"
      },
      "execution_count": 32,
      "outputs": [
        {
          "output_type": "stream",
          "name": "stdout",
          "text": [
            "Receiving update from node: 'agent'\n",
            "[AIMessage(content='', additional_kwargs={'tool_calls': [{'id': 'call_5RusS9a5OTBrpXAMZlItuNAo', 'function': {'arguments': '{\"query\": \"LoRA in machine learning\"}', 'name': 'tavily_search_results_json'}, 'type': 'function'}, {'id': 'call_YpZhFwpieKG7MeduXwOXbcZY', 'function': {'arguments': '{\"query\": \"Tim Dettmers\"}', 'name': 'tavily_search_results_json'}, 'type': 'function'}, {'id': 'call_4RLFT3RVwqOjGij6gXccysq1', 'function': {'arguments': '{\"query\": \"Attention in machine learning\"}', 'name': 'tavily_search_results_json'}, 'type': 'function'}], 'refusal': None}, response_metadata={'token_usage': {'completion_tokens': 81, 'prompt_tokens': 177, 'total_tokens': 258, 'completion_tokens_details': {'accepted_prediction_tokens': 0, 'audio_tokens': 0, 'reasoning_tokens': 0, 'rejected_prediction_tokens': 0}, 'prompt_tokens_details': {'audio_tokens': 0, 'cached_tokens': 0}}, 'model_name': 'gpt-4o-2024-08-06', 'system_fingerprint': 'fp_50cad350e4', 'finish_reason': 'tool_calls', 'logprobs': None}, id='run-475daa87-692f-42ea-bad5-09a183e02148-0', tool_calls=[{'name': 'tavily_search_results_json', 'args': {'query': 'LoRA in machine learning'}, 'id': 'call_5RusS9a5OTBrpXAMZlItuNAo', 'type': 'tool_call'}, {'name': 'tavily_search_results_json', 'args': {'query': 'Tim Dettmers'}, 'id': 'call_YpZhFwpieKG7MeduXwOXbcZY', 'type': 'tool_call'}, {'name': 'tavily_search_results_json', 'args': {'query': 'Attention in machine learning'}, 'id': 'call_4RLFT3RVwqOjGij6gXccysq1', 'type': 'tool_call'}], usage_metadata={'input_tokens': 177, 'output_tokens': 81, 'total_tokens': 258, 'input_token_details': {'audio': 0, 'cache_read': 0}, 'output_token_details': {'audio': 0, 'reasoning': 0}})]\n",
            "\n",
            "\n",
            "\n",
            "Receiving update from node: 'action'\n",
            "[ToolMessage(content='[{\"url\": \"https://www.cloudflare.com/learning/ai/what-is-lora/\", \"content\": \"LoRA helps make huge and complicated machine learning models much more suited for specific uses. It works by adding lightweight pieces to the original model, as opposed to changing the entire model. LoRA helps developers quickly expand the use cases for the machine learning models they build.\"}, {\"url\": \"https://www.datacamp.com/tutorial/mastering-low-rank-adaptation-lora-enhancing-large-language-models-for-efficient-adaptation\", \"content\": \"LoRA (Low-Rank Adaptation) is a method that reduces the trainable parameters and GPU memory requirements of large language models like GPT-3 by adding small, changeable parts to each layer. Learn how LoRA works, why it is useful, and how to apply it in practice.\"}, {\"url\": \"https://arxiv.org/abs/2106.09685\", \"content\": \"cs arXiv:2106.09685 LoRA: Low-Rank Adaptation of Large Language Models Hu, Yelong Shen, Phillip Wallis, Zeyuan Allen-Zhu, Yuanzhi Li, Shean Wang, Lu Wang, Weizhu Chen We propose Low-Rank Adaptation, or LoRA, which freezes the pre-trained model weights and injects trainable rank decomposition matrices into each layer of the Transformer architecture, greatly reducing the number of trainable parameters for downstream tasks. LoRA performs on-par or better than fine-tuning in model quality on RoBERTa, DeBERTa, GPT-2, and GPT-3, despite having fewer trainable parameters, a higher training throughput, and, unlike adapters, no additional inference latency. Subjects:   Computation and Language (cs.CL); Artificial Intelligence (cs.AI); Machine Learning (cs.LG) Cite as:    arXiv:2106.09685 [cs.CL] (or arXiv:2106.09685v2 [cs.CL] for this version) cs Bibliographic and Citation Tools Connected Papers Toggle\"}, {\"url\": \"https://medium.com/@alexmriggio/lora-low-rank-adaptation-from-scratch-code-and-theory-f31509106650\", \"content\": \"And that is the aim of LoRA — to take the change-in-weight matrix and approximate it with the product of two lower-rank matrices. ... Machine Learning. Lora----1. Follow. Written by AR.\"}, {\"url\": \"https://medium.com/@sandha.iitr/fine-tuning-deep-learning-models-with-low-rank-adaptation-lora-using-google-colab-dac1b4516f71\", \"content\": \"Through LORA_Playground, we aim to provide a practical and insightful resource for the machine learning community, empowering researchers and practitioners to leverage the full potential of LORA\"}]', name='tavily_search_results_json', id='8d9bb40e-2f3e-401c-9ad4-768bd17482c4', tool_call_id='call_5RusS9a5OTBrpXAMZlItuNAo', artifact={'query': 'LoRA in machine learning', 'follow_up_questions': None, 'answer': None, 'images': [], 'results': [{'title': 'What is LoRA? | Low-rank adaptation - Cloudflare', 'url': 'https://www.cloudflare.com/learning/ai/what-is-lora/', 'content': 'LoRA helps make huge and complicated machine learning models much more suited for specific uses. It works by adding lightweight pieces to the original model, as opposed to changing the entire model. LoRA helps developers quickly expand the use cases for the machine learning models they build.', 'score': 0.90810597, 'raw_content': None}, {'title': 'Mastering Low-Rank Adaptation (LoRA): Enhancing Large ... - DataCamp', 'url': 'https://www.datacamp.com/tutorial/mastering-low-rank-adaptation-lora-enhancing-large-language-models-for-efficient-adaptation', 'content': 'LoRA (Low-Rank Adaptation) is a method that reduces the trainable parameters and GPU memory requirements of large language models like GPT-3 by adding small, changeable parts to each layer. Learn how LoRA works, why it is useful, and how to apply it in practice.', 'score': 0.87166095, 'raw_content': None}, {'title': '[2106.09685] LoRA: Low-Rank Adaptation of Large Language Models - arXiv.org', 'url': 'https://arxiv.org/abs/2106.09685', 'content': 'cs arXiv:2106.09685 LoRA: Low-Rank Adaptation of Large Language Models Hu, Yelong Shen, Phillip Wallis, Zeyuan Allen-Zhu, Yuanzhi Li, Shean Wang, Lu Wang, Weizhu Chen We propose Low-Rank Adaptation, or LoRA, which freezes the pre-trained model weights and injects trainable rank decomposition matrices into each layer of the Transformer architecture, greatly reducing the number of trainable parameters for downstream tasks. LoRA performs on-par or better than fine-tuning in model quality on RoBERTa, DeBERTa, GPT-2, and GPT-3, despite having fewer trainable parameters, a higher training throughput, and, unlike adapters, no additional inference latency. Subjects:   Computation and Language (cs.CL); Artificial Intelligence (cs.AI); Machine Learning (cs.LG) Cite as:    arXiv:2106.09685 [cs.CL] (or arXiv:2106.09685v2 [cs.CL] for this version) cs Bibliographic and Citation Tools Connected Papers Toggle', 'score': 0.84948516, 'raw_content': None}, {'title': 'LoRA: Low-Rank Adaptation from Scratch — Code and Theory', 'url': 'https://medium.com/@alexmriggio/lora-low-rank-adaptation-from-scratch-code-and-theory-f31509106650', 'content': 'And that is the aim of LoRA — to take the change-in-weight matrix and approximate it with the product of two lower-rank matrices. ... Machine Learning. Lora----1. Follow. Written by AR.', 'score': 0.80771893, 'raw_content': None}, {'title': 'Fine-Tuning Deep Learning Models with Low-Rank Adaptation (LORA): using ...', 'url': 'https://medium.com/@sandha.iitr/fine-tuning-deep-learning-models-with-low-rank-adaptation-lora-using-google-colab-dac1b4516f71', 'content': 'Through LORA_Playground, we aim to provide a practical and insightful resource for the machine learning community, empowering researchers and practitioners to leverage the full potential of LORA', 'score': 0.7823471, 'raw_content': None}], 'response_time': 2.01}), ToolMessage(content='[{\"url\": \"https://timdettmers.com/about/\", \"content\": \"Tim Dettmers is a research scientist at Ai2 and an incoming assistant professor at CMU. He works on efficient deep learning methods, such as quantization, sparsity, and low-bit inference.\"}, {\"url\": \"https://timdettmers.com/\", \"content\": \"Tim Dettmers is a researcher and teacher in deep learning and natural language processing. His blog covers topics such as hardware, quantization, sparse networks, creativity, and grad school choices.\"}, {\"url\": \"https://github.com/TimDettmers\", \"content\": \"Tim Dettmers is a researcher and developer at the University of Washington. He has 53 repositories on GitHub, mostly related to deep learning, sparse learning, and knowledge graphs.\"}, {\"url\": \"https://ai2050.schmidtsciences.org/fellow/tim-dettmers/\", \"content\": \"Tim Dettmers is an Assistant Professor at Carnegie Mellon University and a Research Scientist at the Allen Institute for AI, and his research focuses on making foundation models, such as ChatGPT, accessible to researchers and practitioners by reducing their resource requirements. AI models like ChatGPT work well for general use but fail in specialized expert domains, such as the medical sciences. To make AI models work in expert domains, one must adapt them, which is costly and requires significant AI expertise. This project overcomes these cost and expertise barriers through two new approaches: (1) use AI models themselves to perform the AI model adaptation process automatically; (2) make the adaptation process cheap so it can be run on regular consumer hardware.\"}, {\"url\": \"https://arxiv.org/abs/2208.07339\", \"content\": \"Tim Dettmers is one of the authors of a paper titled LLM.int8, which proposes a method for 8-bit matrix multiplication for transformers at scale. The paper was published at NeurIPS 2022 and shows how to reduce GPU memory for inference in large language models.\"}]', name='tavily_search_results_json', id='38e55736-21fd-459c-858c-e0640e39fc17', tool_call_id='call_YpZhFwpieKG7MeduXwOXbcZY', artifact={'query': 'Tim Dettmers', 'follow_up_questions': None, 'answer': None, 'images': [], 'results': [{'title': 'About Me — Tim Dettmers', 'url': 'https://timdettmers.com/about/', 'content': 'Tim Dettmers is a research scientist at Ai2 and an incoming assistant professor at CMU. He works on efficient deep learning methods, such as quantization, sparsity, and low-bit inference.', 'score': 0.9407083, 'raw_content': None}, {'title': 'Tim Dettmers — Making deep learning accessible.', 'url': 'https://timdettmers.com/', 'content': 'Tim Dettmers is a researcher and teacher in deep learning and natural language processing. His blog covers topics such as hardware, quantization, sparse networks, creativity, and grad school choices.', 'score': 0.9405774, 'raw_content': None}, {'title': 'TimDettmers (Tim Dettmers) · GitHub', 'url': 'https://github.com/TimDettmers', 'content': 'Tim Dettmers is a researcher and developer at the University of Washington. He has 53 repositories on GitHub, mostly related to deep learning, sparse learning, and knowledge graphs.', 'score': 0.93735445, 'raw_content': None}, {'title': 'Tim Dettmers - AI2050', 'url': 'https://ai2050.schmidtsciences.org/fellow/tim-dettmers/', 'content': 'Tim Dettmers is an Assistant Professor at Carnegie Mellon University and a Research Scientist at the Allen Institute for AI, and his research focuses on making foundation models, such as ChatGPT, accessible to researchers and practitioners by reducing their resource requirements. AI models like ChatGPT work well for general use but fail in specialized expert domains, such as the medical sciences. To make AI models work in expert domains, one must adapt them, which is costly and requires significant AI expertise. This project overcomes these cost and expertise barriers through two new approaches: (1) use AI models themselves to perform the AI model adaptation process automatically; (2) make the adaptation process cheap so it can be run on regular consumer hardware.', 'score': 0.9263638, 'raw_content': None}, {'title': 'LLM.int8(): 8-bit Matrix Multiplication for Transformers at Scale', 'url': 'https://arxiv.org/abs/2208.07339', 'content': 'Tim Dettmers is one of the authors of a paper titled LLM.int8, which proposes a method for 8-bit matrix multiplication for transformers at scale. The paper was published at NeurIPS 2022 and shows how to reduce GPU memory for inference in large language models.', 'score': 0.8638634, 'raw_content': None}], 'response_time': 1.66}), ToolMessage(content='[{\"url\": \"https://pmc.ncbi.nlm.nih.gov/articles/PMC7996841/\", \"content\": \"Generally formulated, attention in machine learning is a sequential process in which a learning task is guided by a set of elements of the input source (or memory). This is achieved by integrating the attention value into the task. Attention mechanisms have provided and will provide a paradigm shift in machine learning.\"}, {\"url\": \"https://www.clrn.org/what-is-attention-in-machine-learning/\", \"content\": \"There are three main types of attention in machine learning: Self-Attention: Self-attention is used within a sequence, such as a sentence or a piece of text, to understand the relationships between different elements.This type of attention is particularly useful for tasks such as language translation, where the model needs to understand the relationships between different words in a sentence.\"}, {\"url\": \"https://www.freecodecamp.org/news/what-are-attention-mechanisms-in-deep-learning/\", \"content\": \"Attention mechanism is a fundamental invention in artificial intelligence and machine learning, redefining the capabilities of deep learning models. This mechanism, inspired by the human mental process of selective focus, has emerged as a pillar in a variety of applications, accelerating developments in natural language processing, computer\"}, {\"url\": \"https://machinelearningmastery.com/what-is-attention/\", \"content\": \"Learn the concept of attention in machine learning and how it relates to biological attention. Explore the components and applications of attention-based systems, such as in machine translation.\"}, {\"url\": \"https://machinelearningmastery.com/the-attention-mechanism-from-scratch/\", \"content\": \"Learn how the attention mechanism improves the performance of sequence-to-sequence models by flexibly focusing on the most relevant parts of the input. See the implementation of the general attention mechanism in Python with NumPy and SciPy.\"}]', name='tavily_search_results_json', id='76d6453e-e9d5-435d-b045-7891d70866ca', tool_call_id='call_4RLFT3RVwqOjGij6gXccysq1', artifact={'query': 'Attention in machine learning', 'follow_up_questions': None, 'answer': None, 'images': [], 'results': [{'title': 'Attention Mechanisms and Their Applications to Complex Systems', 'url': 'https://pmc.ncbi.nlm.nih.gov/articles/PMC7996841/', 'content': 'Generally formulated, attention in machine learning is a sequential process in which a learning task is guided by a set of elements of the input source (or memory). This is achieved by integrating the attention value into the task. Attention mechanisms have provided and will provide a paradigm shift in machine learning.', 'score': 0.94808257, 'raw_content': None}, {'title': 'What is attention in machine learning? - California Learning Resource ...', 'url': 'https://www.clrn.org/what-is-attention-in-machine-learning/', 'content': 'There are three main types of attention in machine learning: Self-Attention: Self-attention is used within a sequence, such as a sentence or a piece of text, to understand the relationships between different elements.This type of attention is particularly useful for tasks such as language translation, where the model needs to understand the relationships between different words in a sentence.', 'score': 0.8941352, 'raw_content': None}, {'title': 'What are Attention Mechanisms in Deep Learning? - freeCodeCamp.org', 'url': 'https://www.freecodecamp.org/news/what-are-attention-mechanisms-in-deep-learning/', 'content': 'Attention mechanism is a fundamental invention in artificial intelligence and machine learning, redefining the capabilities of deep learning models. This mechanism, inspired by the human mental process of selective focus, has emerged as a pillar in a variety of applications, accelerating developments in natural language processing, computer', 'score': 0.8674071, 'raw_content': None}, {'title': 'What Is Attention? - MachineLearningMastery.com', 'url': 'https://machinelearningmastery.com/what-is-attention/', 'content': 'Learn the concept of attention in machine learning and how it relates to biological attention. Explore the components and applications of attention-based systems, such as in machine translation.', 'score': 0.8245895, 'raw_content': None}, {'title': 'The Attention Mechanism from Scratch - Machine Learning Mastery', 'url': 'https://machinelearningmastery.com/the-attention-mechanism-from-scratch/', 'content': 'Learn how the attention mechanism improves the performance of sequence-to-sequence models by flexibly focusing on the most relevant parts of the input. See the implementation of the general attention mechanism in Python with NumPy and SciPy.', 'score': 0.7185356, 'raw_content': None}], 'response_time': 1.87})]\n",
            "\n",
            "\n",
            "\n",
            "Receiving update from node: 'agent'\n",
            "[AIMessage(content='### LoRA in Machine Learning\\nLoRA, or Low-Rank Adaptation, is a method designed to make large and complex machine learning models more adaptable for specific tasks. It achieves this by adding lightweight, trainable components to the existing model layers, rather than modifying the entire model. This approach significantly reduces the number of trainable parameters and the GPU memory requirements, making it efficient for adapting large language models like GPT-3. LoRA maintains or even improves model performance compared to traditional fine-tuning methods, without increasing inference latency. [Learn more](https://arxiv.org/abs/2106.09685).\\n\\n### Tim Dettmers\\nTim Dettmers is a research scientist at the Allen Institute for AI and an incoming assistant professor at Carnegie Mellon University. His work focuses on efficient deep learning methods, including quantization, sparsity, and low-bit inference. He is known for his contributions to making large AI models more accessible by reducing their resource requirements, enabling their use in specialized domains. [More about Tim Dettmers](https://timdettmers.com/about/).\\n\\n### Attention in Machine Learning\\nAttention mechanisms in machine learning are inspired by the human cognitive process of focusing selectively on certain parts of the input data. They are crucial in tasks like language translation, where understanding the relationships between different elements in a sequence is essential. Attention mechanisms allow models to dynamically focus on the most relevant parts of the input, improving the performance of sequence-to-sequence models. This concept has become a fundamental component in various applications, particularly in natural language processing. [Explore more about attention mechanisms](https://machinelearningmastery.com/what-is-attention/).', additional_kwargs={'refusal': None}, response_metadata={'token_usage': {'completion_tokens': 338, 'prompt_tokens': 1672, 'total_tokens': 2010, 'completion_tokens_details': {'accepted_prediction_tokens': 0, 'audio_tokens': 0, 'reasoning_tokens': 0, 'rejected_prediction_tokens': 0}, 'prompt_tokens_details': {'audio_tokens': 0, 'cached_tokens': 0}}, 'model_name': 'gpt-4o-2024-08-06', 'system_fingerprint': 'fp_50cad350e4', 'finish_reason': 'stop', 'logprobs': None}, id='run-a2f620fa-d3f9-46f3-90a1-00def157271b-0', usage_metadata={'input_tokens': 1672, 'output_tokens': 338, 'total_tokens': 2010, 'input_token_details': {'audio': 0, 'cache_read': 0}, 'output_token_details': {'audio': 0, 'reasoning': 0}})]\n",
            "\n",
            "\n",
            "\n"
          ]
        }
      ]
    },
    {
      "cell_type": "markdown",
      "source": [
        "### Task 4: LangGraph for the \"Patterns\" of GenAI\n",
        "\n",
        "Let's ask our system about the 4 patterns of Generative AI:\n",
        "\n",
        "1. Prompt Engineering\n",
        "2. RAG\n",
        "3. Fine-tuning\n",
        "4. Agents"
      ],
      "metadata": {
        "id": "yVmZPs6lnpsM"
      }
    },
    {
      "cell_type": "code",
      "source": [
        "patterns = [\"prompt engineering\", \"RAG\", \"fine-tuning\", \"LLM-based agents\"]"
      ],
      "metadata": {
        "id": "ZoLl7GlXoae-"
      },
      "execution_count": 33,
      "outputs": []
    },
    {
      "cell_type": "code",
      "source": [
        "for pattern in patterns:\n",
        "  what_is_string = f\"What is {pattern} and when did it break onto the scene??\"\n",
        "  inputs = {\"messages\" : [HumanMessage(content=what_is_string)]}\n",
        "  messages = agent_with_helpfulness_check.invoke(inputs)\n",
        "  print(messages[\"messages\"][-1].content)\n",
        "  print(\"\\n\\n\")"
      ],
      "metadata": {
        "colab": {
          "base_uri": "https://localhost:8080/"
        },
        "id": "Zkh0YJuCp3Zl",
        "outputId": "d847426e-71b3-47e6-b1ae-351a78d68d1e"
      },
      "execution_count": 34,
      "outputs": [
        {
          "output_type": "stream",
          "name": "stdout",
          "text": [
            "**Prompt Engineering: Definition and Importance**\n",
            "\n",
            "Prompt engineering is the process of designing and refining prompts to guide AI models in generating accurate and relevant responses. It involves creating input, instructional, and conversational prompts to minimize bias and improve the quality of AI outputs. This technique is crucial in various applications, including customer support, content generation, and data analysis. Prompt engineering is an iterative process that may require repeated prompting to achieve the desired results, ultimately leading to improved outcomes and cost savings ([Techopedia](https://www.techopedia.com/definition/prompt-engineering), [Britannica](https://www.britannica.com/technology/prompt-engineering)).\n",
            "\n",
            "**History of Prompt Engineering**\n",
            "\n",
            "The history of prompt engineering can be traced back to the early days of code generation tools like CodeSmith and MyGeneration, which automated the generation of boilerplate code for common programming tasks. Over time, prompt engineering evolved with advancements in natural language processing (NLP) and reinforcement learning techniques. These developments have enhanced the capabilities of language models, making them more powerful, context-aware, and adaptable for a wide range of NLP applications. The introduction of attention mechanisms and reinforcement learning in 2017 further improved the controllability of prompt-engineered language models, allowing engineers to shape model behavior and address biases ([Promptly Substack](https://promptly.substack.com/p/a-journey-through-the-history-of), [arXiv](https://arxiv.org/abs/2310.04438)).\n",
            "\n",
            "\n",
            "\n",
            "Retrieval-Augmented Generation (RAG) is a technology that enhances generative models by integrating information retrieval capabilities. It allows large language models (LLMs) to respond to user queries by referencing a specified set of documents, thereby augmenting the information drawn from these sources. This approach is particularly useful for generating more accurate and contextually appropriate responses, informative articles, personalized learning content, and improved recommendation systems.\n",
            "\n",
            "RAG was first proposed in 2020, making it a relatively new technology. Since its inception, it has gained popularity due to its ability to enhance the capabilities of LLMs in knowledge-intensive tasks. The technology has evolved to include advanced retrievers and complementary technologies, leading to more complex RAG systems. Recent research has focused on modular RAG frameworks, which decompose complex systems into independent modules, allowing for a more reconfigurable and efficient design.\n",
            "\n",
            "For more detailed insights, you can explore the following resources:\n",
            "- [Medium article on RAG](https://medium.com/@matthasan/all-you-want-to-know-about-rag-e2b4bf832695)\n",
            "- [Makebot.ai overview of RAG](https://www.makebot.ai/blog-en/retrieval-augmented-generation-rag-overview-history-process)\n",
            "- [Wikipedia entry on RAG](https://en.wikipedia.org/wiki/Retrieval-augmented_generation)\n",
            "- [Oracle's explanation of RAG](https://www.oracle.com/artificial-intelligence/generative-ai/retrieval-augmented-generation-rag/)\n",
            "- [Research papers on advanced RAG systems](https://arxiv.org/abs/2407.02695)\n",
            "\n",
            "\n",
            "\n",
            "Fine-tuning is a process in machine learning where a pre-trained model is further trained on a smaller, task-specific dataset. This allows the model to adapt to specific tasks or domains while leveraging the general knowledge it has already acquired during its initial training on a larger dataset. Fine-tuning is particularly useful because it can significantly reduce the amount of data and computational resources required to train a model for a specific task, as the model starts with a strong foundation of general knowledge.\n",
            "\n",
            "Fine-tuning became prominent with the rise of transfer learning techniques, especially in the field of natural language processing (NLP) and computer vision. In NLP, the introduction of models like BERT (Bidirectional Encoder Representations from Transformers) in 2018 popularized the concept of fine-tuning. BERT and similar models are pre-trained on large corpora of text and then fine-tuned on specific tasks such as sentiment analysis, question answering, or named entity recognition.\n",
            "\n",
            "In computer vision, fine-tuning has been used for a longer time, with models like AlexNet, VGG, and ResNet being pre-trained on large datasets like ImageNet and then fine-tuned for specific image classification tasks.\n",
            "\n",
            "Overall, fine-tuning has become a standard practice in machine learning, enabling more efficient and effective model training across various domains.\n",
            "\n",
            "\n",
            "\n",
            "LLM-based agents, or Large Language Model-based agents, are AI systems that utilize large language models to perform tasks, interact, and exhibit behaviors akin to human agents. These agents are designed to perceive their environment, process information, and make decisions or take actions based on their programming and learned data.\n",
            "\n",
            "The emergence of LLM-based agents has been a significant development in the field of artificial intelligence. The field has seen explosive growth in recent years, with researchers exploring various approaches to agent architectures and interaction paradigms. A key breakthrough in their development was the introduction of the ReAct paradigm, which combines reasoning and acting, providing a simple and unifying solution for LLM agents.\n",
            "\n",
            "For more detailed information, you can refer to the following resources:\n",
            "\n",
            "1. [History in the Making: LLM (AI) Agents and How We Got Here](https://ai.gopubby.com/history-in-the-making-llm-ai-agents-and-how-we-got-here-361138829641)\n",
            "2. [A Brief History of LLM Agents](https://medium.com/@wgsjack199213_24772/llm-agents-a-brief-history-and-overview-f73468251179)\n",
            "\n",
            "\n",
            "\n"
          ]
        }
      ]
    }
  ]
}
=======
  "nbformat": 4,
  "nbformat_minor": 0
}
>>>>>>> 5319aac2 (Initial commit - reset history)
